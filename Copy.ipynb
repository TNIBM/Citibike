{
 "cells": [
  {
   "cell_type": "markdown",
   "id": "ec45f7f3-e165-4e42-8502-14a85a719c32",
   "metadata": {},
   "source": [
    "# Advanced geospatial plotting "
   ]
  },
  {
   "cell_type": "code",
   "execution_count": 69,
   "id": "573915af-60bf-416b-9332-ed73024e506c",
   "metadata": {},
   "outputs": [],
   "source": [
    "import pandas as pd\n",
    "import os\n",
    "from keplergl import KeplerGl\n",
    "from pyproj import CRS\n",
    "import numpy as np\n",
    "from matplotlib import pyplot as plt"
   ]
  },
  {
   "cell_type": "code",
   "execution_count": 70,
   "id": "327d1e7f-8512-4c0f-a82f-f7c588e0c978",
   "metadata": {},
   "outputs": [],
   "source": [
    "%%capture\n",
    "import warnings\n",
    "warnings.filterwarnings(\"ignore\")"
   ]
  },
  {
   "cell_type": "code",
   "execution_count": 71,
   "id": "3f904d82-edbd-4d45-8188-e6b6080a0088",
   "metadata": {},
   "outputs": [],
   "source": [
    "df = pd.read_csv('Data/output/newyork_data.csv')"
   ]
  },
  {
   "cell_type": "markdown",
   "id": "d7f283df-8ed9-4651-ab7a-346172285af1",
   "metadata": {},
   "source": [
    "## Data preprocessing"
   ]
  },
  {
   "cell_type": "code",
   "execution_count": 73,
   "id": "269a23bb-5b90-433b-9fbd-8382469c6f14",
   "metadata": {},
   "outputs": [],
   "source": [
    "df.drop('Unnamed: 0',axis=1,inplace=True)"
   ]
  },
  {
   "cell_type": "code",
   "execution_count": 74,
   "id": "b08a277e-f745-4af2-a6c0-f652e5ca7a16",
   "metadata": {},
   "outputs": [
    {
     "data": {
      "text/plain": [
       "Index(['ride_id', 'rideable_type', 'started_at', 'ended_at',\n",
       "       'start_station_name', 'start_station_id', 'end_station_name',\n",
       "       'end_station_id', 'start_lat', 'start_lng', 'end_lat', 'end_lng',\n",
       "       'member_casual', 'date', 'avgTemp', '_merge', 'value',\n",
       "       'bike_rides_daily', 'merge_flag', 'trip_duration'],\n",
       "      dtype='object')"
      ]
     },
     "execution_count": 74,
     "metadata": {},
     "output_type": "execute_result"
    }
   ],
   "source": [
    "df.columns"
   ]
  },
  {
   "cell_type": "code",
   "execution_count": 75,
   "id": "67426991-27a6-4868-b86b-7d26a0c64025",
   "metadata": {},
   "outputs": [],
   "source": [
    "# Create a value column and group by start and end station \n",
    "\n",
    "df['value'] = 1\n",
    "df_group = df.groupby(['start_station_name', 'end_station_name'])['value'].count().reset_index()"
   ]
  },
  {
   "cell_type": "code",
   "execution_count": 76,
   "id": "ad984f21-6dd7-4cb4-9529-1fef32136c17",
   "metadata": {},
   "outputs": [
    {
     "data": {
      "text/html": [
       "<div>\n",
       "<style scoped>\n",
       "    .dataframe tbody tr th:only-of-type {\n",
       "        vertical-align: middle;\n",
       "    }\n",
       "\n",
       "    .dataframe tbody tr th {\n",
       "        vertical-align: top;\n",
       "    }\n",
       "\n",
       "    .dataframe thead th {\n",
       "        text-align: right;\n",
       "    }\n",
       "</style>\n",
       "<table border=\"1\" class=\"dataframe\">\n",
       "  <thead>\n",
       "    <tr style=\"text-align: right;\">\n",
       "      <th></th>\n",
       "      <th>start_station_name</th>\n",
       "      <th>end_station_name</th>\n",
       "      <th>value</th>\n",
       "    </tr>\n",
       "  </thead>\n",
       "  <tbody>\n",
       "    <tr>\n",
       "      <th>0</th>\n",
       "      <td>1 Ave &amp; E 110 St</td>\n",
       "      <td>1 Ave &amp; E 110 St</td>\n",
       "      <td>44</td>\n",
       "    </tr>\n",
       "    <tr>\n",
       "      <th>1</th>\n",
       "      <td>1 Ave &amp; E 110 St</td>\n",
       "      <td>1 Ave &amp; E 44 St</td>\n",
       "      <td>1</td>\n",
       "    </tr>\n",
       "    <tr>\n",
       "      <th>2</th>\n",
       "      <td>1 Ave &amp; E 110 St</td>\n",
       "      <td>1 Ave &amp; E 62 St</td>\n",
       "      <td>7</td>\n",
       "    </tr>\n",
       "    <tr>\n",
       "      <th>3</th>\n",
       "      <td>1 Ave &amp; E 110 St</td>\n",
       "      <td>1 Ave &amp; E 68 St</td>\n",
       "      <td>14</td>\n",
       "    </tr>\n",
       "    <tr>\n",
       "      <th>4</th>\n",
       "      <td>1 Ave &amp; E 110 St</td>\n",
       "      <td>1 Ave &amp; E 78 St</td>\n",
       "      <td>3</td>\n",
       "    </tr>\n",
       "    <tr>\n",
       "      <th>...</th>\n",
       "      <td>...</td>\n",
       "      <td>...</td>\n",
       "      <td>...</td>\n",
       "    </tr>\n",
       "    <tr>\n",
       "      <th>467007</th>\n",
       "      <td>Yankee Ferry Terminal</td>\n",
       "      <td>Pioneer St &amp; Van Brunt St</td>\n",
       "      <td>3</td>\n",
       "    </tr>\n",
       "    <tr>\n",
       "      <th>467008</th>\n",
       "      <td>Yankee Ferry Terminal</td>\n",
       "      <td>Soissons Landing</td>\n",
       "      <td>331</td>\n",
       "    </tr>\n",
       "    <tr>\n",
       "      <th>467009</th>\n",
       "      <td>Yankee Ferry Terminal</td>\n",
       "      <td>South St &amp; Gouverneur Ln</td>\n",
       "      <td>1</td>\n",
       "    </tr>\n",
       "    <tr>\n",
       "      <th>467010</th>\n",
       "      <td>Yankee Ferry Terminal</td>\n",
       "      <td>South St &amp; Whitehall St</td>\n",
       "      <td>1</td>\n",
       "    </tr>\n",
       "    <tr>\n",
       "      <th>467011</th>\n",
       "      <td>Yankee Ferry Terminal</td>\n",
       "      <td>Yankee Ferry Terminal</td>\n",
       "      <td>1484</td>\n",
       "    </tr>\n",
       "  </tbody>\n",
       "</table>\n",
       "<p>467012 rows × 3 columns</p>\n",
       "</div>"
      ],
      "text/plain": [
       "           start_station_name           end_station_name  value\n",
       "0            1 Ave & E 110 St           1 Ave & E 110 St     44\n",
       "1            1 Ave & E 110 St            1 Ave & E 44 St      1\n",
       "2            1 Ave & E 110 St            1 Ave & E 62 St      7\n",
       "3            1 Ave & E 110 St            1 Ave & E 68 St     14\n",
       "4            1 Ave & E 110 St            1 Ave & E 78 St      3\n",
       "...                       ...                        ...    ...\n",
       "467007  Yankee Ferry Terminal  Pioneer St & Van Brunt St      3\n",
       "467008  Yankee Ferry Terminal           Soissons Landing    331\n",
       "467009  Yankee Ferry Terminal   South St & Gouverneur Ln      1\n",
       "467010  Yankee Ferry Terminal    South St & Whitehall St      1\n",
       "467011  Yankee Ferry Terminal      Yankee Ferry Terminal   1484\n",
       "\n",
       "[467012 rows x 3 columns]"
      ]
     },
     "execution_count": 76,
     "metadata": {},
     "output_type": "execute_result"
    }
   ],
   "source": [
    "df_group"
   ]
  },
  {
   "cell_type": "code",
   "execution_count": 77,
   "id": "ef68fb40-9fac-4037-8189-a3892ee96eec",
   "metadata": {},
   "outputs": [
    {
     "name": "stdout",
     "output_type": "stream",
     "text": [
      "3996025\n",
      "(4000000, 20)\n"
     ]
    }
   ],
   "source": [
    "print(df_group['value'].sum())\n",
    "print(df.shape)"
   ]
  },
  {
   "cell_type": "code",
   "execution_count": 78,
   "id": "1a370d93-58b1-480f-b6f5-15f5bae375cb",
   "metadata": {},
   "outputs": [
    {
     "data": {
      "text/plain": [
       "count    467012.000000\n",
       "mean          8.556579\n",
       "std          21.996277\n",
       "min           1.000000\n",
       "25%           1.000000\n",
       "50%           2.000000\n",
       "75%           7.000000\n",
       "max        1682.000000\n",
       "Name: value, dtype: float64"
      ]
     },
     "execution_count": 78,
     "metadata": {},
     "output_type": "execute_result"
    }
   ],
   "source": [
    "df_group['value'].describe()"
   ]
  },
  {
   "cell_type": "markdown",
   "id": "cb7174d0-19e7-4b46-bdc4-0ee652c26643",
   "metadata": {},
   "source": [
    "### Some exploratory analysis into the trips"
   ]
  },
  {
   "cell_type": "code",
   "execution_count": 80,
   "id": "812b8495-d137-495e-8222-90f34c8325e9",
   "metadata": {},
   "outputs": [
    {
     "data": {
      "image/png": "[encoded data removed]",
      "text/plain": [
       "<Figure size 640x480 with 1 Axes>"
      ]
     },
     "metadata": {},
     "output_type": "display_data"
    }
   ],
   "source": [
    "df_group['value'].hist(bins = 100)\n",
    "plt.show()"
   ]
  },
  {
   "cell_type": "code",
   "execution_count": 81,
   "id": "77ead54c-91ff-4dde-bdcb-0efd92684ad5",
   "metadata": {},
   "outputs": [
    {
     "data": {
      "text/plain": [
       "[]"
      ]
     },
     "execution_count": 81,
     "metadata": {},
     "output_type": "execute_result"
    },
    {
     "data": {
      "image/png": "[encoded data removed]",
      "text/plain": [
       "<Figure size 640x480 with 1 Axes>"
      ]
     },
     "metadata": {},
     "output_type": "display_data"
    }
   ],
   "source": [
    "b_plot = df_group.boxplot(column = 'value') \n",
    "b_plot.plot()"
   ]
  },
  {
   "cell_type": "code",
   "execution_count": 82,
   "id": "5ba24e4d-c008-4c4e-8022-fc331291850b",
   "metadata": {},
   "outputs": [
    {
     "data": {
      "text/plain": [
       "1       169753\n",
       "2        70592\n",
       "3        40513\n",
       "4        27276\n",
       "5        20008\n",
       "         ...  \n",
       "523          1\n",
       "619          1\n",
       "461          1\n",
       "913          1\n",
       "1484         1\n",
       "Name: value, Length: 500, dtype: int64"
      ]
     },
     "execution_count": 82,
     "metadata": {},
     "output_type": "execute_result"
    }
   ],
   "source": [
    "df_group['value'].sort_index().value_counts()"
   ]
  },
  {
   "cell_type": "code",
   "execution_count": 83,
   "id": "1ccb4f05-0ba2-4710-9c77-8b6b26f01301",
   "metadata": {},
   "outputs": [],
   "source": [
    "df_group.to_csv('Data/output/df_groupby_final.csv')"
   ]
  },
  {
   "cell_type": "code",
   "execution_count": 84,
   "id": "a5faece6-77ed-43ea-8cab-468d5a9b883f",
   "metadata": {},
   "outputs": [
    {
     "data": {
      "text/html": [
       "<div>\n",
       "<style scoped>\n",
       "    .dataframe tbody tr th:only-of-type {\n",
       "        vertical-align: middle;\n",
       "    }\n",
       "\n",
       "    .dataframe tbody tr th {\n",
       "        vertical-align: top;\n",
       "    }\n",
       "\n",
       "    .dataframe thead th {\n",
       "        text-align: right;\n",
       "    }\n",
       "</style>\n",
       "<table border=\"1\" class=\"dataframe\">\n",
       "  <thead>\n",
       "    <tr style=\"text-align: right;\">\n",
       "      <th></th>\n",
       "      <th>start_station_name</th>\n",
       "      <th>end_station_name</th>\n",
       "      <th>value</th>\n",
       "    </tr>\n",
       "  </thead>\n",
       "  <tbody>\n",
       "    <tr>\n",
       "      <th>0</th>\n",
       "      <td>1 Ave &amp; E 110 St</td>\n",
       "      <td>1 Ave &amp; E 110 St</td>\n",
       "      <td>44</td>\n",
       "    </tr>\n",
       "    <tr>\n",
       "      <th>1</th>\n",
       "      <td>1 Ave &amp; E 110 St</td>\n",
       "      <td>1 Ave &amp; E 44 St</td>\n",
       "      <td>1</td>\n",
       "    </tr>\n",
       "    <tr>\n",
       "      <th>2</th>\n",
       "      <td>1 Ave &amp; E 110 St</td>\n",
       "      <td>1 Ave &amp; E 62 St</td>\n",
       "      <td>7</td>\n",
       "    </tr>\n",
       "    <tr>\n",
       "      <th>3</th>\n",
       "      <td>1 Ave &amp; E 110 St</td>\n",
       "      <td>1 Ave &amp; E 68 St</td>\n",
       "      <td>14</td>\n",
       "    </tr>\n",
       "    <tr>\n",
       "      <th>4</th>\n",
       "      <td>1 Ave &amp; E 110 St</td>\n",
       "      <td>1 Ave &amp; E 78 St</td>\n",
       "      <td>3</td>\n",
       "    </tr>\n",
       "  </tbody>\n",
       "</table>\n",
       "</div>"
      ],
      "text/plain": [
       "  start_station_name  end_station_name  value\n",
       "0   1 Ave & E 110 St  1 Ave & E 110 St     44\n",
       "1   1 Ave & E 110 St   1 Ave & E 44 St      1\n",
       "2   1 Ave & E 110 St   1 Ave & E 62 St      7\n",
       "3   1 Ave & E 110 St   1 Ave & E 68 St     14\n",
       "4   1 Ave & E 110 St   1 Ave & E 78 St      3"
      ]
     },
     "execution_count": 84,
     "metadata": {},
     "output_type": "execute_result"
    }
   ],
   "source": [
    "df_group.head()"
   ]
  },
  {
   "cell_type": "code",
   "execution_count": 85,
   "id": "3dde7b03-141a-43e5-b3f7-c10f58f67c49",
   "metadata": {},
   "outputs": [],
   "source": [
    "df_group.rename(columns = {'value': 'trips'}, inplace = True)"
   ]
  },
  {
   "cell_type": "code",
   "execution_count": 86,
   "id": "2a26eac2-c57e-4e14-9d33-1c38b67fe65d",
   "metadata": {},
   "outputs": [
    {
     "data": {
      "text/html": [
       "<div>\n",
       "<style scoped>\n",
       "    .dataframe tbody tr th:only-of-type {\n",
       "        vertical-align: middle;\n",
       "    }\n",
       "\n",
       "    .dataframe tbody tr th {\n",
       "        vertical-align: top;\n",
       "    }\n",
       "\n",
       "    .dataframe thead th {\n",
       "        text-align: right;\n",
       "    }\n",
       "</style>\n",
       "<table border=\"1\" class=\"dataframe\">\n",
       "  <thead>\n",
       "    <tr style=\"text-align: right;\">\n",
       "      <th></th>\n",
       "      <th>start_station_name</th>\n",
       "      <th>end_station_name</th>\n",
       "      <th>trips</th>\n",
       "    </tr>\n",
       "  </thead>\n",
       "  <tbody>\n",
       "    <tr>\n",
       "      <th>0</th>\n",
       "      <td>1 Ave &amp; E 110 St</td>\n",
       "      <td>1 Ave &amp; E 110 St</td>\n",
       "      <td>44</td>\n",
       "    </tr>\n",
       "    <tr>\n",
       "      <th>1</th>\n",
       "      <td>1 Ave &amp; E 110 St</td>\n",
       "      <td>1 Ave &amp; E 44 St</td>\n",
       "      <td>1</td>\n",
       "    </tr>\n",
       "    <tr>\n",
       "      <th>2</th>\n",
       "      <td>1 Ave &amp; E 110 St</td>\n",
       "      <td>1 Ave &amp; E 62 St</td>\n",
       "      <td>7</td>\n",
       "    </tr>\n",
       "    <tr>\n",
       "      <th>3</th>\n",
       "      <td>1 Ave &amp; E 110 St</td>\n",
       "      <td>1 Ave &amp; E 68 St</td>\n",
       "      <td>14</td>\n",
       "    </tr>\n",
       "    <tr>\n",
       "      <th>4</th>\n",
       "      <td>1 Ave &amp; E 110 St</td>\n",
       "      <td>1 Ave &amp; E 78 St</td>\n",
       "      <td>3</td>\n",
       "    </tr>\n",
       "  </tbody>\n",
       "</table>\n",
       "</div>"
      ],
      "text/plain": [
       "  start_station_name  end_station_name  trips\n",
       "0   1 Ave & E 110 St  1 Ave & E 110 St     44\n",
       "1   1 Ave & E 110 St   1 Ave & E 44 St      1\n",
       "2   1 Ave & E 110 St   1 Ave & E 62 St      7\n",
       "3   1 Ave & E 110 St   1 Ave & E 68 St     14\n",
       "4   1 Ave & E 110 St   1 Ave & E 78 St      3"
      ]
     },
     "execution_count": 86,
     "metadata": {},
     "output_type": "execute_result"
    }
   ],
   "source": [
    "df_group.head()"
   ]
  },
  {
   "cell_type": "code",
   "execution_count": 87,
   "id": "f779078b-9bf4-42b1-af7c-2b0a49b665ea",
   "metadata": {},
   "outputs": [
    {
     "data": {
      "text/html": [
       "<div>\n",
       "<style scoped>\n",
       "    .dataframe tbody tr th:only-of-type {\n",
       "        vertical-align: middle;\n",
       "    }\n",
       "\n",
       "    .dataframe tbody tr th {\n",
       "        vertical-align: top;\n",
       "    }\n",
       "\n",
       "    .dataframe thead th {\n",
       "        text-align: right;\n",
       "    }\n",
       "</style>\n",
       "<table border=\"1\" class=\"dataframe\">\n",
       "  <thead>\n",
       "    <tr style=\"text-align: right;\">\n",
       "      <th></th>\n",
       "      <th>ride_id</th>\n",
       "      <th>rideable_type</th>\n",
       "      <th>started_at</th>\n",
       "      <th>ended_at</th>\n",
       "      <th>start_station_name</th>\n",
       "      <th>start_station_id</th>\n",
       "      <th>end_station_name</th>\n",
       "      <th>end_station_id</th>\n",
       "      <th>start_lat</th>\n",
       "      <th>start_lng</th>\n",
       "      <th>end_lat</th>\n",
       "      <th>end_lng</th>\n",
       "      <th>member_casual</th>\n",
       "      <th>date</th>\n",
       "      <th>avgTemp</th>\n",
       "      <th>_merge</th>\n",
       "      <th>value</th>\n",
       "      <th>bike_rides_daily</th>\n",
       "      <th>merge_flag</th>\n",
       "      <th>trip_duration</th>\n",
       "    </tr>\n",
       "  </thead>\n",
       "  <tbody>\n",
       "    <tr>\n",
       "      <th>0</th>\n",
       "      <td>70F3BA79664016C1</td>\n",
       "      <td>classic_bike</td>\n",
       "      <td>2022-02-28 09:22:49.821</td>\n",
       "      <td>2022-02-28 09:28:55.174</td>\n",
       "      <td>9 Ave &amp; W 18 St</td>\n",
       "      <td>6190.08</td>\n",
       "      <td>Greenwich Ave &amp; Charles St</td>\n",
       "      <td>5914.08</td>\n",
       "      <td>40.743174</td>\n",
       "      <td>-74.003664</td>\n",
       "      <td>40.735238</td>\n",
       "      <td>-74.000271</td>\n",
       "      <td>member</td>\n",
       "      <td>2022-02-28</td>\n",
       "      <td>0.8</td>\n",
       "      <td>both</td>\n",
       "      <td>1</td>\n",
       "      <td>37930</td>\n",
       "      <td>both</td>\n",
       "      <td>6.089217</td>\n",
       "    </tr>\n",
       "    <tr>\n",
       "      <th>1</th>\n",
       "      <td>A17A13BC93E70054</td>\n",
       "      <td>classic_bike</td>\n",
       "      <td>2022-02-28 15:54:32.180</td>\n",
       "      <td>2022-02-28 15:58:19.524</td>\n",
       "      <td>McGuinness Blvd &amp; Eagle St</td>\n",
       "      <td>5977.01</td>\n",
       "      <td>Greenpoint Ave &amp; Manhattan Ave</td>\n",
       "      <td>5785.05</td>\n",
       "      <td>40.735550</td>\n",
       "      <td>-73.952840</td>\n",
       "      <td>40.730260</td>\n",
       "      <td>-73.953940</td>\n",
       "      <td>member</td>\n",
       "      <td>2022-02-28</td>\n",
       "      <td>0.8</td>\n",
       "      <td>both</td>\n",
       "      <td>1</td>\n",
       "      <td>37930</td>\n",
       "      <td>both</td>\n",
       "      <td>3.789067</td>\n",
       "    </tr>\n",
       "    <tr>\n",
       "      <th>2</th>\n",
       "      <td>A40EA69F1AAAF8F1</td>\n",
       "      <td>classic_bike</td>\n",
       "      <td>2022-02-28 17:18:11.965</td>\n",
       "      <td>2022-02-28 17:39:10.532</td>\n",
       "      <td>W 42 St &amp; 6 Ave</td>\n",
       "      <td>6517.08</td>\n",
       "      <td>Central Park West &amp; W 76 St</td>\n",
       "      <td>7253.04</td>\n",
       "      <td>40.754920</td>\n",
       "      <td>-73.984550</td>\n",
       "      <td>40.778968</td>\n",
       "      <td>-73.973747</td>\n",
       "      <td>member</td>\n",
       "      <td>2022-02-28</td>\n",
       "      <td>0.8</td>\n",
       "      <td>both</td>\n",
       "      <td>1</td>\n",
       "      <td>37930</td>\n",
       "      <td>both</td>\n",
       "      <td>20.976117</td>\n",
       "    </tr>\n",
       "    <tr>\n",
       "      <th>3</th>\n",
       "      <td>8181BFC7CD2D0D29</td>\n",
       "      <td>classic_bike</td>\n",
       "      <td>2022-02-28 23:20:15.894</td>\n",
       "      <td>2022-02-28 23:26:45.175</td>\n",
       "      <td>W 18 St &amp; 6 Ave</td>\n",
       "      <td>6064.08</td>\n",
       "      <td>Lexington Ave &amp; E 26 St</td>\n",
       "      <td>6089.08</td>\n",
       "      <td>40.739713</td>\n",
       "      <td>-73.994564</td>\n",
       "      <td>40.741459</td>\n",
       "      <td>-73.983293</td>\n",
       "      <td>member</td>\n",
       "      <td>2022-02-28</td>\n",
       "      <td>0.8</td>\n",
       "      <td>both</td>\n",
       "      <td>1</td>\n",
       "      <td>37930</td>\n",
       "      <td>both</td>\n",
       "      <td>6.488017</td>\n",
       "    </tr>\n",
       "    <tr>\n",
       "      <th>4</th>\n",
       "      <td>9264124038B95E9A</td>\n",
       "      <td>classic_bike</td>\n",
       "      <td>2022-02-28 12:36:09.524</td>\n",
       "      <td>2022-02-28 12:58:10.084</td>\n",
       "      <td>E 4 St &amp; 2 Ave</td>\n",
       "      <td>5593.04</td>\n",
       "      <td>William St &amp; Pine St</td>\n",
       "      <td>5065.12</td>\n",
       "      <td>40.726281</td>\n",
       "      <td>-73.989780</td>\n",
       "      <td>40.707179</td>\n",
       "      <td>-74.008873</td>\n",
       "      <td>member</td>\n",
       "      <td>2022-02-28</td>\n",
       "      <td>0.8</td>\n",
       "      <td>both</td>\n",
       "      <td>1</td>\n",
       "      <td>37930</td>\n",
       "      <td>both</td>\n",
       "      <td>22.009333</td>\n",
       "    </tr>\n",
       "  </tbody>\n",
       "</table>\n",
       "</div>"
      ],
      "text/plain": [
       "            ride_id rideable_type               started_at  \\\n",
       "0  70F3BA79664016C1  classic_bike  2022-02-28 09:22:49.821   \n",
       "1  A17A13BC93E70054  classic_bike  2022-02-28 15:54:32.180   \n",
       "2  A40EA69F1AAAF8F1  classic_bike  2022-02-28 17:18:11.965   \n",
       "3  8181BFC7CD2D0D29  classic_bike  2022-02-28 23:20:15.894   \n",
       "4  9264124038B95E9A  classic_bike  2022-02-28 12:36:09.524   \n",
       "\n",
       "                  ended_at          start_station_name start_station_id  \\\n",
       "0  2022-02-28 09:28:55.174             9 Ave & W 18 St          6190.08   \n",
       "1  2022-02-28 15:58:19.524  McGuinness Blvd & Eagle St          5977.01   \n",
       "2  2022-02-28 17:39:10.532             W 42 St & 6 Ave          6517.08   \n",
       "3  2022-02-28 23:26:45.175             W 18 St & 6 Ave          6064.08   \n",
       "4  2022-02-28 12:58:10.084              E 4 St & 2 Ave          5593.04   \n",
       "\n",
       "                 end_station_name end_station_id  start_lat  start_lng  \\\n",
       "0      Greenwich Ave & Charles St        5914.08  40.743174 -74.003664   \n",
       "1  Greenpoint Ave & Manhattan Ave        5785.05  40.735550 -73.952840   \n",
       "2     Central Park West & W 76 St        7253.04  40.754920 -73.984550   \n",
       "3         Lexington Ave & E 26 St        6089.08  40.739713 -73.994564   \n",
       "4            William St & Pine St        5065.12  40.726281 -73.989780   \n",
       "\n",
       "     end_lat    end_lng member_casual        date  avgTemp _merge  value  \\\n",
       "0  40.735238 -74.000271        member  2022-02-28      0.8   both      1   \n",
       "1  40.730260 -73.953940        member  2022-02-28      0.8   both      1   \n",
       "2  40.778968 -73.973747        member  2022-02-28      0.8   both      1   \n",
       "3  40.741459 -73.983293        member  2022-02-28      0.8   both      1   \n",
       "4  40.707179 -74.008873        member  2022-02-28      0.8   both      1   \n",
       "\n",
       "   bike_rides_daily merge_flag  trip_duration  \n",
       "0             37930       both       6.089217  \n",
       "1             37930       both       3.789067  \n",
       "2             37930       both      20.976117  \n",
       "3             37930       both       6.488017  \n",
       "4             37930       both      22.009333  "
      ]
     },
     "execution_count": 87,
     "metadata": {},
     "output_type": "execute_result"
    }
   ],
   "source": [
    "df.head()"
   ]
  },
  {
   "cell_type": "markdown",
   "id": "a2004754-08ea-4d5c-8c80-3ee2a75b5fac",
   "metadata": {},
   "source": [
    "## PLot the map"
   ]
  },
  {
   "cell_type": "code",
   "execution_count": 89,
   "id": "0661a277-7acf-434c-bd94-0636430d28a7",
   "metadata": {},
   "outputs": [
    {
     "name": "stdout",
     "output_type": "stream",
     "text": [
      "['ride_id', 'rideable_type', 'started_at', 'ended_at', 'start_station_name', 'start_station_id', 'end_station_name', 'end_station_id', 'start_lat', 'start_lng', 'end_lat', 'end_lng', 'member_casual', 'date', 'avgTemp', '_merge', 'value', 'bike_rides_daily', 'merge_flag', 'trip_duration']\n"
     ]
    }
   ],
   "source": [
    "print(list(df.columns))"
   ]
  },
  {
   "cell_type": "code",
   "execution_count": 90,
   "id": "2ef89f13-dbca-46a8-9387-e4e5358202b4",
   "metadata": {},
   "outputs": [
    {
     "name": "stdout",
     "output_type": "stream",
     "text": [
      "           start_station_name                end_station_name  \\\n",
      "0             9 Ave & W 18 St      Greenwich Ave & Charles St   \n",
      "1  McGuinness Blvd & Eagle St  Greenpoint Ave & Manhattan Ave   \n",
      "2             W 42 St & 6 Ave     Central Park West & W 76 St   \n",
      "3             W 18 St & 6 Ave         Lexington Ave & E 26 St   \n",
      "4              E 4 St & 2 Ave            William St & Pine St   \n",
      "\n",
      "   bike_rides_daily  start_lat  start_lng    end_lat    end_lng  \n",
      "0             37930  40.743174 -74.003664  40.735238 -74.000271  \n",
      "1             37930  40.735550 -73.952840  40.730260 -73.953940  \n",
      "2             37930  40.754920 -73.984550  40.778968 -73.973747  \n",
      "3             37930  40.739713 -73.994564  40.741459 -73.983293  \n",
      "4             37930  40.726281 -73.989780  40.707179 -74.008873  \n"
     ]
    }
   ],
   "source": [
    "# Define df_final with selected columns\n",
    "df_final = df[['start_station_name','end_station_name','bike_rides_daily','start_lat', 'start_lng', 'end_lat', 'end_lng']]\n",
    "\n",
    "# Display the first few rows to verify\n",
    "print(df_final.head())\n"
   ]
  },
  {
   "cell_type": "code",
   "execution_count": 91,
   "id": "a0ba3ce1-9ac5-4ee1-917b-f1c15bab124a",
   "metadata": {},
   "outputs": [
    {
     "name": "stdout",
     "output_type": "stream",
     "text": [
      "User Guide: https://docs.kepler.gl/docs/keplergl-jupyter\n"
     ]
    }
   ],
   "source": [
    "# Create KeplerGl instance\n",
    "\n",
    "from keplergl import KeplerGl\n",
    "\n",
    "# Create a KeplerGl instance and pass the required columns directly\n",
    "m = KeplerGl(height=700, data={\"bike_routes\": df_final.head(1000)})\n"
   ]
  },
  {
   "cell_type": "code",
   "execution_count": 92,
   "id": "1b01f84f-2e1a-4687-80a6-88cd47477ce6",
   "metadata": {},
   "outputs": [],
   "source": [
    "# df_final.head(1000) for shorter data"
   ]
  },
  {
   "cell_type": "code",
   "execution_count": 93,
   "id": "800eb84a-8ffa-4934-835c-a64d197e225f",
   "metadata": {},
   "outputs": [
    {
     "data": {
      "application/vnd.jupyter.widget-view+json": {
       "model_id": "2708144546464e20ba71c3f953e6f71d",
       "version_major": 2,
       "version_minor": 0
      },
      "text/plain": [
       "KeplerGl(data={'bike_routes':               start_station_name                end_station_name  \\\n",
       "0           …"
      ]
     },
     "metadata": {},
     "output_type": "display_data"
    }
   ],
   "source": [
    "#Display map\n",
    "m"
   ]
  },
  {
   "cell_type": "code",
   "execution_count": 94,
   "id": "dcf12c4d-2935-4056-953c-d2206c0fdec4",
   "metadata": {
    "scrolled": true
   },
   "outputs": [
    {
     "data": {
      "text/plain": [
       "{}"
      ]
     },
     "execution_count": 94,
     "metadata": {},
     "output_type": "execute_result"
    }
   ],
   "source": [
    "config = m.config\n",
    "config"
   ]
  },
  {
   "cell_type": "code",
   "execution_count": 95,
   "id": "6b26ec57-93e7-4897-be85-d0799cd55966",
   "metadata": {},
   "outputs": [],
   "source": [
    "# saving the json file after the map manual modification\n",
    "import json\n",
    "with open(\"config.json\", \"w\") as outfile:\n",
    "    json.dump(config, outfile)"
   ]
  },
  {
   "cell_type": "code",
   "execution_count": 96,
   "id": "45f6b480-9a39-4e34-b8f9-9cf86e8e1591",
   "metadata": {},
   "outputs": [],
   "source": [
    "# for reading the config.json file (presaved file)\n",
    "with open('config.json') as f:\n",
    "      config = json.load(f)"
   ]
  },
  {
   "cell_type": "code",
   "execution_count": 97,
   "id": "4f3fc251-8e5e-4683-89bd-11b57edb3218",
   "metadata": {},
   "outputs": [],
   "source": [
    "m.config = config"
   ]
  },
  {
   "cell_type": "code",
   "execution_count": 98,
   "id": "e3923a85-38dd-426c-a91c-cc860532eaca",
   "metadata": {
    "scrolled": true
   },
   "outputs": [
    {
     "data": {
      "application/vnd.jupyter.widget-view+json": {
       "model_id": "2708144546464e20ba71c3f953e6f71d",
       "version_major": 2,
       "version_minor": 0
      },
      "text/plain": [
       "KeplerGl(data={'bike_routes':               start_station_name                end_station_name  \\\n",
       "0           …"
      ]
     },
     "metadata": {},
     "output_type": "display_data"
    }
   ],
   "source": [
    "m"
   ]
  },
  {
   "cell_type": "markdown",
   "id": "0b1bbf16-ca9c-44fe-a858-d6c013dac3c7",
   "metadata": {},
   "source": [
    "### First, each line shows a trip between two stations. When you hover over a particular line, it’s easy to decipher which stations are “start” stations and which are “end\" stations. It’s also easier to see the “trips(bike_daily_rides)” variable created in the groupby function when the data was preprocessed for plotting. This “trips” variable is the most important aspect of the analysis so far! Lastly, you can change the color palette to show where most of the trips started and where they ended. This makes the map more visually appealing and intuitive to interpret."
   ]
  },
  {
   "cell_type": "code",
   "execution_count": 100,
   "id": "c1fd9743-d2fa-4a56-941a-cec4955c982e",
   "metadata": {},
   "outputs": [
    {
     "name": "stdout",
     "output_type": "stream",
     "text": [
      "Map saved to Citi_Bike_TripsAggregated.html!\n"
     ]
    }
   ],
   "source": [
    "m.save_to_html(file_name = 'Citi_Bike_TripsAggregated.html', read_only = False, config = config)"
   ]
  },
  {
   "cell_type": "code",
   "execution_count": 101,
   "id": "8dcc7980-34da-4c92-b74e-2664c33ebcdd",
   "metadata": {
    "scrolled": true
   },
   "outputs": [
    {
     "data": {
      "text/plain": [
       "{}"
      ]
     },
     "execution_count": 101,
     "metadata": {},
     "output_type": "execute_result"
    }
   ],
   "source": [
    "config"
   ]
  },
  {
   "cell_type": "code",
   "execution_count": null,
   "id": "fb3358bc-c0fa-4f8b-b98f-543152bae36c",
   "metadata": {},
   "outputs": [],
   "source": []
  }
 ],
 "metadata": {
  "kernelspec": {
   "display_name": "Python (venv_2.5)",
   "language": "python",
   "name": "venv_2.5"
  },
  "language_info": {
   "codemirror_mode": {
    "name": "ipython",
    "version": 3
   },
   "file_extension": ".py",
   "mimetype": "text/x-python",
   "name": "python",
   "nbconvert_exporter": "python",
   "pygments_lexer": "ipython3",
   "version": "3.9.21"
  },
  "widgets": {
   "application/vnd.jupyter.widget-state+json": {
    "state": {},
    "version_major": 2,
    "version_minor": 0
   }
  }
 },
 "nbformat": 4,
 "nbformat_minor": 5
}
