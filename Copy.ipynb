{
 "cells": [
  {
   "cell_type": "markdown",
   "id": "ec45f7f3-e165-4e42-8502-14a85a719c32",
   "metadata": {},
   "source": [
    "# Advanced geospatial plotting "
   ]
  },
  {
   "cell_type": "code",
   "execution_count": 69,
   "id": "573915af-60bf-416b-9332-ed73024e506c",
   "metadata": {},
   "outputs": [],
   "source": [
    "import pandas as pd\n",
    "import os\n",
    "from keplergl import KeplerGl\n",
    "from pyproj import CRS\n",
    "import numpy as np\n",
    "from matplotlib import pyplot as plt"
   ]
  },
  {
   "cell_type": "code",
   "execution_count": 70,
   "id": "327d1e7f-8512-4c0f-a82f-f7c588e0c978",
   "metadata": {},
   "outputs": [],
   "source": [
    "%%capture\n",
    "import warnings\n",
    "warnings.filterwarnings(\"ignore\")"
   ]
  },
  {
   "cell_type": "code",
   "execution_count": 71,
   "id": "3f904d82-edbd-4d45-8188-e6b6080a0088",
   "metadata": {},
   "outputs": [],
   "source": [
    "df = pd.read_csv('Data/output/newyork_data.csv')"
   ]
  },
  {
   "cell_type": "markdown",
   "id": "d7f283df-8ed9-4651-ab7a-346172285af1",
   "metadata": {},
   "source": [
    "## Data preprocessing"
   ]
  },
  {
   "cell_type": "code",
   "execution_count": 73,
   "id": "269a23bb-5b90-433b-9fbd-8382469c6f14",
   "metadata": {},
   "outputs": [],
   "source": [
    "df.drop('Unnamed: 0',axis=1,inplace=True)"
   ]
  },
  {
   "cell_type": "code",
   "execution_count": 74,
   "id": "b08a277e-f745-4af2-a6c0-f652e5ca7a16",
   "metadata": {},
   "outputs": [
    {
     "data": {
      "text/plain": [
       "Index(['ride_id', 'rideable_type', 'started_at', 'ended_at',\n",
       "       'start_station_name', 'start_station_id', 'end_station_name',\n",
       "       'end_station_id', 'start_lat', 'start_lng', 'end_lat', 'end_lng',\n",
       "       'member_casual', 'date', 'avgTemp', '_merge', 'value',\n",
       "       'bike_rides_daily', 'merge_flag', 'trip_duration'],\n",
       "      dtype='object')"
      ]
     },
     "execution_count": 74,
     "metadata": {},
     "output_type": "execute_result"
    }
   ],
   "source": [
    "df.columns"
   ]
  },
  {
   "cell_type": "code",
   "execution_count": 75,
   "id": "67426991-27a6-4868-b86b-7d26a0c64025",
   "metadata": {},
   "outputs": [],
   "source": [
    "# Create a value column and group by start and end station \n",
    "\n",
    "df['value'] = 1\n",
    "df_group = df.groupby(['start_station_name', 'end_station_name'])['value'].count().reset_index()"
   ]
  },
  {
   "cell_type": "code",
   "execution_count": 76,
   "id": "ad984f21-6dd7-4cb4-9529-1fef32136c17",
   "metadata": {},
   "outputs": [
    {
     "data": {
      "text/html": [
       "<div>\n",
       "<style scoped>\n",
       "    .dataframe tbody tr th:only-of-type {\n",
       "        vertical-align: middle;\n",
       "    }\n",
       "\n",
       "    .dataframe tbody tr th {\n",
       "        vertical-align: top;\n",
       "    }\n",
       "\n",
       "    .dataframe thead th {\n",
       "        text-align: right;\n",
       "    }\n",
       "</style>\n",
       "<table border=\"1\" class=\"dataframe\">\n",
       "  <thead>\n",
       "    <tr style=\"text-align: right;\">\n",
       "      <th></th>\n",
       "      <th>start_station_name</th>\n",
       "      <th>end_station_name</th>\n",
       "      <th>value</th>\n",
       "    </tr>\n",
       "  </thead>\n",
       "  <tbody>\n",
       "    <tr>\n",
       "      <th>0</th>\n",
       "      <td>1 Ave &amp; E 110 St</td>\n",
       "      <td>1 Ave &amp; E 110 St</td>\n",
       "      <td>44</td>\n",
       "    </tr>\n",
       "    <tr>\n",
       "      <th>1</th>\n",
       "      <td>1 Ave &amp; E 110 St</td>\n",
       "      <td>1 Ave &amp; E 44 St</td>\n",
       "      <td>1</td>\n",
       "    </tr>\n",
       "    <tr>\n",
       "      <th>2</th>\n",
       "      <td>1 Ave &amp; E 110 St</td>\n",
       "      <td>1 Ave &amp; E 62 St</td>\n",
       "      <td>7</td>\n",
       "    </tr>\n",
       "    <tr>\n",
       "      <th>3</th>\n",
       "      <td>1 Ave &amp; E 110 St</td>\n",
       "      <td>1 Ave &amp; E 68 St</td>\n",
       "      <td>14</td>\n",
       "    </tr>\n",
       "    <tr>\n",
       "      <th>4</th>\n",
       "      <td>1 Ave &amp; E 110 St</td>\n",
       "      <td>1 Ave &amp; E 78 St</td>\n",
       "      <td>3</td>\n",
       "    </tr>\n",
       "    <tr>\n",
       "      <th>...</th>\n",
       "      <td>...</td>\n",
       "      <td>...</td>\n",
       "      <td>...</td>\n",
       "    </tr>\n",
       "    <tr>\n",
       "      <th>467007</th>\n",
       "      <td>Yankee Ferry Terminal</td>\n",
       "      <td>Pioneer St &amp; Van Brunt St</td>\n",
       "      <td>3</td>\n",
       "    </tr>\n",
       "    <tr>\n",
       "      <th>467008</th>\n",
       "      <td>Yankee Ferry Terminal</td>\n",
       "      <td>Soissons Landing</td>\n",
       "      <td>331</td>\n",
       "    </tr>\n",
       "    <tr>\n",
       "      <th>467009</th>\n",
       "      <td>Yankee Ferry Terminal</td>\n",
       "      <td>South St &amp; Gouverneur Ln</td>\n",
       "      <td>1</td>\n",
       "    </tr>\n",
       "    <tr>\n",
       "      <th>467010</th>\n",
       "      <td>Yankee Ferry Terminal</td>\n",
       "      <td>South St &amp; Whitehall St</td>\n",
       "      <td>1</td>\n",
       "    </tr>\n",
       "    <tr>\n",
       "      <th>467011</th>\n",
       "      <td>Yankee Ferry Terminal</td>\n",
       "      <td>Yankee Ferry Terminal</td>\n",
       "      <td>1484</td>\n",
       "    </tr>\n",
       "  </tbody>\n",
       "</table>\n",
       "<p>467012 rows × 3 columns</p>\n",
       "</div>"
      ],
      "text/plain": [
       "           start_station_name           end_station_name  value\n",
       "0            1 Ave & E 110 St           1 Ave & E 110 St     44\n",
       "1            1 Ave & E 110 St            1 Ave & E 44 St      1\n",
       "2            1 Ave & E 110 St            1 Ave & E 62 St      7\n",
       "3            1 Ave & E 110 St            1 Ave & E 68 St     14\n",
       "4            1 Ave & E 110 St            1 Ave & E 78 St      3\n",
       "...                       ...                        ...    ...\n",
       "467007  Yankee Ferry Terminal  Pioneer St & Van Brunt St      3\n",
       "467008  Yankee Ferry Terminal           Soissons Landing    331\n",
       "467009  Yankee Ferry Terminal   South St & Gouverneur Ln      1\n",
       "467010  Yankee Ferry Terminal    South St & Whitehall St      1\n",
       "467011  Yankee Ferry Terminal      Yankee Ferry Terminal   1484\n",
       "\n",
       "[467012 rows x 3 columns]"
      ]
     },
     "execution_count": 76,
     "metadata": {},
     "output_type": "execute_result"
    }
   ],
   "source": [
    "df_group"
   ]
  },
  {
   "cell_type": "code",
   "execution_count": 77,
   "id": "ef68fb40-9fac-4037-8189-a3892ee96eec",
   "metadata": {},
   "outputs": [
    {
     "name": "stdout",
     "output_type": "stream",
     "text": [
      "3996025\n",
      "(4000000, 20)\n"
     ]
    }
   ],
   "source": [
    "print(df_group['value'].sum())\n",
    "print(df.shape)"
   ]
  },
  {
   "cell_type": "code",
   "execution_count": 78,
   "id": "1a370d93-58b1-480f-b6f5-15f5bae375cb",
   "metadata": {},
   "outputs": [
    {
     "data": {
      "text/plain": [
       "count    467012.000000\n",
       "mean          8.556579\n",
       "std          21.996277\n",
       "min           1.000000\n",
       "25%           1.000000\n",
       "50%           2.000000\n",
       "75%           7.000000\n",
       "max        1682.000000\n",
       "Name: value, dtype: float64"
      ]
     },
     "execution_count": 78,
     "metadata": {},
     "output_type": "execute_result"
    }
   ],
   "source": [
    "df_group['value'].describe()"
   ]
  },
  {
   "cell_type": "markdown",
   "id": "cb7174d0-19e7-4b46-bdc4-0ee652c26643",
   "metadata": {},
   "source": [
    "### Some exploratory analysis into the trips"
   ]
  },
  {
   "cell_type": "code",
   "execution_count": 80,
   "id": "812b8495-d137-495e-8222-90f34c8325e9",
   "metadata": {},
   "outputs": [
    {
     "data": {
      "image/png": "[encoded data removed]",
      "text/plain": [
       "<Figure size 640x480 with 1 Axes>"
      ]
     },
     "metadata": {},
     "output_type": "display_data"
    }
   ],
   "source": [
    "df_group['value'].hist(bins = 100)\n",
    "plt.show()"
   ]
  },
  {
   "cell_type": "code",
   "execution_count": 81,
   "id": "77ead54c-91ff-4dde-bdcb-0efd92684ad5",
   "metadata": {},
   "outputs": [
    {
     "data": {
      "text/plain": [
       "[]"
      ]
     },
     "execution_count": 81,
     "metadata": {},
     "output_type": "execute_result"
    },
    {
     "data": {
      "image/png": "[encoded data removed]",
      "text/plain": [
       "<Figure size 640x480 with 1 Axes>"
      ]
     },
     "metadata": {},
     "output_type": "display_data"
    }
   ],
   "source": [
    "b_plot = df_group.boxplot(column = 'value') \n",
    "b_plot.plot()"
   ]
  },
  {
   "cell_type": "code",
   "execution_count": 82,
   "id": "5ba24e4d-c008-4c4e-8022-fc331291850b",
   "metadata": {},
   "outputs": [
    {
     "data": {
      "text/plain": [
       "1       169753\n",
       "2        70592\n",
       "3        40513\n",
       "4        27276\n",
       "5        20008\n",
       "         ...  \n",
       "523          1\n",
       "619          1\n",
       "461          1\n",
       "913          1\n",
       "1484         1\n",
       "Name: value, Length: 500, dtype: int64"
      ]
     },
     "execution_count": 82,
     "metadata": {},
     "output_type": "execute_result"
    }
   ],
   "source": [
    "df_group['value'].sort_index().value_counts()"
   ]
  },
  {
   "cell_type": "code",
   "execution_count": 83,
   "id": "1ccb4f05-0ba2-4710-9c77-8b6b26f01301",
   "metadata": {},
   "outputs": [],
   "source": [
    "df_group.to_csv('Data/output/df_groupby_final.csv')"
   ]
  },
  {
   "cell_type": "code",
   "execution_count": 84,
   "id": "a5faece6-77ed-43ea-8cab-468d5a9b883f",
   "metadata": {},
   "outputs": [
    {
     "data": {
      "text/html": [
       "<div>\n",
       "<style scoped>\n",
       "    .dataframe tbody tr th:only-of-type {\n",
       "        vertical-align: middle;\n",
       "    }\n",
       "\n",
       "    .dataframe tbody tr th {\n",
       "        vertical-align: top;\n",
       "    }\n",
       "\n",
       "    .dataframe thead th {\n",
       "        text-align: right;\n",
       "    }\n",
       "</style>\n",
       "<table border=\"1\" class=\"dataframe\">\n",
       "  <thead>\n",
       "    <tr style=\"text-align: right;\">\n",
       "      <th></th>\n",
       "      <th>start_station_name</th>\n",
       "      <th>end_station_name</th>\n",
       "      <th>value</th>\n",
       "    </tr>\n",
       "  </thead>\n",
       "  <tbody>\n",
       "    <tr>\n",
       "      <th>0</th>\n",
       "      <td>1 Ave &amp; E 110 St</td>\n",
       "      <td>1 Ave &amp; E 110 St</td>\n",
       "      <td>44</td>\n",
       "    </tr>\n",
       "    <tr>\n",
       "      <th>1</th>\n",
       "      <td>1 Ave &amp; E 110 St</td>\n",
       "      <td>1 Ave &amp; E 44 St</td>\n",
       "      <td>1</td>\n",
       "    </tr>\n",
       "    <tr>\n",
       "      <th>2</th>\n",
       "      <td>1 Ave &amp; E 110 St</td>\n",
       "      <td>1 Ave &amp; E 62 St</td>\n",
       "      <td>7</td>\n",
       "    </tr>\n",
       "    <tr>\n",
       "      <th>3</th>\n",
       "      <td>1 Ave &amp; E 110 St</td>\n",
       "      <td>1 Ave &amp; E 68 St</td>\n",
       "      <td>14</td>\n",
       "    </tr>\n",
       "    <tr>\n",
       "      <th>4</th>\n",
       "      <td>1 Ave &amp; E 110 St</td>\n",
       "      <td>1 Ave &amp; E 78 St</td>\n",
       "      <td>3</td>\n",
       "    </tr>\n",
       "  </tbody>\n",
       "</table>\n",
       "</div>"
      ],
      "text/plain": [
       "  start_station_name  end_station_name  value\n",
       "0   1 Ave & E 110 St  1 Ave & E 110 St     44\n",
       "1   1 Ave & E 110 St   1 Ave & E 44 St      1\n",
       "2   1 Ave & E 110 St   1 Ave & E 62 St      7\n",
       "3   1 Ave & E 110 St   1 Ave & E 68 St     14\n",
       "4   1 Ave & E 110 St   1 Ave & E 78 St      3"
      ]
     },
     "execution_count": 84,
     "metadata": {},
     "output_type": "execute_result"
    }
   ],
   "source": [
    "df_group.head()"
   ]
  },
  {
   "cell_type": "code",
   "execution_count": 85,
   "id": "3dde7b03-141a-43e5-b3f7-c10f58f67c49",
   "metadata": {},
   "outputs": [],
   "source": [
    "df_group.rename(columns = {'value': 'trips'}, inplace = True)"
   ]
  },
  {
   "cell_type": "code",
   "execution_count": 86,
   "id": "2a26eac2-c57e-4e14-9d33-1c38b67fe65d",
   "metadata": {},
   "outputs": [
    {
     "data": {
      "text/html": [
       "<div>\n",
       "<style scoped>\n",
       "    .dataframe tbody tr th:only-of-type {\n",
       "        vertical-align: middle;\n",
       "    }\n",
       "\n",
       "    .dataframe tbody tr th {\n",
       "        vertical-align: top;\n",
       "    }\n",
       "\n",
       "    .dataframe thead th {\n",
       "        text-align: right;\n",
       "    }\n",
       "</style>\n",
       "<table border=\"1\" class=\"dataframe\">\n",
       "  <thead>\n",
       "    <tr style=\"text-align: right;\">\n",
       "      <th></th>\n",
       "      <th>start_station_name</th>\n",
       "      <th>end_station_name</th>\n",
       "      <th>trips</th>\n",
       "    </tr>\n",
       "  </thead>\n",
       "  <tbody>\n",
       "    <tr>\n",
       "      <th>0</th>\n",
       "      <td>1 Ave &amp; E 110 St</td>\n",
       "      <td>1 Ave &amp; E 110 St</td>\n",
       "      <td>44</td>\n",
       "    </tr>\n",
       "    <tr>\n",
       "      <th>1</th>\n",
       "      <td>1 Ave &amp; E 110 St</td>\n",
       "      <td>1 Ave &amp; E 44 St</td>\n",
       "      <td>1</td>\n",
       "    </tr>\n",
       "    <tr>\n",
       "      <th>2</th>\n",
       "      <td>1 Ave &amp; E 110 St</td>\n",
       "      <td>1 Ave &amp; E 62 St</td>\n",
       "      <td>7</td>\n",
       "    </tr>\n",
       "    <tr>\n",
       "      <th>3</th>\n",
       "      <td>1 Ave &amp; E 110 St</td>\n",
       "      <td>1 Ave &amp; E 68 St</td>\n",
       "      <td>14</td>\n",
       "    </tr>\n",
       "    <tr>\n",
       "      <th>4</th>\n",
       "      <td>1 Ave &amp; E 110 St</td>\n",
       "      <td>1 Ave &amp; E 78 St</td>\n",
       "      <td>3</td>\n",
       "    </tr>\n",
       "  </tbody>\n",
       "</table>\n",
       "</div>"
      ],
      "text/plain": [
       "  start_station_name  end_station_name  trips\n",
       "0   1 Ave & E 110 St  1 Ave & E 110 St     44\n",
       "1   1 Ave & E 110 St   1 Ave & E 44 St      1\n",
       "2   1 Ave & E 110 St   1 Ave & E 62 St      7\n",
       "3   1 Ave & E 110 St   1 Ave & E 68 St     14\n",
       "4   1 Ave & E 110 St   1 Ave & E 78 St      3"
      ]
     },
     "execution_count": 86,
     "metadata": {},
     "output_type": "execute_result"
    }
   ],
   "source": [
    "df_group.head()"
   ]
  },
  {
   "cell_type": "code",
   "execution_count": 87,
   "id": "f779078b-9bf4-42b1-af7c-2b0a49b665ea",
   "metadata": {},
   "outputs": [
    {
     "data": {
      "text/html": [
       "<div>\n",
       "<style scoped>\n",
       "    .dataframe tbody tr th:only-of-type {\n",
       "        vertical-align: middle;\n",
       "    }\n",
       "\n",
       "    .dataframe tbody tr th {\n",
       "        vertical-align: top;\n",
       "    }\n",
       "\n",
       "    .dataframe thead th {\n",
       "        text-align: right;\n",
       "    }\n",
       "</style>\n",
       "<table border=\"1\" class=\"dataframe\">\n",
       "  <thead>\n",
       "    <tr style=\"text-align: right;\">\n",
       "      <th></th>\n",
       "      <th>ride_id</th>\n",
       "      <th>rideable_type</th>\n",
       "      <th>started_at</th>\n",
       "      <th>ended_at</th>\n",
       "      <th>start_station_name</th>\n",
       "      <th>start_station_id</th>\n",
       "      <th>end_station_name</th>\n",
       "      <th>end_station_id</th>\n",
       "      <th>start_lat</th>\n",
       "      <th>start_lng</th>\n",
       "      <th>end_lat</th>\n",
       "      <th>end_lng</th>\n",
       "      <th>member_casual</th>\n",
       "      <th>date</th>\n",
       "      <th>avgTemp</th>\n",
       "      <th>_merge</th>\n",
       "      <th>value</th>\n",
       "      <th>bike_rides_daily</th>\n",
       "      <th>merge_flag</th>\n",
       "      <th>trip_duration</th>\n",
       "    </tr>\n",
       "  </thead>\n",
       "  <tbody>\n",
       "    <tr>\n",
       "      <th>0</th>\n",
       "      <td>70F3BA79664016C1</td>\n",
       "      <td>classic_bike</td>\n",
       "      <td>2022-02-28 09:22:49.821</td>\n",
       "      <td>2022-02-28 09:28:55.174</td>\n",
       "      <td>9 Ave &amp; W 18 St</td>\n",
       "      <td>6190.08</td>\n",
       "      <td>Greenwich Ave &amp; Charles St</td>\n",
       "      <td>5914.08</td>\n",
       "      <td>40.743174</td>\n",
       "      <td>-74.003664</td>\n",
       "      <td>40.735238</td>\n",
       "      <td>-74.000271</td>\n",
       "      <td>member</td>\n",
       "      <td>2022-02-28</td>\n",
       "      <td>0.8</td>\n",
       "      <td>both</td>\n",
       "      <td>1</td>\n",
       "      <td>37930</td>\n",
       "      <td>both</td>\n",
       "      <td>6.089217</td>\n",
       "    </tr>\n",
       "    <tr>\n",
       "      <th>1</th>\n",
       "      <td>A17A13BC93E70054</td>\n",
       "      <td>classic_bike</td>\n",
       "      <td>2022-02-28 15:54:32.180</td>\n",
       "      <td>2022-02-28 15:58:19.524</td>\n",
       "      <td>McGuinness Blvd &amp; Eagle St</td>\n",
       "      <td>5977.01</td>\n",
       "      <td>Greenpoint Ave &amp; Manhattan Ave</td>\n",
       "      <td>5785.05</td>\n",
       "      <td>40.735550</td>\n",
       "      <td>-73.952840</td>\n",
       "      <td>40.730260</td>\n",
       "      <td>-73.953940</td>\n",
       "      <td>member</td>\n",
       "      <td>2022-02-28</td>\n",
       "      <td>0.8</td>\n",
       "      <td>both</td>\n",
       "      <td>1</td>\n",
       "      <td>37930</td>\n",
       "      <td>both</td>\n",
       "      <td>3.789067</td>\n",
       "    </tr>\n",
       "    <tr>\n",
       "      <th>2</th>\n",
       "      <td>A40EA69F1AAAF8F1</td>\n",
       "      <td>classic_bike</td>\n",
       "      <td>2022-02-28 17:18:11.965</td>\n",
       "      <td>2022-02-28 17:39:10.532</td>\n",
       "      <td>W 42 St &amp; 6 Ave</td>\n",
       "      <td>6517.08</td>\n",
       "      <td>Central Park West &amp; W 76 St</td>\n",
       "      <td>7253.04</td>\n",
       "      <td>40.754920</td>\n",
       "      <td>-73.984550</td>\n",
       "      <td>40.778968</td>\n",
       "      <td>-73.973747</td>\n",
       "      <td>member</td>\n",
       "      <td>2022-02-28</td>\n",
       "      <td>0.8</td>\n",
       "      <td>both</td>\n",
       "      <td>1</td>\n",
       "      <td>37930</td>\n",
       "      <td>both</td>\n",
       "      <td>20.976117</td>\n",
       "    </tr>\n",
       "    <tr>\n",
       "      <th>3</th>\n",
       "      <td>8181BFC7CD2D0D29</td>\n",
       "      <td>classic_bike</td>\n",
       "      <td>2022-02-28 23:20:15.894</td>\n",
       "      <td>2022-02-28 23:26:45.175</td>\n",
       "      <td>W 18 St &amp; 6 Ave</td>\n",
       "      <td>6064.08</td>\n",
       "      <td>Lexington Ave &amp; E 26 St</td>\n",
       "      <td>6089.08</td>\n",
       "      <td>40.739713</td>\n",
       "      <td>-73.994564</td>\n",
       "      <td>40.741459</td>\n",
       "      <td>-73.983293</td>\n",
       "      <td>member</td>\n",
       "      <td>2022-02-28</td>\n",
       "      <td>0.8</td>\n",
       "      <td>both</td>\n",
       "      <td>1</td>\n",
       "      <td>37930</td>\n",
       "      <td>both</td>\n",
       "      <td>6.488017</td>\n",
       "    </tr>\n",
       "    <tr>\n",
       "      <th>4</th>\n",
       "      <td>9264124038B95E9A</td>\n",
       "      <td>classic_bike</td>\n",
       "      <td>2022-02-28 12:36:09.524</td>\n",
       "      <td>2022-02-28 12:58:10.084</td>\n",
       "      <td>E 4 St &amp; 2 Ave</td>\n",
       "      <td>5593.04</td>\n",
       "      <td>William St &amp; Pine St</td>\n",
       "      <td>5065.12</td>\n",
       "      <td>40.726281</td>\n",
       "      <td>-73.989780</td>\n",
       "      <td>40.707179</td>\n",
       "      <td>-74.008873</td>\n",
       "      <td>member</td>\n",
       "      <td>2022-02-28</td>\n",
       "      <td>0.8</td>\n",
       "      <td>both</td>\n",
       "      <td>1</td>\n",
       "      <td>37930</td>\n",
       "      <td>both</td>\n",
       "      <td>22.009333</td>\n",
       "    </tr>\n",
       "  </tbody>\n",
       "</table>\n",
       "</div>"
      ],
      "text/plain": [
       "            ride_id rideable_type               started_at  \\\n",
       "0  70F3BA79664016C1  classic_bike  2022-02-28 09:22:49.821   \n",
       "1  A17A13BC93E70054  classic_bike  2022-02-28 15:54:32.180   \n",
       "2  A40EA69F1AAAF8F1  classic_bike  2022-02-28 17:18:11.965   \n",
       "3  8181BFC7CD2D0D29  classic_bike  2022-02-28 23:20:15.894   \n",
       "4  9264124038B95E9A  classic_bike  2022-02-28 12:36:09.524   \n",
       "\n",
       "                  ended_at          start_station_name start_station_id  \\\n",
       "0  2022-02-28 09:28:55.174             9 Ave & W 18 St          6190.08   \n",
       "1  2022-02-28 15:58:19.524  McGuinness Blvd & Eagle St          5977.01   \n",
       "2  2022-02-28 17:39:10.532             W 42 St & 6 Ave          6517.08   \n",
       "3  2022-02-28 23:26:45.175             W 18 St & 6 Ave          6064.08   \n",
       "4  2022-02-28 12:58:10.084              E 4 St & 2 Ave          5593.04   \n",
       "\n",
       "                 end_station_name end_station_id  start_lat  start_lng  \\\n",
       "0      Greenwich Ave & Charles St        5914.08  40.743174 -74.003664   \n",
       "1  Greenpoint Ave & Manhattan Ave        5785.05  40.735550 -73.952840   \n",
       "2     Central Park West & W 76 St        7253.04  40.754920 -73.984550   \n",
       "3         Lexington Ave & E 26 St        6089.08  40.739713 -73.994564   \n",
       "4            William St & Pine St        5065.12  40.726281 -73.989780   \n",
       "\n",
       "     end_lat    end_lng member_casual        date  avgTemp _merge  value  \\\n",
       "0  40.735238 -74.000271        member  2022-02-28      0.8   both      1   \n",
       "1  40.730260 -73.953940        member  2022-02-28      0.8   both      1   \n",
       "2  40.778968 -73.973747        member  2022-02-28      0.8   both      1   \n",
       "3  40.741459 -73.983293        member  2022-02-28      0.8   both      1   \n",
       "4  40.707179 -74.008873        member  2022-02-28      0.8   both      1   \n",
       "\n",
       "   bike_rides_daily merge_flag  trip_duration  \n",
       "0             37930       both       6.089217  \n",
       "1             37930       both       3.789067  \n",
       "2             37930       both      20.976117  \n",
       "3             37930       both       6.488017  \n",
       "4             37930       both      22.009333  "
      ]
     },
     "execution_count": 87,
     "metadata": {},
     "output_type": "execute_result"
    }
   ],
   "source": [
    "df.head()"
   ]
  },
  {
   "cell_type": "markdown",
   "id": "a2004754-08ea-4d5c-8c80-3ee2a75b5fac",
   "metadata": {},
   "source": [
    "## PLot the map"
   ]
  },
  {
   "cell_type": "code",
   "execution_count": 89,
   "id": "0661a277-7acf-434c-bd94-0636430d28a7",
   "metadata": {},
   "outputs": [
    {
     "name": "stdout",
     "output_type": "stream",
     "text": [
      "['ride_id', 'rideable_type', 'started_at', 'ended_at', 'start_station_name', 'start_station_id', 'end_station_name', 'end_station_id', 'start_lat', 'start_lng', 'end_lat', 'end_lng', 'member_casual', 'date', 'avgTemp', '_merge', 'value', 'bike_rides_daily', 'merge_flag', 'trip_duration']\n"
     ]
    }
   ],
   "source": [
    "print(list(df.columns))"
   ]
  },
  {
   "cell_type": "code",
   "execution_count": 90,
   "id": "2ef89f13-dbca-46a8-9387-e4e5358202b4",
   "metadata": {},
   "outputs": [
    {
     "name": "stdout",
     "output_type": "stream",
     "text": [
      "           start_station_name                end_station_name  \\\n",
      "0             9 Ave & W 18 St      Greenwich Ave & Charles St   \n",
      "1  McGuinness Blvd & Eagle St  Greenpoint Ave & Manhattan Ave   \n",
      "2             W 42 St & 6 Ave     Central Park West & W 76 St   \n",
      "3             W 18 St & 6 Ave         Lexington Ave & E 26 St   \n",
      "4              E 4 St & 2 Ave            William St & Pine St   \n",
      "\n",
      "   bike_rides_daily  start_lat  start_lng    end_lat    end_lng  \n",
      "0             37930  40.743174 -74.003664  40.735238 -74.000271  \n",
      "1             37930  40.735550 -73.952840  40.730260 -73.953940  \n",
      "2             37930  40.754920 -73.984550  40.778968 -73.973747  \n",
      "3             37930  40.739713 -73.994564  40.741459 -73.983293  \n",
      "4             37930  40.726281 -73.989780  40.707179 -74.008873  \n"
     ]
    }
   ],
   "source": [
    "# Define df_final with selected columns\n",
    "df_final = df[['start_station_name','end_station_name','bike_rides_daily','start_lat', 'start_lng', 'end_lat', 'end_lng']]\n",
    "\n",
    "# Display the first few rows to verify\n",
    "print(df_final.head())\n"
   ]
  },
  {
   "cell_type": "code",
   "execution_count": 91,
   "id": "a0ba3ce1-9ac5-4ee1-917b-f1c15bab124a",
   "metadata": {},
   "outputs": [
    {
     "name": "stdout",
     "output_type": "stream",
     "text": [
      "User Guide: https://docs.kepler.gl/docs/keplergl-jupyter\n"
     ]
    }
   ],
   "source": [
    "# Create KeplerGl instance\n",
    "\n",
    "from keplergl import KeplerGl\n",
    "\n",
    "# Create a KeplerGl instance and pass the required columns directly\n",
    "m = KeplerGl(height=700, data={\"bike_routes\": df_final.head(1000)})\n"
   ]
  },
  {
   "cell_type": "code",
   "execution_count": 92,
   "id": "1b01f84f-2e1a-4687-80a6-88cd47477ce6",
   "metadata": {},
   "outputs": [],
   "source": [
    "# df_final.head(1000) for shorter data"
   ]
  },
  {
   "cell_type": "code",
   "execution_count": 93,
   "id": "800eb84a-8ffa-4934-835c-a64d197e225f",
   "metadata": {},
   "outputs": [
    {
     "data": {
      "application/vnd.jupyter.widget-view+json": {
       "model_id": "2708144546464e20ba71c3f953e6f71d",
       "version_major": 2,
       "version_minor": 0
      },
      "text/plain": [
       "KeplerGl(data={'bike_routes':               start_station_name                end_station_name  \\\n",
       "0           …"
      ]
     },
     "metadata": {},
     "output_type": "display_data"
    }
   ],
   "source": [
    "#Display map\n",
    "m"
   ]
  },
  {
   "cell_type": "code",
   "execution_count": 94,
   "id": "dcf12c4d-2935-4056-953c-d2206c0fdec4",
   "metadata": {
    "scrolled": true
   },
   "outputs": [
    {
     "data": {
      "text/plain": [
       "{}"
      ]
     },
     "execution_count": 94,
     "metadata": {},
     "output_type": "execute_result"
    }
   ],
   "source": [
    "config = m.config\n",
    "config"
   ]
  },
  {
   "cell_type": "code",
   "execution_count": 95,
   "id": "6b26ec57-93e7-4897-be85-d0799cd55966",
   "metadata": {},
   "outputs": [],
   "source": [
    "# saving the json file after the map manual modification\n",
    "import json\n",
    "with open(\"config.json\", \"w\") as outfile:\n",
    "    json.dump(config, outfile)"
   ]
  },
  {
   "cell_type": "code",
   "execution_count": 96,
   "id": "45f6b480-9a39-4e34-b8f9-9cf86e8e1591",
   "metadata": {},
   "outputs": [],
   "source": [
    "# for reading the config.json file (presaved file)\n",
    "with open('config.json') as f:\n",
    "      config = json.load(f)"
   ]
  },
  {
   "cell_type": "code",
   "execution_count": 97,
   "id": "4f3fc251-8e5e-4683-89bd-11b57edb3218",
   "metadata": {},
   "outputs": [],
   "source": [
    "m.config = config"
   ]
  },
  {
   "cell_type": "code",
   "execution_count": 98,
   "id": "e3923a85-38dd-426c-a91c-cc860532eaca",
   "metadata": {
    "scrolled": true
   },
   "outputs": [
    {
     "data": {
      "application/vnd.jupyter.widget-view+json": {
       "model_id": "2708144546464e20ba71c3f953e6f71d",
       "version_major": 2,
       "version_minor": 0
      },
      "text/plain": [
       "KeplerGl(data={'bike_routes':               start_station_name                end_station_name  \\\n",
       "0           …"
      ]
     },
     "metadata": {},
     "output_type": "display_data"
    }
   ],
   "source": [
    "m"
   ]
  },
  {
   "cell_type": "markdown",
   "id": "0b1bbf16-ca9c-44fe-a858-d6c013dac3c7",
   "metadata": {},
   "source": [
    "### First, each line shows a trip between two stations. When you hover over a particular line, it’s easy to decipher which stations are “start” stations and which are “end\" stations. It’s also easier to see the “trips(bike_daily_rides)” variable created in the groupby function when the data was preprocessed for plotting. This “trips” variable is the most important aspect of the analysis so far! Lastly, you can change the color palette to show where most of the trips started and where they ended. This makes the map more visually appealing and intuitive to interpret."
   ]
  },
  {
   "cell_type": "code",
   "execution_count": 100,
   "id": "c1fd9743-d2fa-4a56-941a-cec4955c982e",
   "metadata": {},
   "outputs": [
    {
     "name": "stdout",
     "output_type": "stream",
     "text": [
      "Map saved to Citi_Bike_TripsAggregated.html!\n"
     ]
    }
   ],
   "source": [
    "m.save_to_html(file_name = 'Citi_Bike_TripsAggregated.html', read_only = False, config = config)"
   ]
  },
  {
   "cell_type": "code",
   "execution_count": 101,
   "id": "8dcc7980-34da-4c92-b74e-2664c33ebcdd",
   "metadata": {
    "scrolled": true
   },
   "outputs": [
    {
     "data": {
      "text/plain": [
       "{}"
      ]
     },
     "execution_count": 101,
     "metadata": {},
     "output_type": "execute_result"
    }
   ],
   "source": [
    "config"
   ]
  },
  {
   "cell_type": "code",
   "execution_count": null,
   "id": "fb3358bc-c0fa-4f8b-b98f-543152bae36c",
   "metadata": {},
   "outputs": [],
   "source": []
  }
 ],
 "metadata": {
  "kernelspec": {
   "display_name": "Python (venv_2.5)",
   "language": "python",
   "name": "venv_2.5"
  },
  "language_info": {
   "codemirror_mode": {
    "name": "ipython",
    "version": 3
   },
   "file_extension": ".py",
   "mimetype": "text/x-python",
   "name": "python",
   "nbconvert_exporter": "python",
   "pygments_lexer": "ipython3",
   "version": "3.9.21"
  },
  "widgets": {
   "application/vnd.jupyter.widget-state+json": {
    "state": {
     "0634dc5e65b24da6bdfe3367e92352e6": {
      "model_module": "@jupyter-widgets/base",
      "model_module_version": "2.0.0",
      "model_name": "LayoutModel",
      "state": {
       "_model_name": "LayoutModel",
       "_view_name": "ErrorWidgetView",
       "align_content": null,
       "align_items": null,
       "align_self": null,
       "border": null,
       "bottom": null,
       "display": null,
       "error": {},
       "flex": null,
       "flex_flow": null,
       "grid_area": null,
       "grid_auto_columns": null,
       "grid_auto_flow": null,
       "grid_auto_rows": null,
       "grid_column": null,
       "grid_gap": null,
       "grid_row": null,
       "grid_template_areas": null,
       "grid_template_columns": null,
       "grid_template_rows": null,
       "height": null,
       "justify_content": null,
       "justify_items": null,
       "left": null,
       "margin": null,
       "max_height": null,
       "max_width": null,
       "min_height": null,
       "min_width": null,
       "msg": "Failed to load model class 'LayoutModel' from module '@jupyter-widgets/base'",
       "object_fit": null,
       "object_position": null,
       "order": null,
       "overflow": null,
       "overflow_x": null,
       "overflow_y": null,
       "padding": null,
       "right": null,
       "top": null,
       "visibility": null,
       "width": null
      }
     },
     "2708144546464e20ba71c3f953e6f71d": {
      "model_module": "keplergl-jupyter",
      "model_module_version": "^0.3.2",
      "model_name": "KeplerGlModal",
      "state": {
       "_model_module_version": "^0.3.2",
       "_view_module_version": "^0.3.2",
       "config": {
        "config": {
         "mapState": {
          "bearing": 0,
          "dragRotate": false,
          "isSplit": false,
          "isViewportSynced": true,
          "isZoomLocked": false,
          "latitude": 40.760228,
          "longitude": -73.95579599999999,
          "pitch": 0,
          "splitMapViewports": [],
          "zoom": 10
         },
         "mapStyle": {
          "backgroundColor": [
           0,
           0,
           0
          ],
          "mapStyles": {},
          "styleType": "dark-matter",
          "threeDBuildingColor": [
           15.035172933000911,
           15.035172933000911,
           15.035172933000911
          ],
          "topLayerGroups": {},
          "visibleLayerGroups": {
           "3d building": false,
           "border": false,
           "building": true,
           "label": true,
           "land": true,
           "road": true,
           "water": true
          }
         },
         "visState": {
          "animationConfig": {
           "currentTime": null,
           "speed": 1
          },
          "editor": {
           "features": [],
           "visible": true
          },
          "effects": [],
          "filters": [],
          "interactionConfig": {
           "brush": {
            "enabled": false,
            "size": 0.5
           },
           "coordinate": {
            "enabled": false
           },
           "geocoder": {
            "enabled": false
           },
           "tooltip": {
            "compareMode": false,
            "compareType": "absolute",
            "enabled": true,
            "fieldsToShow": {
             "bike_routes": [
              {
               "format": null,
               "name": "start_station_name"
              },
              {
               "format": null,
               "name": "end_station_name"
              },
              {
               "format": null,
               "name": "bike_rides_daily"
              }
             ]
            }
           }
          },
          "layerBlending": "normal",
          "layers": [
           {
            "config": {
             "color": [
              218,
              112,
              191
             ],
             "columns": {
              "lat": "start_lat",
              "lng": "start_lng"
             },
             "dataId": "bike_routes",
             "hidden": false,
             "highlightColor": [
              252,
              242,
              26,
              255
             ],
             "isVisible": true,
             "label": "start",
             "textLabel": [
              {
               "alignment": "center",
               "anchor": "start",
               "background": false,
               "backgroundColor": [
                0,
                0,
                200,
                255
               ],
               "color": [
                255,
                255,
                255
               ],
               "field": null,
               "offset": [
                0,
                0
               ],
               "outlineColor": [
                255,
                0,
                0,
                255
               ],
               "outlineWidth": 0,
               "size": 18
              }
             ],
             "visConfig": {
              "colorRange": {
               "category": "Uber",
               "colors": [
                "#5A1846",
                "#900C3F",
                "#C70039",
                "#E3611C",
                "#F1920E",
                "#FFC300"
               ],
               "name": "Global Warming",
               "type": "sequential"
              },
              "filled": true,
              "fixedRadius": false,
              "opacity": 0.8,
              "outline": false,
              "radius": 10,
              "radiusRange": [
               0,
               50
              ],
              "strokeColor": null,
              "strokeColorRange": {
               "category": "Uber",
               "colors": [
                "#5A1846",
                "#900C3F",
                "#C70039",
                "#E3611C",
                "#F1920E",
                "#FFC300"
               ],
               "name": "Global Warming",
               "type": "sequential"
              },
              "thickness": 2
             }
            },
            "id": "moot1rp",
            "type": "point",
            "visualChannels": {
             "colorField": {
              "name": "bike_rides_daily",
              "type": "integer"
             },
             "colorScale": "quantile",
             "sizeField": null,
             "sizeScale": "linear",
             "strokeColorField": null,
             "strokeColorScale": "quantile"
            }
           },
           {
            "config": {
             "color": [
              18,
              92,
              119
             ],
             "columns": {
              "lat": "end_lat",
              "lng": "end_lng"
             },
             "dataId": "bike_routes",
             "hidden": false,
             "highlightColor": [
              252,
              242,
              26,
              255
             ],
             "isVisible": false,
             "label": "end",
             "textLabel": [
              {
               "alignment": "center",
               "anchor": "start",
               "background": false,
               "backgroundColor": [
                0,
                0,
                200,
                255
               ],
               "color": [
                255,
                255,
                255
               ],
               "field": null,
               "offset": [
                0,
                0
               ],
               "outlineColor": [
                255,
                0,
                0,
                255
               ],
               "outlineWidth": 0,
               "size": 18
              }
             ],
             "visConfig": {
              "colorRange": {
               "category": "Uber",
               "colors": [
                "#5A1846",
                "#900C3F",
                "#C70039",
                "#E3611C",
                "#F1920E",
                "#FFC300"
               ],
               "name": "Global Warming",
               "type": "sequential"
              },
              "filled": true,
              "fixedRadius": false,
              "opacity": 0.8,
              "outline": false,
              "radius": 10,
              "radiusRange": [
               0,
               50
              ],
              "strokeColor": null,
              "strokeColorRange": {
               "category": "Uber",
               "colors": [
                "#5A1846",
                "#900C3F",
                "#C70039",
                "#E3611C",
                "#F1920E",
                "#FFC300"
               ],
               "name": "Global Warming",
               "type": "sequential"
              },
              "thickness": 2
             }
            },
            "id": "40lb339",
            "type": "point",
            "visualChannels": {
             "colorField": {
              "name": "bike_rides_daily",
              "type": "integer"
             },
             "colorScale": "quantile",
             "sizeField": null,
             "sizeScale": "linear",
             "strokeColorField": null,
             "strokeColorScale": "quantile"
            }
           },
           {
            "config": {
             "color": [
              146,
              38,
              198
             ],
             "columns": {
              "lat0": "start_lat",
              "lat1": "end_lat",
              "lng0": "start_lng",
              "lng1": "end_lng"
             },
             "dataId": "bike_routes",
             "hidden": false,
             "highlightColor": [
              252,
              242,
              26,
              255
             ],
             "isVisible": false,
             "label": "start -> end arc",
             "textLabel": [
              {
               "alignment": "center",
               "anchor": "start",
               "background": false,
               "backgroundColor": [
                0,
                0,
                200,
                255
               ],
               "color": [
                255,
                255,
                255
               ],
               "field": null,
               "offset": [
                0,
                0
               ],
               "outlineColor": [
                255,
                0,
                0,
                255
               ],
               "outlineWidth": 0,
               "size": 18
              }
             ],
             "visConfig": {
              "colorRange": {
               "category": "Uber",
               "colors": [
                "#5A1846",
                "#900C3F",
                "#C70039",
                "#E3611C",
                "#F1920E",
                "#FFC300"
               ],
               "name": "Global Warming",
               "type": "sequential"
              },
              "opacity": 0.8,
              "sizeRange": [
               0,
               10
              ],
              "targetColor": null,
              "thickness": 2
             }
            },
            "id": "8u4i1k",
            "type": "arc",
            "visualChannels": {
             "colorField": null,
             "colorScale": "quantile",
             "sizeField": null,
             "sizeScale": "linear"
            }
           },
           {
            "config": {
             "color": [
              77,
              193,
              156
             ],
             "columns": {
              "lat0": "start_lat",
              "lat1": "end_lat",
              "lng0": "start_lng",
              "lng1": "end_lng"
             },
             "dataId": "bike_routes",
             "hidden": false,
             "highlightColor": [
              252,
              242,
              26,
              255
             ],
             "isVisible": false,
             "label": "start -> end line",
             "textLabel": [
              {
               "alignment": "center",
               "anchor": "start",
               "background": false,
               "backgroundColor": [
                0,
                0,
                200,
                255
               ],
               "color": [
                255,
                255,
                255
               ],
               "field": null,
               "offset": [
                0,
                0
               ],
               "outlineColor": [
                255,
                0,
                0,
                255
               ],
               "outlineWidth": 0,
               "size": 18
              }
             ],
             "visConfig": {
              "colorRange": {
               "category": "Uber",
               "colors": [
                "#5A1846",
                "#900C3F",
                "#C70039",
                "#E3611C",
                "#F1920E",
                "#FFC300"
               ],
               "name": "Global Warming",
               "type": "sequential"
              },
              "elevationScale": 1,
              "opacity": 0.8,
              "sizeRange": [
               0,
               10
              ],
              "targetColor": null,
              "thickness": 2
             }
            },
            "id": "v7ougpp",
            "type": "line",
            "visualChannels": {
             "colorField": null,
             "colorScale": "quantile",
             "sizeField": null,
             "sizeScale": "linear"
            }
           }
          ],
          "overlayBlending": "normal",
          "splitMaps": []
         }
        },
        "version": "v1"
       },
       "data": {
        "bike_routes": {
         "columns": [
          "start_station_name",
          "end_station_name",
          "bike_rides_daily",
          "start_lat",
          "start_lng",
          "end_lat",
          "end_lng"
         ],
         "data": [
          [
           "9 Ave & W 18 St",
           "Greenwich Ave & Charles St",
           37930,
           40.74317449,
           -74.00366443,
           40.735238,
           -74.000271
          ],
          [
           "McGuinness Blvd & Eagle St",
           "Greenpoint Ave & Manhattan Ave",
           37930,
           40.73555,
           -73.95284,
           40.73026,
           -73.95394
          ],
          [
           "W 42 St & 6 Ave",
           "Central Park West & W 76 St",
           37930,
           40.75492,
           -73.98455,
           40.77896784,
           -73.97374737
          ],
          [
           "W 18 St & 6 Ave",
           "Lexington Ave & E 26 St",
           37930,
           40.73971301,
           -73.99456405,
           40.741459,
           -73.983293
          ],
          [
           "E 4 St & 2 Ave",
           "William St & Pine St",
           37930,
           40.7262807,
           -73.98978041,
           40.70717936,
           -74.00887308
          ],
          [
           "W 47 St & 6 Ave",
           "W 54 St & 9 Ave",
           37930,
           40.758397,
           -73.98255,
           40.76584941,
           -73.98690506
          ],
          [
           "W 42 St & 6 Ave",
           "9 Ave & W 22 St",
           37930,
           40.75492,
           -73.98455,
           40.7454973,
           -74.00197139
          ],
          [
           "W 18 St & 6 Ave",
           "9 Ave & W 22 St",
           37930,
           40.73971301,
           -73.99456405,
           40.7454973,
           -74.00197139
          ],
          [
           "Little West St & 1 Pl",
           "W 10 St & Washington St",
           37930,
           40.70569254,
           -74.01677685,
           40.73342399437081,
           -74.00851495563984
          ],
          [
           "Eastern Pkwy & Franklin Ave",
           "Monroe St & Classon Ave",
           37930,
           40.6707767,
           -73.9576801,
           40.6845683,
           -73.95881081
          ],
          [
           "W 26 St & 8 Ave",
           "Broadway & W 25 St",
           37930,
           40.74734825,
           -73.99723551,
           40.74286877312112,
           -73.98918628692627
          ],
          [
           "W 27 St & 7 Ave",
           "W 36 St & 9 Ave",
           37930,
           40.746647,
           -73.993915,
           40.75462324029105,
           -73.99516761302948
          ],
          [
           "W 16 St & The High Line",
           "W 44 St & 5 Ave",
           37930,
           40.74334935,
           -74.00681753,
           40.75500254,
           -73.98014437
          ],
          [
           "E 53 St & Madison Ave",
           "E 9 St & Avenue C",
           37930,
           40.7597108,
           -73.97402311,
           40.72521311,
           -73.97768752
          ],
          [
           "W 36 St & 7 Ave",
           "W 44 St & 5 Ave",
           37930,
           40.752149,
           -73.989539,
           40.75500254,
           -73.98014437
          ],
          [
           "E 40 St & Park Ave",
           "Broadway & W 29 St",
           37930,
           40.750756,
           -73.978326,
           40.7462009,
           -73.98855723
          ],
          [
           "Little West St & 1 Pl",
           "West St & Liberty St",
           37930,
           40.70569254,
           -74.01677685,
           40.711444,
           -74.014847
          ],
          [
           "W 27 St & 7 Ave",
           "Mercer St & Spring St",
           37930,
           40.746647,
           -73.993915,
           40.72362738,
           -73.99949601
          ],
          [
           "Broadway & W 38 St",
           "E 40 St & Park Ave",
           37930,
           40.7529728216068,
           -73.98734897375107,
           40.750756,
           -73.978326
          ],
          [
           "40 Ave & Crescent St",
           "51 St & Hobart St",
           37930,
           40.7535992020056,
           -73.93795609474182,
           40.75767234025041,
           -73.90769943594933
          ],
          [
           "W 27 St & 7 Ave",
           "E 40 St & Park Ave",
           37930,
           40.746647,
           -73.993915,
           40.750756,
           -73.978326
          ],
          [
           "LaGuardia Pl & W 3 St",
           "E 40 St & Park Ave",
           37930,
           40.72917025,
           -73.99810231,
           40.750756,
           -73.978326
          ],
          [
           "Cambridge Pl & Gates Ave",
           "Bergen St & 4 Ave",
           37930,
           40.68488,
           -73.96304,
           40.68256425759694,
           -73.9798977971077
          ],
          [
           "3 Ave & E 169 St",
           "3 Ave & E 174 St - Bathgate Vaccination Site",
           37930,
           40.832678,
           -73.905158,
           40.84224,
           -73.8985
          ],
          [
           "Congress St & Clinton St",
           "Dock St & Front St",
           37930,
           40.68825516598005,
           -73.99545192718506,
           40.702709,
           -73.99253
          ],
          [
           "Centre St & Worth St",
           "E 45 St & 3 Ave",
           37930,
           40.71494807,
           -74.00234482,
           40.75255434,
           -73.97282625
          ],
          [
           "2 Ave & E 72 St",
           "E 74 St & 1 Ave",
           37930,
           40.7687620293096,
           -73.95840793848038,
           40.7689738,
           -73.95482273
          ],
          [
           "Bushwick Ave & Forrest St",
           "Bayard St & Leonard St",
           37930,
           40.70076,
           -73.93641,
           40.71915571696044,
           -73.94885390996933
          ],
          [
           "E 72 St & York Ave",
           "E 74 St & 1 Ave",
           37930,
           40.76663814,
           -73.95348296,
           40.7689738,
           -73.95482273
          ],
          [
           "E 72 St & York Ave",
           "E 74 St & 1 Ave",
           37930,
           40.76663814,
           -73.95348296,
           40.7689738,
           -73.95482273
          ],
          [
           "Garrison Ave & Manida St",
           "3 Ave & E 174 St - Bathgate Vaccination Site",
           37930,
           40.818743,
           -73.890247,
           40.84224,
           -73.8985
          ],
          [
           "E 13 St & Avenue A",
           "E 45 St & 3 Ave",
           37930,
           40.72966729392978,
           -73.98067966103554,
           40.75255434,
           -73.97282625
          ],
          [
           "1 Ave & E 68 St",
           "E 88 St & 1 Ave",
           37930,
           40.76500525,
           -73.95818491,
           40.778301,
           -73.9488134
          ],
          [
           "1 Ave & E 68 St",
           "E 74 St & 1 Ave",
           37930,
           40.76500525,
           -73.95818491,
           40.7689738,
           -73.95482273
          ],
          [
           "Centre St & Worth St",
           "Broadway & Morris St",
           37930,
           40.71494807,
           -74.00234482,
           40.705945132708806,
           -74.01321887969969
          ],
          [
           "Court St & State St",
           "Fulton St & Broadway",
           37930,
           40.6902375,
           -73.99203074,
           40.711066,
           -74.009447
          ],
          [
           "E 40 St & Park Ave",
           "W 104 St & Amsterdam Ave",
           37930,
           40.750756,
           -73.978326,
           40.79904139288298,
           -73.96649479866028
          ],
          [
           "Vesey Pl & River Terrace",
           "Fulton St & Broadway",
           37930,
           40.7153379,
           -74.01658354,
           40.711066,
           -74.009447
          ],
          [
           "Lenox Ave & W 115 St",
           "West Thames St",
           37930,
           40.8011939,
           -73.9500739,
           40.70834698,
           -74.01713445
          ],
          [
           "Riverside Blvd & W 67 St",
           "W 160 St & St. Nicholas Ave",
           37930,
           40.777507027547976,
           -73.98888587951659,
           40.834468,
           -73.939865
          ],
          [
           "Fort Washington Ave & W 173 St",
           "E 97 St & Madison Ave",
           37930,
           40.84522,
           -73.940493,
           40.787801,
           -73.953559
          ],
          [
           "Broadway & W 25 St",
           "E 11 St & 3 Ave",
           37930,
           40.74286877312112,
           -73.98918628692627,
           40.73127,
           -73.98849
          ],
          [
           "Broadway & W 25 St",
           "9 Ave & W 22 St",
           37930,
           40.74286877312112,
           -73.98918628692627,
           40.7454973,
           -74.00197139
          ],
          [
           "W 16 St & The High Line",
           "E 11 St & 3 Ave",
           37930,
           40.74334935,
           -74.00681753,
           40.73127,
           -73.98849
          ],
          [
           "36 Ave & 31 St",
           "21 St & 38 Ave",
           37930,
           40.75651272984955,
           -73.92957486212252,
           40.7576314,
           -73.9391224
          ],
          [
           "Broadway & W 25 St",
           "E 33 St & 5 Ave",
           37930,
           40.74286877312112,
           -73.98918628692627,
           40.74765947,
           -73.98490707
          ],
          [
           "W 129 St & Convent Ave",
           "W 116 St & Broadway",
           37930,
           40.814394437915816,
           -73.95324736833572,
           40.8082,
           -73.9641
          ],
          [
           "E 16 St & 5 Ave",
           "2 Ave & E 29 St",
           37930,
           40.73726186,
           -73.99238967,
           40.74172351097472,
           -73.97809267044067
          ],
          [
           "Norfolk St & Broome St",
           "W 15 St & 7 Ave",
           37930,
           40.7172274,
           -73.98802084,
           40.73935542,
           -73.99931783
          ],
          [
           "Suydam St & Broadway",
           "Franklin Ave & Myrtle Ave",
           37930,
           40.69544,
           -73.93223,
           40.694546087246025,
           -73.95801365375519
          ],
          [
           "Jay St & York St",
           "Hanson Pl & Ashland Pl",
           37930,
           40.70140317257725,
           -73.98672670125961,
           40.68506807308177,
           -73.97790759801863
          ],
          [
           "30 Ave & 41 St",
           "34 Ave & 21 St",
           37930,
           40.763422,
           -73.914142,
           40.7628138,
           -73.9342862
          ],
          [
           "Jay St & York St",
           "E 11 St & 3 Ave",
           37930,
           40.70140317257725,
           -73.98672670125961,
           40.73127,
           -73.98849
          ],
          [
           "Stanton St & Norfolk St",
           "E 11 St & 3 Ave",
           37930,
           40.720747,
           -73.986274,
           40.73127,
           -73.98849
          ],
          [
           "Underhill Ave & Pacific St",
           "Hanson Pl & Ashland Pl",
           37930,
           40.6804836,
           -73.9646795,
           40.68506807308177,
           -73.97790759801863
          ],
          [
           "Barrow St & Hudson St",
           "E 11 St & 3 Ave",
           37930,
           40.73172428,
           -74.00674436,
           40.73127,
           -73.98849
          ],
          [
           "W 18 St & 6 Ave",
           "2 Ave & E 29 St",
           37930,
           40.73971301,
           -73.99456405,
           40.74172351097472,
           -73.97809267044067
          ],
          [
           "14 St & 7 Ave",
           "6 St & 7 Ave",
           37930,
           40.663779,
           -73.98396846,
           40.6686627,
           -73.97988067
          ],
          [
           "40 Ave & Crescent St",
           "24 Ave & 26 St",
           37930,
           40.7535992020056,
           -73.93795609474182,
           40.774591,
           -73.918544
          ],
          [
           "53 St & 4 Ave",
           "E 32 St & Park Ave",
           37930,
           40.644862,
           -74.014531,
           40.7457121,
           -73.98194829
          ],
          [
           "Water St & Gouverneur Ln",
           "West St & Liberty St",
           37930,
           40.70469667894968,
           -74.00803416967392,
           40.711444,
           -74.014847
          ],
          [
           "Norfolk St & Broome St",
           "Pearl St & Peck Slip",
           37930,
           40.7172274,
           -73.98802084,
           40.708485,
           -74.002751
          ],
          [
           "E 50 St & Park Ave",
           "MacDougal St & Prince St",
           37930,
           40.757334,
           -73.974235,
           40.72710258,
           -74.00297088
          ],
          [
           "E 40 St & Park Ave",
           "E 32 St & Park Ave",
           37930,
           40.750756,
           -73.978326,
           40.7457121,
           -73.98194829
          ],
          [
           "Frederick Douglass Blvd & W 115 St",
           "Columbus Ave & W 95 St",
           37930,
           40.8038654,
           -73.9559308,
           40.7919557,
           -73.968087
          ],
          [
           "Broadway & W 41 St",
           "W 53 St & 10 Ave",
           37930,
           40.75513557,
           -73.98658032,
           40.76669671,
           -73.99061728
          ],
          [
           "W 54 St & 11 Ave",
           "W 53 St & 10 Ave",
           37930,
           40.768333,
           -73.992573,
           40.76669671,
           -73.99061728
          ],
          [
           "Centre St & Worth St",
           "Cadman Plaza E & Red Cross Pl",
           37930,
           40.71494807,
           -74.00234482,
           40.69991755,
           -73.98971773
          ],
          [
           "Suydam St & Broadway",
           "Cooper Square & Astor Pl",
           37930,
           40.69544,
           -73.93223,
           40.72951496224949,
           -73.99075269699097
          ],
          [
           "2 Ave & E 99 St",
           "2 Ave & E 104 St",
           37930,
           40.7862586,
           -73.94552579,
           40.7892105,
           -73.94370784
          ],
          [
           "Mercer St & Spring St",
           "Cooper Square & Astor Pl",
           37930,
           40.72362738,
           -73.99949601,
           40.72951496224949,
           -73.99075269699097
          ],
          [
           "W 54 St & 11 Ave",
           "Broadway & W 53 St",
           37930,
           40.768333,
           -73.992573,
           40.76344058,
           -73.98268129
          ],
          [
           "Avenue C & E 18 St",
           "Cooper Square & Astor Pl",
           37930,
           40.730563,
           -73.973984,
           40.72951496224949,
           -73.99075269699097
          ],
          [
           "Broadway & W 41 St",
           "W 41 St & 8 Ave",
           37930,
           40.75513557,
           -73.98658032,
           40.75640548,
           -73.9900262
          ],
          [
           "Douglass St & 4 Ave",
           "Douglass St & 4 Ave",
           37930,
           40.6792788,
           -73.98154004,
           40.6792788,
           -73.98154004
          ],
          [
           "W 27 St & 7 Ave",
           "W 16 St & The High Line",
           37930,
           40.746647,
           -73.993915,
           40.74334935,
           -74.00681753
          ],
          [
           "E 14 St & 1 Ave",
           "10 Ave & W 14 St",
           37930,
           40.73139303364151,
           -73.98286700248718,
           40.74198159994023,
           -74.00831580162048
          ],
          [
           "Emerson Pl & Myrtle Ave",
           "36 Ave & 31 St",
           37930,
           40.69363137,
           -73.96223558,
           40.75651272984955,
           -73.92957486212252
          ],
          [
           "W 54 St & 11 Ave",
           "W 16 St & The High Line",
           37930,
           40.768333,
           -73.992573,
           40.74334935,
           -74.00681753
          ],
          [
           "W 54 St & 11 Ave",
           "W 16 St & The High Line",
           37930,
           40.768333,
           -73.992573,
           40.74334935,
           -74.00681753
          ],
          [
           "Stanton St & Norfolk St",
           "LaGuardia Pl & W 3 St",
           37930,
           40.720747,
           -73.986274,
           40.72917025,
           -73.99810231
          ],
          [
           "Jay St & York St",
           "Concord St & Bridge St",
           37930,
           40.70140317257725,
           -73.98672670125961,
           40.69766564,
           -73.98476437
          ],
          [
           "Jay St & York St",
           "Concord St & Bridge St",
           37930,
           40.70140317257725,
           -73.98672670125961,
           40.69766564,
           -73.98476437
          ],
          [
           "E 40 St & Park Ave",
           "W 27 St & 7 Ave",
           37930,
           40.750756,
           -73.978326,
           40.746647,
           -73.993915
          ],
          [
           "E 40 St & Park Ave",
           "W 27 St & 7 Ave",
           37930,
           40.750756,
           -73.978326,
           40.746647,
           -73.993915
          ],
          [
           "31 St & Broadway",
           "40 Ave & Crescent St",
           37930,
           40.761584,
           -73.925921,
           40.7535992020056,
           -73.93795609474182
          ],
          [
           "W 44 St & 11 Ave",
           "Broadway & W 38 St",
           37930,
           40.762009,
           -73.996975,
           40.7529728216068,
           -73.98734897375107
          ],
          [
           "9 Ave & W 45 St",
           "Broadway & W 38 St",
           37930,
           40.76019252,
           -73.9912551,
           40.7529728216068,
           -73.98734897375107
          ],
          [
           "Riverside Blvd & W 67 St",
           "10 Ave & W 14 St",
           37930,
           40.777507027547976,
           -73.98888587951659,
           40.74198159994023,
           -74.00831580162048
          ],
          [
           "1 Ave & E 68 St",
           "40 Ave & Crescent St",
           37930,
           40.76500525,
           -73.95818491,
           40.7535992020056,
           -73.93795609474182
          ],
          [
           "8 Ave & W 16 St",
           "Broadway & W 25 St",
           37930,
           40.740983,
           -74.001702,
           40.74286877312112,
           -73.98918628692627
          ],
          [
           "Broadway & E 21 St",
           "Broadway & W 25 St",
           37930,
           40.73988840858996,
           -73.98958593606949,
           40.74286877312112,
           -73.98918628692627
          ],
          [
           "Douglass St & 4 Ave",
           "Fulton St & Adams St",
           37930,
           40.6792788,
           -73.98154004,
           40.69241829257847,
           -73.98949474096298
          ],
          [
           "Washington Square E",
           "W 20 St & 10 Ave",
           37930,
           40.73049393,
           -73.9957214,
           40.745686,
           -74.005141
          ],
          [
           "Congress St & Clinton St",
           "Fulton St & Adams St",
           37930,
           40.68825516598005,
           -73.99545192718506,
           40.69241829257847,
           -73.98949474096298
          ],
          [
           "President St & 4 Ave",
           "3 St & 7 Ave",
           37930,
           40.676757,
           -73.983262,
           40.6703837,
           -73.97839676
          ],
          [
           "W 106 St & Central Park West",
           "Lenox Ave & W 117 St",
           37930,
           40.7981856,
           -73.9605909006,
           40.8025566,
           -73.9490782
          ],
          [
           "Broadway & W 58 St",
           "5 Ave & E 63 St",
           37930,
           40.76695317,
           -73.98169333,
           40.766368,
           -73.971518
          ],
          [
           "9 Ave & W 45 St",
           "W 54 St & 9 Ave",
           37930,
           40.76019252,
           -73.9912551,
           40.76584941,
           -73.98690506
          ],
          [
           "9 Ave & W 45 St",
           "5 Ave & E 63 St",
           37930,
           40.76019252,
           -73.9912551,
           40.766368,
           -73.971518
          ],
          [
           "2 Ave & E 72 St",
           "5 Ave & E 63 St",
           37930,
           40.7687620293096,
           -73.95840793848038,
           40.766368,
           -73.971518
          ],
          [
           "Lenox Ave & W 126 St",
           "Lenox Ave & W 117 St",
           37930,
           40.808442,
           -73.9452087,
           40.8025566,
           -73.9490782
          ],
          [
           "University Pl & E 14 St",
           "W 54 St & 9 Ave",
           37930,
           40.734814,
           -73.992085,
           40.76584941,
           -73.98690506
          ],
          [
           "Lenox Ave & W 126 St",
           "Pleasant Ave & E 116 St",
           37930,
           40.808442,
           -73.9452087,
           40.7949879,
           -73.9333349
          ],
          [
           "W 47 St & 10 Ave",
           "W 20 St & 10 Ave",
           37930,
           40.76269882,
           -73.99301222,
           40.745686,
           -74.005141
          ],
          [
           "Lenox Ave & W 133 St",
           "Lenox Ave & W 130 St",
           37930,
           40.81296,
           -73.941878,
           40.8107922,
           -73.9430681
          ],
          [
           "1 Ave & E 16 St",
           "W 20 St & 10 Ave",
           37930,
           40.73221853,
           -73.98165557,
           40.745686,
           -74.005141
          ],
          [
           "Broadway & E 21 St",
           "W 20 St & 10 Ave",
           37930,
           40.73988840858996,
           -73.98958593606949,
           40.745686,
           -74.005141
          ],
          [
           "Smith St & 9 St",
           "Fulton St & Adams St",
           37930,
           40.6746957,
           -73.99785768,
           40.69241829257847,
           -73.98949474096298
          ],
          [
           "Degraw St & Smith St",
           "3 St & 7 Ave",
           37930,
           40.6829151,
           -73.99318208,
           40.6703837,
           -73.97839676
          ],
          [
           "Thompson St & Bleecker St",
           "W 20 St & 10 Ave",
           37930,
           40.72840059450829,
           -73.99968780577183,
           40.745686,
           -74.005141
          ],
          [
           "DeKalb Ave & Hudson Ave",
           "Grand Army Plaza & Plaza St West",
           37930,
           40.689888,
           -73.981013,
           40.6729679,
           -73.97087984
          ],
          [
           "W 42 St & 6 Ave",
           "E 84 St & 1 Ave",
           37930,
           40.75492,
           -73.98455,
           40.77565541,
           -73.95068615
          ],
          [
           "Broadway & W 25 St",
           "Broadway & W 36 St",
           37930,
           40.74286877312112,
           -73.98918628692627,
           40.75097711,
           -73.98765428
          ],
          [
           "36 Ave & 31 St",
           "35 Ave & 10 St",
           37930,
           40.75651272984955,
           -73.92957486212252,
           40.76315481910373,
           -73.93985509872437
          ],
          [
           "Prospect Pl & 6 Ave",
           "Plaza St East & Flatbush Ave",
           37930,
           40.6793307,
           -73.97519523,
           40.673134,
           -73.969106
          ],
          [
           "LaGuardia Pl & W 3 St",
           "Grand St & Greene St",
           37930,
           40.72917025,
           -73.99810231,
           40.72170005235607,
           -74.00238141417502
          ],
          [
           "10 Ave & W 14 St",
           "W 4 St & 7 Ave S",
           37930,
           40.74198159994023,
           -74.00831580162048,
           40.73401143,
           -74.00293877
          ],
          [
           "W 89 St & Columbus Ave",
           "Willis Ave & E 137 St",
           37930,
           40.7882213,
           -73.97041561,
           40.808384,
           -73.923604
          ],
          [
           "Washington Square E",
           "W 4 St & 7 Ave S",
           37930,
           40.73049393,
           -73.9957214,
           40.73401143,
           -74.00293877
          ],
          [
           "Centre St & Worth St",
           "Lafayette St & Jersey St",
           37930,
           40.71494807,
           -74.00234482,
           40.72456089,
           -73.99565293
          ],
          [
           "Hudson St & Reade St",
           "W 4 St & 7 Ave S",
           37930,
           40.71625008,
           -74.0091059,
           40.73401143,
           -74.00293877
          ],
          [
           "Norfolk St & Broome St",
           "Grand St & Greene St",
           37930,
           40.7172274,
           -73.98802084,
           40.72170005235607,
           -74.00238141417502
          ],
          [
           "E 16 St & 5 Ave",
           "W 4 St & 7 Ave S",
           37930,
           40.73726186,
           -73.99238967,
           40.73401143,
           -74.00293877
          ],
          [
           "Stanton St & Norfolk St",
           "Ave A & E 14 St",
           37930,
           40.720747,
           -73.986274,
           40.73031071000895,
           -73.98047178983688
          ],
          [
           "Centre St & Worth St",
           "3 Ave & E 72 St",
           37930,
           40.71494807,
           -74.00234482,
           40.7699426,
           -73.96060712
          ],
          [
           "Congress St & Clinton St",
           "Lafayette Ave & Ft Greene Pl",
           37930,
           40.68825516598005,
           -73.99545192718506,
           40.68700231292619,
           -73.97664964199066
          ],
          [
           "Greenwich Ave & Charles St",
           "E 11 St & 1 Ave",
           37930,
           40.735238,
           -74.000271,
           40.72953837,
           -73.98426726
          ],
          [
           "Court St & State St",
           "Lafayette Ave & Ft Greene Pl",
           37930,
           40.6902375,
           -73.99203074,
           40.68700231292619,
           -73.97664964199066
          ],
          [
           "Court St & State St",
           "Carroll St & Smith St",
           37930,
           40.6902375,
           -73.99203074,
           40.680611,
           -73.99475825
          ],
          [
           "E 19 St & 3 Ave",
           "W 45 St & 8 Ave",
           37930,
           40.73624527,
           -73.98473765,
           40.75929124,
           -73.98859651
          ],
          [
           "E 53 St & Madison Ave",
           "3 Ave & E 72 St",
           37930,
           40.7597108,
           -73.97402311,
           40.7699426,
           -73.96060712
          ],
          [
           "5 Ave & E 87 St",
           "3 Ave & E 72 St",
           37930,
           40.78232260730881,
           -73.95987510681152,
           40.7699426,
           -73.96060712
          ],
          [
           "W 16 St & The High Line",
           "W 50 St & 10 Ave",
           37930,
           40.74334935,
           -74.00681753,
           40.76473420006519,
           -73.99194359779358
          ],
          [
           "Wyckoff Av & Stanhope St",
           "Greene Ave & Grandview Ave",
           37930,
           40.703545,
           -73.917775,
           40.709697,
           -73.907856
          ],
          [
           "Broadway & W 38 St",
           "Orchard St & Grand St",
           37930,
           40.7529728216068,
           -73.98734897375107,
           40.717318403855785,
           -73.99067759513855
          ],
          [
           "Broadway & W 38 St",
           "Orchard St & Grand St",
           37930,
           40.7529728216068,
           -73.98734897375107,
           40.717318403855785,
           -73.99067759513855
          ],
          [
           "W 27 St & 7 Ave",
           "Greenwich Ave & 8 Ave",
           37930,
           40.746647,
           -73.993915,
           40.7390169121,
           -74.0026376103
          ],
          [
           "E 16 St & 5 Ave",
           "Greenwich Ave & 8 Ave",
           37930,
           40.73726186,
           -73.99238967,
           40.7390169121,
           -74.0026376103
          ],
          [
           "Congress St & Clinton St",
           "Front St & Washington St",
           37930,
           40.68825516598005,
           -73.99545192718506,
           40.70255088,
           -73.98940236
          ],
          [
           "Barrow St & Hudson St",
           "Forsyth St & Canal St",
           37930,
           40.73172428,
           -74.00674436,
           40.7158155,
           -73.99422366
          ],
          [
           "Broadway & W 41 St",
           "W 50 St & 10 Ave",
           37930,
           40.75513557,
           -73.98658032,
           40.76473420006519,
           -73.99194359779358
          ],
          [
           "Avenue C & E 18 St",
           "South St & Gouverneur Ln",
           37930,
           40.730563,
           -73.973984,
           40.70355377,
           -74.00670227
          ],
          [
           "8 Ave & W 16 St",
           "South St & Gouverneur Ln",
           37930,
           40.740983,
           -74.001702,
           40.70355377,
           -74.00670227
          ],
          [
           "Broadway & W 58 St",
           "W 50 St & 10 Ave",
           37930,
           40.76695317,
           -73.98169333,
           40.76473420006519,
           -73.99194359779358
          ],
          [
           "Sterling St & Bedford Ave",
           "10 St & 2 Ave",
           37930,
           40.6627059,
           -73.9569115,
           40.671907,
           -73.993612
          ],
          [
           "W 16 St & The High Line",
           "Thompson St & Bleecker St",
           37930,
           40.74334935,
           -74.00681753,
           40.72840059450829,
           -73.99968780577183
          ],
          [
           "Washington Square E",
           "E 40 St & Park Ave",
           37930,
           40.73049393,
           -73.9957214,
           40.750756,
           -73.978326
          ],
          [
           "Suydam St & Broadway",
           "Irving Ave & Harman St",
           37930,
           40.69544,
           -73.93223,
           40.70108,
           -73.9179
          ],
          [
           "Warren St & Smith St",
           "Nevins St & Schermerhorn St",
           37930,
           40.68542400997018,
           -73.99127773940563,
           40.68737247650719,
           -73.98176059126854
          ],
          [
           "Stanton St & Norfolk St",
           "Pitt St & Stanton St",
           37930,
           40.720747,
           -73.986274,
           40.71926081,
           -73.98178024
          ],
          [
           "Onderdonk Ave & Gates Ave",
           "Onderdonk Ave & Gates Ave",
           37930,
           40.70413,
           -73.90737,
           40.70413,
           -73.90737
          ],
          [
           "Irving Ave & Harman St",
           "Irving Ave & Harman St",
           37930,
           40.70108,
           -73.9179,
           40.70108,
           -73.9179
          ],
          [
           "31 St & Broadway",
           "28 St & 41 Ave",
           37930,
           40.761584,
           -73.925921,
           40.751047,
           -73.93797
          ],
          [
           "John St & William St",
           "Mercer St & Spring St",
           37930,
           40.70862144,
           -74.00722156,
           40.72362738,
           -73.99949601
          ],
          [
           "9 Ave & W 18 St",
           "Riverside Dr & W 72 St",
           37930,
           40.74317449,
           -74.00366443,
           40.78057799010334,
           -73.98562431335449
          ],
          [
           "Lenox Ave & W 126 St",
           "Frederick Douglass Blvd & W 115 St",
           37930,
           40.808442,
           -73.9452087,
           40.8038654,
           -73.9559308
          ],
          [
           "Riverside Blvd & W 67 St",
           "Riverside Dr & W 72 St",
           37930,
           40.777507027547976,
           -73.98888587951659,
           40.78057799010334,
           -73.98562431335449
          ],
          [
           "Riverside Blvd & W 67 St",
           "Greenwich Ave & Charles St",
           37930,
           40.777507027547976,
           -73.98888587951659,
           40.735238,
           -74.000271
          ],
          [
           "8 Ave & W 16 St",
           "Madison St & Clinton St",
           37930,
           40.740983,
           -74.001702,
           40.71269042,
           -73.98776323
          ],
          [
           "Broadway & E 21 St",
           "Mercer St & Spring St",
           37930,
           40.73988840858996,
           -73.98958593606949,
           40.72362738,
           -73.99949601
          ],
          [
           "5 Ave & 41 St",
           "Albemarle Rd & McDonald Ave",
           37930,
           40.649983,
           -74.005144,
           40.645074,
           -73.979681
          ],
          [
           "49 St & 25 Ave",
           "76 St & 21 Ave",
           37930,
           40.764496,
           -73.904632,
           40.77028,
           -73.893675
          ],
          [
           "28 St & 36 Ave",
           "28 St & 41 Ave",
           37930,
           40.757186,
           -73.932719,
           40.751047,
           -73.93797
          ],
          [
           "Amsterdam Ave & W 82 St",
           "Frederick Douglass Blvd & W 117 St",
           37930,
           40.78524672,
           -73.97667321,
           40.805159,
           -73.954692
          ],
          [
           "Bleecker St & Crosby St",
           "Mercer St & Spring St",
           37930,
           40.72615604980408,
           -73.99510189890862,
           40.72362738,
           -73.99949601
          ],
          [
           "8 Ave & W 33 St",
           "Mercer St & Spring St",
           37930,
           40.751551,
           -73.993934,
           40.72362738,
           -73.99949601
          ],
          [
           "W 82 St & Central Park West",
           "Riverside Dr & W 72 St",
           37930,
           40.78275,
           -73.97137,
           40.78057799010334,
           -73.98562431335449
          ],
          [
           "Douglass St & 4 Ave",
           "Bergen St & 4 Ave",
           37930,
           40.6792788,
           -73.98154004,
           40.68256425759694,
           -73.9798977971077
          ],
          [
           "Congress St & Clinton St",
           "Bergen St & 4 Ave",
           37930,
           40.68825516598005,
           -73.99545192718506,
           40.68256425759694,
           -73.9798977971077
          ],
          [
           "E 50 St & Park Ave",
           "E 66 St & Madison Ave",
           37930,
           40.757334,
           -73.974235,
           40.76800889305947,
           -73.96845281124115
          ],
          [
           "MacDougal St & Washington Sq",
           "6 Ave & Broome St",
           37930,
           40.73226398,
           -73.99852205,
           40.72431,
           -74.00473
          ],
          [
           "President St & 4 Ave",
           "Carlton Ave & Dean St",
           37930,
           40.676757,
           -73.983262,
           40.6809741,
           -73.9710097
          ],
          [
           "President St & 4 Ave",
           "Bergen St & 4 Ave",
           37930,
           40.676757,
           -73.983262,
           40.68256425759694,
           -73.9798977971077
          ],
          [
           "Broadway & W 61 St",
           "Central Park W & W 91 St",
           37930,
           40.77003010255044,
           -73.9819684624672,
           40.78866499127884,
           -73.96680057048798
          ],
          [
           "Cherry St",
           "Allen St & Stanton St",
           37930,
           40.71219906,
           -73.97948148,
           40.722055,
           -73.989111
          ],
          [
           "Nevins St & Schermerhorn St",
           "Carlton Ave & Dean St",
           37930,
           40.68737247650719,
           -73.98176059126854,
           40.6809741,
           -73.9710097
          ],
          [
           "Vesey Pl & River Terrace",
           "6 Ave & Broome St",
           37930,
           40.7153379,
           -74.01658354,
           40.72431,
           -74.00473
          ],
          [
           "E 77 St & 3 Ave",
           "E 66 St & Madison Ave",
           37930,
           40.77314236,
           -73.95856158,
           40.76800889305947,
           -73.96845281124115
          ],
          [
           "Lenox Ave & W 115 St",
           "Adam Clayton Powell Blvd & W 115 St",
           37930,
           40.8011939,
           -73.9500739,
           40.802535,
           -73.9532423
          ],
          [
           "Kingston Ave & Herkimer St",
           "Fulton St & Waverly Ave",
           37930,
           40.67890679,
           -73.94142771,
           40.68323865460341,
           -73.96599590778351
          ],
          [
           "Broadway & Furman Ave",
           "Broadway & Madison St",
           37930,
           40.68139,
           -73.90756,
           40.68822,
           -73.91966
          ],
          [
           "Riverside Blvd & W 67 St",
           "6 Ave & Broome St",
           37930,
           40.777507027547976,
           -73.98888587951659,
           40.72431,
           -74.00473
          ],
          [
           "Central Park S & 6 Ave",
           "E 66 St & Madison Ave",
           37930,
           40.76590936,
           -73.97634151,
           40.76800889305947,
           -73.96845281124115
          ],
          [
           "1 Ave & E 16 St",
           "6 Ave & Broome St",
           37930,
           40.73221853,
           -73.98165557,
           40.72431,
           -74.00473
          ],
          [
           "University Pl & E 14 St",
           "Allen St & Stanton St",
           37930,
           40.734814,
           -73.992085,
           40.722055,
           -73.989111
          ],
          [
           "35 St & 30 Ave",
           "34 Ave & 38 St",
           37930,
           40.76547569244953,
           -73.91811579465866,
           40.756913,
           -73.921631
          ],
          [
           "35 St & 30 Ave",
           "Adam Clayton Powell Blvd & W 115 St",
           37930,
           40.76547569244953,
           -73.91811579465866,
           40.802535,
           -73.9532423
          ],
          [
           "McKibbin St & Bogart St",
           "Dock St & Front St",
           37930,
           40.706237,
           -73.933871,
           40.702709,
           -73.99253
          ],
          [
           "Graham Ave & Grand St",
           "Bayard St & Leonard St",
           37930,
           40.711863,
           -73.944024,
           40.71915571696044,
           -73.94885390996933
          ],
          [
           "2 Ave & E 122 St",
           "E 88 St & 1 Ave",
           37930,
           40.8006721,
           -73.9349,
           40.778301,
           -73.9488134
          ],
          [
           "Carroll St & Columbia St",
           "Dock St & Front St",
           37930,
           40.6830456,
           -74.00348559,
           40.702709,
           -73.99253
          ],
          [
           "28 St & 36 Ave",
           "E 45 St & 3 Ave",
           37930,
           40.757186,
           -73.932719,
           40.75255434,
           -73.97282625
          ],
          [
           "W 110 St & Amsterdam Ave",
           "E 88 St & 1 Ave",
           37930,
           40.802692,
           -73.96295,
           40.778301,
           -73.9488134
          ],
          [
           "West St & Chambers St",
           "W 10 St & Washington St",
           37930,
           40.71754834,
           -74.01322069,
           40.73342399437081,
           -74.00851495563984
          ],
          [
           "Cadman Plaza E & Tillary St",
           "Dock St & Front St",
           37930,
           40.695977,
           -73.990149,
           40.702709,
           -73.99253
          ],
          [
           "E 170 St & Sheridan Ave",
           "3 Ave & E 174 St - Bathgate Vaccination Site",
           37930,
           40.838315,
           -73.912604,
           40.84224,
           -73.8985
          ],
          [
           "31 St & Newtown Ave",
           "E 74 St & 1 Ave",
           37930,
           40.7675487799971,
           -73.9209334552288,
           40.7689738,
           -73.95482273
          ],
          [
           "Central Park S & 6 Ave",
           "Adam Clayton Powell Blvd & W 118 St",
           37930,
           40.76590936,
           -73.97634151,
           40.804372,
           -73.951475
          ],
          [
           "McKibbin St & Bogart St",
           "Dock St & Front St",
           37930,
           40.706237,
           -73.933871,
           40.702709,
           -73.99253
          ],
          [
           "1 Ave & E 68 St",
           "E 88 St & 1 Ave",
           37930,
           40.76500525,
           -73.95818491,
           40.778301,
           -73.9488134
          ],
          [
           "E 58 St & 1 Ave (NW Corner)",
           "E 74 St & 1 Ave",
           37930,
           40.759125,
           -73.962658,
           40.7689738,
           -73.95482273
          ],
          [
           "Motorgate",
           "Roosevelt Island Tramway",
           37930,
           40.7639089,
           -73.9477213,
           40.757284,
           -73.9536
          ],
          [
           "Murray St & Greenwich St",
           "Broadway & Berry St",
           37930,
           40.71485150526252,
           -74.01122331619263,
           40.71044554,
           -73.96525063
          ],
          [
           "Madison Ave & E 26 St",
           "W 20 St & 10 Ave",
           37930,
           40.742684734875695,
           -73.98671329021454,
           40.745686,
           -74.005141
          ],
          [
           "Prospect Park SW & 10 Ave",
           "Grand Army Plaza & Plaza St West",
           37930,
           40.659945,
           -73.977504,
           40.6729679,
           -73.97087984
          ],
          [
           "Milton St & Franklin St",
           "Fulton St & Adams St",
           37930,
           40.72906,
           -73.95779,
           40.69241829257847,
           -73.98949474096298
          ],
          [
           "Newton Rd & 44 St",
           "5 Ave & E 63 St",
           37930,
           40.7595701,
           -73.9142678,
           40.766368,
           -73.971518
          ],
          [
           "Madison Ave & E 26 St",
           "W 20 St & 10 Ave",
           37930,
           40.742684734875695,
           -73.98671329021454,
           40.745686,
           -74.005141
          ],
          [
           "8 Ave & W 16 St",
           "W 20 St & 10 Ave",
           37930,
           40.740983,
           -74.001702,
           40.745686,
           -74.005141
          ],
          [
           "Central Park S & 6 Ave",
           "5 Ave & E 63 St",
           37930,
           40.76590936,
           -73.97634151,
           40.766368,
           -73.971518
          ],
          [
           "Suffolk St & Stanton St",
           "W 20 St & 10 Ave",
           37930,
           40.72066442,
           -73.98517977,
           40.745686,
           -74.005141
          ],
          [
           "Ryer Ave & E 182 St",
           "Jerome Ave & E 181 St",
           37930,
           40.8558,
           -73.89956,
           40.855653,
           -73.905528
          ],
          [
           "Ryer Ave & E 182 St",
           "Jerome Ave & E 181 St",
           37930,
           40.8558,
           -73.89956,
           40.855653,
           -73.905528
          ],
          [
           "W 17 St & 8 Ave",
           "W 20 St & 10 Ave",
           37930,
           40.74177603,
           -74.00149746,
           40.745686,
           -74.005141
          ],
          [
           "W 17 St & 8 Ave",
           "W 20 St & 10 Ave",
           37930,
           40.74177603,
           -74.00149746,
           40.745686,
           -74.005141
          ],
          [
           "St Marks Pl & 1 Ave",
           "3 St & 7 Ave",
           37930,
           40.72779126,
           -73.98564945,
           40.6703837,
           -73.97839676
          ],
          [
           "Metropolitan Ave & Meeker Ave",
           "Sharon St & Olive St",
           37930,
           40.71413311,
           -73.95234386,
           40.715353,
           -73.93856
          ],
          [
           "State St & Smith St",
           "Fulton St & Adams St",
           37930,
           40.68917,
           -73.9886,
           40.69241829257847,
           -73.98949474096298
          ],
          [
           "West End Ave & W 78 St",
           "W 54 St & 9 Ave",
           37930,
           40.783786,
           -73.981687,
           40.76584941,
           -73.98690506
          ],
          [
           "36 Ave & 31 St",
           "21 St & Queens Plaza North",
           37930,
           40.75651272984955,
           -73.92957486212252,
           40.75325964,
           -73.94335788
          ],
          [
           "40 Ave & Crescent St",
           "21 St & Queens Plaza North",
           37930,
           40.7535992020056,
           -73.93795609474182,
           40.75325964,
           -73.94335788
          ],
          [
           "10 Ave & W 14 St",
           "E 16 St & Irving Pl",
           37930,
           40.74198159994023,
           -74.00831580162048,
           40.735367055605394,
           -73.98797392845154
          ],
          [
           "President St & 4 Ave",
           "E 27 St & 1 Ave",
           37930,
           40.676757,
           -73.983262,
           40.739445,
           -73.976806
          ],
          [
           "E 17 St & Broadway",
           "Clinton St & Grand St",
           37930,
           40.73704984,
           -73.99009296,
           40.71559509,
           -73.9870295
          ],
          [
           "6 Ave & 21 St",
           "Prospect Pl & 6 Ave",
           37930,
           40.66016,
           -73.990974,
           40.6793307,
           -73.97519523
          ],
          [
           "E 17 St & Broadway",
           "10 Ave & W 14 St",
           37930,
           40.73704984,
           -73.99009296,
           40.74198159994023,
           -74.00831580162048
          ],
          [
           "6 Ave & 21 St",
           "24 St & 5 Ave",
           37930,
           40.66016,
           -73.990974,
           40.659555,
           -73.995068
          ],
          [
           "Howard St & Lafayette St",
           "10 Ave & W 14 St",
           37930,
           40.71910537,
           -73.99973337,
           40.74198159994023,
           -74.00831580162048
          ],
          [
           "Howard St & Lafayette St",
           "Clinton St & Grand St",
           37930,
           40.71910537,
           -73.99973337,
           40.71559509,
           -73.9870295
          ],
          [
           "E 2 St & Avenue B",
           "Clinton St & Grand St",
           37930,
           40.72217444,
           -73.98368779,
           40.71559509,
           -73.9870295
          ],
          [
           "Fulton Ave & St. Paul's Pl",
           "Southern Blvd & E 174 St",
           37930,
           40.83545,
           -73.90153,
           40.836733,
           -73.887931
          ],
          [
           "8 Ave & W 33 St",
           "W 16 St & The High Line",
           37930,
           40.751551,
           -73.993934,
           40.74334935,
           -74.00681753
          ],
          [
           "7 Ave & 22 St",
           "67 St & Ridge Blvd",
           37930,
           40.658029,
           -73.989605,
           40.638799,
           -74.027472
          ],
          [
           "Myrtle Ave & Marcy Ave",
           "Wyckoff Av & Stanhope St",
           37930,
           40.69539817,
           -73.94954908,
           40.703545,
           -73.917775
          ],
          [
           "Centre St & Chambers St",
           "14 St & 7 Ave",
           37930,
           40.71273266,
           -74.0046073,
           40.663779,
           -73.98396846
          ],
          [
           "Great Jones St",
           "Broadway & W 38 St",
           37930,
           40.72743423,
           -73.99379025,
           40.7529728216068,
           -73.98734897375107
          ],
          [
           "Broadway & W 51 St",
           "Broadway & W 38 St",
           37930,
           40.76228826,
           -73.98336183,
           40.7529728216068,
           -73.98734897375107
          ],
          [
           "E 31 St & 3 Ave",
           "LaGuardia Pl & W 3 St",
           37930,
           40.74394314,
           -73.97966069,
           40.72917025,
           -73.99810231
          ],
          [
           "W 35 St & Dyer Ave",
           "W 27 St & 7 Ave",
           37930,
           40.754691750226016,
           -73.99740189313889,
           40.746647,
           -73.993915
          ],
          [
           "E 31 St & 3 Ave",
           "Broadway & W 25 St",
           37930,
           40.74394314,
           -73.97966069,
           40.74286877312112,
           -73.98918628692627
          ],
          [
           "Reade St & Broadway",
           "Caton Ave & Argyle Rd",
           37930,
           40.71450451,
           -74.00562789,
           40.649681,
           -73.967829
          ],
          [
           "Lawrence St & Willoughby St",
           "Prospect Pl & 6 Ave",
           37930,
           40.69236178,
           -73.98631746,
           40.6793307,
           -73.97519523
          ],
          [
           "West St & Chambers St",
           "10 Ave & W 14 St",
           37930,
           40.71754834,
           -74.01322069,
           40.74198159994023,
           -74.00831580162048
          ],
          [
           "West St & Chambers St",
           "10 Ave & W 14 St",
           37930,
           40.71754834,
           -74.01322069,
           40.74198159994023,
           -74.00831580162048
          ],
          [
           "McGuinness Blvd & Eagle St",
           "Vernon Blvd & 50 Ave",
           37930,
           40.73555,
           -73.95284,
           40.74232744,
           -73.95411749
          ],
          [
           "Broadway & W 38 St",
           "E 44 St & 2 Ave",
           37930,
           40.7529728216068,
           -73.98734897375107,
           40.75118387463277,
           -73.97138714790344
          ],
          [
           "36 Ave & 31 St",
           "34 St & 38 Ave",
           37930,
           40.75651272984955,
           -73.92957486212252,
           40.752443,
           -73.929737
          ],
          [
           "40 Ave & Crescent St",
           "34 St & 38 Ave",
           37930,
           40.7535992020056,
           -73.93795609474182,
           40.752443,
           -73.929737
          ],
          [
           "LaGuardia Pl & W 3 St",
           "Nassau Ave & Newell St",
           37930,
           40.72917025,
           -73.99810231,
           40.724812564400175,
           -73.94752621650696
          ],
          [
           "W 27 St & 7 Ave",
           "Washington St & Barrow St",
           37930,
           40.746647,
           -73.993915,
           40.73191132323174,
           -74.008769094944
          ],
          [
           "Barrow St & Hudson St",
           "Mercer St & Bleecker St",
           37930,
           40.73172428,
           -74.00674436,
           40.72706363348306,
           -73.99662137031554
          ],
          [
           "Water St & Gouverneur Ln",
           "Grand St & Havemeyer St",
           37930,
           40.70469667894968,
           -74.00803416967392,
           40.71286844,
           -73.95698119
          ],
          [
           "Vesey Pl & River Terrace",
           "Division St & Bowery",
           37930,
           40.7153379,
           -74.01658354,
           40.714193,
           -73.996732
          ],
          [
           "Vesey Pl & River Terrace",
           "Greenwich St & Hubert St",
           37930,
           40.7153379,
           -74.01658354,
           40.721319,
           -74.010065
          ],
          [
           "44 Dr & Jackson Ave",
           "45 Rd & 11 St",
           37930,
           40.74718234,
           -73.9432635,
           40.74708586,
           -73.94977234
          ],
          [
           "44 Dr & Jackson Ave",
           "45 Rd & 11 St",
           37930,
           40.74718234,
           -73.9432635,
           40.74708586,
           -73.94977234
          ],
          [
           "Wythe Ave & Metropolitan Ave",
           "Grand St & Havemeyer St",
           37930,
           40.716887,
           -73.963198,
           40.71286844,
           -73.95698119
          ],
          [
           "W 110 St & Amsterdam Ave",
           "E 106 St & Madison Ave",
           37930,
           40.802692,
           -73.96295,
           40.7934337,
           -73.94945003
          ],
          [
           "14 St & 7 Ave",
           "Windsor Pl & Howard Pl",
           37930,
           40.663779,
           -73.98396846,
           40.65949055893896,
           -73.98013919591904
          ],
          [
           "5 Ave & E 87 St",
           "Central Park North & Adam Clayton Powell Blvd",
           37930,
           40.78232260730881,
           -73.95987510681152,
           40.799484,
           -73.955613
          ],
          [
           "W 42 St & 6 Ave",
           "W 52 St & 6 Ave",
           37930,
           40.75492,
           -73.98455,
           40.76132983124814,
           -73.97982001304626
          ],
          [
           "Madison Ave & E 120 St",
           "Adam Clayton Powell Blvd & W 118 St",
           37930,
           40.80295,
           -73.942954,
           40.804372,
           -73.951475
          ],
          [
           "Madison Ave & E 120 St",
           "E 138 St & 5 Av",
           37930,
           40.80295,
           -73.942954,
           40.81449,
           -73.936153
          ],
          [
           "Madison Ave & E 120 St",
           "Adam Clayton Powell Blvd & W 118 St",
           37930,
           40.80295,
           -73.942954,
           40.804372,
           -73.951475
          ],
          [
           "W 11 St & 6 Ave",
           "E 45 St & 3 Ave",
           37930,
           40.73532427,
           -73.99800419,
           40.75255434,
           -73.97282625
          ],
          [
           "E 7 St & Avenue A",
           "E 88 St & 1 Ave",
           37930,
           40.72621788,
           -73.98379855,
           40.778301,
           -73.9488134
          ],
          [
           "Washington St & Gansevoort St",
           "W 10 St & Washington St",
           37930,
           40.739323,
           -74.008119,
           40.73342399437081,
           -74.00851495563984
          ],
          [
           "E 27 St & 1 Ave",
           "E 45 St & 3 Ave",
           37930,
           40.739445,
           -73.976806,
           40.75255434,
           -73.97282625
          ],
          [
           "Kent Ave & N 7 St",
           "Bayard St & Leonard St",
           37930,
           40.72036775298455,
           -73.96165072917938,
           40.71915571696044,
           -73.94885390996933
          ],
          [
           "Kent Ave & N 7 St",
           "Bayard St & Leonard St",
           37930,
           40.72036775298455,
           -73.96165072917938,
           40.71915571696044,
           -73.94885390996933
          ],
          [
           "Henry St & Atlantic Ave",
           "Front St & Jay St",
           37930,
           40.69089272,
           -73.99612349,
           40.702461,
           -73.986842
          ],
          [
           "Kent Ave & N 7 St",
           "Bayard St & Leonard St",
           37930,
           40.72036775298455,
           -73.96165072917938,
           40.71915571696044,
           -73.94885390996933
          ],
          [
           "E 31 St & 3 Ave",
           "E 45 St & 3 Ave",
           37930,
           40.74394314,
           -73.97966069,
           40.75255434,
           -73.97282625
          ],
          [
           "W 53 St & 10 Ave",
           "E 88 St & 1 Ave",
           37930,
           40.76669671,
           -73.99061728,
           40.778301,
           -73.9488134
          ],
          [
           "E 50 St & Park Ave",
           "E 45 St & 3 Ave",
           37930,
           40.757334,
           -73.974235,
           40.75255434,
           -73.97282625
          ],
          [
           "E 47 St & 1 Ave",
           "E 88 St & 1 Ave",
           37930,
           40.75206862,
           -73.96784384,
           40.778301,
           -73.9488134
          ],
          [
           "W 44 St & 5 Ave",
           "E 74 St & 1 Ave",
           37930,
           40.75500254,
           -73.98014437,
           40.7689738,
           -73.95482273
          ],
          [
           "Halsey St & Tompkins Ave",
           "Broadway & Berry St",
           37930,
           40.6823687,
           -73.944118,
           40.71044554,
           -73.96525063
          ],
          [
           "E 84 St & 1 Ave",
           "E 88 St & 1 Ave",
           37930,
           40.77565541,
           -73.95068615,
           40.778301,
           -73.9488134
          ],
          [
           "Lafayette Ave & Ft Greene Pl",
           "Front St & Jay St",
           37930,
           40.68700231292619,
           -73.97664964199066,
           40.702461,
           -73.986842
          ],
          [
           "W 106 St & Central Park West",
           "Park Ave & E 124 St",
           37930,
           40.7981856,
           -73.9605909006,
           40.8045555,
           -73.9396861
          ],
          [
           "Stanton St & Norfolk St",
           "E 23 St & 1 Ave",
           37930,
           40.720747,
           -73.986274,
           40.736502,
           -73.97809472
          ],
          [
           "S 3 St & Bedford Ave",
           "Allen St & Hester St",
           37930,
           40.71260486,
           -73.96264403,
           40.71605866,
           -73.99190759
          ],
          [
           "E 81 St & York Ave",
           "Park Ave & E 124 St",
           37930,
           40.7728384,
           -73.94989233,
           40.8045555,
           -73.9396861
          ],
          [
           "Broadway & W 58 St",
           "W 87 St & Amsterdam Ave",
           37930,
           40.76695317,
           -73.98169333,
           40.78839,
           -73.9747
          ],
          [
           "E 40 St & Park Ave",
           "E 23 St & 1 Ave",
           37930,
           40.750756,
           -73.978326,
           40.736502,
           -73.97809472
          ],
          [
           "University Pl & E 14 St",
           "E 9 St & 5 Ave",
           37930,
           40.734814,
           -73.992085,
           40.73275887045087,
           -73.99581670761108
          ],
          [
           "E 72 St & York Ave",
           "E 23 St & 1 Ave",
           37930,
           40.76663814,
           -73.95348296,
           40.736502,
           -73.97809472
          ],
          [
           "1 Ave & E 68 St",
           "E 118 St & Madison Ave",
           37930,
           40.76500525,
           -73.95818491,
           40.8014866,
           -73.9442507
          ],
          [
           "Howard St & Lafayette St",
           "W 30 St & 8 Ave",
           37930,
           40.71910537,
           -73.99973337,
           40.74965268472847,
           -73.9952078461647
          ],
          [
           "7 Ave S & Bleecker St",
           "Washington Ave & Park Ave",
           37930,
           40.73213896287381,
           -74.00363802909851,
           40.69610226,
           -73.96751037
          ],
          [
           "3 Ave & Carroll St",
           "10 St & 2 Ave",
           37930,
           40.677027,
           -73.9865,
           40.671907,
           -73.993612
          ],
          [
           "Congress St & Clinton St",
           "10 St & 2 Ave",
           37930,
           40.68825516598005,
           -73.99545192718506,
           40.671907,
           -73.993612
          ],
          [
           "3 Ave & Carroll St",
           "Windsor Pl & 8 Ave",
           37930,
           40.677027,
           -73.9865,
           40.660906,
           -73.983074
          ],
          [
           "E 16 St & 5 Ave",
           "Thompson St & Bleecker St",
           37930,
           40.73726186,
           -73.99238967,
           40.72840059450829,
           -73.99968780577183
          ],
          [
           "Featherbed Ln & Jerome Ave",
           "Nelson Ave & W 172 St",
           37930,
           40.845505,
           -73.914311,
           40.843965,
           -73.920999
          ],
          [
           "44 Dr & Jackson Ave",
           "Queens Plaza North & Crescent St",
           37930,
           40.74718234,
           -73.9432635,
           40.75110165,
           -73.94073717
          ],
          [
           "W 44 St & 11 Ave",
           "8 Ave & W 33 St",
           37930,
           40.762009,
           -73.996975,
           40.751551,
           -73.993934
          ],
          [
           "W 44 St & 11 Ave",
           "8 Ave & W 33 St",
           37930,
           40.762009,
           -73.996975,
           40.751551,
           -73.993934
          ],
          [
           "9 Ave & W 45 St",
           "8 Ave & W 33 St",
           37930,
           40.76019252,
           -73.9912551,
           40.751551,
           -73.993934
          ],
          [
           "Frederick Douglass Blvd & W 129 St",
           "E 128 St & Madison Ave",
           37930,
           40.8125511,
           -73.9492286,
           40.80756,
           -73.939182
          ],
          [
           "Thompson St & Bleecker St",
           "Thompson St & Bleecker St",
           37930,
           40.72840059450829,
           -73.99968780577183,
           40.72840059450829,
           -73.99968780577183
          ],
          [
           "Thompson St & Bleecker St",
           "Thompson St & Bleecker St",
           37930,
           40.72840059450829,
           -73.99968780577183,
           40.72840059450829,
           -73.99968780577183
          ],
          [
           "8 Ave & W 33 St",
           "8 Ave & W 33 St",
           37930,
           40.751551,
           -73.993934,
           40.751551,
           -73.993934
          ],
          [
           "Howard St & Lafayette St",
           "Thompson St & Bleecker St",
           37930,
           40.71910537,
           -73.99973337,
           40.72840059450829,
           -73.99968780577183
          ],
          [
           "West St & Chambers St",
           "Thompson St & Bleecker St",
           37930,
           40.71754834,
           -74.01322069,
           40.72840059450829,
           -73.99968780577183
          ],
          [
           "35 St & 34 Ave",
           "Queens Plaza North & Crescent St",
           37930,
           40.7580583,
           -73.9242751,
           40.75110165,
           -73.94073717
          ],
          [
           "11 Ave & Prospect Ave",
           "Windsor Pl & 8 Ave",
           37930,
           40.65629,
           -73.977335,
           40.660906,
           -73.983074
          ],
          [
           "1 Ave & E 18 St",
           "Thompson St & Bleecker St",
           37930,
           40.73381219196632,
           -73.98054420948029,
           40.72840059450829,
           -73.99968780577183
          ],
          [
           "Thompson St & Bleecker St",
           "6 Ave & Broome St",
           37930,
           40.72840059450829,
           -73.99968780577183,
           40.72431,
           -74.00473
          ],
          [
           "6 Ave & 9 St",
           "Bergen St & 4 Ave",
           37930,
           40.668127,
           -73.98377641,
           40.68256425759694,
           -73.9798977971077
          ],
          [
           "Beaver St & Fayette St",
           "Driggs Ave & N 9 St",
           37930,
           40.70099,
           -73.93921,
           40.71816969454208,
           -73.95520135760307
          ],
          [
           "Driggs Ave & Lorimer St",
           "Driggs Ave & N 9 St",
           37930,
           40.72179134,
           -73.9504154,
           40.71816969454208,
           -73.95520135760307
          ],
          [
           "Broadway & W 51 St",
           "6 Ave & Broome St",
           37930,
           40.76228826,
           -73.98336183,
           40.72431,
           -74.00473
          ],
          [
           "W 110 St & Amsterdam Ave",
           "Adam Clayton Powell Blvd & W 115 St",
           37930,
           40.802692,
           -73.96295,
           40.802535,
           -73.9532423
          ],
          [
           "Metropolitan Ave & Bedford Ave",
           "Allen St & Stanton St",
           37930,
           40.71534825,
           -73.96024116,
           40.722055,
           -73.989111
          ],
          [
           "Central Park West & W 72 St",
           "Central Park W & W 91 St",
           37930,
           40.77579376683666,
           -73.9762057363987,
           40.78866499127884,
           -73.96680057048798
          ],
          [
           "Wyckoff Ave & Gates Ave",
           "Broadway & Madison St",
           37930,
           40.699871408829885,
           -73.91171872615814,
           40.68822,
           -73.91966
          ],
          [
           "12 Ave & W 40 St",
           "E 66 St & Madison Ave",
           37930,
           40.76087502,
           -74.00277668,
           40.76800889305947,
           -73.96845281124115
          ],
          [
           "E 13 St & Avenue A",
           "Allen St & Stanton St",
           37930,
           40.72966729392978,
           -73.98067966103554,
           40.722055,
           -73.989111
          ],
          [
           "Riverside Blvd & W 67 St",
           "6 Ave & Broome St",
           37930,
           40.777507027547976,
           -73.98888587951659,
           40.72431,
           -74.00473
          ],
          [
           "1 Ave & E 68 St",
           "E 66 St & Madison Ave",
           37930,
           40.76500525,
           -73.95818491,
           40.76800889305947,
           -73.96845281124115
          ],
          [
           "Riverside Blvd & W 67 St",
           "E 138 St & Cypress Ave",
           37930,
           40.777507027547976,
           -73.98888587951659,
           40.805559,
           -73.914718
          ],
          [
           "Broadway & E 21 St",
           "E 66 St & Madison Ave",
           37930,
           40.73988840858996,
           -73.98958593606949,
           40.76800889305947,
           -73.96845281124115
          ],
          [
           "E 81 St & 2 Ave",
           "W 92 St & Broadway",
           37930,
           40.77477944895728,
           -73.95427465438843,
           40.7921,
           -73.9739
          ],
          [
           "Riverside Dr & W 82 St",
           "Central Park W & W 91 St",
           37930,
           40.78720869,
           -73.98128127,
           40.78866499127884,
           -73.96680057048798
          ],
          [
           "E 39 St & Lexington Ave",
           "E 85 St & York Ave",
           37930,
           40.7494985460252,
           -73.97729203113158,
           40.77536905,
           -73.94803392
          ],
          [
           "E 22 St & 2 Ave",
           "Bergen St & 4 Ave",
           37930,
           40.73716919369882,
           -73.98122549057007,
           40.68256425759694,
           -73.9798977971077
          ],
          [
           "E 22 St & 2 Ave",
           "Allen St & Stanton St",
           37930,
           40.73716919369882,
           -73.98122549057007,
           40.722055,
           -73.989111
          ],
          [
           "Central Park West & W 76 St",
           "Central Park W & W 91 St",
           37930,
           40.77896784,
           -73.97374737,
           40.78866499127884,
           -73.96680057048798
          ],
          [
           "Suffolk St & Stanton St",
           "Allen St & Stanton St",
           37930,
           40.72066442,
           -73.98517977,
           40.722055,
           -73.989111
          ],
          [
           "E 68 St & Madison Ave",
           "E 66 St & Madison Ave",
           37930,
           40.7691572,
           -73.96703464,
           40.76800889305947,
           -73.96845281124115
          ],
          [
           "Greenpoint Ave & Manhattan Ave",
           "Carlton Ave & Dean St",
           37930,
           40.73026,
           -73.95394,
           40.6809741,
           -73.9710097
          ],
          [
           "E 14 St & 1 Ave",
           "Allen St & Stanton St",
           37930,
           40.73139303364151,
           -73.98286700248718,
           40.722055,
           -73.989111
          ],
          [
           "Pike St & E Broadway",
           "Allen St & Stanton St",
           37930,
           40.71406667,
           -73.99293911,
           40.722055,
           -73.989111
          ],
          [
           "6 Ave & Canal St",
           "6 Ave & Broome St",
           37930,
           40.72243797,
           -74.00566443,
           40.72431,
           -74.00473
          ],
          [
           "Park Ave & Marcus Garvey Blvd",
           "Broadway & Madison St",
           37930,
           40.698617,
           -73.941342,
           40.68822,
           -73.91966
          ],
          [
           "Broadway & Battery Pl",
           "6 Ave & Broome St",
           37930,
           40.70463334,
           -74.01361706,
           40.72431,
           -74.00473
          ],
          [
           "Metropolitan Ave & Meeker Ave",
           "Driggs Ave & N 9 St",
           37930,
           40.71413311,
           -73.95234386,
           40.71816969454208,
           -73.95520135760307
          ],
          [
           "Halsey St & Broadway",
           "Broadway & Madison St",
           37930,
           40.68565,
           -73.91564,
           40.68822,
           -73.91966
          ],
          [
           "Metropolitan Ave & Meeker Ave",
           "Driggs Ave & N 9 St",
           37930,
           40.71413311,
           -73.95234386,
           40.71816969454208,
           -73.95520135760307
          ],
          [
           "Clinton St & Grand St",
           "W Broadway & W Houston St",
           37930,
           40.71559509,
           -73.9870295,
           40.726378,
           -74.000472
          ],
          [
           "Broadway & W 25 St",
           "10 Ave & W 28 St",
           37930,
           40.74286877312112,
           -73.98918628692627,
           40.75066386,
           -74.00176802
          ],
          [
           "S 3 St & Bedford Ave",
           "William St & Pine St",
           37930,
           40.71260486,
           -73.96264403,
           40.70717936,
           -74.00887308
          ],
          [
           "Jay St & York St",
           "Lawrence St & Willoughby St",
           37930,
           40.70140317257725,
           -73.98672670125961,
           40.69236178,
           -73.98631746
          ],
          [
           "E 16 St & 5 Ave",
           "William St & Pine St",
           37930,
           40.73726186,
           -73.99238967,
           40.70717936,
           -74.00887308
          ],
          [
           "E 50 St & Park Ave",
           "Broadway & W 51 St",
           37930,
           40.757334,
           -73.974235,
           40.76228826,
           -73.98336183
          ],
          [
           "Bay St & Court St",
           "Smith St & 9 St",
           37930,
           40.671409,
           -74.001328,
           40.6746957,
           -73.99785768
          ],
          [
           "Madison Ave & E 26 St",
           "E 31 St & 3 Ave",
           37930,
           40.742684734875695,
           -73.98671329021454,
           40.74394314,
           -73.97966069
          ],
          [
           "W 47 St & 10 Ave",
           "West St & Chambers St",
           37930,
           40.76269882,
           -73.99301222,
           40.71754834,
           -74.01322069
          ],
          [
           "Broadway & W 37 St",
           "Broadway & W 51 St",
           37930,
           40.75172632,
           -73.98753523,
           40.76228826,
           -73.98336183
          ],
          [
           "W 47 St & 10 Ave",
           "E 31 St & 3 Ave",
           37930,
           40.76269882,
           -73.99301222,
           40.74394314,
           -73.97966069
          ],
          [
           "Madison Ave & E 26 St",
           "W 35 St & Dyer Ave",
           37930,
           40.742684734875695,
           -73.98671329021454,
           40.754691750226016,
           -73.99740189313889
          ],
          [
           "Broadway & W 37 St",
           "E 31 St & 3 Ave",
           37930,
           40.75172632,
           -73.98753523,
           40.74394314,
           -73.97966069
          ],
          [
           "8 Ave & W 16 St",
           "10 Ave & W 28 St",
           37930,
           40.740983,
           -74.001702,
           40.75066386,
           -74.00176802
          ],
          [
           "8 Ave & W 16 St",
           "W 35 St & Dyer Ave",
           37930,
           40.740983,
           -74.001702,
           40.754691750226016,
           -73.99740189313889
          ],
          [
           "1 Ave & E 16 St",
           "West St & Chambers St",
           37930,
           40.73221853,
           -73.98165557,
           40.71754834,
           -74.01322069
          ],
          [
           "W 44 St & 11 Ave",
           "Broadway & W 51 St",
           37930,
           40.762009,
           -73.996975,
           40.76228826,
           -73.98336183
          ],
          [
           "Broadway & W 58 St",
           "Broadway & W 51 St",
           37930,
           40.76695317,
           -73.98169333,
           40.76228826,
           -73.98336183
          ],
          [
           "Broadway & W 58 St",
           "Broadway & W 51 St",
           37930,
           40.76695317,
           -73.98169333,
           40.76228826,
           -73.98336183
          ],
          [
           "W 52 St & 11 Ave",
           "W 35 St & Dyer Ave",
           37930,
           40.76727216,
           -73.99392888,
           40.754691750226016,
           -73.99740189313889
          ],
          [
           "Clinton Ave & Myrtle Ave",
           "Lawrence St & Willoughby St",
           37930,
           40.693261,
           -73.968896,
           40.69236178,
           -73.98631746
          ],
          [
           "8 Ave & W 33 St",
           "10 Ave & W 28 St",
           37930,
           40.751551,
           -73.993934,
           40.75066386,
           -74.00176802
          ],
          [
           "Centre St & Chambers St",
           "Reade St & Broadway",
           37930,
           40.71273266,
           -74.0046073,
           40.71450451,
           -74.00562789
          ],
          [
           "Sands St & Jay St",
           "Flushing Ave & Vanderbilt Ave",
           37930,
           40.700119,
           -73.9862,
           40.69795031569544,
           -73.97077560424805
          ],
          [
           "Bleecker St & Crosby St",
           "West St & Chambers St",
           37930,
           40.72615604980408,
           -73.99510189890862,
           40.71754834,
           -74.01322069
          ],
          [
           "W 110 St & Amsterdam Ave",
           "Frederick Douglass Blvd & W 115 St",
           37930,
           40.802692,
           -73.96295,
           40.8038654,
           -73.9559308
          ],
          [
           "Central Ave & Starr Street",
           "Irving Ave & Harman St",
           37930,
           40.700003,
           -73.92834,
           40.70108,
           -73.9179
          ],
          [
           "1 Ave & E 18 St",
           "E 40 St & Park Ave",
           37930,
           40.73381219196632,
           -73.98054420948029,
           40.750756,
           -73.978326
          ],
          [
           "1 Ave & E 18 St",
           "E 40 St & Park Ave",
           37930,
           40.73381219196632,
           -73.98054420948029,
           40.750756,
           -73.978326
          ],
          [
           "Broadway & E 21 St",
           "Greenwich Ave & Charles St",
           37930,
           40.73988840858996,
           -73.98958593606949,
           40.735238,
           -74.000271
          ],
          [
           "Bradhurst Ave & W 148 St",
           "Frederick Douglass Blvd & W 115 St",
           37930,
           40.825125,
           -73.941616,
           40.8038654,
           -73.9559308
          ],
          [
           "Barrow St & Hudson St",
           "Mercer St & Spring St",
           37930,
           40.73172428,
           -74.00674436,
           40.72362738,
           -73.99949601
          ],
          [
           "W Mosholu Pkwy S & Sedgwick Ave",
           "Jerome Ave & E Mosholu Parkway S",
           37930,
           40.88226,
           -73.88702,
           40.87935,
           -73.88534
          ],
          [
           "62 St & 4 Ave",
           "46 St & 7 Ave",
           37930,
           40.639859,
           -74.019776,
           40.644743,
           -74.003754
          ],
          [
           "Lexington Ave & E 36 St",
           "E 40 St & Park Ave",
           37930,
           40.7475739589548,
           -73.9788007736206,
           40.750756,
           -73.978326
          ],
          [
           "W 13 St & 5 Ave",
           "Mercer St & Spring St",
           37930,
           40.735445,
           -73.99431,
           40.72362738,
           -73.99949601
          ],
          [
           "Central Park North & Adam Clayton Powell Blvd",
           "Frederick Douglass Blvd & W 117 St",
           37930,
           40.799484,
           -73.955613,
           40.805159,
           -73.954692
          ],
          [
           "Central Park North & Adam Clayton Powell Blvd",
           "Frederick Douglass Blvd & W 117 St",
           37930,
           40.799484,
           -73.955613,
           40.805159,
           -73.954692
          ],
          [
           "Warren St & W Broadway",
           "Mercer St & Spring St",
           37930,
           40.71473993,
           -74.00910627,
           40.72362738,
           -73.99949601
          ],
          [
           "Albany St & Greenwich St",
           "Madison St & Clinton St",
           37930,
           40.709267,
           -74.013247,
           40.71269042,
           -73.98776323
          ],
          [
           "E 1 St & 1 Ave",
           "Greenwich Ave & Charles St",
           37930,
           40.72335597960796,
           -73.98864984512329,
           40.735238,
           -74.000271
          ],
          [
           "E 27 St & 1 Ave",
           "E 40 St & Park Ave",
           37930,
           40.739445,
           -73.976806,
           40.750756,
           -73.978326
          ],
          [
           "W 107 St & Columbus Ave",
           "Frederick Douglass Blvd & W 117 St",
           37930,
           40.7997568,
           -73.9621128676,
           40.805159,
           -73.954692
          ],
          [
           "Columbus Ave & W 95 St",
           "Frederick Douglass Blvd & W 115 St",
           37930,
           40.7919557,
           -73.968087,
           40.8038654,
           -73.9559308
          ],
          [
           "MacDougal St & Prince St",
           "E 40 St & Park Ave",
           37930,
           40.72710258,
           -74.00297088,
           40.750756,
           -73.978326
          ],
          [
           "W Broadway & W Houston St",
           "Pitt St & Stanton St",
           37930,
           40.726378,
           -74.000472,
           40.71926081,
           -73.98178024
          ],
          [
           "West St & Chambers St",
           "E 40 St & Park Ave",
           37930,
           40.71754834,
           -74.01322069,
           40.750756,
           -73.978326
          ],
          [
           "Morningside Ave & W 123 St",
           "Frederick Douglass Blvd & W 115 St",
           37930,
           40.81,
           -73.9551508,
           40.8038654,
           -73.9559308
          ],
          [
           "44 St & 3 Ave",
           "3 Ave & Wakeman Pl",
           37930,
           40.651173,
           -74.011405,
           40.638246,
           -74.024714
          ],
          [
           "9 Ave & W 22 St",
           "Riverside Dr & W 72 St",
           37930,
           40.7454973,
           -74.00197139,
           40.78057799010334,
           -73.98562431335449
          ],
          [
           "Morningside Ave & W 123 St",
           "Frederick Douglass Blvd & W 115 St",
           37930,
           40.81,
           -73.9551508,
           40.8038654,
           -73.9559308
          ],
          [
           "E 26 St & 3 Ave",
           "Greenwich Ave & Charles St",
           37930,
           40.74069317733043,
           -73.98160636425018,
           40.735238,
           -74.000271
          ],
          [
           "Market St & Henry St",
           "Greenwich Ave & Charles St",
           37930,
           40.71310702305908,
           -73.99446353316307,
           40.735238,
           -74.000271
          ],
          [
           "E 50 St & Park Ave",
           "E 40 St & Park Ave",
           37930,
           40.757334,
           -73.974235,
           40.750756,
           -73.978326
          ],
          [
           "Washington Square E",
           "Greenwich Ave & Charles St",
           37930,
           40.73049393,
           -73.9957214,
           40.735238,
           -74.000271
          ],
          [
           "Lafayette St & Jersey St",
           "E 40 St & Park Ave",
           37930,
           40.72456089,
           -73.99565293,
           40.750756,
           -73.978326
          ],
          [
           "Central Park W & W 103 St",
           "Frederick Douglass Blvd & W 115 St",
           37930,
           40.79558954105342,
           -73.96188408136368,
           40.8038654,
           -73.9559308
          ],
          [
           "Broadway & W 56 St",
           "E 40 St & Park Ave",
           37930,
           40.7652654,
           -73.98192338,
           40.750756,
           -73.978326
          ],
          [
           "Hudson Blvd E & W 36 St",
           "E 40 St & Park Ave",
           37930,
           40.75630628938069,
           -73.99951145061095,
           40.750756,
           -73.978326
          ],
          [
           "Suydam St & Broadway",
           "McKibbin St & Manhattan Ave",
           37930,
           40.69544,
           -73.93223,
           40.70510918,
           -73.94407279
          ],
          [
           "Washington Square E",
           "E 16 St & Irving Pl",
           37930,
           40.73049393,
           -73.9957214,
           40.735367055605394,
           -73.98797392845154
          ],
          [
           "S 3 St & Bedford Ave",
           "McKibbin St & Manhattan Ave",
           37930,
           40.71260486,
           -73.96264403,
           40.70510918,
           -73.94407279
          ],
          [
           "E 16 St & 5 Ave",
           "1 Ave & E 18 St",
           37930,
           40.73726186,
           -73.99238967,
           40.73381219196632,
           -73.98054420948029
          ],
          [
           "E 40 St & Park Ave",
           "1 Ave & E 18 St",
           37930,
           40.750756,
           -73.978326,
           40.73381219196632,
           -73.98054420948029
          ],
          [
           "Riverside Blvd & W 67 St",
           "12 Ave & W 40 St",
           37930,
           40.777507027547976,
           -73.98888587951659,
           40.76087502,
           -74.00277668
          ],
          [
           "Broadway & W 58 St",
           "Central Park West & W 72 St",
           37930,
           40.76695317,
           -73.98169333,
           40.77579376683666,
           -73.9762057363987
          ],
          [
           "Broadway & W 58 St",
           "E 84 St & Park Ave",
           37930,
           40.76695317,
           -73.98169333,
           40.77862688,
           -73.95772073
          ],
          [
           "Lexington Ave & Classon Ave",
           "Dean St & Franklin Ave",
           37930,
           40.68676793,
           -73.95928168,
           40.67759206937376,
           -73.955637216568
          ],
          [
           "Broadway & W 58 St",
           "12 Ave & W 40 St",
           37930,
           40.76695317,
           -73.98169333,
           40.76087502,
           -74.00277668
          ],
          [
           "Graham Ave & Grand St",
           "Metropolitan Ave & Bedford Ave",
           37930,
           40.711863,
           -73.944024,
           40.71534825,
           -73.96024116
          ],
          [
           "Broadway & E 21 St",
           "1 Ave & E 18 St",
           37930,
           40.73988840858996,
           -73.98958593606949,
           40.73381219196632,
           -73.98054420948029
          ],
          [
           "S 5 Pl & S 5 St",
           "Metropolitan Ave & Bedford Ave",
           37930,
           40.710451,
           -73.960876,
           40.71534825,
           -73.96024116
          ],
          [
           "West St & Chambers St",
           "12 Ave & W 40 St",
           37930,
           40.71754834,
           -74.01322069,
           40.76087502,
           -74.00277668
          ],
          [
           "Broadway & W 51 St",
           "E 84 St & Park Ave",
           37930,
           40.76228826,
           -73.98336183,
           40.77862688,
           -73.95772073
          ],
          [
           "E 17 St & Broadway",
           "1 Ave & E 18 St",
           37930,
           40.73704984,
           -73.99009296,
           40.73381219196632,
           -73.98054420948029
          ],
          [
           "Douglass St & 4 Ave",
           "Sterling Pl & 5 Ave",
           37930,
           40.6792788,
           -73.98154004,
           40.678970070475735,
           -73.97855266928671
          ],
          [
           "Grand Concourse & E 167 St",
           "E 167 St & Clay Ave",
           37930,
           40.834263,
           -73.917641,
           40.83094,
           -73.91125
          ],
          [
           "Macon St & Nostrand Ave",
           "Putnam Ave & Throop Ave",
           37930,
           40.6809833854,
           -73.9500479759,
           40.6851532,
           -73.94111
          ],
          [
           "Macon St & Nostrand Ave",
           "Putnam Ave & Throop Ave",
           37930,
           40.6809833854,
           -73.9500479759,
           40.6851532,
           -73.94111
          ],
          [
           "Macon St & Nostrand Ave",
           "Putnam Ave & Throop Ave",
           37930,
           40.6809833854,
           -73.9500479759,
           40.6851532,
           -73.94111
          ],
          [
           "Macon St & Nostrand Ave",
           "Putnam Ave & Throop Ave",
           37930,
           40.6809833854,
           -73.9500479759,
           40.6851532,
           -73.94111
          ],
          [
           "Prospect Park SW & 10 Ave",
           "Sterling Pl & 5 Ave",
           37930,
           40.659945,
           -73.977504,
           40.678970070475735,
           -73.97855266928671
          ],
          [
           "Broadway & W 58 St",
           "5 Ave & E 103 St",
           37930,
           40.76695317,
           -73.98169333,
           40.7922553,
           -73.95249933
          ],
          [
           "Queens Plaza North & Crescent St",
           "Vernon Blvd & 50 Ave",
           37930,
           40.75110165,
           -73.94073717,
           40.74232744,
           -73.95411749
          ],
          [
           "West St & Chambers St",
           "11 Ave & W 27 St",
           37930,
           40.71754834,
           -74.01322069,
           40.751396,
           -74.005226
          ],
          [
           "West St & Chambers St",
           "11 Ave & W 27 St",
           37930,
           40.71754834,
           -74.01322069,
           40.751396,
           -74.005226
          ],
          [
           "Center Blvd & 48 Ave",
           "Vernon Blvd & 50 Ave",
           37930,
           40.745038,
           -73.957539,
           40.74232744,
           -73.95411749
          ],
          [
           "Flushing Ave & Vanderbilt Ave",
           "Moffat St & Bushwick",
           37930,
           40.69795031569544,
           -73.97077560424805,
           40.68458,
           -73.90925
          ],
          [
           "Great Jones St",
           "11 Ave & W 27 St",
           37930,
           40.72743423,
           -73.99379025,
           40.751396,
           -74.005226
          ],
          [
           "Center Blvd & 48 Ave",
           "Vernon Blvd & 50 Ave",
           37930,
           40.745038,
           -73.957539,
           40.74232744,
           -73.95411749
          ],
          [
           "Andrew Ave N & Hall of Fame Tce",
           "E 167 St & Clay Ave",
           37930,
           40.85834,
           -73.91008,
           40.83094,
           -73.91125
          ],
          [
           "10 Ave & W 28 St",
           "11 Ave & W 27 St",
           37930,
           40.75066386,
           -74.00176802,
           40.751396,
           -74.005226
          ],
          [
           "W 110 St & Amsterdam Ave",
           "5 Ave & E 103 St",
           37930,
           40.802692,
           -73.96295,
           40.7922553,
           -73.95249933
          ],
          [
           "1 Ave & E 68 St",
           "E 55 St & 2 Ave",
           37930,
           40.76500525,
           -73.95818491,
           40.75797322,
           -73.96603308
          ],
          [
           "1 Ave & E 68 St",
           "E 55 St & 2 Ave",
           37930,
           40.76500525,
           -73.95818491,
           40.75797322,
           -73.96603308
          ],
          [
           "Milton St & Franklin St",
           "Vernon Blvd & 50 Ave",
           37930,
           40.72906,
           -73.95779,
           40.74232744,
           -73.95411749
          ],
          [
           "Central Park West & W 72 St",
           "5 Ave & E 103 St",
           37930,
           40.77579376683666,
           -73.9762057363987,
           40.7922553,
           -73.95249933
          ],
          [
           "Court St & State St",
           "Clark St & Henry St",
           37930,
           40.6902375,
           -73.99203074,
           40.69760127,
           -73.99344559
          ],
          [
           "Norfolk St & Broome St",
           "Rivington St & Ridge St",
           37930,
           40.7172274,
           -73.98802084,
           40.71850211,
           -73.98329859
          ],
          [
           "Centre St & Worth St",
           "Rivington St & Ridge St",
           37930,
           40.71494807,
           -74.00234482,
           40.71850211,
           -73.98329859
          ],
          [
           "S 3 St & Bedford Ave",
           "N 6 St & Bedford Ave",
           37930,
           40.71260486,
           -73.96264403,
           40.71745169,
           -73.95850939
          ],
          [
           "Congress St & Clinton St",
           "Clark St & Henry St",
           37930,
           40.68825516598005,
           -73.99545192718506,
           40.69760127,
           -73.99344559
          ],
          [
           "53 St & 4 Ave",
           "14 St & 5 Ave",
           37930,
           40.644862,
           -74.014531,
           40.666287,
           -73.98895053
          ],
          [
           "Madison St & Clinton St",
           "Rivington St & Ridge St",
           37930,
           40.71269042,
           -73.98776323,
           40.71850211,
           -73.98329859
          ],
          [
           "Riverside Blvd & W 67 St",
           "W 46 St & 11 Ave",
           37930,
           40.777507027547976,
           -73.98888587951659,
           40.76341379,
           -73.99667444
          ],
          [
           "1 Ave & E 68 St",
           "Calyer St & Jewel St",
           37930,
           40.76500525,
           -73.95818491,
           40.72984,
           -73.94839
          ],
          [
           "Kingston Ave & Herkimer St",
           "Central Ave & Woodbine St",
           37930,
           40.67890679,
           -73.94142771,
           40.69296,
           -73.91605
          ],
          [
           "W 47 St & 10 Ave",
           "W 46 St & 11 Ave",
           37930,
           40.76269882,
           -73.99301222,
           40.76341379,
           -73.99667444
          ],
          [
           "10 St & 5 Ave",
           "Clinton St & Tillary St",
           37930,
           40.6686273,
           -73.98700053,
           40.69623297129316,
           -73.99142056703568
          ],
          [
           "E 77 St & 3 Ave",
           "5 Ave & E 93 St",
           37930,
           40.77314236,
           -73.95856158,
           40.7857851,
           -73.957481
          ],
          [
           "W 44 St & 11 Ave",
           "Huron St & Franklin St",
           37930,
           40.762009,
           -73.996975,
           40.73266,
           -73.95826
          ],
          [
           "10 St & 5 Ave",
           "Kent Ave & S 11 St",
           37930,
           40.6686273,
           -73.98700053,
           40.707644944175705,
           -73.96841526031494
          ],
          [
           "W 44 St & 11 Ave",
           "W 46 St & 11 Ave",
           37930,
           40.762009,
           -73.996975,
           40.76341379,
           -73.99667444
          ],
          [
           "11 Ave & W 59 St",
           "W 46 St & 11 Ave",
           37930,
           40.77149671054441,
           -73.99046033620834,
           40.76341379,
           -73.99667444
          ],
          [
           "8 Ave & W 16 St",
           "W 25 St & 6 Ave",
           37930,
           40.740983,
           -74.001702,
           40.74395411,
           -73.99144871
          ],
          [
           "Soissons Landing",
           "Yankee Ferry Terminal",
           37930,
           40.69231660719192,
           -74.01486575603485,
           40.68706579875912,
           -74.01675585121666
          ],
          [
           "Soissons Landing",
           "Yankee Ferry Terminal",
           37930,
           40.69231660719192,
           -74.01486575603485,
           40.68706579875912,
           -74.01675585121666
          ],
          [
           "Broadway\\t& W 48 St",
           "W 46 St & 11 Ave",
           37930,
           40.76017739537783,
           -73.98486793041229,
           40.76341379,
           -73.99667444
          ],
          [
           "DeKalb Ave & Hudson Ave",
           "Kent Ave & S 11 St",
           37930,
           40.689888,
           -73.981013,
           40.707644944175705,
           -73.96841526031494
          ],
          [
           "Centre St & Worth St",
           "Warren St & W Broadway",
           37930,
           40.71494807,
           -74.00234482,
           40.71473993,
           -74.00910627
          ],
          [
           "Centre St & Worth St",
           "Warren St & W Broadway",
           37930,
           40.71494807,
           -74.00234482,
           40.71473993,
           -74.00910627
          ],
          [
           "Warren St & Smith St",
           "Warren St & Court St",
           37930,
           40.68542400997018,
           -73.99127773940563,
           40.686371,
           -73.99383324
          ],
          [
           "Water St & Gouverneur Ln",
           "Pike St & E Broadway",
           37930,
           40.70469667894968,
           -74.00803416967392,
           40.71406667,
           -73.99293911
          ],
          [
           "Broadway & W 41 St",
           "Lexington Ave & E 36 St",
           37930,
           40.75513557,
           -73.98658032,
           40.7475739589548,
           -73.9788007736206
          ],
          [
           "E 40 St & Park Ave",
           "Lexington Ave & E 36 St",
           37930,
           40.750756,
           -73.978326,
           40.7475739589548,
           -73.9788007736206
          ],
          [
           "Vesey Pl & River Terrace",
           "6 Ave & Canal St",
           37930,
           40.7153379,
           -74.01658354,
           40.72243797,
           -74.00566443
          ],
          [
           "Vesey Pl & River Terrace",
           "Warren St & W Broadway",
           37930,
           40.7153379,
           -74.01658354,
           40.71473993,
           -74.00910627
          ],
          [
           "Bond St & Bergen St",
           "4 Ave & 9 St",
           37930,
           40.6849668,
           -73.98620772,
           40.6705135,
           -73.98876585
          ],
          [
           "Bond St & Bergen St",
           "Warren St & Court St",
           37930,
           40.6849668,
           -73.98620772,
           40.686371,
           -73.99383324
          ],
          [
           "Broadway & W 56 St",
           "Lexington Ave & E 36 St",
           37930,
           40.7652654,
           -73.98192338,
           40.7475739589548,
           -73.9788007736206
          ],
          [
           "E 13 St & Avenue A",
           "W 13 St & 5 Ave",
           37930,
           40.72966729392978,
           -73.98067966103554,
           40.735445,
           -73.99431
          ],
          [
           "E 13 St & Avenue A",
           "W 13 St & 5 Ave",
           37930,
           40.72966729392978,
           -73.98067966103554,
           40.735445,
           -73.99431
          ],
          [
           "E 13 St & Avenue A",
           "W 13 St & 5 Ave",
           37930,
           40.72966729392978,
           -73.98067966103554,
           40.735445,
           -73.99431
          ],
          [
           "Degraw St & Hoyt St",
           "Henry St & Atlantic Ave",
           37930,
           40.68199044270703,
           -73.99079024791718,
           40.69089272,
           -73.99612349
          ],
          [
           "Central Park S & 6 Ave",
           "Central Park North & Adam Clayton Powell Blvd",
           37930,
           40.76590936,
           -73.97634151,
           40.799484,
           -73.955613
          ],
          [
           "Central Park S & 6 Ave",
           "Central Park North & Adam Clayton Powell Blvd",
           37930,
           40.76590936,
           -73.97634151,
           40.799484,
           -73.955613
          ],
          [
           "Leonard St & Church St",
           "Warren St & W Broadway",
           37930,
           40.717571,
           -74.005549,
           40.71473993,
           -74.00910627
          ],
          [
           "1 Ave & E 16 St",
           "6 Ave & Canal St",
           37930,
           40.73221853,
           -73.98165557,
           40.72243797,
           -74.00566443
          ],
          [
           "University Pl & E 14 St",
           "W 13 St & 5 Ave",
           37930,
           40.734814,
           -73.992085,
           40.735445,
           -73.99431
          ],
          [
           "Howard St & Lafayette St",
           "E 2 St & 2 Ave",
           37930,
           40.71910537,
           -73.99973337,
           40.72502876,
           -73.99069656
          ],
          [
           "E 2 St & Avenue B",
           "6 Ave & Canal St",
           37930,
           40.72217444,
           -73.98368779,
           40.72243797,
           -74.00566443
          ],
          [
           "Great Jones St",
           "6 Ave & Canal St",
           37930,
           40.72743423,
           -73.99379025,
           40.72243797,
           -74.00566443
          ],
          [
           "Willoughby Ave & Walworth St",
           "Willoughby Ave & Hall St",
           37930,
           40.69331716,
           -73.95381995,
           40.69196035,
           -73.96536851
          ],
          [
           "Smith St & 9 St",
           "Warren St & Court St",
           37930,
           40.6746957,
           -73.99785768,
           40.686371,
           -73.99383324
          ],
          [
           "William St & Pine St",
           "Willoughby Ave & Hall St",
           37930,
           40.70717936,
           -74.00887308,
           40.69196035,
           -73.96536851
          ],
          [
           "Amsterdam Ave & W 183 St",
           "Audubon Ave & Fort George Ave",
           37930,
           40.84925,
           -73.93022,
           40.85715781391904,
           -73.92717361450195
          ],
          [
           "Fulton St & Adams St",
           "Front St & Jay St",
           37930,
           40.69241829257847,
           -73.98949474096298,
           40.702461,
           -73.986842
          ],
          [
           "E 58 St & 1 Ave (NE Corner)",
           "E 88 St & 1 Ave",
           37930,
           40.75892386377695,
           -73.96226227283478,
           40.778301,
           -73.9488134
          ],
          [
           "Wythe Ave & Metropolitan Ave",
           "Broadway & Berry St",
           37930,
           40.716887,
           -73.963198,
           40.71044554,
           -73.96525063
          ],
          [
           "Centre St & Chambers St",
           "Front St & Jay St",
           37930,
           40.71273266,
           -74.0046073,
           40.702461,
           -73.986842
          ],
          [
           "Cadman Plaza E & Tillary St",
           "Front St & Jay St",
           37930,
           40.69597683,
           -73.99014892,
           40.702461,
           -73.986842
          ],
          [
           "Cadman Plaza E & Tillary St",
           "Front St & Jay St",
           37930,
           40.695977,
           -73.990149,
           40.702461,
           -73.986842
          ],
          [
           "Morgan Ave & Lombardy St",
           "Hart St & Wyckoff Ave",
           37930,
           40.72226,
           -73.93889,
           40.704876,
           -73.919911
          ],
          [
           "Irving Ave & Palmetto St",
           "Hart St & Wyckoff Ave",
           37930,
           40.698,
           -73.9127,
           40.704876,
           -73.919911
          ],
          [
           "Cadman Plaza E & Tillary St",
           "Dean St & Hoyt St",
           37930,
           40.69597683,
           -73.99014892,
           40.6864442,
           -73.98759104
          ],
          [
           "Sands St & Jay St",
           "Mercer St & Bleecker St",
           37930,
           40.700119,
           -73.9862,
           40.72706363348306,
           -73.99662137031554
          ],
          [
           "Lafayette St & E 8 St",
           "Mercer St & Bleecker St",
           37930,
           40.73020660529954,
           -73.99102628231049,
           40.72706363348306,
           -73.99662137031554
          ],
          [
           "Lafayette St & E 8 St",
           "Greenwich St & Hubert St",
           37930,
           40.73020660529954,
           -73.99102628231049,
           40.721319,
           -74.010065
          ],
          [
           "5 Ave & 3 St",
           "Fulton St & Clermont Ave",
           37930,
           40.6728155,
           -73.98352355,
           40.68415748,
           -73.96922273
          ],
          [
           "Broadway & E 21 St",
           "Mercer St & Bleecker St",
           37930,
           40.73988840858996,
           -73.98958593606949,
           40.72706363348306,
           -73.99662137031554
          ],
          [
           "Morgan Ave & Lombardy St",
           "Stewart Ave & Johnson Ave",
           37930,
           40.72226,
           -73.93889,
           40.70869,
           -73.92587
          ],
          [
           "Grand Ave & Bergen St",
           "Dean St & Hoyt St",
           37930,
           40.678045,
           -73.962408,
           40.6864442,
           -73.98759104
          ],
          [
           "Berry St & N 8 St",
           "Grand St & Havemeyer St",
           37930,
           40.7190095,
           -73.95852515,
           40.71286844,
           -73.95698119
          ],
          [
           "Court St & State St",
           "Dean St & Hoyt St",
           37930,
           40.6902375,
           -73.99203074,
           40.6864442,
           -73.98759104
          ],
          [
           "DeKalb Ave & Vanderbilt Ave",
           "Grand St & Havemeyer St",
           37930,
           40.68940747,
           -73.96885458,
           40.71286844,
           -73.95698119
          ],
          [
           "Lexington Ave & E 26 St",
           "Mercer St & Bleecker St",
           37930,
           40.741459,
           -73.983293,
           40.72706363348306,
           -73.99662137031554
          ],
          [
           "Albany St & Greenwich St",
           "Greenwich St & Hubert St",
           37930,
           40.709267,
           -74.013247,
           40.721319,
           -74.010065
          ],
          [
           "Metropolitan Ave & Meeker Ave",
           "Grand St & Havemeyer St",
           37930,
           40.71413311,
           -73.95234386,
           40.71286844,
           -73.95698119
          ],
          [
           "MacDougal St & Prince St",
           "Grand St & Havemeyer St",
           37930,
           40.72710258,
           -74.00297088,
           40.71286844,
           -73.95698119
          ],
          [
           "Classon Ave & St Marks Ave",
           "Union St & 4 Ave",
           37930,
           40.6765198,
           -73.9596082,
           40.6772744,
           -73.98282002
          ],
          [
           "3 St & 3 Ave",
           "Union St & 4 Ave",
           37930,
           40.6750705,
           -73.98775226,
           40.6772744,
           -73.98282002
          ],
          [
           "West St & Chambers St",
           "Mercer St & Bleecker St",
           37930,
           40.71754834,
           -74.01322069,
           40.72706363348306,
           -73.99662137031554
          ],
          [
           "Westchester Ave & E 156 St",
           "Southern Blvd & Avenue St. John",
           37930,
           40.817802,
           -73.905203,
           40.812769,
           -73.901583
          ],
          [
           "E 33 St & 5 Ave",
           "Greenwich St & Hubert St",
           37930,
           40.74765947,
           -73.98490707,
           40.721319,
           -74.010065
          ],
          [
           "9 Ave & W 22 St",
           "Greenwich St & Hubert St",
           37930,
           40.7454973,
           -74.00197139,
           40.721319,
           -74.010065
          ],
          [
           "Stanton St & Norfolk St",
           "Division St & Bowery",
           37930,
           40.720747,
           -73.986274,
           40.714193,
           -73.996732
          ],
          [
           "S 3 St & Bedford Ave",
           "Grand St & Havemeyer St",
           37930,
           40.71260486,
           -73.96264403,
           40.71286844,
           -73.95698119
          ],
          [
           "S 3 St & Bedford Ave",
           "Grand St & Havemeyer St",
           37930,
           40.71260486,
           -73.96264403,
           40.71286844,
           -73.95698119
          ],
          [
           "E 9 St & Avenue C",
           "Mercer St & Bleecker St",
           37930,
           40.72521311,
           -73.97768752,
           40.72706363348306,
           -73.99662137031554
          ],
          [
           "Broadway & W 29 St",
           "Mercer St & Bleecker St",
           37930,
           40.7462009,
           -73.98855723,
           40.72706363348306,
           -73.99662137031554
          ],
          [
           "Lafayette Ave & Ft Greene Pl",
           "Fulton St & Clermont Ave",
           37930,
           40.68700231292619,
           -73.97664964199066,
           40.68415748,
           -73.96922273
          ],
          [
           "1 Ave & E 68 St",
           "2 Ave & E 29 St",
           37930,
           40.76500525,
           -73.95818491,
           40.74172351097472,
           -73.97809267044067
          ],
          [
           "12 Ave & W 40 St",
           "Broadway & W 25 St",
           37930,
           40.76087502,
           -74.00277668,
           40.74286877312112,
           -73.98918628692627
          ],
          [
           "St Ann's Ave & Westchester Ave",
           "St. Ann's Ave & E 144 St",
           37930,
           40.815887,
           -73.911918,
           40.811112,
           -73.914932
          ],
          [
           "1 Ave & E 18 St",
           "LaGuardia Pl & W 3 St",
           37930,
           40.73381219196632,
           -73.98054420948029,
           40.72917025,
           -73.99810231
          ],
          [
           "31 St & Newtown Ave",
           "40 Ave & Crescent St",
           37930,
           40.7675487799971,
           -73.9209334552288,
           40.7535992020056,
           -73.93795609474182
          ],
          [
           "1 Ave & E 18 St",
           "W 27 St & 7 Ave",
           37930,
           40.73381219196632,
           -73.98054420948029,
           40.746647,
           -73.993915
          ],
          [
           "McKibbin St & Manhattan Ave",
           "67 St & Ridge Blvd",
           37930,
           40.70510918,
           -73.94407279,
           40.638799,
           -74.027472
          ],
          [
           "Riverside Blvd & W 67 St",
           "10 Ave & W 14 St",
           37930,
           40.777507027547976,
           -73.98888587951659,
           40.74198159994023,
           -74.00831580162048
          ],
          [
           "W 47 St & 10 Ave",
           "Broadway & W 38 St",
           37930,
           40.76269882,
           -73.99301222,
           40.7529728216068,
           -73.98734897375107
          ],
          [
           "Riverside Blvd & W 67 St",
           "W 27 St & 7 Ave",
           37930,
           40.777507027547976,
           -73.98888587951659,
           40.746647,
           -73.993915
          ],
          [
           "W 47 St & 10 Ave",
           "Broadway & W 38 St",
           37930,
           40.76269882,
           -73.99301222,
           40.7529728216068,
           -73.98734897375107
          ],
          [
           "E 26 St & 3 Ave",
           "Broadway & W 38 St",
           37930,
           40.74069317733043,
           -73.98160636425018,
           40.7529728216068,
           -73.98734897375107
          ],
          [
           "E 20 St & FDR Dr",
           "Broadway & W 38 St",
           37930,
           40.733208626522426,
           -73.9756813647,
           40.7529728216068,
           -73.98734897375107
          ],
          [
           "E 39 St & Lexington Ave",
           "Bus Slip & State St",
           37930,
           40.7494985460252,
           -73.97729203113158,
           40.701907,
           -74.013942
          ],
          [
           "E 20 St & FDR Dr",
           "W 27 St & 7 Ave",
           37930,
           40.733208626522426,
           -73.9756813647,
           40.746647,
           -73.993915
          ],
          [
           "W 39 St & 9 Ave",
           "Broadway & W 25 St",
           37930,
           40.75645824,
           -73.99372222,
           40.74286877312112,
           -73.98918628692627
          ],
          [
           "Market St & Henry St",
           "Clinton St & Grand St",
           37930,
           40.71310702305908,
           -73.99446353316307,
           40.71559509,
           -73.9870295
          ],
          [
           "6 Ave & W 45 St",
           "Broadway & W 38 St",
           37930,
           40.756951,
           -73.982631,
           40.7529728216068,
           -73.98734897375107
          ],
          [
           "Riverside Dr & W 82 St",
           "10 Ave & W 14 St",
           37930,
           40.78720869,
           -73.98128127,
           40.74198159994023,
           -74.00831580162048
          ],
          [
           "Central Park West & W 76 St",
           "Broadway & W 38 St",
           37930,
           40.77896784,
           -73.97374737,
           40.7529728216068,
           -73.98734897375107
          ],
          [
           "Murray St & Greenwich St",
           "10 Ave & W 14 St",
           37930,
           40.71485150526252,
           -74.01122331619263,
           40.74198159994023,
           -74.00831580162048
          ],
          [
           "34 St & 38 Ave",
           "42 Pl & Northern Blvd",
           37930,
           40.752443,
           -73.929737,
           40.753091,
           -73.920603
          ],
          [
           "E 44 St & 2 Ave",
           "Broadway & W 38 St",
           37930,
           40.75118387463277,
           -73.97138714790344,
           40.7529728216068,
           -73.98734897375107
          ],
          [
           "W 43 St & 10 Ave",
           "W 16 St & The High Line",
           37930,
           40.76009437,
           -73.99461843,
           40.74334935,
           -74.00681753
          ],
          [
           "W 26 St & 10 Ave",
           "W 27 St & 7 Ave",
           37930,
           40.749717753,
           -74.002950346,
           40.746647,
           -73.993915
          ],
          [
           "Murray St & Greenwich St",
           "Clinton St & Grand St",
           37930,
           40.71485150526252,
           -74.01122331619263,
           40.71559509,
           -73.9870295
          ],
          [
           "Atlantic Ave & Fort Greene Pl",
           "Douglass St & 4 Ave",
           37930,
           40.68382604,
           -73.97632328,
           40.6792788,
           -73.98154004
          ],
          [
           "8 Ave & W 31 St",
           "W 16 St & The High Line",
           37930,
           40.7505853470215,
           -73.9946848154068,
           40.74334935,
           -74.00681753
          ],
          [
           "8 Ave & W 31 St",
           "W 16 St & The High Line",
           37930,
           40.7505853470215,
           -73.9946848154068,
           40.74334935,
           -74.00681753
          ],
          [
           "8 Ave & W 31 St",
           "Broadway & W 25 St",
           37930,
           40.7505853470215,
           -73.9946848154068,
           40.74286877312112,
           -73.98918628692627
          ],
          [
           "Hunts Point Ave & Bryant Ave",
           "3 Ave & E 169 St",
           37930,
           40.813991,
           -73.8855,
           40.832678,
           -73.905158
          ],
          [
           "E 41 St & Madison Ave (SW corner)",
           "Broadway & W 25 St",
           37930,
           40.752165280621966,
           -73.97992193698882,
           40.74286877312112,
           -73.98918628692627
          ],
          [
           "Broadway & W 41 St",
           "Broadway & W 38 St",
           37930,
           40.75513557,
           -73.98658032,
           40.7529728216068,
           -73.98734897375107
          ],
          [
           "Rivington St & Chrystie St",
           "LaGuardia Pl & W 3 St",
           37930,
           40.72110063,
           -73.9919254,
           40.72917025,
           -73.99810231
          ],
          [
           "8 Ave & W 16 St",
           "W 16 St & The High Line",
           37930,
           40.740983,
           -74.001702,
           40.74334935,
           -74.00681753
          ],
          [
           "8 Ave & W 16 St",
           "W 27 St & 7 Ave",
           37930,
           40.740983,
           -74.001702,
           40.746647,
           -73.993915
          ],
          [
           "Warren St & W Broadway",
           "10 Ave & W 14 St",
           37930,
           40.71473993,
           -74.00910627,
           40.74198159994023,
           -74.00831580162048
          ],
          [
           "E Houston St & Columbia St",
           "W 27 St & 7 Ave",
           37930,
           40.71978635452822,
           -73.97871628403664,
           40.746647,
           -73.993915
          ],
          [
           "Central Park North & Adam Clayton Powell Blvd",
           "W 129 St & Convent Ave",
           37930,
           40.799484,
           -73.955613,
           40.814394437915816,
           -73.95324736833572
          ],
          [
           "Pike St & E Broadway",
           "Clinton St & Grand St",
           37930,
           40.71406667,
           -73.99293911,
           40.71559509,
           -73.9870295
          ],
          [
           "Lexington Ave & E 36 St",
           "Broadway & W 38 St",
           37930,
           40.7475739589548,
           -73.9788007736206,
           40.7529728216068,
           -73.98734897375107
          ],
          [
           "Warren St & W Broadway",
           "LaGuardia Pl & W 3 St",
           37930,
           40.71473993,
           -74.00910627,
           40.72917025,
           -73.99810231
          ],
          [
           "6 Ave & Canal St",
           "W 27 St & 7 Ave",
           37930,
           40.72243797,
           -74.00566443,
           40.746647,
           -73.993915
          ],
          [
           "Warren St & W Broadway",
           "LaGuardia Pl & W 3 St",
           37930,
           40.71473993,
           -74.00910627,
           40.72917025,
           -73.99810231
          ],
          [
           "Albany St & Greenwich St",
           "Bus Slip & State St",
           37930,
           40.709267,
           -74.013247,
           40.701907,
           -74.013942
          ],
          [
           "Washington St & Gansevoort St",
           "W 16 St & The High Line",
           37930,
           40.739323,
           -74.008119,
           40.74334935,
           -74.00681753
          ],
          [
           "W 59 St & 10 Ave",
           "8 Ave & W 33 St",
           37930,
           40.770513,
           -73.988038,
           40.751551,
           -73.993934
          ],
          [
           "44 Dr & Jackson Ave",
           "9 St & 44 Rd",
           37930,
           40.74718234,
           -73.9432635,
           40.74966,
           -73.9521
          ],
          [
           "E 7 St & Avenue A",
           "Thompson St & Bleecker St",
           37930,
           40.72621788,
           -73.98379855,
           40.72840059450829,
           -73.99968780577183
          ],
          [
           "E 7 St & Avenue A",
           "8 Ave & W 33 St",
           37930,
           40.72621788,
           -73.98379855,
           40.751551,
           -73.993934
          ],
          [
           "8 Ave & W 31 St",
           "Thompson St & Bleecker St",
           37930,
           40.7505853470215,
           -73.9946848154068,
           40.72840059450829,
           -73.99968780577183
          ],
          [
           "E 39 St & Lexington Ave",
           "8 Ave & W 33 St",
           37930,
           40.7494985460252,
           -73.97729203113158,
           40.751551,
           -73.993934
          ],
          [
           "W 39 St & 9 Ave",
           "8 Ave & W 33 St",
           37930,
           40.75645824,
           -73.99372222,
           40.751551,
           -73.993934
          ],
          [
           "Riverside Dr & W 82 St",
           "W 82 St & Central Park West",
           37930,
           40.78720869,
           -73.98128127,
           40.78275,
           -73.97137
          ],
          [
           "E Houston St & Columbia St",
           "8 Ave & W 33 St",
           37930,
           40.71978635452822,
           -73.97871628403664,
           40.751551,
           -73.993934
          ],
          [
           "Amsterdam Ave & W 180 St",
           "Broadway & W 165 St",
           37930,
           40.847396,
           -73.931205,
           40.839137,
           -73.941409
          ],
          [
           "Broadway & E 21 St",
           "8 Ave & W 33 St",
           37930,
           40.73988840858996,
           -73.98958593606949,
           40.751551,
           -73.993934
          ],
          [
           "11 Ave & W 59 St",
           "Thompson St & Bleecker St",
           37930,
           40.77149671054441,
           -73.99046033620834,
           40.72840059450829,
           -73.99968780577183
          ],
          [
           "W 147 St & Adam Clayton Powell Blvd",
           "Amsterdam Ave & W 167 St",
           37930,
           40.82281,
           -73.937413,
           40.839443,
           -73.937044
          ],
          [
           "31 St & Thomson Ave",
           "Queens Plaza North & Crescent St",
           37930,
           40.74469738,
           -73.93540375,
           40.75110165,
           -73.94073717
          ],
          [
           "W 35 St & Dyer Ave",
           "8 Ave & W 33 St",
           37930,
           40.754691750226016,
           -73.99740189313889,
           40.751551,
           -73.993934
          ],
          [
           "Crescent St & 35 Ave",
           "Queens Plaza North & Crescent St",
           37930,
           40.7596276,
           -73.9321455,
           40.75110165,
           -73.94073717
          ],
          [
           "10 Ave & W 28 St",
           "8 Ave & W 33 St",
           37930,
           40.75066386,
           -74.00176802,
           40.751551,
           -73.993934
          ],
          [
           "10 Ave & W 28 St",
           "8 Ave & W 33 St",
           37930,
           40.75066386,
           -74.00176802,
           40.751551,
           -73.993934
          ],
          [
           "Broadway & W 51 St",
           "8 Ave & W 33 St",
           37930,
           40.76228826,
           -73.98336183,
           40.751551,
           -73.993934
          ],
          [
           "Devoe St & Morgan Ave",
           "Queens Plaza North & Crescent St",
           37930,
           40.713811,
           -73.93515,
           40.75110165,
           -73.94073717
          ],
          [
           "E 22 St & 2 Ave",
           "8 Ave & W 33 St",
           37930,
           40.73716919369882,
           -73.98122549057007,
           40.751551,
           -73.993934
          ],
          [
           "2 Ave & E 122 St",
           "E 128 St & Madison Ave",
           37930,
           40.8006721,
           -73.9349,
           40.80756,
           -73.939182
          ],
          [
           "1 Ave & E 68 St",
           "Queens Plaza North & Crescent St",
           37930,
           40.76500525,
           -73.95818491,
           40.75110165,
           -73.94073717
          ],
          [
           "Central Park West & W 68 St",
           "W 82 St & Central Park West",
           37930,
           40.7734066,
           -73.97782542,
           40.78275,
           -73.97137
          ],
          [
           "Lenox Ave & W 130 St",
           "St Mary's St & Jackson Ave",
           37930,
           40.8107922,
           -73.9430681,
           40.808891,
           -73.91081
          ],
          [
           "W 36 St & 9 Ave",
           "8 Ave & W 33 St",
           37930,
           40.75462324029105,
           -73.99516761302948,
           40.751551,
           -73.993934
          ],
          [
           "8 Ave & W 33 St",
           "W 34 St &\\tHudson Blvd E",
           37930,
           40.751551,
           -73.993934,
           40.75516719072139,
           -74.00059908628464
          ],
          [
           "Queens Plaza North & Crescent St",
           "24 Ave & 29 St",
           37930,
           40.75110165,
           -73.94073717,
           40.7729,
           -73.916142
          ],
          [
           "Reade St & Broadway",
           "Allen St & Hester St",
           37930,
           40.71450451,
           -74.00562789,
           40.71605866,
           -73.99190759
          ],
          [
           "Great Jones St",
           "Allen St & Hester St",
           37930,
           40.72743423,
           -73.99379025,
           40.71605866,
           -73.99190759
          ],
          [
           "W 35 St & Dyer Ave",
           "W 30 St & 8 Ave",
           37930,
           40.754691750226016,
           -73.99740189313889,
           40.74965268472847,
           -73.9952078461647
          ],
          [
           "E 31 St & 3 Ave",
           "E 23 St & 1 Ave",
           37930,
           40.74394314,
           -73.97966069,
           40.736502,
           -73.97809472
          ],
          [
           "8 Ave & W 16 St",
           "E 23 St & 1 Ave",
           37930,
           40.740983,
           -74.001702,
           40.736502,
           -73.97809472
          ],
          [
           "1 Ave & E 16 St",
           "E 23 St & 1 Ave",
           37930,
           40.73221853,
           -73.98165557,
           40.736502,
           -73.97809472
          ],
          [
           "31 St & Thomson Ave",
           "Washington Ave & Park Ave",
           37930,
           40.74469738,
           -73.93540375,
           40.69610226,
           -73.96751037
          ],
          [
           "Broadway & E 21 St",
           "E 23 St & 1 Ave",
           37930,
           40.73988840858996,
           -73.98958593606949,
           40.736502,
           -73.97809472
          ],
          [
           "Leonard St & Church St",
           "Allen St & Hester St",
           37930,
           40.717571,
           -74.005549,
           40.71605866,
           -73.99190759
          ],
          [
           "Metropolitan Ave & Bedford Ave",
           "Washington Ave & Park Ave",
           37930,
           40.71534825,
           -73.96024116,
           40.69610226,
           -73.96751037
          ],
          [
           "31 St & Newtown Ave",
           "30 Ave & 21 St",
           37930,
           40.7675487799971,
           -73.9209334552288,
           40.7703743,
           -73.9286078
          ],
          [
           "Dean St & Franklin Ave",
           "Carlton Ave & Park Ave",
           37930,
           40.67759206937376,
           -73.955637216568,
           40.69580705,
           -73.97355569
          ],
          [
           "Madison Ave & E 26 St",
           "W 30 St & 8 Ave",
           37930,
           40.742684734875695,
           -73.98671329021454,
           40.74965268472847,
           -73.9952078461647
          ],
          [
           "W 47 St & 10 Ave",
           "W 87 St & Amsterdam Ave",
           37930,
           40.76269882,
           -73.99301222,
           40.78839,
           -73.9747
          ],
          [
           "Berry St & N 8 St",
           "Allen St & Hester St",
           37930,
           40.7190095,
           -73.95852515,
           40.71605866,
           -73.99190759
          ],
          [
           "1 Ave & E 6 St",
           "Allen St & Hester St",
           37930,
           40.72633085971696,
           -73.98616880178452,
           40.71605866,
           -73.99190759
          ],
          [
           "E 81 St & 2 Ave",
           "Park Ave & E 124 St",
           37930,
           40.77477944895728,
           -73.95427465438843,
           40.8045555,
           -73.9396861
          ],
          [
           "Lafayette St & E 8 St",
           "Allen St & Hester St",
           37930,
           40.73020660529954,
           -73.99102628231049,
           40.71605866,
           -73.99190759
          ],
          [
           "6 Ave & W 45 St",
           "E 23 St & 1 Ave",
           37930,
           40.756951,
           -73.982631,
           40.736502,
           -73.97809472
          ],
          [
           "E 22 St & 2 Ave",
           "E 23 St & 1 Ave",
           37930,
           40.73716919369882,
           -73.98122549057007,
           40.736502,
           -73.97809472
          ],
          [
           "W 39 St & 9 Ave",
           "W 34 St &\\tHudson Blvd E",
           37930,
           40.75645824,
           -73.99372222,
           40.75516719072139,
           -74.00059908628464
          ],
          [
           "W 39 St & 9 Ave",
           "W 34 St &\\tHudson Blvd E",
           37930,
           40.75645824,
           -73.99372222,
           40.75516719072139,
           -74.00059908628464
          ],
          [
           "Christopher St & Greenwich St",
           "E 9 St & 5 Ave",
           37930,
           40.73291553,
           -74.00711384,
           40.73275887045087,
           -73.99581670761108
          ],
          [
           "Madison Ave & E 120 St",
           "Amsterdam Ave & W 152 St",
           37930,
           40.80295,
           -73.942954,
           40.829523,
           -73.944279
          ],
          [
           "Adam Clayton Powell Blvd & W 151 St",
           "E 97 St & 3 Ave",
           37930,
           40.825289,
           -73.936232,
           40.7859201,
           -73.94860294
          ],
          [
           "2 Ave & E 31 St",
           "E 23 St & 1 Ave",
           37930,
           40.74290902,
           -73.97706058,
           40.736502,
           -73.97809472
          ],
          [
           "Central Park North & Adam Clayton Powell Blvd",
           "E 118 St & Madison Ave",
           37930,
           40.799484,
           -73.955613,
           40.8014866,
           -73.9442507
          ],
          [
           "Central Park North & Adam Clayton Powell Blvd",
           "Broadway & W 131 St",
           37930,
           40.799484,
           -73.955613,
           40.817555,
           -73.957163
          ],
          [
           "4 Ave & 9 St",
           "Columbia St & Lorraine St",
           37930,
           40.6705135,
           -73.98876585,
           40.6747055,
           -74.0075572
          ],
          [
           "St Marks Pl & 1 Ave",
           "E 9 St & 5 Ave",
           37930,
           40.72779126,
           -73.98564945,
           40.73275887045087,
           -73.99581670761108
          ],
          [
           "St Marks Pl & 1 Ave",
           "E 9 St & 5 Ave",
           37930,
           40.72779126,
           -73.98564945,
           40.73275887045087,
           -73.99581670761108
          ],
          [
           "Vernon Blvd & 10 St",
           "36 Ave & 10 St",
           37930,
           40.7671863,
           -73.9373554,
           40.7614376,
           -73.9411265
          ],
          [
           "1 Ave & E 68 St",
           "E 84 St & 1 Ave",
           37930,
           40.76500525,
           -73.95818491,
           40.77565541,
           -73.95068615
          ],
          [
           "1 Ave & E 68 St",
           "E 84 St & 1 Ave",
           37930,
           40.76500525,
           -73.95818491,
           40.77565541,
           -73.95068615
          ],
          [
           "1 Ave & E 68 St",
           "45 Ave & 21 St",
           37930,
           40.76500525,
           -73.95818491,
           40.74737075646803,
           -73.94777297973631
          ],
          [
           "E 16 St & 5 Ave",
           "Suffolk St & Stanton St",
           37930,
           40.73726186,
           -73.99238967,
           40.72066442,
           -73.98517977
          ],
          [
           "Jay St & York St",
           "Atlantic Ave & Fort Greene Pl",
           37930,
           40.70140317257725,
           -73.98672670125961,
           40.68382604,
           -73.97632328
          ],
          [
           "Hudson St & Reade St",
           "W 43 St & 10 Ave",
           37930,
           40.71625008,
           -74.0091059,
           40.76009437,
           -73.99461843
          ],
          [
           "5 Ave & E 87 St",
           "Central Park West & W 76 St",
           37930,
           40.78232260730881,
           -73.95987510681152,
           40.77896784,
           -73.97374737
          ],
          [
           "Madison St & Clinton St",
           "Suffolk St & Stanton St",
           37930,
           40.71269042,
           -73.98776323,
           40.72066442,
           -73.98517977
          ],
          [
           "Riverside Dr & W 72 St",
           "W 43 St & 10 Ave",
           37930,
           40.78057799010334,
           -73.98562431335449,
           40.76009437,
           -73.99461843
          ],
          [
           "8 Ave & W 52 St",
           "E 44 St & 2 Ave",
           37930,
           40.76370739,
           -73.9851615,
           40.75118387463277,
           -73.97138714790344
          ],
          [
           "W 42 St & 6 Ave",
           "E 44 St & 2 Ave",
           37930,
           40.75492,
           -73.98455,
           40.75118387463277,
           -73.97138714790344
          ],
          [
           "E 72 St & Park Ave",
           "E 58 St & 1 Ave (NW Corner)",
           37930,
           40.77118287540658,
           -73.96409422159195,
           40.759125,
           -73.962658
          ],
          [
           "Broadway & W 41 St",
           "E 44 St & 2 Ave",
           37930,
           40.75513557,
           -73.98658032,
           40.75118387463277,
           -73.97138714790344
          ],
          [
           "Prospect Park SW & 10 Ave",
           "Atlantic Ave & Fort Greene Pl",
           37930,
           40.659945,
           -73.977504,
           40.68382604,
           -73.97632328
          ],
          [
           "Graham Ave & Grand St",
           "Greene Ave & Throop Ave",
           37930,
           40.711863,
           -73.944024,
           40.6894932,
           -73.942061
          ],
          [
           "Carroll St & 6 Ave",
           "Atlantic Ave & Fort Greene Pl",
           37930,
           40.6740886,
           -73.9787282,
           40.68382604,
           -73.97632328
          ],
          [
           "E 81 St & York Ave",
           "W 95 St & Broadway",
           37930,
           40.7728384,
           -73.94989233,
           40.7937704,
           -73.971888
          ],
          [
           "E 2 St & Avenue B",
           "Suffolk St & Stanton St",
           37930,
           40.72217444,
           -73.98368779,
           40.72066442,
           -73.98517977
          ],
          [
           "Clinton Ave & Myrtle Ave",
           "Berry St & N 8 St",
           37930,
           40.693261,
           -73.968896,
           40.7190095,
           -73.95852515
          ],
          [
           "Nagle Ave & Ellwood St",
           "Sherman Ave & Thayer St",
           37930,
           40.86012,
           -73.928489,
           40.863124,
           -73.926994
          ],
          [
           "Wythe Ave & Metropolitan Ave",
           "Berry St & N 8 St",
           37930,
           40.716887,
           -73.963198,
           40.7190095,
           -73.95852515
          ],
          [
           "8 Ave & W 33 St",
           "W 43 St & 10 Ave",
           37930,
           40.751551,
           -73.993934,
           40.76009437,
           -73.99461843
          ],
          [
           "8 Ave & W 33 St",
           "W 43 St & 10 Ave",
           37930,
           40.751551,
           -73.993934,
           40.76009437,
           -73.99461843
          ],
          [
           "Centre St & Chambers St",
           "Murray St & Greenwich St",
           37930,
           40.71273266,
           -74.0046073,
           40.71485150526252,
           -74.01122331619263
          ],
          [
           "Amsterdam Ave & W 82 St",
           "W 95 St & Broadway",
           37930,
           40.78524672,
           -73.97667321,
           40.7937704,
           -73.971888
          ],
          [
           "Broadway & W 51 St",
           "W 43 St & 10 Ave",
           37930,
           40.76228826,
           -73.98336183,
           40.76009437,
           -73.99461843
          ],
          [
           "Driggs Ave & Lorimer St",
           "Berry St & N 8 St",
           37930,
           40.72179134,
           -73.9504154,
           40.7190095,
           -73.95852515
          ],
          [
           "10 Ave & W 28 St",
           "W 43 St & 10 Ave",
           37930,
           40.75066386,
           -74.00176802,
           40.76009437,
           -73.99461843
          ],
          [
           "Bushwick Ave & Powers St",
           "Berry St & N 8 St",
           37930,
           40.71247661,
           -73.94100005,
           40.7190095,
           -73.95852515
          ],
          [
           "1 Ave & E 68 St",
           "W 26 St & 10 Ave",
           37930,
           40.76500525,
           -73.95818491,
           40.749717753,
           -74.002950346
          ],
          [
           "E 56 St & Madison Ave",
           "3 Ave & E 71 St",
           37930,
           40.761573,
           -73.972628,
           40.76873687,
           -73.96119945
          ],
          [
           "W 44 St & 11 Ave",
           "W 36 St & 9 Ave",
           37930,
           40.762009,
           -73.996975,
           40.75462324029105,
           -73.99516761302948
          ],
          [
           "9 Ave & W 45 St",
           "W 44 St & 5 Ave",
           37930,
           40.76019252,
           -73.9912551,
           40.75500254,
           -73.98014437
          ],
          [
           "21 St & 43 Ave",
           "W 36 St & 9 Ave",
           37930,
           40.75052534,
           -73.94594845,
           40.75462324029105,
           -73.99516761302948
          ],
          [
           "E 81 St & York Ave",
           "E 47 St & 1 Ave",
           37930,
           40.7728384,
           -73.94989233,
           40.75206862,
           -73.96784384
          ],
          [
           "Broadway & W 58 St",
           "W 44 St & 5 Ave",
           37930,
           40.76695317,
           -73.98169333,
           40.75500254,
           -73.98014437
          ],
          [
           "10 Ave & W 14 St",
           "Washington Pl & 6 Ave",
           37930,
           40.74198159994023,
           -74.00831580162048,
           40.73224119,
           -74.00026394
          ],
          [
           "W 36 St & 7 Ave",
           "3 Ave & E 62 St",
           37930,
           40.752149,
           -73.989539,
           40.76312584,
           -73.96526895
          ],
          [
           "E 19 St & 3 Ave",
           "E 25 St & 2 Ave",
           37930,
           40.73624527,
           -73.98473765,
           40.73912601,
           -73.97973776
          ],
          [
           "Stanton St & Norfolk St",
           "E 3 St & 1 Ave",
           37930,
           40.720747,
           -73.986274,
           40.72467721,
           -73.98783413
          ],
          [
           "Warren St & Smith St",
           "7 St & 3 Ave",
           37930,
           40.68542400997018,
           -73.99127773940563,
           40.67260298150126,
           -73.98983001708984
          ],
          [
           "Hudson St & Reade St",
           "W 52 St & 6 Ave",
           37930,
           40.71625008,
           -74.0091059,
           40.76132983124814,
           -73.97982001304626
          ],
          [
           "Washington Square E",
           "E 3 St & 1 Ave",
           37930,
           40.73049393,
           -73.9957214,
           40.72467721,
           -73.98783413
          ],
          [
           "Centre St & Worth St",
           "St James Pl & Pearl St",
           37930,
           40.71494807,
           -74.00234482,
           40.71117416,
           -74.00016545
          ],
          [
           "E 72 St & Park Ave",
           "3 Ave & E 62 St",
           37930,
           40.77118287540658,
           -73.96409422159195,
           40.76312584,
           -73.96526895
          ],
          [
           "Underhill Ave & Pacific St",
           "Henry St & Middagh St",
           37930,
           40.6804836,
           -73.9646795,
           40.7003,
           -73.991581
          ],
          [
           "Nevins St & Schermerhorn St",
           "Hoyt St & Warren St",
           37930,
           40.68737247650719,
           -73.98176059126854,
           40.6843549,
           -73.98901629
          ],
          [
           "University Pl & E 14 St",
           "E 25 St & 2 Ave",
           37930,
           40.734814,
           -73.992085,
           40.73912601,
           -73.97973776
          ],
          [
           "8 Ave & W 27 St",
           "E 25 St & 2 Ave",
           37930,
           40.747968,
           -73.996637,
           40.73912601,
           -73.97973776
          ],
          [
           "E 92 St & Park Ave",
           "3 Ave & E 62 St",
           37930,
           40.78385,
           -73.95416,
           40.76312584,
           -73.96526895
          ],
          [
           "E 72 St & York Ave",
           "3 Ave & E 62 St",
           37930,
           40.76663814,
           -73.95348296,
           40.76312584,
           -73.96526895
          ],
          [
           "Lenox Ave & W 126 St",
           "St James Pl & Pearl St",
           37930,
           40.808442,
           -73.9452087,
           40.71117416,
           -74.00016545
          ],
          [
           "Broadway\\t& W 48 St",
           "Washington Pl & 6 Ave",
           37930,
           40.76017739537783,
           -73.98486793041229,
           40.73224119,
           -74.00026394
          ],
          [
           "Broadway & E 21 St",
           "Washington Pl & 6 Ave",
           37930,
           40.73988840858996,
           -73.98958593606949,
           40.73224119,
           -74.00026394
          ],
          [
           "Broadway & E 21 St",
           "Washington Pl & 6 Ave",
           37930,
           40.73988840858996,
           -73.98958593606949,
           40.73224119,
           -74.00026394
          ],
          [
           "E 2 St & Avenue B",
           "Washington Pl & 6 Ave",
           37930,
           40.72217444,
           -73.98368779,
           40.73224119,
           -74.00026394
          ],
          [
           "Flushing Ave & Vanderbilt Ave",
           "Park Pl & Franklin Ave",
           37930,
           40.69795031569544,
           -73.97077560424805,
           40.6741806,
           -73.9564947
          ],
          [
           "E 53 St & Madison Ave",
           "W 11 St & 6 Ave",
           37930,
           40.7597108,
           -73.97402311,
           40.73532427,
           -73.99800419
          ],
          [
           "E 16 St & 5 Ave",
           "8 Ave & W 31 St",
           37930,
           40.73726186,
           -73.99238967,
           40.7505853470215,
           -73.9946848154068
          ],
          [
           "Norfolk St & Broome St",
           "W 11 St & 6 Ave",
           37930,
           40.7172274,
           -73.98802084,
           40.73532427,
           -73.99800419
          ],
          [
           "S 3 St & Bedford Ave",
           "S 4 St & Rodney St",
           37930,
           40.71260486,
           -73.96264403,
           40.70934,
           -73.95608
          ],
          [
           "E 16 St & 5 Ave",
           "W 11 St & 6 Ave",
           37930,
           40.73726186,
           -73.99238967,
           40.73532427,
           -73.99800419
          ],
          [
           "Norfolk St & Broome St",
           "W 11 St & 6 Ave",
           37930,
           40.7172274,
           -73.98802084,
           40.73532427,
           -73.99800419
          ],
          [
           "Court St & State St",
           "Wolcott St & Dwight St",
           37930,
           40.6902375,
           -73.99203074,
           40.6753274,
           -74.0100698
          ],
          [
           "Court St & State St",
           "Bergen St & Vanderbilt Ave",
           37930,
           40.6902375,
           -73.99203074,
           40.6794388,
           -73.9680438
          ],
          [
           "W 18 St & 6 Ave",
           "W 11 St & 6 Ave",
           37930,
           40.73971301,
           -73.99456405,
           40.73532427,
           -73.99800419
          ],
          [
           "Putnam Ave & Wyckoff Ave",
           "Harrison Pl & Porter Ave",
           37930,
           40.69811,
           -73.90904,
           40.70686,
           -73.92851
          ],
          [
           "Frederick Douglass Blvd & W 115 St",
           "Adam Clayton Powell Blvd & W 123 St",
           37930,
           40.8038654,
           -73.9559308,
           40.8078316,
           -73.949373
          ],
          [
           "Graham Ave & Grand St",
           "S 4 St & Rodney St",
           37930,
           40.711863,
           -73.944024,
           40.70934,
           -73.95608
          ],
          [
           "31 St & Thomson Ave",
           "34 Ave & 31 St",
           37930,
           40.74469738,
           -73.93540375,
           40.759604471387945,
           -73.92714411020279
          ],
          [
           "W 47 St & 10 Ave",
           "8 Ave & W 31 St",
           37930,
           40.76269882,
           -73.99301222,
           40.7505853470215,
           -73.9946848154068
          ],
          [
           "E 17 St & Broadway",
           "W 17 St & 8 Ave",
           37930,
           40.73704984,
           -73.99009296,
           40.74177603,
           -74.00149746
          ],
          [
           "University Pl & E 14 St",
           "W 11 St & 6 Ave",
           37930,
           40.734814,
           -73.992085,
           40.73532427,
           -73.99800419
          ],
          [
           "Howard St & Lafayette St",
           "E 7 St & Avenue A",
           37930,
           40.71910537,
           -73.99973337,
           40.72621788,
           -73.98379855
          ],
          [
           "Clinton Ave & Myrtle Ave",
           "DeKalb Ave & Vanderbilt Ave",
           37930,
           40.693261,
           -73.968896,
           40.68940747,
           -73.96885458
          ],
          [
           "8 Ave & W 33 St",
           "E 41 St & Madison Ave (SW corner)",
           37930,
           40.751551,
           -73.993934,
           40.752165280621966,
           -73.97992193698882
          ],
          [
           "8 Ave & W 33 St",
           "E 41 St & Madison Ave (SW corner)",
           37930,
           40.751551,
           -73.993934,
           40.752165280621966,
           -73.97992193698882
          ],
          [
           "Bushwick Ave & Powers St",
           "S 4 St & Rodney St",
           37930,
           40.71247661,
           -73.94100005,
           40.70934,
           -73.95608
          ],
          [
           "Lawrence St & Willoughby St",
           "Bergen St & Vanderbilt Ave",
           37930,
           40.69236178,
           -73.98631746,
           40.6794388,
           -73.9680438
          ],
          [
           "10 Ave & W 28 St",
           "W 17 St & 8 Ave",
           37930,
           40.75066386,
           -74.00176802,
           40.74177603,
           -74.00149746
          ],
          [
           "Park Ave & E 162 St",
           "Adam Clayton Powell Blvd & W 151 St",
           37930,
           40.825716,
           -73.915585,
           40.825289,
           -73.936232
          ],
          [
           "10 Ave & W 28 St",
           "W 17 St & 8 Ave",
           37930,
           40.75066386,
           -74.00176802,
           40.74177603,
           -74.00149746
          ],
          [
           "Bleecker St & Crosby St",
           "W 17 St & 8 Ave",
           37930,
           40.72615604980408,
           -73.99510189890862,
           40.74177603,
           -74.00149746
          ],
          [
           "Lenox Ave & W 140 St",
           "Madison Ave & E 120 St",
           37930,
           40.817245,
           -73.938787,
           40.80295,
           -73.942954
          ],
          [
           "W 20 St & 8 Ave",
           "W 17 St & 8 Ave",
           37930,
           40.74345335,
           -74.00004031,
           40.74177603,
           -74.00149746
          ],
          [
           "Clinton St & Centre St",
           "Wolcott St & Dwight St",
           37930,
           40.67434,
           -74.00194698,
           40.6753274,
           -74.0100698
          ],
          [
           "1 Ave & E 68 St",
           "Greenpoint Ave & Manhattan Ave",
           37930,
           40.76500525,
           -73.95818491,
           40.73026,
           -73.95394
          ],
          [
           "Madison Ave & E 26 St",
           "8 Ave & W 31 St",
           37930,
           40.742684734875695,
           -73.98671329021454,
           40.7505853470215,
           -73.9946848154068
          ],
          [
           "W 47 St & 10 Ave",
           "W 11 St & 6 Ave",
           37930,
           40.76269882,
           -73.99301222,
           40.73532427,
           -73.99800419
          ],
          [
           "Madison Ave & E 26 St",
           "8 Ave & W 31 St",
           37930,
           40.742684734875695,
           -73.98671329021454,
           40.7505853470215,
           -73.9946848154068
          ],
          [
           "Broadway & E 21 St",
           "8 Ave & W 31 St",
           37930,
           40.73988840858996,
           -73.98958593606949,
           40.7505853470215,
           -73.9946848154068
          ],
          [
           "Broadway & E 21 St",
           "8 Ave & W 31 St",
           37930,
           40.73988840858996,
           -73.98958593606949,
           40.7505853470215,
           -73.9946848154068
          ],
          [
           "1 Ave & E 16 St",
           "8 Ave & W 31 St",
           37930,
           40.73221853,
           -73.98165557,
           40.7505853470215,
           -73.9946848154068
          ],
          [
           "Morgan Ave & Lombardy St",
           "Harrison Pl & Porter Ave",
           37930,
           40.72226,
           -73.93889,
           40.70686,
           -73.92851
          ],
          [
           "Grand Ave & Bergen St",
           "S 4 St & Rodney St",
           37930,
           40.678045,
           -73.962408,
           40.70934,
           -73.95608
          ],
          [
           "Schermerhorn St & Court St",
           "Pacific St & Nevins St",
           37930,
           40.69102925677968,
           -73.99183362722397,
           40.6853761,
           -73.98302136
          ],
          [
           "53 St & 4 Ave",
           "53 St & 2 Ave",
           37930,
           40.644862,
           -74.014531,
           40.64744,
           -74.018846
          ],
          [
           "Congress St & Clinton St",
           "Pacific St & Nevins St",
           37930,
           40.68825516598005,
           -73.99545192718506,
           40.6853761,
           -73.98302136
          ],
          [
           "E 40 St & Park Ave",
           "2 Ave & E 31 St",
           37930,
           40.750756,
           -73.978326,
           40.74290902,
           -73.97706058
          ],
          [
           "Broadway & W 58 St",
           "E 47 St & Park Ave",
           37930,
           40.76695317,
           -73.98169333,
           40.75510267,
           -73.97498696
          ],
          [
           "Lexington Ave & Classon Ave",
           "St Johns Pl & Washington Ave",
           37930,
           40.68676793,
           -73.95928168,
           40.6737236,
           -73.9631611
          ],
          [
           "Milton St & Franklin St",
           "Kent Ave & N 7 St",
           37930,
           40.72906,
           -73.95779,
           40.72036775298455,
           -73.96165072917938
          ],
          [
           "Milton St & Franklin St",
           "Kent Ave & N 7 St",
           37930,
           40.72906,
           -73.95779,
           40.72036775298455,
           -73.96165072917938
          ],
          [
           "Milton St & Franklin St",
           "Kent Ave & N 7 St",
           37930,
           40.72906,
           -73.95779,
           40.72036775298455,
           -73.96165072917938
          ],
          [
           "Madison Ave & E 26 St",
           "E 27 St & 1 Ave",
           37930,
           40.742684734875695,
           -73.98671329021454,
           40.739445,
           -73.976806
          ],
          [
           "1 Ave & E 68 St",
           "2 Ave & E 31 St",
           37930,
           40.76500525,
           -73.95818491,
           40.74290902,
           -73.97706058
          ],
          [
           "1 Ave & E 68 St",
           "E 47 St & Park Ave",
           37930,
           40.76500525,
           -73.95818491,
           40.75510267,
           -73.97498696
          ],
          [
           "Madison Ave & E 26 St",
           "E 27 St & 1 Ave",
           37930,
           40.742684734875695,
           -73.98671329021454,
           40.739445,
           -73.976806
          ],
          [
           "Broadway\\t& W 48 St",
           "E 47 St & Park Ave",
           37930,
           40.76017739537783,
           -73.98486793041229,
           40.75510267,
           -73.97498696
          ],
          [
           "E 51 St & 1 Ave",
           "E 47 St & Park Ave",
           37930,
           40.75455731,
           -73.96592976,
           40.75510267,
           -73.97498696
          ],
          [
           "Broadway\\t& W 48 St",
           "E 47 St & Park Ave",
           37930,
           40.76017739537783,
           -73.98486793041229,
           40.75510267,
           -73.97498696
          ],
          [
           "Wythe Ave & Metropolitan Ave",
           "Kent Ave & N 7 St",
           37930,
           40.716887,
           -73.963198,
           40.72036775298455,
           -73.96165072917938
          ],
          [
           "Clinton Ave & Myrtle Ave",
           "St Johns Pl & Washington Ave",
           37930,
           40.693261,
           -73.968896,
           40.6737236,
           -73.9631611
          ],
          [
           "Sands St & Jay St",
           "Kent Ave & N 7 St",
           37930,
           40.700119,
           -73.9862,
           40.72036775298455,
           -73.96165072917938
          ],
          [
           "E 31 St & 3 Ave",
           "E 47 St & Park Ave",
           37930,
           40.74394314,
           -73.97966069,
           40.75510267,
           -73.97498696
          ],
          [
           "E 31 St & 3 Ave",
           "Lexington Ave & E 26 St",
           37930,
           40.74394314,
           -73.97966069,
           40.741459,
           -73.983293
          ],
          [
           "Broadway & W 51 St",
           "2 Ave & E 31 St",
           37930,
           40.76228826,
           -73.98336183,
           40.74290902,
           -73.97706058
          ],
          [
           "E 31 St & 3 Ave",
           "E 47 St & Park Ave",
           37930,
           40.74394314,
           -73.97966069,
           40.75510267,
           -73.97498696
          ],
          [
           "Great Jones St",
           "Lexington Ave & E 26 St",
           37930,
           40.72743423,
           -73.99379025,
           40.741459,
           -73.983293
          ],
          [
           "Lawrence St & Willoughby St",
           "Pacific St & Nevins St",
           37930,
           40.69236178,
           -73.98631746,
           40.6853761,
           -73.98302136
          ],
          [
           "Lafayette St & E 8 St",
           "2 Ave & E 31 St",
           37930,
           40.73020660529954,
           -73.99102628231049,
           40.74290902,
           -73.97706058
          ],
          [
           "E 81 St & 2 Ave",
           "E 47 St & Park Ave",
           37930,
           40.77477944895728,
           -73.95427465438843,
           40.75510267,
           -73.97498696
          ],
          [
           "E 20 St & FDR Dr",
           "E 27 St & 1 Ave",
           37930,
           40.733208626522426,
           -73.9756813647,
           40.739445,
           -73.976806
          ],
          [
           "E 48 St & 3 Ave",
           "2 Ave & E 31 St",
           37930,
           40.7546011026,
           -73.971878855,
           40.74290902,
           -73.97706058
          ],
          [
           "Morgan Ave & Lombardy St",
           "Kent Ave & N 7 St",
           37930,
           40.72226,
           -73.93889,
           40.72036775298455,
           -73.96165072917938
          ],
          [
           "Rivington St & Chrystie St",
           "Cliff St & Fulton St",
           37930,
           40.72110063,
           -73.9919254,
           40.70838,
           -74.00495
          ],
          [
           "Riverside Dr & Broadway",
           "Dyckman St & Henshaw St",
           37930,
           40.865364,
           -73.92791,
           40.867357,
           -73.92936
          ],
          [
           "2 Ave & E 31 St",
           "E 27 St & 1 Ave",
           37930,
           40.74290902,
           -73.97706058,
           40.739445,
           -73.976806
          ],
          [
           "Lexington Ave & E 26 St",
           "E 27 St & 1 Ave",
           37930,
           40.741459,
           -73.983293,
           40.739445,
           -73.976806
          ],
          [
           "Berry St & N 8 St",
           "Kent Ave & N 7 St",
           37930,
           40.7190095,
           -73.95852515,
           40.72036775298455,
           -73.96165072917938
          ],
          [
           "Berry St & N 8 St",
           "Kent Ave & N 7 St",
           37930,
           40.7190095,
           -73.95852515,
           40.72036775298455,
           -73.96165072917938
          ],
          [
           "Berry St & N 8 St",
           "Kent Ave & N 7 St",
           37930,
           40.7190095,
           -73.95852515,
           40.72036775298455,
           -73.96165072917938
          ],
          [
           "W 43 St & 10 Ave",
           "E 47 St & Park Ave",
           37930,
           40.76009437,
           -73.99461843,
           40.75510267,
           -73.97498696
          ],
          [
           "Berry St & N 8 St",
           "Greene Ave & Nostrand Ave",
           37930,
           40.7190095,
           -73.95852515,
           40.6883337,
           -73.950916
          ],
          [
           "1 Ave & E 68 St",
           "E 47 St & Park Ave",
           37930,
           40.76500525,
           -73.95818491,
           40.75510267,
           -73.97498696
          ],
          [
           "1 Ave & E 68 St",
           "E 47 St & Park Ave",
           37930,
           40.76500525,
           -73.95818491,
           40.75510267,
           -73.97498696
          ],
          [
           "Broadway & W 37 St",
           "E 47 St & Park Ave",
           37930,
           40.75172632,
           -73.98753523,
           40.75510267,
           -73.97498696
          ],
          [
           "Greenpoint Ave & Manhattan Ave",
           "Kent Ave & N 7 St",
           37930,
           40.73026,
           -73.95394,
           40.72036775298455,
           -73.96165072917938
          ],
          [
           "8 Ave & W 31 St",
           "Lexington Ave & E 26 St",
           37930,
           40.7505853470215,
           -73.9946848154068,
           40.741459,
           -73.983293
          ],
          [
           "8 Ave & W 31 St",
           "E 27 St & 1 Ave",
           37930,
           40.7505853470215,
           -73.9946848154068,
           40.739445,
           -73.976806
          ],
          [
           "8 Ave & W 31 St",
           "2 Ave & E 31 St",
           37930,
           40.7505853470215,
           -73.9946848154068,
           40.74290902,
           -73.97706058
          ],
          [
           "W 17 St & 8 Ave",
           "E 27 St & 1 Ave",
           37930,
           40.74177603,
           -74.00149746,
           40.739445,
           -73.976806
          ],
          [
           "S 4 St & Rodney St",
           "Kent Ave & N 7 St",
           37930,
           40.70934,
           -73.95608,
           40.72036775298455,
           -73.96165072917938
          ],
          [
           "Greenpoint Ave & Manhattan Ave",
           "Kent Ave & N 7 St",
           37930,
           40.73026,
           -73.95394,
           40.72036775298455,
           -73.96165072917938
          ],
          [
           "Central Park North & Adam Clayton Powell Blvd",
           "W 113 St & Broadway",
           37930,
           40.799484,
           -73.955613,
           40.805973,
           -73.964928
          ],
          [
           "Lexington Ave & E 36 St",
           "2 Ave & E 31 St",
           37930,
           40.7475739589548,
           -73.9788007736206,
           40.74290902,
           -73.97706058
          ],
          [
           "Lexington Ave & E 36 St",
           "Lexington Ave & E 26 St",
           37930,
           40.7475739589548,
           -73.9788007736206,
           40.741459,
           -73.983293
          ],
          [
           "Cliff St & Fulton St",
           "Cliff St & Fulton St",
           37930,
           40.70838,
           -74.00495,
           40.70838,
           -74.00495
          ],
          [
           "Kent Ave & N 7 St",
           "Kent Ave & N 7 St",
           37930,
           40.72036775298455,
           -73.96165072917938,
           40.72036775298455,
           -73.96165072917938
          ],
          [
           "Lexington Ave & E 26 St",
           "Lexington Ave & E 26 St",
           37930,
           40.741459,
           -73.983293,
           40.741459,
           -73.983293
          ],
          [
           "27 Ave & 9 St",
           "27 Ave & 9 St",
           37930,
           40.7739825,
           -73.9309134,
           40.7739825,
           -73.9309134
          ],
          [
           "53 St & 2 Ave",
           "53 St & 2 Ave",
           37930,
           40.64744,
           -74.018846,
           40.64744,
           -74.018846
          ],
          [
           "E 47 St & Park Ave",
           "E 47 St & Park Ave",
           37930,
           40.755103,
           -73.974987,
           40.755103,
           -73.974987
          ],
          [
           "E 47 St & Park Ave",
           "E 27 St & 1 Ave",
           37930,
           40.75510267,
           -73.97498696,
           40.739445,
           -73.976806
          ],
          [
           "E 27 St & 1 Ave",
           "Lexington Ave & E 26 St",
           37930,
           40.739445,
           -73.976806,
           40.741459,
           -73.983293
          ],
          [
           "Vernon Blvd & 10 St",
           "27 Ave & 9 St",
           37930,
           40.7671863,
           -73.9373554,
           40.7739825,
           -73.9309134
          ],
          [
           "W 35 St & Dyer Ave",
           "Lexington Ave & E 26 St",
           37930,
           40.754691750226016,
           -73.99740189313889,
           40.741459,
           -73.983293
          ],
          [
           "Center Blvd & 48 Ave",
           "Kent Ave & N 7 St",
           37930,
           40.745038,
           -73.957539,
           40.72036775298455,
           -73.96165072917938
          ],
          [
           "S 3 St & Bedford Ave",
           "Kent Ave & N 7 St",
           37930,
           40.71260486,
           -73.96264403,
           40.72036775298455,
           -73.96165072917938
          ],
          [
           "Stanton St & Norfolk St",
           "2 Ave & E 31 St",
           37930,
           40.720747,
           -73.986274,
           40.74290902,
           -73.97706058
          ],
          [
           "Lafayette St & E 8 St",
           "Lexington Ave & E 26 St",
           37930,
           40.73020660529954,
           -73.99102628231049,
           40.741459,
           -73.983293
          ],
          [
           "E 26 St & 3 Ave",
           "E 27 St & 1 Ave",
           37930,
           40.74069317733043,
           -73.98160636425018,
           40.739445,
           -73.976806
          ],
          [
           "Lafayette St & E 8 St",
           "E 27 St & 1 Ave",
           37930,
           40.73020660529954,
           -73.99102628231049,
           40.739445,
           -73.976806
          ],
          [
           "E 48 St & 3 Ave",
           "E 47 St & Park Ave",
           37930,
           40.7546011026,
           -73.971878855,
           40.75510267,
           -73.97498696
          ],
          [
           "E 33 St & 5 Ave",
           "E 27 St & 1 Ave",
           37930,
           40.74765947,
           -73.98490707,
           40.739445,
           -73.976806
          ],
          [
           "E 67 St & Park Ave",
           "E 47 St & Park Ave",
           37930,
           40.76780080148132,
           -73.96592080593109,
           40.75510267,
           -73.97498696
          ],
          [
           "W 116 St & Broadway",
           "West End Ave & W 78 St",
           37930,
           40.8082,
           -73.9641,
           40.783786,
           -73.981687
          ],
          [
           "W 15 St & 7 Ave",
           "E 27 St & 1 Ave",
           37930,
           40.73935542,
           -73.99931783,
           40.739445,
           -73.976806
          ],
          [
           "W 116 St & Broadway",
           "W 113 St & Broadway",
           37930,
           40.8082,
           -73.9641,
           40.805973,
           -73.964928
          ],
          [
           "Broadway & W 29 St",
           "E 27 St & 1 Ave",
           37930,
           40.7462009,
           -73.98855723,
           40.739445,
           -73.976806
          ],
          [
           "E 9 St & Avenue C",
           "Kent Ave & N 7 St",
           37930,
           40.72521311,
           -73.97768752,
           40.72036775298455,
           -73.96165072917938
          ],
          [
           "W 44 St & 5 Ave",
           "E 47 St & Park Ave",
           37930,
           40.75500254,
           -73.98014437,
           40.75510267,
           -73.97498696
          ],
          [
           "W 44 St & 5 Ave",
           "E 47 St & Park Ave",
           37930,
           40.75500254,
           -73.98014437,
           40.75510267,
           -73.97498696
          ],
          [
           "E 9 St & Avenue C",
           "E 27 St & 1 Ave",
           37930,
           40.72521311,
           -73.97768752,
           40.739445,
           -73.976806
          ],
          [
           "6 Ave & 60 St",
           "6 Ave & 55 St",
           37930,
           40.638196,
           -74.013821,
           40.640831,
           -74.010996
          ],
          [
           "W 36 St & 7 Ave",
           "E 40 St & Park Ave",
           37930,
           40.752149,
           -73.989539,
           40.750756,
           -73.978326
          ],
          [
           "Willis Ave & E 143 St",
           "Riverside Dr & W 72 St",
           37930,
           40.812299,
           -73.92037,
           40.78057799010334,
           -73.98562431335449
          ],
          [
           "Barclay St & Church St",
           "Mercer St & Spring St",
           37930,
           40.71291224,
           -74.01020234,
           40.72362738,
           -73.99949601
          ],
          [
           "2 Ave & E 104 St",
           "Frederick Douglass Blvd & W 115 St",
           37930,
           40.7892105,
           -73.94370784,
           40.8038654,
           -73.9559308
          ],
          [
           "Broadway & W 53 St",
           "Riverside Dr & W 72 St",
           37930,
           40.76344058,
           -73.98268129,
           40.78057799010334,
           -73.98562431335449
          ],
          [
           "E 27 St & 1 Ave",
           "E 40 St & Park Ave",
           37930,
           40.739445,
           -73.976806,
           40.750756,
           -73.978326
          ],
          [
           "Barrow St & Hudson St",
           "Mercer St & Spring St",
           37930,
           40.73172428,
           -74.00674436,
           40.72362738,
           -73.99949601
          ],
          [
           "Barrow St & Hudson St",
           "E 40 St & Park Ave",
           37930,
           40.73172428,
           -74.00674436,
           40.750756,
           -73.978326
          ],
          [
           "Broadway & Battery Pl",
           "Madison St & Clinton St",
           37930,
           40.70463334,
           -74.01361706,
           40.71269042,
           -73.98776323
          ],
          [
           "Broadway & W 58 St",
           "E 40 St & Park Ave",
           37930,
           40.76695317,
           -73.98169333,
           40.750756,
           -73.978326
          ],
          [
           "Bond St & Bergen St",
           "Nevins St & Schermerhorn St",
           37930,
           40.6849668,
           -73.98620772,
           40.68737247650719,
           -73.98176059126854
          ],
          [
           "Norfolk St & Broome St",
           "Madison St & Clinton St",
           37930,
           40.7172274,
           -73.98802084,
           40.71269042,
           -73.98776323
          ],
          [
           "Stanton St & Norfolk St",
           "Onderdonk Ave & Gates Ave",
           37930,
           40.720747,
           -73.986274,
           40.70413,
           -73.90737
          ],
          [
           "Avenue C & E 18 St",
           "E 40 St & Park Ave",
           37930,
           40.730563,
           -73.973984,
           40.750756,
           -73.978326
          ],
          [
           "Broadway & W 61 St",
           "Frederick Douglass Blvd & W 117 St",
           37930,
           40.77003010255044,
           -73.9819684624672,
           40.805159,
           -73.954692
          ],
          [
           "Avenue C & E 18 St",
           "Mercer St & Spring St",
           37930,
           40.730563,
           -73.973984,
           40.72362738,
           -73.99949601
          ],
          [
           "E 27 St & Park Ave S",
           "E 40 St & Park Ave",
           37930,
           40.74275179648995,
           -73.9847157150507,
           40.750756,
           -73.978326
          ],
          [
           "Greene Ave & Grandview Ave",
           "Putnam Ave & Wyckoff Ave",
           37930,
           40.709697,
           -73.907856,
           40.69811,
           -73.90904
          ],
          [
           "E 27 St & Park Ave S",
           "Greenwich Ave & Charles St",
           37930,
           40.74275179648995,
           -73.9847157150507,
           40.735238,
           -74.000271
          ],
          [
           "Forsyth St & Canal St",
           "Madison St & Clinton St",
           37930,
           40.7158155,
           -73.99422366,
           40.71269042,
           -73.98776323
          ],
          [
           "1 Ave & E 16 St",
           "E 7 St & Ave B",
           37930,
           40.73221853,
           -73.98165557,
           40.7251285241158,
           -73.98131668567657
          ],
          [
           "Broadway & E 21 St",
           "Broadway & W 53 St",
           37930,
           40.73988840858996,
           -73.98958593606949,
           40.76344058,
           -73.98268129
          ],
          [
           "8 Ave & W 16 St",
           "E 7 St & Ave B",
           37930,
           40.740983,
           -74.001702,
           40.7251285241158,
           -73.98131668567657
          ],
          [
           "Central Park S & 6 Ave",
           "Broadway & W 53 St",
           37930,
           40.76590936,
           -73.97634151,
           40.76344058,
           -73.98268129
          ],
          [
           "Leonard St & Church St",
           "Spring St & Hudson St",
           37930,
           40.717571,
           -74.005549,
           40.72583996792375,
           -74.0076532959938
          ],
          [
           "McKibbin St & Bogart St",
           "Putnam Ave & Throop Ave",
           37930,
           40.706237,
           -73.933871,
           40.6851532,
           -73.94111
          ],
          [
           "Central Park West & W 76 St",
           "5 Ave & E 103 St",
           37930,
           40.77896784,
           -73.97374737,
           40.7922553,
           -73.95249933
          ],
          [
           "Murray St & Greenwich St",
           "11 Ave & W 27 St",
           37930,
           40.71485150526252,
           -74.01122331619263,
           40.751396,
           -74.005226
          ],
          [
           "8 Ave & W 31 St",
           "5 Ave & E 103 St",
           37930,
           40.7505853470215,
           -73.9946848154068,
           40.7922553,
           -73.95249933
          ],
          [
           "DeKalb Ave & Vanderbilt Ave",
           "Putnam Ave & Throop Ave",
           37930,
           40.68940747,
           -73.96885458,
           40.6851532,
           -73.94111
          ],
          [
           "W 26 St & 8 Ave",
           "11 Ave & W 27 St",
           37930,
           40.74734825,
           -73.99723551,
           40.751396,
           -74.005226
          ],
          [
           "Central Park North & Adam Clayton Powell Blvd",
           "5 Ave & E 103 St",
           37930,
           40.799484,
           -73.955613,
           40.7922553,
           -73.95249933
          ],
          [
           "Lawrence St & Willoughby St",
           "Putnam Ave & Throop Ave",
           37930,
           40.69236178,
           -73.98631746,
           40.6851532,
           -73.94111
          ],
          [
           "2 Ave & E 29 St",
           "11 Ave & W 27 St",
           37930,
           40.74172351097472,
           -73.97809267044067,
           40.751396,
           -74.005226
          ],
          [
           "E 97 St & Madison Ave",
           "E 106 St & Lexington Ave",
           37930,
           40.787801,
           -73.953559,
           40.791976,
           -73.945993
          ],
          [
           "E Fordham Rd & Webster Ave",
           "E 167 St & Clay Ave",
           37930,
           40.861748,
           -73.89105,
           40.83094,
           -73.91125
          ],
          [
           "Kent Ave & N 7 St",
           "Vernon Blvd & 50 Ave",
           37930,
           40.72036775298455,
           -73.96165072917938,
           40.74232744,
           -73.95411749
          ],
          [
           "Lenox Ave & W 130 St",
           "5 Ave & E 135 St",
           37930,
           40.8107922,
           -73.9430681,
           40.812191,
           -73.937838
          ],
          [
           "E 114 St & 1 Ave",
           "Lexington Ave & E 111 St",
           37930,
           40.7945663,
           -73.9362541,
           40.7954121,
           -73.9441232
          ],
          [
           "W 36 St & 9 Ave",
           "11 Ave & W 27 St",
           37930,
           40.75462324029105,
           -73.99516761302948,
           40.751396,
           -74.005226
          ],
          [
           "Broadway & W 29 St",
           "E 55 St & 2 Ave",
           37930,
           40.7462009,
           -73.98855723,
           40.75797322,
           -73.96603308
          ],
          [
           "W 20 St & 8 Ave",
           "11 Ave & W 27 St",
           37930,
           40.74345335,
           -74.00004031,
           40.751396,
           -74.005226
          ],
          [
           "10 Ave & W 28 St",
           "Great Jones St",
           37930,
           40.75066386,
           -74.00176802,
           40.72743423,
           -73.99379025
          ],
          [
           "Great Jones St",
           "10 Ave & W 28 St",
           37930,
           40.72743423,
           -73.99379025,
           40.75066386,
           -74.00176802
          ],
          [
           "Broadway & W 51 St",
           "Broadway & W 51 St",
           37930,
           40.76228826,
           -73.98336183,
           40.76228826,
           -73.98336183
          ],
          [
           "West St & Chambers St",
           "West St & Chambers St",
           37930,
           40.71754834,
           -74.01322069,
           40.71754834,
           -74.01322069
          ],
          [
           "Reade St & Broadway",
           "Reade St & Broadway",
           37930,
           40.71450451,
           -74.00562789,
           40.71450451,
           -74.00562789
          ],
          [
           "Lawrence St & Willoughby St",
           "Lawrence St & Willoughby St",
           37930,
           40.69236178,
           -73.98631746,
           40.69236178,
           -73.98631746
          ],
          [
           "10 Ave & W 28 St",
           "10 Ave & W 28 St",
           37930,
           40.75066386,
           -74.00176802,
           40.75066386,
           -74.00176802
          ],
          [
           "Bushwick Ave & Powers St",
           "W Broadway & W Houston St",
           37930,
           40.71247661,
           -73.94100005,
           40.726378,
           -74.000472
          ],
          [
           "W Broadway & W Houston St",
           "Bushwick Ave & Powers St",
           37930,
           40.726378,
           -74.000472,
           40.71247661,
           -73.94100005
          ],
          [
           "12 Ave & W 40 St",
           "West St & Chambers St",
           37930,
           40.76087502,
           -74.00277668,
           40.71754834,
           -74.01322069
          ],
          [
           "Court St & Nelson St",
           "Smith St & 9 St",
           37930,
           40.6763947,
           -73.99869893,
           40.6746957,
           -73.99785768
          ],
          [
           "Broadway & E 21 St",
           "W 35 St & Dyer Ave",
           37930,
           40.73988840858996,
           -73.98958593606949,
           40.754691750226016,
           -73.99740189313889
          ],
          [
           "11 Ave & W 59 St",
           "W 35 St & Dyer Ave",
           37930,
           40.77149671054441,
           -73.99046033620834,
           40.754691750226016,
           -73.99740189313889
          ],
          [
           "1 Ave & E 68 St",
           "Center Blvd & 48 Ave",
           37930,
           40.76500525,
           -73.95818491,
           40.745038,
           -73.957539
          ],
          [
           "W 47 St & 10 Ave",
           "West St & Chambers St",
           37930,
           40.76269882,
           -73.99301222,
           40.71754834,
           -74.01322069
          ],
          [
           "E 27 St & 1 Ave",
           "E 31 St & 3 Ave",
           37930,
           40.739445,
           -73.976806,
           40.74394314,
           -73.97966069
          ],
          [
           "2 Ave & E 31 St",
           "E 31 St & 3 Ave",
           37930,
           40.74290902,
           -73.97706058,
           40.74394314,
           -73.97966069
          ],
          [
           "Berry St & N 8 St",
           "William St & Pine St",
           37930,
           40.7190095,
           -73.95852515,
           40.70717936,
           -74.00887308
          ],
          [
           "Greene Ave & Throop Ave",
           "Willoughby Ave & Walworth St",
           37930,
           40.6894932,
           -73.942061,
           40.69331716,
           -73.95381995
          ],
          [
           "W 26 St & 10 Ave",
           "E 31 St & 3 Ave",
           37930,
           40.749717753,
           -74.002950346,
           40.74394314,
           -73.97966069
          ],
          [
           "W 11 St & 6 Ave",
           "E 31 St & 3 Ave",
           37930,
           40.73532427,
           -73.99800419,
           40.74394314,
           -73.97966069
          ],
          [
           "8 Ave & W 31 St",
           "Great Jones St",
           37930,
           40.7505853470215,
           -73.9946848154068,
           40.72743423,
           -73.99379025
          ],
          [
           "8 Ave & W 31 St",
           "10 Ave & W 28 St",
           37930,
           40.7505853470215,
           -73.9946848154068,
           40.75066386,
           -74.00176802
          ],
          [
           "Henry St & W 9 St",
           "Lawrence St & Willoughby St",
           37930,
           40.6763744,
           -74.00324957,
           40.69236178,
           -73.98631746
          ],
          [
           "E 48 St & 3 Ave",
           "E 31 St & 3 Ave",
           37930,
           40.7546011026,
           -73.971878855,
           40.74394314,
           -73.97966069
          ],
          [
           "W 13 St & 5 Ave",
           "West St & Chambers St",
           37930,
           40.735445,
           -73.99431,
           40.71754834,
           -74.01322069
          ],
          [
           "E 2 St & 2 Ave",
           "E 31 St & 3 Ave",
           37930,
           40.72502876,
           -73.99069656,
           40.74394314,
           -73.97966069
          ],
          [
           "Henry St & Atlantic Ave",
           "Lawrence St & Willoughby St",
           37930,
           40.69089272,
           -73.99612349,
           40.69236178,
           -73.98631746
          ],
          [
           "Pike St & E Broadway",
           "Reade St & Broadway",
           37930,
           40.71406667,
           -73.99293911,
           40.71450451,
           -74.00562789
          ],
          [
           "Lexington Ave & E 26 St",
           "E 31 St & 3 Ave",
           37930,
           40.741459,
           -73.983293,
           40.74394314,
           -73.97966069
          ],
          [
           "E 27 St & 1 Ave",
           "William St & Pine St",
           37930,
           40.739445,
           -73.976806,
           40.70717936,
           -74.00887308
          ],
          [
           "Broadway & Battery Pl",
           "West St & Chambers St",
           37930,
           40.70463334,
           -74.01361706,
           40.71754834,
           -74.01322069
          ],
          [
           "E 1 St & 1 Ave",
           "Great Jones St",
           37930,
           40.72335597960796,
           -73.98864984512329,
           40.72743423,
           -73.99379025
          ],
          [
           "Great Jones St",
           "Great Jones St",
           37930,
           40.72743423,
           -73.99379025,
           40.72743423,
           -73.99379025
          ],
          [
           "Broadway & W 51 St",
           "Broadway & W 51 St",
           37930,
           40.76228826,
           -73.98336183,
           40.76228826,
           -73.98336183
          ],
          [
           "Great Jones St",
           "Reade St & Broadway",
           37930,
           40.72743423,
           -73.99379025,
           40.71450451,
           -74.00562789
          ],
          [
           "Broadway & W 51 St",
           "Broadway & W 51 St",
           37930,
           40.76228826,
           -73.98336183,
           40.76228826,
           -73.98336183
          ],
          [
           "E 31 St & 3 Ave",
           "E 31 St & 3 Ave",
           37930,
           40.74394314,
           -73.97966069,
           40.74394314,
           -73.97966069
          ],
          [
           "Driggs Ave & Lorimer St",
           "10 Ave & W 28 St",
           37930,
           40.72179134,
           -73.9504154,
           40.75066386,
           -74.00176802
          ],
          [
           "Flushing Ave & Vanderbilt Ave",
           "Flushing Ave & Vanderbilt Ave",
           37930,
           40.69795031569544,
           -73.97077560424805,
           40.69795031569544,
           -73.97077560424805
          ],
          [
           "Jay St & York St",
           "Flushing Ave & Vanderbilt Ave",
           37930,
           40.70140317257725,
           -73.98672670125961,
           40.69795031569544,
           -73.97077560424805
          ],
          [
           "E 16 St & 5 Ave",
           "Great Jones St",
           37930,
           40.73726186,
           -73.99238967,
           40.72743423,
           -73.99379025
          ],
          [
           "9 Ave & W 22 St",
           "West St & Chambers St",
           37930,
           40.7454973,
           -74.00197139,
           40.71754834,
           -74.01322069
          ],
          [
           "2 Ave & E 29 St",
           "William St & Pine St",
           37930,
           40.74172351097472,
           -73.97809267044067,
           40.70717936,
           -74.00887308
          ],
          [
           "Hanson Pl & Ashland Pl",
           "Lawrence St & Willoughby St",
           37930,
           40.68506807308177,
           -73.97790759801863,
           40.69236178,
           -73.98631746
          ],
          [
           "Rutgers St & Henry St",
           "Reade St & Broadway",
           37930,
           40.71332151208186,
           -73.99009689688683,
           40.71450451,
           -74.00562789
          ],
          [
           "W 15 St & 7 Ave",
           "10 Ave & W 28 St",
           37930,
           40.73935542,
           -73.99931783,
           40.75066386,
           -74.00176802
          ],
          [
           "Adam Clayton Powell Blvd & W 138 St",
           "Courtlandt Ave & E 149 St",
           37930,
           40.81695971032464,
           -73.9422959089279,
           40.816402,
           -73.919549
          ],
          [
           "Broadway & E 21 St",
           "E 31 St & 3 Ave",
           37930,
           40.73988840858996,
           -73.98958593606949,
           40.74394314,
           -73.97966069
          ],
          [
           "Kingston Ave & Herkimer St",
           "Central Ave & Starr Street",
           37930,
           40.67890679,
           -73.94142771,
           40.700003,
           -73.92834
          ],
          [
           "E 81 St & 2 Ave",
           "W Broadway & W Houston St",
           37930,
           40.77477944895728,
           -73.95427465438843,
           40.726378,
           -74.000472
          ],
          [
           "W 20 St & 10 Ave",
           "10 Ave & W 28 St",
           37930,
           40.745686,
           -74.005141,
           40.75066386,
           -74.00176802
          ],
          [
           "West St & Liberty St",
           "West St & Chambers St",
           37930,
           40.711444,
           -74.014847,
           40.71754834,
           -74.01322069
          ],
          [
           "E 32 St & Park Ave",
           "E 31 St & 3 Ave",
           37930,
           40.7457121,
           -73.98194829,
           40.74394314,
           -73.97966069
          ],
          [
           "E 32 St & Park Ave",
           "E 31 St & 3 Ave",
           37930,
           40.7457121,
           -73.98194829,
           40.74394314,
           -73.97966069
          ],
          [
           "Columbus Ave & W 95 St",
           "W 110 St & Amsterdam Ave",
           37930,
           40.7919557,
           -73.968087,
           40.802692,
           -73.96295
          ],
          [
           "E 32 St & Park Ave",
           "E 31 St & 3 Ave",
           37930,
           40.7457121,
           -73.98194829,
           40.74394314,
           -73.97966069
          ],
          [
           "Columbus Ave & W 95 St",
           "West St & Chambers St",
           37930,
           40.7919557,
           -73.968087,
           40.71754834,
           -74.01322069
          ],
          [
           "North Moore St & Greenwich St",
           "Columbia St & Rivington St",
           37930,
           40.72019521437465,
           -74.0103006362915,
           40.71739973,
           -73.98016555
          ],
          [
           "W 16 St & The High Line",
           "W 20 St & 7 Ave",
           37930,
           40.74334935,
           -74.00681753,
           40.74238787,
           -73.99726235
          ],
          [
           "Centre St & Worth St",
           "Columbia St & Rivington St",
           37930,
           40.71494807,
           -74.00234482,
           40.71739973,
           -73.98016555
          ],
          [
           "Decatur Ave & Oliver Pl",
           "Decatur Ave & Bedford Park Blvd",
           37930,
           40.867,
           -73.8857764,
           40.86813,
           -73.88412
          ],
          [
           "Stagg St & Union Ave",
           "Cedar St & Evergreen Ave",
           37930,
           40.70877084,
           -73.95095259,
           40.69671,
           -73.92807
          ],
          [
           "Cherry St",
           "St James Pl & Oliver St",
           37930,
           40.71219906,
           -73.97948148,
           40.71307916,
           -73.99851193
          ],
          [
           "Irving Ave & Palmetto St",
           "Knickerbocker Ave & George St",
           37930,
           40.698,
           -73.9127,
           40.704425,
           -73.92836
          ],
          [
           "Broadway & W 61 St",
           "E 59 St & Madison Ave",
           37930,
           40.77003010255044,
           -73.9819684624672,
           40.76350532,
           -73.97109243
          ],
          [
           "1 Ave & E 68 St",
           "E 95 St & 3 Ave",
           37930,
           40.76500525,
           -73.95818491,
           40.7849032,
           -73.950503
          ],
          [
           "1 Ave & E 68 St",
           "E 33 St & 1 Ave",
           37930,
           40.76500525,
           -73.95818491,
           40.74322681432173,
           -73.97449783980846
          ],
          [
           "Graham Ave & Grand St",
           "Irving Ave & DeKalb Ave",
           37930,
           40.711863,
           -73.944024,
           40.7027,
           -73.92095
          ],
          [
           "Rivington St & Chrystie St",
           "E 33 St & 1 Ave",
           37930,
           40.72110063,
           -73.9919254,
           40.74322681432173,
           -73.97449783980846
          ],
          [
           "Broadway & W 58 St",
           "E 59 St & Madison Ave",
           37930,
           40.76695317,
           -73.98169333,
           40.76350532,
           -73.97109243
          ],
          [
           "E 2 St & Avenue B",
           "Columbia St & Rivington St",
           37930,
           40.72217444,
           -73.98368779,
           40.71739973,
           -73.98016555
          ],
          [
           "DeKalb Ave & Hudson Ave",
           "Johnson St & Gold St",
           37930,
           40.689888,
           -73.981013,
           40.69474881,
           -73.98362464
          ],
          [
           "8 Ave & W 33 St",
           "E 33 St & 1 Ave",
           37930,
           40.751551,
           -73.993934,
           40.74322681432173,
           -73.97449783980846
          ],
          [
           "Centre St & Chambers St",
           "St James Pl & Oliver St",
           37930,
           40.71273266,
           -74.0046073,
           40.71307916,
           -73.99851193
          ],
          [
           "Stanton St & Chrystie St",
           "St James Pl & Oliver St",
           37930,
           40.72229346,
           -73.99147535,
           40.71307916,
           -73.99851193
          ],
          [
           "Beaver St & Fayette St",
           "Carlton Ave & Flushing Ave",
           37930,
           40.70099,
           -73.93921,
           40.697787,
           -73.973736
          ],
          [
           "Centre St & Chambers St",
           "Johnson St & Gold St",
           37930,
           40.71273266,
           -74.0046073,
           40.69474881,
           -73.98362464
          ],
          [
           "Broadway & Furman Ave",
           "Fulton St & Utica Ave",
           37930,
           40.68139,
           -73.90756,
           40.6794268,
           -73.9298911
          ],
          [
           "W 186 St & St. Nicholas Ave",
           "Amsterdam Ave & W 186 St",
           37930,
           40.852253,
           -73.931308,
           40.851113,
           -73.928808
          ],
          [
           "W 47 St & 10 Ave",
           "E 59 St & Madison Ave",
           37930,
           40.76269882,
           -73.99301222,
           40.76350532,
           -73.97109243
          ],
          [
           "1 Ave & E 68 St",
           "E 95 St & 3 Ave",
           37930,
           40.76500525,
           -73.95818491,
           40.7849032,
           -73.950503
          ],
          [
           "10 Ave & W 14 St",
           "Vesey St & Church St",
           37930,
           40.74198159994023,
           -74.00831580162048,
           40.71221958009051,
           -74.01047229766846
          ],
          [
           "10 Ave & W 14 St",
           "Vesey St & Church St",
           37930,
           40.74198159994023,
           -74.00831580162048,
           40.71221958009051,
           -74.01047229766846
          ],
          [
           "10 Ave & W 14 St",
           "Vesey St & Church St",
           37930,
           40.74198159994023,
           -74.00831580162048,
           40.71221958009051,
           -74.01047229766846
          ],
          [
           "LaGuardia Pl & W 3 St",
           "Broadway & E 14 St",
           37930,
           40.72917025,
           -73.99810231,
           40.73454567,
           -73.99074142
          ],
          [
           "Broadway & W 38 St",
           "Broadway & E 14 St",
           37930,
           40.7529728216068,
           -73.98734897375107,
           40.73454567,
           -73.99074142
          ],
          [
           "W 27 St & 7 Ave",
           "E 20 St & Park Ave",
           37930,
           40.746647,
           -73.993915,
           40.73827428,
           -73.98751968
          ],
          [
           "E 50 St & Park Ave",
           "W 70 St & Amsterdam Ave",
           37930,
           40.757334,
           -73.974235,
           40.77748046,
           -73.98288594
          ],
          [
           "53 St & 4 Ave",
           "Broadway & E 14 St",
           37930,
           40.644862,
           -74.014531,
           40.73454567,
           -73.99074142
          ],
          [
           "Washington Square E",
           "Vesey St & Church St",
           37930,
           40.73049393,
           -73.9957214,
           40.71221958009051,
           -74.01047229766846
          ],
          [
           "W 89 St & Columbus Ave",
           "7 Ave & Central Park South",
           37930,
           40.7882213,
           -73.97041561,
           40.7667405590595,
           -73.9790689945221
          ],
          [
           "Washington Square E",
           "6 Ave & W 33 St",
           37930,
           40.73049393,
           -73.9957214,
           40.74901271,
           -73.98848395
          ],
          [
           "Hudson St & Reade St",
           "Vesey St & Church St",
           37930,
           40.71625008,
           -74.0091059,
           40.71221958009051,
           -74.01047229766846
          ],
          [
           "Riverside Dr & W 72 St",
           "7 Ave & Central Park South",
           37930,
           40.78057799010334,
           -73.98562431335449,
           40.7667405590595,
           -73.9790689945221
          ],
          [
           "5 Ave & E 87 St",
           "St Nicholas Ave & Manhattan Ave",
           37930,
           40.78232260730881,
           -73.95987510681152,
           40.809725,
           -73.953149
          ],
          [
           "W 36 St & 7 Ave",
           "6 Ave & W 33 St",
           37930,
           40.752149,
           -73.989539,
           40.74901271,
           -73.98848395
          ],
          [
           "Broadway & W 61 St",
           "7 Ave & Central Park South",
           37930,
           40.77003,
           -73.981968,
           40.766741,
           -73.979069
          ],
          [
           "Broadway & W 41 St",
           "W 70 St & Amsterdam Ave",
           37930,
           40.75513557,
           -73.98658032,
           40.77748046,
           -73.98288594
          ],
          [
           "Madison Ave & E 26 St",
           "6 Ave & W 33 St",
           37930,
           40.742684734875695,
           -73.98671329021454,
           40.74901271,
           -73.98848395
          ],
          [
           "Madison Ave & E 26 St",
           "6 Ave & W 33 St",
           37930,
           40.742684734875695,
           -73.98671329021454,
           40.74901271,
           -73.98848395
          ],
          [
           "44 Dr & Jackson Ave",
           "W 70 St & Amsterdam Ave",
           37930,
           40.74718234,
           -73.9432635,
           40.77748046,
           -73.98288594
          ],
          [
           "Leonard St & Church St",
           "Vesey St & Church St",
           37930,
           40.717571,
           -74.005549,
           40.71221958009051,
           -74.01047229766846
          ],
          [
           "Central Park S & 6 Ave",
           "7 Ave & Central Park South",
           37930,
           40.76590936,
           -73.97634151,
           40.7667405590595,
           -73.9790689945221
          ],
          [
           "Central Park S & 6 Ave",
           "7 Ave & Central Park South",
           37930,
           40.76590936,
           -73.97634151,
           40.7667405590595,
           -73.9790689945221
          ],
          [
           "Central Park S & 6 Ave",
           "7 Ave & Central Park South",
           37930,
           40.76590936,
           -73.97634151,
           40.7667405590595,
           -73.9790689945221
          ],
          [
           "E 81 St & York Ave",
           "E 20 St & Park Ave",
           37930,
           40.7728384,
           -73.94989233,
           40.73827428,
           -73.98751968
          ],
          [
           "Putnam Ave & Wyckoff Ave",
           "Willoughby Ave & Onderdonk Ave",
           37930,
           40.69811,
           -73.90904,
           40.7098,
           -73.91727
          ],
          [
           "9 Ave & W 45 St",
           "Madison Av & E 51 St",
           37930,
           40.76019252,
           -73.9912551,
           40.75863,
           -73.97513
          ],
          [
           "Lexington Ave & Classon Ave",
           "Verona Pl & Fulton St",
           37930,
           40.68676793,
           -73.95928168,
           40.6803560840434,
           -73.9476791024208
          ],
          [
           "Convent Ave & W 135 St",
           "Amsterdam Ave & W 119 St",
           37930,
           40.818215,
           -73.950988,
           40.80863217506367,
           -73.95958609887202
          ],
          [
           "24 St & 41 Ave",
           "35 Ave & 37 St",
           37930,
           40.752474,
           -73.939991,
           40.7557327,
           -73.9236611
          ],
          [
           "1 Ave & E 68 St",
           "E 75 St & 3 Ave",
           37930,
           40.76500525,
           -73.95818491,
           40.77112927,
           -73.95772297
          ],
          [
           "Kingston Ave & Herkimer St",
           "Verona Pl & Fulton St",
           37930,
           40.67890679,
           -73.94142771,
           40.6803560840434,
           -73.9476791024208
          ],
          [
           "W 74 St & Columbus Ave",
           "1 Ave & E 94 St",
           37930,
           40.7785669,
           -73.97754961,
           40.7817212,
           -73.94594
          ],
          [
           "Riverside Blvd & W 67 St",
           "E 58 St & Madison Ave",
           37930,
           40.777507027547976,
           -73.98888587951659,
           40.76302594280519,
           -73.97209525108337
          ],
          [
           "Morgan Ave & Lombardy St",
           "Graham Ave & Conselyea St",
           37930,
           40.72226,
           -73.93889,
           40.715143,
           -73.944507
          ],
          [
           "Lexington Ave & E 127 St",
           "1 Ave & E 94 St",
           37930,
           40.805726,
           -73.936322,
           40.7817212,
           -73.94594
          ],
          [
           "Kingsland Ave & Nassau Ave",
           "Graham Ave & Conselyea St",
           37930,
           40.72577,
           -73.94173,
           40.715143,
           -73.944507
          ],
          [
           "Flushing Ave & Vanderbilt Ave",
           "Bushwick Ave & Stagg St",
           37930,
           40.69795031569544,
           -73.97077560424805,
           40.709897,
           -73.94008
          ],
          [
           "West St & Chambers St",
           "E 58 St & Madison Ave",
           37930,
           40.71754834,
           -74.01322069,
           40.76302594280519,
           -73.97209525108337
          ],
          [
           "2 Ave & E 122 St",
           "Frederick Douglass Blvd & W 139 St",
           37930,
           40.8006721,
           -73.9349,
           40.81900581806558,
           -73.94476890563965
          ],
          [
           "2 Ave & E 122 St",
           "1 Ave & E 94 St",
           37930,
           40.8006721,
           -73.9349,
           40.7817212,
           -73.94594
          ],
          [
           "Madison Ave & E 26 St",
           "West End Ave & W 94 St",
           37930,
           40.742684734875695,
           -73.98671329021454,
           40.7941654,
           -73.974124
          ],
          [
           "W 186 St & St. Nicholas Ave",
           "University Ave & Macombs Rd",
           37930,
           40.852253,
           -73.931308,
           40.8496401,
           -73.9161206
          ],
          [
           "W 47 St & 10 Ave",
           "E 58 St & Madison Ave",
           37930,
           40.76269882,
           -73.99301222,
           40.76302594280519,
           -73.97209525108337
          ],
          [
           "Broadway & W 37 St",
           "E 58 St & Madison Ave",
           37930,
           40.75172632,
           -73.98753523,
           40.76302594280519,
           -73.97209525108337
          ],
          [
           "1 Ave & E 68 St",
           "35 St & Broadway",
           37930,
           40.76500525,
           -73.95818491,
           40.760339,
           -73.9222427
          ],
          [
           "Newton Rd & 44 St",
           "35 Ave & 37 St",
           37930,
           40.7595701,
           -73.9142678,
           40.7557327,
           -73.9236611
          ],
          [
           "E 84 St & Park Ave",
           "E 75 St & 3 Ave",
           37930,
           40.77862688,
           -73.95772073,
           40.77112927,
           -73.95772297
          ],
          [
           "McKibbin St & Manhattan Ave",
           "Bushwick Ave & Stagg St",
           37930,
           40.70510918,
           -73.94407279,
           40.709897,
           -73.94008
          ],
          [
           "31 St & Newtown Ave",
           "Steinway St & Broadway",
           37930,
           40.7675487799971,
           -73.9209334552288,
           40.75905795418586,
           -73.91897544264793
          ],
          [
           "Dean St & Franklin Ave",
           "Verona Pl & Fulton St",
           37930,
           40.67759206937376,
           -73.955637216568,
           40.6803560840434,
           -73.9476791024208
          ],
          [
           "Wyckoff Ave & Gates Ave",
           "Harman St & Seneca Ave",
           37930,
           40.699871408829885,
           -73.91171872615814,
           40.70577,
           -73.91292
          ],
          [
           "Sands St & Jay St",
           "Division St & Bowery",
           37930,
           40.700119,
           -73.9862,
           40.714193,
           -73.996732
          ],
          [
           "Clermont Ave & Lafayette Ave",
           "Fulton St & Clermont Ave",
           37930,
           40.68764484,
           -73.96968902,
           40.68415748,
           -73.96922273
          ],
          [
           "1 Ave & E 68 St",
           "Central Park West & W 72 St",
           37930,
           40.76500525,
           -73.95818491,
           40.77579376683666,
           -73.9762057363987
          ],
          [
           "Madison Ave & E 26 St",
           "E 16 St & Irving Pl",
           37930,
           40.742684734875695,
           -73.98671329021454,
           40.735367055605394,
           -73.98797392845154
          ],
          [
           "W 74 St & Columbus Ave",
           "Central Park West & W 72 St",
           37930,
           40.7785669,
           -73.97754961,
           40.77579376683666,
           -73.9762057363987
          ],
          [
           "Milton St & Franklin St",
           "Metropolitan Ave & Bedford Ave",
           37930,
           40.72906,
           -73.95779,
           40.71534825,
           -73.96024116
          ],
          [
           "Central Park West & W 72 St",
           "Central Park West & W 72 St",
           37930,
           40.77579376683666,
           -73.9762057363987,
           40.77579376683666,
           -73.9762057363987
          ],
          [
           "35 St & 34 Ave",
           "43 St & 37 Ave",
           37930,
           40.7580583,
           -73.9242751,
           40.750181,
           -73.919998
          ],
          [
           "Metropolitan Ave & Bedford Ave",
           "Metropolitan Ave & Bedford Ave",
           37930,
           40.71534825,
           -73.96024116,
           40.71534825,
           -73.96024116
          ],
          [
           "Central Park West & W 72 St",
           "Central Park West & W 72 St",
           37930,
           40.77579376683666,
           -73.9762057363987,
           40.77579376683666,
           -73.9762057363987
          ],
          [
           "Metropolitan Ave & Bedford Ave",
           "Metropolitan Ave & Bedford Ave",
           37930,
           40.71534825,
           -73.96024116,
           40.71534825,
           -73.96024116
          ],
          [
           "12 Ave & W 40 St",
           "12 Ave & W 40 St",
           37930,
           40.76087502,
           -74.00277668,
           40.76087502,
           -74.00277668
          ],
          [
           "Ft. Hamilton Pkwy & E 2 St",
           "Ft. Hamilton Pkwy & E 2 St",
           37930,
           40.648005,
           -73.979342,
           40.648005,
           -73.979342
          ],
          [
           "Riverside Dr & W 145 St",
           "Riverside Dr & W 145 St",
           37930,
           40.827305,
           -73.951989,
           40.827305,
           -73.951989
          ],
          [
           "Riverside Dr & W 145 St",
           "Riverside Dr & W 145 St",
           37930,
           40.827305,
           -73.951989,
           40.827305,
           -73.951989
          ],
          [
           "Morris Ave & E 163 St",
           "Morris Ave & E 163 St",
           37930,
           40.827230499624726,
           -73.91765579597632,
           40.827230499624726,
           -73.91765579597632
          ],
          [
           "Ft. Hamilton Pkwy & E 2 St",
           "Ft. Hamilton Pkwy & E 2 St",
           37930,
           40.648005,
           -73.979342,
           40.648005,
           -73.979342
          ],
          [
           "E 84 St & Park Ave",
           "1 Ave & E 18 St",
           37930,
           40.77862688,
           -73.95772073,
           40.73381219196632,
           -73.98054420948029
          ],
          [
           "31 St & Newtown Ave",
           "31 St & Newtown Ave",
           37930,
           40.7675487799971,
           -73.9209334552288,
           40.7675487799971,
           -73.9209334552288
          ],
          [
           "McKibbin St & Manhattan Ave",
           "McKibbin St & Manhattan Ave",
           37930,
           40.70510918,
           -73.94407279,
           40.70510918,
           -73.94407279
          ]
         ],
         "index": [
          0,
          1,
          2,
          3,
          4,
          5,
          6,
          7,
          8,
          9,
          10,
          11,
          12,
          13,
          14,
          15,
          16,
          17,
          18,
          19,
          20,
          21,
          22,
          23,
          24,
          25,
          26,
          27,
          28,
          29,
          30,
          31,
          32,
          33,
          34,
          35,
          36,
          37,
          38,
          39,
          40,
          41,
          42,
          43,
          44,
          45,
          46,
          47,
          48,
          49,
          50,
          51,
          52,
          53,
          54,
          55,
          56,
          57,
          58,
          59,
          60,
          61,
          62,
          63,
          64,
          65,
          66,
          67,
          68,
          69,
          70,
          71,
          72,
          73,
          74,
          75,
          76,
          77,
          78,
          79,
          80,
          81,
          82,
          83,
          84,
          85,
          86,
          87,
          88,
          89,
          90,
          91,
          92,
          93,
          94,
          95,
          96,
          97,
          98,
          99,
          100,
          101,
          102,
          103,
          104,
          105,
          106,
          107,
          108,
          109,
          110,
          111,
          112,
          113,
          114,
          115,
          116,
          117,
          118,
          119,
          120,
          121,
          122,
          123,
          124,
          125,
          126,
          127,
          128,
          129,
          130,
          131,
          132,
          133,
          134,
          135,
          136,
          137,
          138,
          139,
          140,
          141,
          142,
          143,
          144,
          145,
          146,
          147,
          148,
          149,
          150,
          151,
          152,
          153,
          154,
          155,
          156,
          157,
          158,
          159,
          160,
          161,
          162,
          163,
          164,
          165,
          166,
          167,
          168,
          169,
          170,
          171,
          172,
          173,
          174,
          175,
          176,
          177,
          178,
          179,
          180,
          181,
          182,
          183,
          184,
          185,
          186,
          187,
          188,
          189,
          190,
          191,
          192,
          193,
          194,
          195,
          196,
          197,
          198,
          199,
          200,
          201,
          202,
          203,
          204,
          205,
          206,
          207,
          208,
          209,
          210,
          211,
          212,
          213,
          214,
          215,
          216,
          217,
          218,
          219,
          220,
          221,
          222,
          223,
          224,
          225,
          226,
          227,
          228,
          229,
          230,
          231,
          232,
          233,
          234,
          235,
          236,
          237,
          238,
          239,
          240,
          241,
          242,
          243,
          244,
          245,
          246,
          247,
          248,
          249,
          250,
          251,
          252,
          253,
          254,
          255,
          256,
          257,
          258,
          259,
          260,
          261,
          262,
          263,
          264,
          265,
          266,
          267,
          268,
          269,
          270,
          271,
          272,
          273,
          274,
          275,
          276,
          277,
          278,
          279,
          280,
          281,
          282,
          283,
          284,
          285,
          286,
          287,
          288,
          289,
          290,
          291,
          292,
          293,
          294,
          295,
          296,
          297,
          298,
          299,
          300,
          301,
          302,
          303,
          304,
          305,
          306,
          307,
          308,
          309,
          310,
          311,
          312,
          313,
          314,
          315,
          316,
          317,
          318,
          319,
          320,
          321,
          322,
          323,
          324,
          325,
          326,
          327,
          328,
          329,
          330,
          331,
          332,
          333,
          334,
          335,
          336,
          337,
          338,
          339,
          340,
          341,
          342,
          343,
          344,
          345,
          346,
          347,
          348,
          349,
          350,
          351,
          352,
          353,
          354,
          355,
          356,
          357,
          358,
          359,
          360,
          361,
          362,
          363,
          364,
          365,
          366,
          367,
          368,
          369,
          370,
          371,
          372,
          373,
          374,
          375,
          376,
          377,
          378,
          379,
          380,
          381,
          382,
          383,
          384,
          385,
          386,
          387,
          388,
          389,
          390,
          391,
          392,
          393,
          394,
          395,
          396,
          397,
          398,
          399,
          400,
          401,
          402,
          403,
          404,
          405,
          406,
          407,
          408,
          409,
          410,
          411,
          412,
          413,
          414,
          415,
          416,
          417,
          418,
          419,
          420,
          421,
          422,
          423,
          424,
          425,
          426,
          427,
          428,
          429,
          430,
          431,
          432,
          433,
          434,
          435,
          436,
          437,
          438,
          439,
          440,
          441,
          442,
          443,
          444,
          445,
          446,
          447,
          448,
          449,
          450,
          451,
          452,
          453,
          454,
          455,
          456,
          457,
          458,
          459,
          460,
          461,
          462,
          463,
          464,
          465,
          466,
          467,
          468,
          469,
          470,
          471,
          472,
          473,
          474,
          475,
          476,
          477,
          478,
          479,
          480,
          481,
          482,
          483,
          484,
          485,
          486,
          487,
          488,
          489,
          490,
          491,
          492,
          493,
          494,
          495,
          496,
          497,
          498,
          499,
          500,
          501,
          502,
          503,
          504,
          505,
          506,
          507,
          508,
          509,
          510,
          511,
          512,
          513,
          514,
          515,
          516,
          517,
          518,
          519,
          520,
          521,
          522,
          523,
          524,
          525,
          526,
          527,
          528,
          529,
          530,
          531,
          532,
          533,
          534,
          535,
          536,
          537,
          538,
          539,
          540,
          541,
          542,
          543,
          544,
          545,
          546,
          547,
          548,
          549,
          550,
          551,
          552,
          553,
          554,
          555,
          556,
          557,
          558,
          559,
          560,
          561,
          562,
          563,
          564,
          565,
          566,
          567,
          568,
          569,
          570,
          571,
          572,
          573,
          574,
          575,
          576,
          577,
          578,
          579,
          580,
          581,
          582,
          583,
          584,
          585,
          586,
          587,
          588,
          589,
          590,
          591,
          592,
          593,
          594,
          595,
          596,
          597,
          598,
          599,
          600,
          601,
          602,
          603,
          604,
          605,
          606,
          607,
          608,
          609,
          610,
          611,
          612,
          613,
          614,
          615,
          616,
          617,
          618,
          619,
          620,
          621,
          622,
          623,
          624,
          625,
          626,
          627,
          628,
          629,
          630,
          631,
          632,
          633,
          634,
          635,
          636,
          637,
          638,
          639,
          640,
          641,
          642,
          643,
          644,
          645,
          646,
          647,
          648,
          649,
          650,
          651,
          652,
          653,
          654,
          655,
          656,
          657,
          658,
          659,
          660,
          661,
          662,
          663,
          664,
          665,
          666,
          667,
          668,
          669,
          670,
          671,
          672,
          673,
          674,
          675,
          676,
          677,
          678,
          679,
          680,
          681,
          682,
          683,
          684,
          685,
          686,
          687,
          688,
          689,
          690,
          691,
          692,
          693,
          694,
          695,
          696,
          697,
          698,
          699,
          700,
          701,
          702,
          703,
          704,
          705,
          706,
          707,
          708,
          709,
          710,
          711,
          712,
          713,
          714,
          715,
          716,
          717,
          718,
          719,
          720,
          721,
          722,
          723,
          724,
          725,
          726,
          727,
          728,
          729,
          730,
          731,
          732,
          733,
          734,
          735,
          736,
          737,
          738,
          739,
          740,
          741,
          742,
          743,
          744,
          745,
          746,
          747,
          748,
          749,
          750,
          751,
          752,
          753,
          754,
          755,
          756,
          757,
          758,
          759,
          760,
          761,
          762,
          763,
          764,
          765,
          766,
          767,
          768,
          769,
          770,
          771,
          772,
          773,
          774,
          775,
          776,
          777,
          778,
          779,
          780,
          781,
          782,
          783,
          784,
          785,
          786,
          787,
          788,
          789,
          790,
          791,
          792,
          793,
          794,
          795,
          796,
          797,
          798,
          799,
          800,
          801,
          802,
          803,
          804,
          805,
          806,
          807,
          808,
          809,
          810,
          811,
          812,
          813,
          814,
          815,
          816,
          817,
          818,
          819,
          820,
          821,
          822,
          823,
          824,
          825,
          826,
          827,
          828,
          829,
          830,
          831,
          832,
          833,
          834,
          835,
          836,
          837,
          838,
          839,
          840,
          841,
          842,
          843,
          844,
          845,
          846,
          847,
          848,
          849,
          850,
          851,
          852,
          853,
          854,
          855,
          856,
          857,
          858,
          859,
          860,
          861,
          862,
          863,
          864,
          865,
          866,
          867,
          868,
          869,
          870,
          871,
          872,
          873,
          874,
          875,
          876,
          877,
          878,
          879,
          880,
          881,
          882,
          883,
          884,
          885,
          886,
          887,
          888,
          889,
          890,
          891,
          892,
          893,
          894,
          895,
          896,
          897,
          898,
          899,
          900,
          901,
          902,
          903,
          904,
          905,
          906,
          907,
          908,
          909,
          910,
          911,
          912,
          913,
          914,
          915,
          916,
          917,
          918,
          919,
          920,
          921,
          922,
          923,
          924,
          925,
          926,
          927,
          928,
          929,
          930,
          931,
          932,
          933,
          934,
          935,
          936,
          937,
          938,
          939,
          940,
          941,
          942,
          943,
          944,
          945,
          946,
          947,
          948,
          949,
          950,
          951,
          952,
          953,
          954,
          955,
          956,
          957,
          958,
          959,
          960,
          961,
          962,
          963,
          964,
          965,
          966,
          967,
          968,
          969,
          970,
          971,
          972,
          973,
          974,
          975,
          976,
          977,
          978,
          979,
          980,
          981,
          982,
          983,
          984,
          985,
          986,
          987,
          988,
          989,
          990,
          991,
          992,
          993,
          994,
          995,
          996,
          997,
          998,
          999
         ]
        }
       },
       "height": 700,
       "layout": "IPY_MODEL_0634dc5e65b24da6bdfe3367e92352e6",
       "value": "Hello World!"
      }
     },
     "592346d311944f17a914860d07c60025": {
      "model_module": "keplergl-jupyter",
      "model_module_version": "^0.3.2",
      "model_name": "KeplerGlModal",
      "state": {
       "_model_module_version": "^0.3.2",
       "_view_module_version": "^0.3.2",
       "config": {
        "config": {
         "mapState": {
          "bearing": 0,
          "dragRotate": false,
          "isSplit": false,
          "isViewportSynced": true,
          "isZoomLocked": false,
          "latitude": 40.74977759575819,
          "longitude": -73.99639727308335,
          "pitch": 0,
          "splitMapViewports": [],
          "zoom": 10
         },
         "mapStyle": {
          "backgroundColor": [
           0,
           0,
           0
          ],
          "mapStyles": {},
          "styleType": "dark-matter",
          "threeDBuildingColor": [
           15.035172933000911,
           15.035172933000911,
           15.035172933000911
          ],
          "topLayerGroups": {},
          "visibleLayerGroups": {
           "3d building": false,
           "border": false,
           "building": true,
           "label": true,
           "land": true,
           "road": true,
           "water": true
          }
         },
         "visState": {
          "animationConfig": {
           "currentTime": null,
           "speed": 1
          },
          "editor": {
           "features": [],
           "visible": true
          },
          "effects": [],
          "filters": [
           {
            "animationWindow": "free",
            "dataId": [
             "bike_routes"
            ],
            "enabled": true,
            "id": "kzf9n13dj",
            "name": [
             "bike_rides_daily"
            ],
            "plotType": "histogram",
            "speed": 1,
            "type": "range",
            "value": [
             37930,
             37931
            ],
            "view": "side",
            "yAxis": null
           }
          ],
          "interactionConfig": {
           "brush": {
            "enabled": false,
            "size": 0.5
           },
           "coordinate": {
            "enabled": false
           },
           "geocoder": {
            "enabled": false
           },
           "tooltip": {
            "compareMode": false,
            "compareType": "absolute",
            "enabled": true,
            "fieldsToShow": {
             "bike_routes": [
              {
               "format": null,
               "name": "start_station_name"
              },
              {
               "format": null,
               "name": "end_station_name"
              },
              {
               "format": null,
               "name": "bike_rides_daily"
              }
             ]
            }
           }
          },
          "layerBlending": "normal",
          "layers": [
           {
            "config": {
             "color": [
              164,
              13,
              119
             ],
             "columns": {
              "lat": "start_lat",
              "lng": "start_lng"
             },
             "dataId": "bike_routes",
             "hidden": false,
             "highlightColor": [
              252,
              242,
              26,
              255
             ],
             "isVisible": true,
             "label": "start",
             "textLabel": [
              {
               "alignment": "center",
               "anchor": "start",
               "background": false,
               "backgroundColor": [
                0,
                0,
                200,
                255
               ],
               "color": [
                255,
                255,
                255
               ],
               "field": null,
               "offset": [
                0,
                0
               ],
               "outlineColor": [
                255,
                0,
                0,
                255
               ],
               "outlineWidth": 0,
               "size": 18
              }
             ],
             "visConfig": {
              "colorRange": {
               "category": "Uber",
               "colors": [
                "#5A1846",
                "#900C3F",
                "#C70039",
                "#E3611C",
                "#F1920E",
                "#FFC300"
               ],
               "name": "Global Warming",
               "type": "sequential"
              },
              "filled": true,
              "fixedRadius": false,
              "opacity": 0.8,
              "outline": false,
              "radius": 10,
              "radiusRange": [
               0,
               50
              ],
              "strokeColor": null,
              "strokeColorRange": {
               "category": "Uber",
               "colors": [
                "#5A1846",
                "#900C3F",
                "#C70039",
                "#E3611C",
                "#F1920E",
                "#FFC300"
               ],
               "name": "Global Warming",
               "type": "sequential"
              },
              "thickness": 2
             }
            },
            "id": "gam2au",
            "type": "point",
            "visualChannels": {
             "colorField": null,
             "colorScale": "quantile",
             "sizeField": null,
             "sizeScale": "linear",
             "strokeColorField": null,
             "strokeColorScale": "quantile"
            }
           },
           {
            "config": {
             "color": [
              237,
              141,
              0
             ],
             "columns": {
              "lat": "end_lat",
              "lng": "end_lng"
             },
             "dataId": "bike_routes",
             "hidden": false,
             "highlightColor": [
              252,
              242,
              26,
              255
             ],
             "isVisible": true,
             "label": "end",
             "textLabel": [
              {
               "alignment": "center",
               "anchor": "start",
               "background": false,
               "backgroundColor": [
                0,
                0,
                200,
                255
               ],
               "color": [
                255,
                255,
                255
               ],
               "field": null,
               "offset": [
                0,
                0
               ],
               "outlineColor": [
                255,
                0,
                0,
                255
               ],
               "outlineWidth": 0,
               "size": 18
              }
             ],
             "visConfig": {
              "colorRange": {
               "category": "Uber",
               "colors": [
                "#5A1846",
                "#900C3F",
                "#C70039",
                "#E3611C",
                "#F1920E",
                "#FFC300"
               ],
               "name": "Global Warming",
               "type": "sequential"
              },
              "filled": true,
              "fixedRadius": false,
              "opacity": 0.8,
              "outline": false,
              "radius": 10,
              "radiusRange": [
               0,
               50
              ],
              "strokeColor": null,
              "strokeColorRange": {
               "category": "Uber",
               "colors": [
                "#5A1846",
                "#900C3F",
                "#C70039",
                "#E3611C",
                "#F1920E",
                "#FFC300"
               ],
               "name": "Global Warming",
               "type": "sequential"
              },
              "thickness": 2
             }
            },
            "id": "p7yjogk",
            "type": "point",
            "visualChannels": {
             "colorField": null,
             "colorScale": "quantile",
             "sizeField": null,
             "sizeScale": "linear",
             "strokeColorField": null,
             "strokeColorScale": "quantile"
            }
           },
           {
            "config": {
             "color": [
              164,
              13,
              119
             ],
             "columns": {
              "lat0": "start_lat",
              "lat1": "end_lat",
              "lng0": "start_lng",
              "lng1": "end_lng"
             },
             "dataId": "bike_routes",
             "hidden": false,
             "highlightColor": [
              252,
              242,
              26,
              255
             ],
             "isVisible": true,
             "label": "start -> end arc",
             "textLabel": [
              {
               "alignment": "center",
               "anchor": "start",
               "background": false,
               "backgroundColor": [
                0,
                0,
                200,
                255
               ],
               "color": [
                255,
                255,
                255
               ],
               "field": null,
               "offset": [
                0,
                0
               ],
               "outlineColor": [
                255,
                0,
                0,
                255
               ],
               "outlineWidth": 0,
               "size": 18
              }
             ],
             "visConfig": {
              "colorRange": {
               "category": "Uber",
               "colors": [
                "#5A1846",
                "#900C3F",
                "#C70039",
                "#E3611C",
                "#F1920E",
                "#FFC300"
               ],
               "name": "Global Warming",
               "type": "sequential"
              },
              "opacity": 0.8,
              "sizeRange": [
               0,
               10
              ],
              "targetColor": [
               237,
               102,
               0
              ],
              "thickness": 2
             }
            },
            "id": "jcccyq8",
            "type": "arc",
            "visualChannels": {
             "colorField": null,
             "colorScale": "quantile",
             "sizeField": null,
             "sizeScale": "linear"
            }
           },
           {
            "config": {
             "color": [
              136,
              87,
              44
             ],
             "columns": {
              "lat0": "start_lat",
              "lat1": "end_lat",
              "lng0": "start_lng",
              "lng1": "end_lng"
             },
             "dataId": "bike_routes",
             "hidden": false,
             "highlightColor": [
              252,
              242,
              26,
              255
             ],
             "isVisible": false,
             "label": "start -> end line",
             "textLabel": [
              {
               "alignment": "center",
               "anchor": "start",
               "background": false,
               "backgroundColor": [
                0,
                0,
                200,
                255
               ],
               "color": [
                255,
                255,
                255
               ],
               "field": null,
               "offset": [
                0,
                0
               ],
               "outlineColor": [
                255,
                0,
                0,
                255
               ],
               "outlineWidth": 0,
               "size": 18
              }
             ],
             "visConfig": {
              "colorRange": {
               "category": "Uber",
               "colors": [
                "#5A1846",
                "#900C3F",
                "#C70039",
                "#E3611C",
                "#F1920E",
                "#FFC300"
               ],
               "name": "Global Warming",
               "type": "sequential"
              },
              "elevationScale": 1,
              "opacity": 0.8,
              "sizeRange": [
               0,
               10
              ],
              "targetColor": null,
              "thickness": 2
             }
            },
            "id": "6ohvujv",
            "type": "line",
            "visualChannels": {
             "colorField": null,
             "colorScale": "quantile",
             "sizeField": null,
             "sizeScale": "linear"
            }
           }
          ],
          "overlayBlending": "normal",
          "splitMaps": []
         }
        },
        "version": "v1"
       },
       "data": {
        "bike_routes": {
         "columns": [
          "start_station_name",
          "end_station_name",
          "bike_rides_daily",
          "start_lat",
          "start_lng",
          "end_lat",
          "end_lng"
         ],
         "data": [
          [
           "9 Ave & W 18 St",
           "Greenwich Ave & Charles St",
           37930,
           40.74317449,
           -74.00366443,
           40.735238,
           -74.000271
          ],
          [
           "McGuinness Blvd & Eagle St",
           "Greenpoint Ave & Manhattan Ave",
           37930,
           40.73555,
           -73.95284,
           40.73026,
           -73.95394
          ],
          [
           "W 42 St & 6 Ave",
           "Central Park West & W 76 St",
           37930,
           40.75492,
           -73.98455,
           40.77896784,
           -73.97374737
          ],
          [
           "W 18 St & 6 Ave",
           "Lexington Ave & E 26 St",
           37930,
           40.73971301,
           -73.99456405,
           40.741459,
           -73.983293
          ],
          [
           "E 4 St & 2 Ave",
           "William St & Pine St",
           37930,
           40.7262807,
           -73.98978041,
           40.70717936,
           -74.00887308
          ],
          [
           "W 47 St & 6 Ave",
           "W 54 St & 9 Ave",
           37930,
           40.758397,
           -73.98255,
           40.76584941,
           -73.98690506
          ],
          [
           "W 42 St & 6 Ave",
           "9 Ave & W 22 St",
           37930,
           40.75492,
           -73.98455,
           40.7454973,
           -74.00197139
          ],
          [
           "W 18 St & 6 Ave",
           "9 Ave & W 22 St",
           37930,
           40.73971301,
           -73.99456405,
           40.7454973,
           -74.00197139
          ],
          [
           "Little West St & 1 Pl",
           "W 10 St & Washington St",
           37930,
           40.70569254,
           -74.01677685,
           40.73342399437081,
           -74.00851495563984
          ],
          [
           "Eastern Pkwy & Franklin Ave",
           "Monroe St & Classon Ave",
           37930,
           40.6707767,
           -73.9576801,
           40.6845683,
           -73.95881081
          ],
          [
           "W 26 St & 8 Ave",
           "Broadway & W 25 St",
           37930,
           40.74734825,
           -73.99723551,
           40.74286877312112,
           -73.98918628692627
          ],
          [
           "W 27 St & 7 Ave",
           "W 36 St & 9 Ave",
           37930,
           40.746647,
           -73.993915,
           40.75462324029105,
           -73.99516761302948
          ],
          [
           "W 16 St & The High Line",
           "W 44 St & 5 Ave",
           37930,
           40.74334935,
           -74.00681753,
           40.75500254,
           -73.98014437
          ],
          [
           "E 53 St & Madison Ave",
           "E 9 St & Avenue C",
           37930,
           40.7597108,
           -73.97402311,
           40.72521311,
           -73.97768752
          ],
          [
           "W 36 St & 7 Ave",
           "W 44 St & 5 Ave",
           37930,
           40.752149,
           -73.989539,
           40.75500254,
           -73.98014437
          ],
          [
           "E 40 St & Park Ave",
           "Broadway & W 29 St",
           37930,
           40.750756,
           -73.978326,
           40.7462009,
           -73.98855723
          ],
          [
           "Little West St & 1 Pl",
           "West St & Liberty St",
           37930,
           40.70569254,
           -74.01677685,
           40.711444,
           -74.014847
          ],
          [
           "W 27 St & 7 Ave",
           "Mercer St & Spring St",
           37930,
           40.746647,
           -73.993915,
           40.72362738,
           -73.99949601
          ],
          [
           "Broadway & W 38 St",
           "E 40 St & Park Ave",
           37930,
           40.7529728216068,
           -73.98734897375107,
           40.750756,
           -73.978326
          ],
          [
           "40 Ave & Crescent St",
           "51 St & Hobart St",
           37930,
           40.7535992020056,
           -73.93795609474182,
           40.75767234025041,
           -73.90769943594933
          ],
          [
           "W 27 St & 7 Ave",
           "E 40 St & Park Ave",
           37930,
           40.746647,
           -73.993915,
           40.750756,
           -73.978326
          ],
          [
           "LaGuardia Pl & W 3 St",
           "E 40 St & Park Ave",
           37930,
           40.72917025,
           -73.99810231,
           40.750756,
           -73.978326
          ],
          [
           "Cambridge Pl & Gates Ave",
           "Bergen St & 4 Ave",
           37930,
           40.68488,
           -73.96304,
           40.68256425759694,
           -73.9798977971077
          ],
          [
           "3 Ave & E 169 St",
           "3 Ave & E 174 St - Bathgate Vaccination Site",
           37930,
           40.832678,
           -73.905158,
           40.84224,
           -73.8985
          ],
          [
           "Congress St & Clinton St",
           "Dock St & Front St",
           37930,
           40.68825516598005,
           -73.99545192718506,
           40.702709,
           -73.99253
          ],
          [
           "Centre St & Worth St",
           "E 45 St & 3 Ave",
           37930,
           40.71494807,
           -74.00234482,
           40.75255434,
           -73.97282625
          ],
          [
           "2 Ave & E 72 St",
           "E 74 St & 1 Ave",
           37930,
           40.7687620293096,
           -73.95840793848038,
           40.7689738,
           -73.95482273
          ],
          [
           "Bushwick Ave & Forrest St",
           "Bayard St & Leonard St",
           37930,
           40.70076,
           -73.93641,
           40.71915571696044,
           -73.94885390996933
          ],
          [
           "E 72 St & York Ave",
           "E 74 St & 1 Ave",
           37930,
           40.76663814,
           -73.95348296,
           40.7689738,
           -73.95482273
          ],
          [
           "E 72 St & York Ave",
           "E 74 St & 1 Ave",
           37930,
           40.76663814,
           -73.95348296,
           40.7689738,
           -73.95482273
          ],
          [
           "Garrison Ave & Manida St",
           "3 Ave & E 174 St - Bathgate Vaccination Site",
           37930,
           40.818743,
           -73.890247,
           40.84224,
           -73.8985
          ],
          [
           "E 13 St & Avenue A",
           "E 45 St & 3 Ave",
           37930,
           40.72966729392978,
           -73.98067966103554,
           40.75255434,
           -73.97282625
          ],
          [
           "1 Ave & E 68 St",
           "E 88 St & 1 Ave",
           37930,
           40.76500525,
           -73.95818491,
           40.778301,
           -73.9488134
          ],
          [
           "1 Ave & E 68 St",
           "E 74 St & 1 Ave",
           37930,
           40.76500525,
           -73.95818491,
           40.7689738,
           -73.95482273
          ],
          [
           "Centre St & Worth St",
           "Broadway & Morris St",
           37930,
           40.71494807,
           -74.00234482,
           40.705945132708806,
           -74.01321887969969
          ],
          [
           "Court St & State St",
           "Fulton St & Broadway",
           37930,
           40.6902375,
           -73.99203074,
           40.711066,
           -74.009447
          ],
          [
           "E 40 St & Park Ave",
           "W 104 St & Amsterdam Ave",
           37930,
           40.750756,
           -73.978326,
           40.79904139288298,
           -73.96649479866028
          ],
          [
           "Vesey Pl & River Terrace",
           "Fulton St & Broadway",
           37930,
           40.7153379,
           -74.01658354,
           40.711066,
           -74.009447
          ],
          [
           "Lenox Ave & W 115 St",
           "West Thames St",
           37930,
           40.8011939,
           -73.9500739,
           40.70834698,
           -74.01713445
          ],
          [
           "Riverside Blvd & W 67 St",
           "W 160 St & St. Nicholas Ave",
           37930,
           40.777507027547976,
           -73.98888587951659,
           40.834468,
           -73.939865
          ],
          [
           "Fort Washington Ave & W 173 St",
           "E 97 St & Madison Ave",
           37930,
           40.84522,
           -73.940493,
           40.787801,
           -73.953559
          ],
          [
           "Broadway & W 25 St",
           "E 11 St & 3 Ave",
           37930,
           40.74286877312112,
           -73.98918628692627,
           40.73127,
           -73.98849
          ],
          [
           "Broadway & W 25 St",
           "9 Ave & W 22 St",
           37930,
           40.74286877312112,
           -73.98918628692627,
           40.7454973,
           -74.00197139
          ],
          [
           "W 16 St & The High Line",
           "E 11 St & 3 Ave",
           37930,
           40.74334935,
           -74.00681753,
           40.73127,
           -73.98849
          ],
          [
           "36 Ave & 31 St",
           "21 St & 38 Ave",
           37930,
           40.75651272984955,
           -73.92957486212252,
           40.7576314,
           -73.9391224
          ],
          [
           "Broadway & W 25 St",
           "E 33 St & 5 Ave",
           37930,
           40.74286877312112,
           -73.98918628692627,
           40.74765947,
           -73.98490707
          ],
          [
           "W 129 St & Convent Ave",
           "W 116 St & Broadway",
           37930,
           40.814394437915816,
           -73.95324736833572,
           40.8082,
           -73.9641
          ],
          [
           "E 16 St & 5 Ave",
           "2 Ave & E 29 St",
           37930,
           40.73726186,
           -73.99238967,
           40.74172351097472,
           -73.97809267044067
          ],
          [
           "Norfolk St & Broome St",
           "W 15 St & 7 Ave",
           37930,
           40.7172274,
           -73.98802084,
           40.73935542,
           -73.99931783
          ],
          [
           "Suydam St & Broadway",
           "Franklin Ave & Myrtle Ave",
           37930,
           40.69544,
           -73.93223,
           40.694546087246025,
           -73.95801365375519
          ],
          [
           "Jay St & York St",
           "Hanson Pl & Ashland Pl",
           37930,
           40.70140317257725,
           -73.98672670125961,
           40.68506807308177,
           -73.97790759801863
          ],
          [
           "30 Ave & 41 St",
           "34 Ave & 21 St",
           37930,
           40.763422,
           -73.914142,
           40.7628138,
           -73.9342862
          ],
          [
           "Jay St & York St",
           "E 11 St & 3 Ave",
           37930,
           40.70140317257725,
           -73.98672670125961,
           40.73127,
           -73.98849
          ],
          [
           "Stanton St & Norfolk St",
           "E 11 St & 3 Ave",
           37930,
           40.720747,
           -73.986274,
           40.73127,
           -73.98849
          ],
          [
           "Underhill Ave & Pacific St",
           "Hanson Pl & Ashland Pl",
           37930,
           40.6804836,
           -73.9646795,
           40.68506807308177,
           -73.97790759801863
          ],
          [
           "Barrow St & Hudson St",
           "E 11 St & 3 Ave",
           37930,
           40.73172428,
           -74.00674436,
           40.73127,
           -73.98849
          ],
          [
           "W 18 St & 6 Ave",
           "2 Ave & E 29 St",
           37930,
           40.73971301,
           -73.99456405,
           40.74172351097472,
           -73.97809267044067
          ],
          [
           "14 St & 7 Ave",
           "6 St & 7 Ave",
           37930,
           40.663779,
           -73.98396846,
           40.6686627,
           -73.97988067
          ],
          [
           "40 Ave & Crescent St",
           "24 Ave & 26 St",
           37930,
           40.7535992020056,
           -73.93795609474182,
           40.774591,
           -73.918544
          ],
          [
           "53 St & 4 Ave",
           "E 32 St & Park Ave",
           37930,
           40.644862,
           -74.014531,
           40.7457121,
           -73.98194829
          ],
          [
           "Water St & Gouverneur Ln",
           "West St & Liberty St",
           37930,
           40.70469667894968,
           -74.00803416967392,
           40.711444,
           -74.014847
          ],
          [
           "Norfolk St & Broome St",
           "Pearl St & Peck Slip",
           37930,
           40.7172274,
           -73.98802084,
           40.708485,
           -74.002751
          ],
          [
           "E 50 St & Park Ave",
           "MacDougal St & Prince St",
           37930,
           40.757334,
           -73.974235,
           40.72710258,
           -74.00297088
          ],
          [
           "E 40 St & Park Ave",
           "E 32 St & Park Ave",
           37930,
           40.750756,
           -73.978326,
           40.7457121,
           -73.98194829
          ],
          [
           "Frederick Douglass Blvd & W 115 St",
           "Columbus Ave & W 95 St",
           37930,
           40.8038654,
           -73.9559308,
           40.7919557,
           -73.968087
          ],
          [
           "Broadway & W 41 St",
           "W 53 St & 10 Ave",
           37930,
           40.75513557,
           -73.98658032,
           40.76669671,
           -73.99061728
          ],
          [
           "W 54 St & 11 Ave",
           "W 53 St & 10 Ave",
           37930,
           40.768333,
           -73.992573,
           40.76669671,
           -73.99061728
          ],
          [
           "Centre St & Worth St",
           "Cadman Plaza E & Red Cross Pl",
           37930,
           40.71494807,
           -74.00234482,
           40.69991755,
           -73.98971773
          ],
          [
           "Suydam St & Broadway",
           "Cooper Square & Astor Pl",
           37930,
           40.69544,
           -73.93223,
           40.72951496224949,
           -73.99075269699097
          ],
          [
           "2 Ave & E 99 St",
           "2 Ave & E 104 St",
           37930,
           40.7862586,
           -73.94552579,
           40.7892105,
           -73.94370784
          ],
          [
           "Mercer St & Spring St",
           "Cooper Square & Astor Pl",
           37930,
           40.72362738,
           -73.99949601,
           40.72951496224949,
           -73.99075269699097
          ],
          [
           "W 54 St & 11 Ave",
           "Broadway & W 53 St",
           37930,
           40.768333,
           -73.992573,
           40.76344058,
           -73.98268129
          ],
          [
           "Avenue C & E 18 St",
           "Cooper Square & Astor Pl",
           37930,
           40.730563,
           -73.973984,
           40.72951496224949,
           -73.99075269699097
          ],
          [
           "Broadway & W 41 St",
           "W 41 St & 8 Ave",
           37930,
           40.75513557,
           -73.98658032,
           40.75640548,
           -73.9900262
          ],
          [
           "Douglass St & 4 Ave",
           "Douglass St & 4 Ave",
           37930,
           40.6792788,
           -73.98154004,
           40.6792788,
           -73.98154004
          ],
          [
           "W 27 St & 7 Ave",
           "W 16 St & The High Line",
           37930,
           40.746647,
           -73.993915,
           40.74334935,
           -74.00681753
          ],
          [
           "E 14 St & 1 Ave",
           "10 Ave & W 14 St",
           37930,
           40.73139303364151,
           -73.98286700248718,
           40.74198159994023,
           -74.00831580162048
          ],
          [
           "Emerson Pl & Myrtle Ave",
           "36 Ave & 31 St",
           37930,
           40.69363137,
           -73.96223558,
           40.75651272984955,
           -73.92957486212252
          ],
          [
           "W 54 St & 11 Ave",
           "W 16 St & The High Line",
           37930,
           40.768333,
           -73.992573,
           40.74334935,
           -74.00681753
          ],
          [
           "W 54 St & 11 Ave",
           "W 16 St & The High Line",
           37930,
           40.768333,
           -73.992573,
           40.74334935,
           -74.00681753
          ],
          [
           "Stanton St & Norfolk St",
           "LaGuardia Pl & W 3 St",
           37930,
           40.720747,
           -73.986274,
           40.72917025,
           -73.99810231
          ],
          [
           "Jay St & York St",
           "Concord St & Bridge St",
           37930,
           40.70140317257725,
           -73.98672670125961,
           40.69766564,
           -73.98476437
          ],
          [
           "Jay St & York St",
           "Concord St & Bridge St",
           37930,
           40.70140317257725,
           -73.98672670125961,
           40.69766564,
           -73.98476437
          ],
          [
           "E 40 St & Park Ave",
           "W 27 St & 7 Ave",
           37930,
           40.750756,
           -73.978326,
           40.746647,
           -73.993915
          ],
          [
           "E 40 St & Park Ave",
           "W 27 St & 7 Ave",
           37930,
           40.750756,
           -73.978326,
           40.746647,
           -73.993915
          ],
          [
           "31 St & Broadway",
           "40 Ave & Crescent St",
           37930,
           40.761584,
           -73.925921,
           40.7535992020056,
           -73.93795609474182
          ],
          [
           "W 44 St & 11 Ave",
           "Broadway & W 38 St",
           37930,
           40.762009,
           -73.996975,
           40.7529728216068,
           -73.98734897375107
          ],
          [
           "9 Ave & W 45 St",
           "Broadway & W 38 St",
           37930,
           40.76019252,
           -73.9912551,
           40.7529728216068,
           -73.98734897375107
          ],
          [
           "Riverside Blvd & W 67 St",
           "10 Ave & W 14 St",
           37930,
           40.777507027547976,
           -73.98888587951659,
           40.74198159994023,
           -74.00831580162048
          ],
          [
           "1 Ave & E 68 St",
           "40 Ave & Crescent St",
           37930,
           40.76500525,
           -73.95818491,
           40.7535992020056,
           -73.93795609474182
          ],
          [
           "8 Ave & W 16 St",
           "Broadway & W 25 St",
           37930,
           40.740983,
           -74.001702,
           40.74286877312112,
           -73.98918628692627
          ],
          [
           "Broadway & E 21 St",
           "Broadway & W 25 St",
           37930,
           40.73988840858996,
           -73.98958593606949,
           40.74286877312112,
           -73.98918628692627
          ],
          [
           "Douglass St & 4 Ave",
           "Fulton St & Adams St",
           37930,
           40.6792788,
           -73.98154004,
           40.69241829257847,
           -73.98949474096298
          ],
          [
           "Washington Square E",
           "W 20 St & 10 Ave",
           37930,
           40.73049393,
           -73.9957214,
           40.745686,
           -74.005141
          ],
          [
           "Congress St & Clinton St",
           "Fulton St & Adams St",
           37930,
           40.68825516598005,
           -73.99545192718506,
           40.69241829257847,
           -73.98949474096298
          ],
          [
           "President St & 4 Ave",
           "3 St & 7 Ave",
           37930,
           40.676757,
           -73.983262,
           40.6703837,
           -73.97839676
          ],
          [
           "W 106 St & Central Park West",
           "Lenox Ave & W 117 St",
           37930,
           40.7981856,
           -73.9605909006,
           40.8025566,
           -73.9490782
          ],
          [
           "Broadway & W 58 St",
           "5 Ave & E 63 St",
           37930,
           40.76695317,
           -73.98169333,
           40.766368,
           -73.971518
          ],
          [
           "9 Ave & W 45 St",
           "W 54 St & 9 Ave",
           37930,
           40.76019252,
           -73.9912551,
           40.76584941,
           -73.98690506
          ],
          [
           "9 Ave & W 45 St",
           "5 Ave & E 63 St",
           37930,
           40.76019252,
           -73.9912551,
           40.766368,
           -73.971518
          ],
          [
           "2 Ave & E 72 St",
           "5 Ave & E 63 St",
           37930,
           40.7687620293096,
           -73.95840793848038,
           40.766368,
           -73.971518
          ],
          [
           "Lenox Ave & W 126 St",
           "Lenox Ave & W 117 St",
           37930,
           40.808442,
           -73.9452087,
           40.8025566,
           -73.9490782
          ],
          [
           "University Pl & E 14 St",
           "W 54 St & 9 Ave",
           37930,
           40.734814,
           -73.992085,
           40.76584941,
           -73.98690506
          ],
          [
           "Lenox Ave & W 126 St",
           "Pleasant Ave & E 116 St",
           37930,
           40.808442,
           -73.9452087,
           40.7949879,
           -73.9333349
          ],
          [
           "W 47 St & 10 Ave",
           "W 20 St & 10 Ave",
           37930,
           40.76269882,
           -73.99301222,
           40.745686,
           -74.005141
          ],
          [
           "Lenox Ave & W 133 St",
           "Lenox Ave & W 130 St",
           37930,
           40.81296,
           -73.941878,
           40.8107922,
           -73.9430681
          ],
          [
           "1 Ave & E 16 St",
           "W 20 St & 10 Ave",
           37930,
           40.73221853,
           -73.98165557,
           40.745686,
           -74.005141
          ],
          [
           "Broadway & E 21 St",
           "W 20 St & 10 Ave",
           37930,
           40.73988840858996,
           -73.98958593606949,
           40.745686,
           -74.005141
          ],
          [
           "Smith St & 9 St",
           "Fulton St & Adams St",
           37930,
           40.6746957,
           -73.99785768,
           40.69241829257847,
           -73.98949474096298
          ],
          [
           "Degraw St & Smith St",
           "3 St & 7 Ave",
           37930,
           40.6829151,
           -73.99318208,
           40.6703837,
           -73.97839676
          ],
          [
           "Thompson St & Bleecker St",
           "W 20 St & 10 Ave",
           37930,
           40.72840059450829,
           -73.99968780577183,
           40.745686,
           -74.005141
          ],
          [
           "DeKalb Ave & Hudson Ave",
           "Grand Army Plaza & Plaza St West",
           37930,
           40.689888,
           -73.981013,
           40.6729679,
           -73.97087984
          ],
          [
           "W 42 St & 6 Ave",
           "E 84 St & 1 Ave",
           37930,
           40.75492,
           -73.98455,
           40.77565541,
           -73.95068615
          ],
          [
           "Broadway & W 25 St",
           "Broadway & W 36 St",
           37930,
           40.74286877312112,
           -73.98918628692627,
           40.75097711,
           -73.98765428
          ],
          [
           "36 Ave & 31 St",
           "35 Ave & 10 St",
           37930,
           40.75651272984955,
           -73.92957486212252,
           40.76315481910373,
           -73.93985509872437
          ],
          [
           "Prospect Pl & 6 Ave",
           "Plaza St East & Flatbush Ave",
           37930,
           40.6793307,
           -73.97519523,
           40.673134,
           -73.969106
          ],
          [
           "LaGuardia Pl & W 3 St",
           "Grand St & Greene St",
           37930,
           40.72917025,
           -73.99810231,
           40.72170005235607,
           -74.00238141417502
          ],
          [
           "10 Ave & W 14 St",
           "W 4 St & 7 Ave S",
           37930,
           40.74198159994023,
           -74.00831580162048,
           40.73401143,
           -74.00293877
          ],
          [
           "W 89 St & Columbus Ave",
           "Willis Ave & E 137 St",
           37930,
           40.7882213,
           -73.97041561,
           40.808384,
           -73.923604
          ],
          [
           "Washington Square E",
           "W 4 St & 7 Ave S",
           37930,
           40.73049393,
           -73.9957214,
           40.73401143,
           -74.00293877
          ],
          [
           "Centre St & Worth St",
           "Lafayette St & Jersey St",
           37930,
           40.71494807,
           -74.00234482,
           40.72456089,
           -73.99565293
          ],
          [
           "Hudson St & Reade St",
           "W 4 St & 7 Ave S",
           37930,
           40.71625008,
           -74.0091059,
           40.73401143,
           -74.00293877
          ],
          [
           "Norfolk St & Broome St",
           "Grand St & Greene St",
           37930,
           40.7172274,
           -73.98802084,
           40.72170005235607,
           -74.00238141417502
          ],
          [
           "E 16 St & 5 Ave",
           "W 4 St & 7 Ave S",
           37930,
           40.73726186,
           -73.99238967,
           40.73401143,
           -74.00293877
          ],
          [
           "Stanton St & Norfolk St",
           "Ave A & E 14 St",
           37930,
           40.720747,
           -73.986274,
           40.73031071000895,
           -73.98047178983688
          ],
          [
           "Centre St & Worth St",
           "3 Ave & E 72 St",
           37930,
           40.71494807,
           -74.00234482,
           40.7699426,
           -73.96060712
          ],
          [
           "Congress St & Clinton St",
           "Lafayette Ave & Ft Greene Pl",
           37930,
           40.68825516598005,
           -73.99545192718506,
           40.68700231292619,
           -73.97664964199066
          ],
          [
           "Greenwich Ave & Charles St",
           "E 11 St & 1 Ave",
           37930,
           40.735238,
           -74.000271,
           40.72953837,
           -73.98426726
          ],
          [
           "Court St & State St",
           "Lafayette Ave & Ft Greene Pl",
           37930,
           40.6902375,
           -73.99203074,
           40.68700231292619,
           -73.97664964199066
          ],
          [
           "Court St & State St",
           "Carroll St & Smith St",
           37930,
           40.6902375,
           -73.99203074,
           40.680611,
           -73.99475825
          ],
          [
           "E 19 St & 3 Ave",
           "W 45 St & 8 Ave",
           37930,
           40.73624527,
           -73.98473765,
           40.75929124,
           -73.98859651
          ],
          [
           "E 53 St & Madison Ave",
           "3 Ave & E 72 St",
           37930,
           40.7597108,
           -73.97402311,
           40.7699426,
           -73.96060712
          ],
          [
           "5 Ave & E 87 St",
           "3 Ave & E 72 St",
           37930,
           40.78232260730881,
           -73.95987510681152,
           40.7699426,
           -73.96060712
          ],
          [
           "W 16 St & The High Line",
           "W 50 St & 10 Ave",
           37930,
           40.74334935,
           -74.00681753,
           40.76473420006519,
           -73.99194359779358
          ],
          [
           "Wyckoff Av & Stanhope St",
           "Greene Ave & Grandview Ave",
           37930,
           40.703545,
           -73.917775,
           40.709697,
           -73.907856
          ],
          [
           "Broadway & W 38 St",
           "Orchard St & Grand St",
           37930,
           40.7529728216068,
           -73.98734897375107,
           40.717318403855785,
           -73.99067759513855
          ],
          [
           "Broadway & W 38 St",
           "Orchard St & Grand St",
           37930,
           40.7529728216068,
           -73.98734897375107,
           40.717318403855785,
           -73.99067759513855
          ],
          [
           "W 27 St & 7 Ave",
           "Greenwich Ave & 8 Ave",
           37930,
           40.746647,
           -73.993915,
           40.7390169121,
           -74.0026376103
          ],
          [
           "E 16 St & 5 Ave",
           "Greenwich Ave & 8 Ave",
           37930,
           40.73726186,
           -73.99238967,
           40.7390169121,
           -74.0026376103
          ],
          [
           "Congress St & Clinton St",
           "Front St & Washington St",
           37930,
           40.68825516598005,
           -73.99545192718506,
           40.70255088,
           -73.98940236
          ],
          [
           "Barrow St & Hudson St",
           "Forsyth St & Canal St",
           37930,
           40.73172428,
           -74.00674436,
           40.7158155,
           -73.99422366
          ],
          [
           "Broadway & W 41 St",
           "W 50 St & 10 Ave",
           37930,
           40.75513557,
           -73.98658032,
           40.76473420006519,
           -73.99194359779358
          ],
          [
           "Avenue C & E 18 St",
           "South St & Gouverneur Ln",
           37930,
           40.730563,
           -73.973984,
           40.70355377,
           -74.00670227
          ],
          [
           "8 Ave & W 16 St",
           "South St & Gouverneur Ln",
           37930,
           40.740983,
           -74.001702,
           40.70355377,
           -74.00670227
          ],
          [
           "Broadway & W 58 St",
           "W 50 St & 10 Ave",
           37930,
           40.76695317,
           -73.98169333,
           40.76473420006519,
           -73.99194359779358
          ],
          [
           "Sterling St & Bedford Ave",
           "10 St & 2 Ave",
           37930,
           40.6627059,
           -73.9569115,
           40.671907,
           -73.993612
          ],
          [
           "W 16 St & The High Line",
           "Thompson St & Bleecker St",
           37930,
           40.74334935,
           -74.00681753,
           40.72840059450829,
           -73.99968780577183
          ],
          [
           "Washington Square E",
           "E 40 St & Park Ave",
           37930,
           40.73049393,
           -73.9957214,
           40.750756,
           -73.978326
          ],
          [
           "Suydam St & Broadway",
           "Irving Ave & Harman St",
           37930,
           40.69544,
           -73.93223,
           40.70108,
           -73.9179
          ],
          [
           "Warren St & Smith St",
           "Nevins St & Schermerhorn St",
           37930,
           40.68542400997018,
           -73.99127773940563,
           40.68737247650719,
           -73.98176059126854
          ],
          [
           "Stanton St & Norfolk St",
           "Pitt St & Stanton St",
           37930,
           40.720747,
           -73.986274,
           40.71926081,
           -73.98178024
          ],
          [
           "Onderdonk Ave & Gates Ave",
           "Onderdonk Ave & Gates Ave",
           37930,
           40.70413,
           -73.90737,
           40.70413,
           -73.90737
          ],
          [
           "Irving Ave & Harman St",
           "Irving Ave & Harman St",
           37930,
           40.70108,
           -73.9179,
           40.70108,
           -73.9179
          ],
          [
           "31 St & Broadway",
           "28 St & 41 Ave",
           37930,
           40.761584,
           -73.925921,
           40.751047,
           -73.93797
          ],
          [
           "John St & William St",
           "Mercer St & Spring St",
           37930,
           40.70862144,
           -74.00722156,
           40.72362738,
           -73.99949601
          ],
          [
           "9 Ave & W 18 St",
           "Riverside Dr & W 72 St",
           37930,
           40.74317449,
           -74.00366443,
           40.78057799010334,
           -73.98562431335449
          ],
          [
           "Lenox Ave & W 126 St",
           "Frederick Douglass Blvd & W 115 St",
           37930,
           40.808442,
           -73.9452087,
           40.8038654,
           -73.9559308
          ],
          [
           "Riverside Blvd & W 67 St",
           "Riverside Dr & W 72 St",
           37930,
           40.777507027547976,
           -73.98888587951659,
           40.78057799010334,
           -73.98562431335449
          ],
          [
           "Riverside Blvd & W 67 St",
           "Greenwich Ave & Charles St",
           37930,
           40.777507027547976,
           -73.98888587951659,
           40.735238,
           -74.000271
          ],
          [
           "8 Ave & W 16 St",
           "Madison St & Clinton St",
           37930,
           40.740983,
           -74.001702,
           40.71269042,
           -73.98776323
          ],
          [
           "Broadway & E 21 St",
           "Mercer St & Spring St",
           37930,
           40.73988840858996,
           -73.98958593606949,
           40.72362738,
           -73.99949601
          ],
          [
           "5 Ave & 41 St",
           "Albemarle Rd & McDonald Ave",
           37930,
           40.649983,
           -74.005144,
           40.645074,
           -73.979681
          ],
          [
           "49 St & 25 Ave",
           "76 St & 21 Ave",
           37930,
           40.764496,
           -73.904632,
           40.77028,
           -73.893675
          ],
          [
           "28 St & 36 Ave",
           "28 St & 41 Ave",
           37930,
           40.757186,
           -73.932719,
           40.751047,
           -73.93797
          ],
          [
           "Amsterdam Ave & W 82 St",
           "Frederick Douglass Blvd & W 117 St",
           37930,
           40.78524672,
           -73.97667321,
           40.805159,
           -73.954692
          ],
          [
           "Bleecker St & Crosby St",
           "Mercer St & Spring St",
           37930,
           40.72615604980408,
           -73.99510189890862,
           40.72362738,
           -73.99949601
          ],
          [
           "8 Ave & W 33 St",
           "Mercer St & Spring St",
           37930,
           40.751551,
           -73.993934,
           40.72362738,
           -73.99949601
          ],
          [
           "W 82 St & Central Park West",
           "Riverside Dr & W 72 St",
           37930,
           40.78275,
           -73.97137,
           40.78057799010334,
           -73.98562431335449
          ],
          [
           "Douglass St & 4 Ave",
           "Bergen St & 4 Ave",
           37930,
           40.6792788,
           -73.98154004,
           40.68256425759694,
           -73.9798977971077
          ],
          [
           "Congress St & Clinton St",
           "Bergen St & 4 Ave",
           37930,
           40.68825516598005,
           -73.99545192718506,
           40.68256425759694,
           -73.9798977971077
          ],
          [
           "E 50 St & Park Ave",
           "E 66 St & Madison Ave",
           37930,
           40.757334,
           -73.974235,
           40.76800889305947,
           -73.96845281124115
          ],
          [
           "MacDougal St & Washington Sq",
           "6 Ave & Broome St",
           37930,
           40.73226398,
           -73.99852205,
           40.72431,
           -74.00473
          ],
          [
           "President St & 4 Ave",
           "Carlton Ave & Dean St",
           37930,
           40.676757,
           -73.983262,
           40.6809741,
           -73.9710097
          ],
          [
           "President St & 4 Ave",
           "Bergen St & 4 Ave",
           37930,
           40.676757,
           -73.983262,
           40.68256425759694,
           -73.9798977971077
          ],
          [
           "Broadway & W 61 St",
           "Central Park W & W 91 St",
           37930,
           40.77003010255044,
           -73.9819684624672,
           40.78866499127884,
           -73.96680057048798
          ],
          [
           "Cherry St",
           "Allen St & Stanton St",
           37930,
           40.71219906,
           -73.97948148,
           40.722055,
           -73.989111
          ],
          [
           "Nevins St & Schermerhorn St",
           "Carlton Ave & Dean St",
           37930,
           40.68737247650719,
           -73.98176059126854,
           40.6809741,
           -73.9710097
          ],
          [
           "Vesey Pl & River Terrace",
           "6 Ave & Broome St",
           37930,
           40.7153379,
           -74.01658354,
           40.72431,
           -74.00473
          ],
          [
           "E 77 St & 3 Ave",
           "E 66 St & Madison Ave",
           37930,
           40.77314236,
           -73.95856158,
           40.76800889305947,
           -73.96845281124115
          ],
          [
           "Lenox Ave & W 115 St",
           "Adam Clayton Powell Blvd & W 115 St",
           37930,
           40.8011939,
           -73.9500739,
           40.802535,
           -73.9532423
          ],
          [
           "Kingston Ave & Herkimer St",
           "Fulton St & Waverly Ave",
           37930,
           40.67890679,
           -73.94142771,
           40.68323865460341,
           -73.96599590778351
          ],
          [
           "Broadway & Furman Ave",
           "Broadway & Madison St",
           37930,
           40.68139,
           -73.90756,
           40.68822,
           -73.91966
          ],
          [
           "Riverside Blvd & W 67 St",
           "6 Ave & Broome St",
           37930,
           40.777507027547976,
           -73.98888587951659,
           40.72431,
           -74.00473
          ],
          [
           "Central Park S & 6 Ave",
           "E 66 St & Madison Ave",
           37930,
           40.76590936,
           -73.97634151,
           40.76800889305947,
           -73.96845281124115
          ],
          [
           "1 Ave & E 16 St",
           "6 Ave & Broome St",
           37930,
           40.73221853,
           -73.98165557,
           40.72431,
           -74.00473
          ],
          [
           "University Pl & E 14 St",
           "Allen St & Stanton St",
           37930,
           40.734814,
           -73.992085,
           40.722055,
           -73.989111
          ],
          [
           "35 St & 30 Ave",
           "34 Ave & 38 St",
           37930,
           40.76547569244953,
           -73.91811579465866,
           40.756913,
           -73.921631
          ],
          [
           "35 St & 30 Ave",
           "Adam Clayton Powell Blvd & W 115 St",
           37930,
           40.76547569244953,
           -73.91811579465866,
           40.802535,
           -73.9532423
          ],
          [
           "McKibbin St & Bogart St",
           "Dock St & Front St",
           37930,
           40.706237,
           -73.933871,
           40.702709,
           -73.99253
          ],
          [
           "Graham Ave & Grand St",
           "Bayard St & Leonard St",
           37930,
           40.711863,
           -73.944024,
           40.71915571696044,
           -73.94885390996933
          ],
          [
           "2 Ave & E 122 St",
           "E 88 St & 1 Ave",
           37930,
           40.8006721,
           -73.9349,
           40.778301,
           -73.9488134
          ],
          [
           "Carroll St & Columbia St",
           "Dock St & Front St",
           37930,
           40.6830456,
           -74.00348559,
           40.702709,
           -73.99253
          ],
          [
           "28 St & 36 Ave",
           "E 45 St & 3 Ave",
           37930,
           40.757186,
           -73.932719,
           40.75255434,
           -73.97282625
          ],
          [
           "W 110 St & Amsterdam Ave",
           "E 88 St & 1 Ave",
           37930,
           40.802692,
           -73.96295,
           40.778301,
           -73.9488134
          ],
          [
           "West St & Chambers St",
           "W 10 St & Washington St",
           37930,
           40.71754834,
           -74.01322069,
           40.73342399437081,
           -74.00851495563984
          ],
          [
           "Cadman Plaza E & Tillary St",
           "Dock St & Front St",
           37930,
           40.695977,
           -73.990149,
           40.702709,
           -73.99253
          ],
          [
           "E 170 St & Sheridan Ave",
           "3 Ave & E 174 St - Bathgate Vaccination Site",
           37930,
           40.838315,
           -73.912604,
           40.84224,
           -73.8985
          ],
          [
           "31 St & Newtown Ave",
           "E 74 St & 1 Ave",
           37930,
           40.7675487799971,
           -73.9209334552288,
           40.7689738,
           -73.95482273
          ],
          [
           "Central Park S & 6 Ave",
           "Adam Clayton Powell Blvd & W 118 St",
           37930,
           40.76590936,
           -73.97634151,
           40.804372,
           -73.951475
          ],
          [
           "McKibbin St & Bogart St",
           "Dock St & Front St",
           37930,
           40.706237,
           -73.933871,
           40.702709,
           -73.99253
          ],
          [
           "1 Ave & E 68 St",
           "E 88 St & 1 Ave",
           37930,
           40.76500525,
           -73.95818491,
           40.778301,
           -73.9488134
          ],
          [
           "E 58 St & 1 Ave (NW Corner)",
           "E 74 St & 1 Ave",
           37930,
           40.759125,
           -73.962658,
           40.7689738,
           -73.95482273
          ],
          [
           "Motorgate",
           "Roosevelt Island Tramway",
           37930,
           40.7639089,
           -73.9477213,
           40.757284,
           -73.9536
          ],
          [
           "Murray St & Greenwich St",
           "Broadway & Berry St",
           37930,
           40.71485150526252,
           -74.01122331619263,
           40.71044554,
           -73.96525063
          ],
          [
           "Madison Ave & E 26 St",
           "W 20 St & 10 Ave",
           37930,
           40.742684734875695,
           -73.98671329021454,
           40.745686,
           -74.005141
          ],
          [
           "Prospect Park SW & 10 Ave",
           "Grand Army Plaza & Plaza St West",
           37930,
           40.659945,
           -73.977504,
           40.6729679,
           -73.97087984
          ],
          [
           "Milton St & Franklin St",
           "Fulton St & Adams St",
           37930,
           40.72906,
           -73.95779,
           40.69241829257847,
           -73.98949474096298
          ],
          [
           "Newton Rd & 44 St",
           "5 Ave & E 63 St",
           37930,
           40.7595701,
           -73.9142678,
           40.766368,
           -73.971518
          ],
          [
           "Madison Ave & E 26 St",
           "W 20 St & 10 Ave",
           37930,
           40.742684734875695,
           -73.98671329021454,
           40.745686,
           -74.005141
          ],
          [
           "8 Ave & W 16 St",
           "W 20 St & 10 Ave",
           37930,
           40.740983,
           -74.001702,
           40.745686,
           -74.005141
          ],
          [
           "Central Park S & 6 Ave",
           "5 Ave & E 63 St",
           37930,
           40.76590936,
           -73.97634151,
           40.766368,
           -73.971518
          ],
          [
           "Suffolk St & Stanton St",
           "W 20 St & 10 Ave",
           37930,
           40.72066442,
           -73.98517977,
           40.745686,
           -74.005141
          ],
          [
           "Ryer Ave & E 182 St",
           "Jerome Ave & E 181 St",
           37930,
           40.8558,
           -73.89956,
           40.855653,
           -73.905528
          ],
          [
           "Ryer Ave & E 182 St",
           "Jerome Ave & E 181 St",
           37930,
           40.8558,
           -73.89956,
           40.855653,
           -73.905528
          ],
          [
           "W 17 St & 8 Ave",
           "W 20 St & 10 Ave",
           37930,
           40.74177603,
           -74.00149746,
           40.745686,
           -74.005141
          ],
          [
           "W 17 St & 8 Ave",
           "W 20 St & 10 Ave",
           37930,
           40.74177603,
           -74.00149746,
           40.745686,
           -74.005141
          ],
          [
           "St Marks Pl & 1 Ave",
           "3 St & 7 Ave",
           37930,
           40.72779126,
           -73.98564945,
           40.6703837,
           -73.97839676
          ],
          [
           "Metropolitan Ave & Meeker Ave",
           "Sharon St & Olive St",
           37930,
           40.71413311,
           -73.95234386,
           40.715353,
           -73.93856
          ],
          [
           "State St & Smith St",
           "Fulton St & Adams St",
           37930,
           40.68917,
           -73.9886,
           40.69241829257847,
           -73.98949474096298
          ],
          [
           "West End Ave & W 78 St",
           "W 54 St & 9 Ave",
           37930,
           40.783786,
           -73.981687,
           40.76584941,
           -73.98690506
          ],
          [
           "36 Ave & 31 St",
           "21 St & Queens Plaza North",
           37930,
           40.75651272984955,
           -73.92957486212252,
           40.75325964,
           -73.94335788
          ],
          [
           "40 Ave & Crescent St",
           "21 St & Queens Plaza North",
           37930,
           40.7535992020056,
           -73.93795609474182,
           40.75325964,
           -73.94335788
          ],
          [
           "10 Ave & W 14 St",
           "E 16 St & Irving Pl",
           37930,
           40.74198159994023,
           -74.00831580162048,
           40.735367055605394,
           -73.98797392845154
          ],
          [
           "President St & 4 Ave",
           "E 27 St & 1 Ave",
           37930,
           40.676757,
           -73.983262,
           40.739445,
           -73.976806
          ],
          [
           "E 17 St & Broadway",
           "Clinton St & Grand St",
           37930,
           40.73704984,
           -73.99009296,
           40.71559509,
           -73.9870295
          ],
          [
           "6 Ave & 21 St",
           "Prospect Pl & 6 Ave",
           37930,
           40.66016,
           -73.990974,
           40.6793307,
           -73.97519523
          ],
          [
           "E 17 St & Broadway",
           "10 Ave & W 14 St",
           37930,
           40.73704984,
           -73.99009296,
           40.74198159994023,
           -74.00831580162048
          ],
          [
           "6 Ave & 21 St",
           "24 St & 5 Ave",
           37930,
           40.66016,
           -73.990974,
           40.659555,
           -73.995068
          ],
          [
           "Howard St & Lafayette St",
           "10 Ave & W 14 St",
           37930,
           40.71910537,
           -73.99973337,
           40.74198159994023,
           -74.00831580162048
          ],
          [
           "Howard St & Lafayette St",
           "Clinton St & Grand St",
           37930,
           40.71910537,
           -73.99973337,
           40.71559509,
           -73.9870295
          ],
          [
           "E 2 St & Avenue B",
           "Clinton St & Grand St",
           37930,
           40.72217444,
           -73.98368779,
           40.71559509,
           -73.9870295
          ],
          [
           "Fulton Ave & St. Paul's Pl",
           "Southern Blvd & E 174 St",
           37930,
           40.83545,
           -73.90153,
           40.836733,
           -73.887931
          ],
          [
           "8 Ave & W 33 St",
           "W 16 St & The High Line",
           37930,
           40.751551,
           -73.993934,
           40.74334935,
           -74.00681753
          ],
          [
           "7 Ave & 22 St",
           "67 St & Ridge Blvd",
           37930,
           40.658029,
           -73.989605,
           40.638799,
           -74.027472
          ],
          [
           "Myrtle Ave & Marcy Ave",
           "Wyckoff Av & Stanhope St",
           37930,
           40.69539817,
           -73.94954908,
           40.703545,
           -73.917775
          ],
          [
           "Centre St & Chambers St",
           "14 St & 7 Ave",
           37930,
           40.71273266,
           -74.0046073,
           40.663779,
           -73.98396846
          ],
          [
           "Great Jones St",
           "Broadway & W 38 St",
           37930,
           40.72743423,
           -73.99379025,
           40.7529728216068,
           -73.98734897375107
          ],
          [
           "Broadway & W 51 St",
           "Broadway & W 38 St",
           37930,
           40.76228826,
           -73.98336183,
           40.7529728216068,
           -73.98734897375107
          ],
          [
           "E 31 St & 3 Ave",
           "LaGuardia Pl & W 3 St",
           37930,
           40.74394314,
           -73.97966069,
           40.72917025,
           -73.99810231
          ],
          [
           "W 35 St & Dyer Ave",
           "W 27 St & 7 Ave",
           37930,
           40.754691750226016,
           -73.99740189313889,
           40.746647,
           -73.993915
          ],
          [
           "E 31 St & 3 Ave",
           "Broadway & W 25 St",
           37930,
           40.74394314,
           -73.97966069,
           40.74286877312112,
           -73.98918628692627
          ],
          [
           "Reade St & Broadway",
           "Caton Ave & Argyle Rd",
           37930,
           40.71450451,
           -74.00562789,
           40.649681,
           -73.967829
          ],
          [
           "Lawrence St & Willoughby St",
           "Prospect Pl & 6 Ave",
           37930,
           40.69236178,
           -73.98631746,
           40.6793307,
           -73.97519523
          ],
          [
           "West St & Chambers St",
           "10 Ave & W 14 St",
           37930,
           40.71754834,
           -74.01322069,
           40.74198159994023,
           -74.00831580162048
          ],
          [
           "West St & Chambers St",
           "10 Ave & W 14 St",
           37930,
           40.71754834,
           -74.01322069,
           40.74198159994023,
           -74.00831580162048
          ],
          [
           "McGuinness Blvd & Eagle St",
           "Vernon Blvd & 50 Ave",
           37930,
           40.73555,
           -73.95284,
           40.74232744,
           -73.95411749
          ],
          [
           "Broadway & W 38 St",
           "E 44 St & 2 Ave",
           37930,
           40.7529728216068,
           -73.98734897375107,
           40.75118387463277,
           -73.97138714790344
          ],
          [
           "36 Ave & 31 St",
           "34 St & 38 Ave",
           37930,
           40.75651272984955,
           -73.92957486212252,
           40.752443,
           -73.929737
          ],
          [
           "40 Ave & Crescent St",
           "34 St & 38 Ave",
           37930,
           40.7535992020056,
           -73.93795609474182,
           40.752443,
           -73.929737
          ],
          [
           "LaGuardia Pl & W 3 St",
           "Nassau Ave & Newell St",
           37930,
           40.72917025,
           -73.99810231,
           40.724812564400175,
           -73.94752621650696
          ],
          [
           "W 27 St & 7 Ave",
           "Washington St & Barrow St",
           37930,
           40.746647,
           -73.993915,
           40.73191132323174,
           -74.008769094944
          ],
          [
           "Barrow St & Hudson St",
           "Mercer St & Bleecker St",
           37930,
           40.73172428,
           -74.00674436,
           40.72706363348306,
           -73.99662137031554
          ],
          [
           "Water St & Gouverneur Ln",
           "Grand St & Havemeyer St",
           37930,
           40.70469667894968,
           -74.00803416967392,
           40.71286844,
           -73.95698119
          ],
          [
           "Vesey Pl & River Terrace",
           "Division St & Bowery",
           37930,
           40.7153379,
           -74.01658354,
           40.714193,
           -73.996732
          ],
          [
           "Vesey Pl & River Terrace",
           "Greenwich St & Hubert St",
           37930,
           40.7153379,
           -74.01658354,
           40.721319,
           -74.010065
          ],
          [
           "44 Dr & Jackson Ave",
           "45 Rd & 11 St",
           37930,
           40.74718234,
           -73.9432635,
           40.74708586,
           -73.94977234
          ],
          [
           "44 Dr & Jackson Ave",
           "45 Rd & 11 St",
           37930,
           40.74718234,
           -73.9432635,
           40.74708586,
           -73.94977234
          ],
          [
           "Wythe Ave & Metropolitan Ave",
           "Grand St & Havemeyer St",
           37930,
           40.716887,
           -73.963198,
           40.71286844,
           -73.95698119
          ],
          [
           "W 110 St & Amsterdam Ave",
           "E 106 St & Madison Ave",
           37930,
           40.802692,
           -73.96295,
           40.7934337,
           -73.94945003
          ],
          [
           "14 St & 7 Ave",
           "Windsor Pl & Howard Pl",
           37930,
           40.663779,
           -73.98396846,
           40.65949055893896,
           -73.98013919591904
          ],
          [
           "5 Ave & E 87 St",
           "Central Park North & Adam Clayton Powell Blvd",
           37930,
           40.78232260730881,
           -73.95987510681152,
           40.799484,
           -73.955613
          ],
          [
           "W 42 St & 6 Ave",
           "W 52 St & 6 Ave",
           37930,
           40.75492,
           -73.98455,
           40.76132983124814,
           -73.97982001304626
          ],
          [
           "Madison Ave & E 120 St",
           "Adam Clayton Powell Blvd & W 118 St",
           37930,
           40.80295,
           -73.942954,
           40.804372,
           -73.951475
          ],
          [
           "Madison Ave & E 120 St",
           "E 138 St & 5 Av",
           37930,
           40.80295,
           -73.942954,
           40.81449,
           -73.936153
          ],
          [
           "Madison Ave & E 120 St",
           "Adam Clayton Powell Blvd & W 118 St",
           37930,
           40.80295,
           -73.942954,
           40.804372,
           -73.951475
          ],
          [
           "W 11 St & 6 Ave",
           "E 45 St & 3 Ave",
           37930,
           40.73532427,
           -73.99800419,
           40.75255434,
           -73.97282625
          ],
          [
           "E 7 St & Avenue A",
           "E 88 St & 1 Ave",
           37930,
           40.72621788,
           -73.98379855,
           40.778301,
           -73.9488134
          ],
          [
           "Washington St & Gansevoort St",
           "W 10 St & Washington St",
           37930,
           40.739323,
           -74.008119,
           40.73342399437081,
           -74.00851495563984
          ],
          [
           "E 27 St & 1 Ave",
           "E 45 St & 3 Ave",
           37930,
           40.739445,
           -73.976806,
           40.75255434,
           -73.97282625
          ],
          [
           "Kent Ave & N 7 St",
           "Bayard St & Leonard St",
           37930,
           40.72036775298455,
           -73.96165072917938,
           40.71915571696044,
           -73.94885390996933
          ],
          [
           "Kent Ave & N 7 St",
           "Bayard St & Leonard St",
           37930,
           40.72036775298455,
           -73.96165072917938,
           40.71915571696044,
           -73.94885390996933
          ],
          [
           "Henry St & Atlantic Ave",
           "Front St & Jay St",
           37930,
           40.69089272,
           -73.99612349,
           40.702461,
           -73.986842
          ],
          [
           "Kent Ave & N 7 St",
           "Bayard St & Leonard St",
           37930,
           40.72036775298455,
           -73.96165072917938,
           40.71915571696044,
           -73.94885390996933
          ],
          [
           "E 31 St & 3 Ave",
           "E 45 St & 3 Ave",
           37930,
           40.74394314,
           -73.97966069,
           40.75255434,
           -73.97282625
          ],
          [
           "W 53 St & 10 Ave",
           "E 88 St & 1 Ave",
           37930,
           40.76669671,
           -73.99061728,
           40.778301,
           -73.9488134
          ],
          [
           "E 50 St & Park Ave",
           "E 45 St & 3 Ave",
           37930,
           40.757334,
           -73.974235,
           40.75255434,
           -73.97282625
          ],
          [
           "E 47 St & 1 Ave",
           "E 88 St & 1 Ave",
           37930,
           40.75206862,
           -73.96784384,
           40.778301,
           -73.9488134
          ],
          [
           "W 44 St & 5 Ave",
           "E 74 St & 1 Ave",
           37930,
           40.75500254,
           -73.98014437,
           40.7689738,
           -73.95482273
          ],
          [
           "Halsey St & Tompkins Ave",
           "Broadway & Berry St",
           37930,
           40.6823687,
           -73.944118,
           40.71044554,
           -73.96525063
          ],
          [
           "E 84 St & 1 Ave",
           "E 88 St & 1 Ave",
           37930,
           40.77565541,
           -73.95068615,
           40.778301,
           -73.9488134
          ],
          [
           "Lafayette Ave & Ft Greene Pl",
           "Front St & Jay St",
           37930,
           40.68700231292619,
           -73.97664964199066,
           40.702461,
           -73.986842
          ],
          [
           "W 106 St & Central Park West",
           "Park Ave & E 124 St",
           37930,
           40.7981856,
           -73.9605909006,
           40.8045555,
           -73.9396861
          ],
          [
           "Stanton St & Norfolk St",
           "E 23 St & 1 Ave",
           37930,
           40.720747,
           -73.986274,
           40.736502,
           -73.97809472
          ],
          [
           "S 3 St & Bedford Ave",
           "Allen St & Hester St",
           37930,
           40.71260486,
           -73.96264403,
           40.71605866,
           -73.99190759
          ],
          [
           "E 81 St & York Ave",
           "Park Ave & E 124 St",
           37930,
           40.7728384,
           -73.94989233,
           40.8045555,
           -73.9396861
          ],
          [
           "Broadway & W 58 St",
           "W 87 St & Amsterdam Ave",
           37930,
           40.76695317,
           -73.98169333,
           40.78839,
           -73.9747
          ],
          [
           "E 40 St & Park Ave",
           "E 23 St & 1 Ave",
           37930,
           40.750756,
           -73.978326,
           40.736502,
           -73.97809472
          ],
          [
           "University Pl & E 14 St",
           "E 9 St & 5 Ave",
           37930,
           40.734814,
           -73.992085,
           40.73275887045087,
           -73.99581670761108
          ],
          [
           "E 72 St & York Ave",
           "E 23 St & 1 Ave",
           37930,
           40.76663814,
           -73.95348296,
           40.736502,
           -73.97809472
          ],
          [
           "1 Ave & E 68 St",
           "E 118 St & Madison Ave",
           37930,
           40.76500525,
           -73.95818491,
           40.8014866,
           -73.9442507
          ],
          [
           "Howard St & Lafayette St",
           "W 30 St & 8 Ave",
           37930,
           40.71910537,
           -73.99973337,
           40.74965268472847,
           -73.9952078461647
          ],
          [
           "7 Ave S & Bleecker St",
           "Washington Ave & Park Ave",
           37930,
           40.73213896287381,
           -74.00363802909851,
           40.69610226,
           -73.96751037
          ],
          [
           "3 Ave & Carroll St",
           "10 St & 2 Ave",
           37930,
           40.677027,
           -73.9865,
           40.671907,
           -73.993612
          ],
          [
           "Congress St & Clinton St",
           "10 St & 2 Ave",
           37930,
           40.68825516598005,
           -73.99545192718506,
           40.671907,
           -73.993612
          ],
          [
           "3 Ave & Carroll St",
           "Windsor Pl & 8 Ave",
           37930,
           40.677027,
           -73.9865,
           40.660906,
           -73.983074
          ],
          [
           "E 16 St & 5 Ave",
           "Thompson St & Bleecker St",
           37930,
           40.73726186,
           -73.99238967,
           40.72840059450829,
           -73.99968780577183
          ],
          [
           "Featherbed Ln & Jerome Ave",
           "Nelson Ave & W 172 St",
           37930,
           40.845505,
           -73.914311,
           40.843965,
           -73.920999
          ],
          [
           "44 Dr & Jackson Ave",
           "Queens Plaza North & Crescent St",
           37930,
           40.74718234,
           -73.9432635,
           40.75110165,
           -73.94073717
          ],
          [
           "W 44 St & 11 Ave",
           "8 Ave & W 33 St",
           37930,
           40.762009,
           -73.996975,
           40.751551,
           -73.993934
          ],
          [
           "W 44 St & 11 Ave",
           "8 Ave & W 33 St",
           37930,
           40.762009,
           -73.996975,
           40.751551,
           -73.993934
          ],
          [
           "9 Ave & W 45 St",
           "8 Ave & W 33 St",
           37930,
           40.76019252,
           -73.9912551,
           40.751551,
           -73.993934
          ],
          [
           "Frederick Douglass Blvd & W 129 St",
           "E 128 St & Madison Ave",
           37930,
           40.8125511,
           -73.9492286,
           40.80756,
           -73.939182
          ],
          [
           "Thompson St & Bleecker St",
           "Thompson St & Bleecker St",
           37930,
           40.72840059450829,
           -73.99968780577183,
           40.72840059450829,
           -73.99968780577183
          ],
          [
           "Thompson St & Bleecker St",
           "Thompson St & Bleecker St",
           37930,
           40.72840059450829,
           -73.99968780577183,
           40.72840059450829,
           -73.99968780577183
          ],
          [
           "8 Ave & W 33 St",
           "8 Ave & W 33 St",
           37930,
           40.751551,
           -73.993934,
           40.751551,
           -73.993934
          ],
          [
           "Howard St & Lafayette St",
           "Thompson St & Bleecker St",
           37930,
           40.71910537,
           -73.99973337,
           40.72840059450829,
           -73.99968780577183
          ],
          [
           "West St & Chambers St",
           "Thompson St & Bleecker St",
           37930,
           40.71754834,
           -74.01322069,
           40.72840059450829,
           -73.99968780577183
          ],
          [
           "35 St & 34 Ave",
           "Queens Plaza North & Crescent St",
           37930,
           40.7580583,
           -73.9242751,
           40.75110165,
           -73.94073717
          ],
          [
           "11 Ave & Prospect Ave",
           "Windsor Pl & 8 Ave",
           37930,
           40.65629,
           -73.977335,
           40.660906,
           -73.983074
          ],
          [
           "1 Ave & E 18 St",
           "Thompson St & Bleecker St",
           37930,
           40.73381219196632,
           -73.98054420948029,
           40.72840059450829,
           -73.99968780577183
          ],
          [
           "Thompson St & Bleecker St",
           "6 Ave & Broome St",
           37930,
           40.72840059450829,
           -73.99968780577183,
           40.72431,
           -74.00473
          ],
          [
           "6 Ave & 9 St",
           "Bergen St & 4 Ave",
           37930,
           40.668127,
           -73.98377641,
           40.68256425759694,
           -73.9798977971077
          ],
          [
           "Beaver St & Fayette St",
           "Driggs Ave & N 9 St",
           37930,
           40.70099,
           -73.93921,
           40.71816969454208,
           -73.95520135760307
          ],
          [
           "Driggs Ave & Lorimer St",
           "Driggs Ave & N 9 St",
           37930,
           40.72179134,
           -73.9504154,
           40.71816969454208,
           -73.95520135760307
          ],
          [
           "Broadway & W 51 St",
           "6 Ave & Broome St",
           37930,
           40.76228826,
           -73.98336183,
           40.72431,
           -74.00473
          ],
          [
           "W 110 St & Amsterdam Ave",
           "Adam Clayton Powell Blvd & W 115 St",
           37930,
           40.802692,
           -73.96295,
           40.802535,
           -73.9532423
          ],
          [
           "Metropolitan Ave & Bedford Ave",
           "Allen St & Stanton St",
           37930,
           40.71534825,
           -73.96024116,
           40.722055,
           -73.989111
          ],
          [
           "Central Park West & W 72 St",
           "Central Park W & W 91 St",
           37930,
           40.77579376683666,
           -73.9762057363987,
           40.78866499127884,
           -73.96680057048798
          ],
          [
           "Wyckoff Ave & Gates Ave",
           "Broadway & Madison St",
           37930,
           40.699871408829885,
           -73.91171872615814,
           40.68822,
           -73.91966
          ],
          [
           "12 Ave & W 40 St",
           "E 66 St & Madison Ave",
           37930,
           40.76087502,
           -74.00277668,
           40.76800889305947,
           -73.96845281124115
          ],
          [
           "E 13 St & Avenue A",
           "Allen St & Stanton St",
           37930,
           40.72966729392978,
           -73.98067966103554,
           40.722055,
           -73.989111
          ],
          [
           "Riverside Blvd & W 67 St",
           "6 Ave & Broome St",
           37930,
           40.777507027547976,
           -73.98888587951659,
           40.72431,
           -74.00473
          ],
          [
           "1 Ave & E 68 St",
           "E 66 St & Madison Ave",
           37930,
           40.76500525,
           -73.95818491,
           40.76800889305947,
           -73.96845281124115
          ],
          [
           "Riverside Blvd & W 67 St",
           "E 138 St & Cypress Ave",
           37930,
           40.777507027547976,
           -73.98888587951659,
           40.805559,
           -73.914718
          ],
          [
           "Broadway & E 21 St",
           "E 66 St & Madison Ave",
           37930,
           40.73988840858996,
           -73.98958593606949,
           40.76800889305947,
           -73.96845281124115
          ],
          [
           "E 81 St & 2 Ave",
           "W 92 St & Broadway",
           37930,
           40.77477944895728,
           -73.95427465438843,
           40.7921,
           -73.9739
          ],
          [
           "Riverside Dr & W 82 St",
           "Central Park W & W 91 St",
           37930,
           40.78720869,
           -73.98128127,
           40.78866499127884,
           -73.96680057048798
          ],
          [
           "E 39 St & Lexington Ave",
           "E 85 St & York Ave",
           37930,
           40.7494985460252,
           -73.97729203113158,
           40.77536905,
           -73.94803392
          ],
          [
           "E 22 St & 2 Ave",
           "Bergen St & 4 Ave",
           37930,
           40.73716919369882,
           -73.98122549057007,
           40.68256425759694,
           -73.9798977971077
          ],
          [
           "E 22 St & 2 Ave",
           "Allen St & Stanton St",
           37930,
           40.73716919369882,
           -73.98122549057007,
           40.722055,
           -73.989111
          ],
          [
           "Central Park West & W 76 St",
           "Central Park W & W 91 St",
           37930,
           40.77896784,
           -73.97374737,
           40.78866499127884,
           -73.96680057048798
          ],
          [
           "Suffolk St & Stanton St",
           "Allen St & Stanton St",
           37930,
           40.72066442,
           -73.98517977,
           40.722055,
           -73.989111
          ],
          [
           "E 68 St & Madison Ave",
           "E 66 St & Madison Ave",
           37930,
           40.7691572,
           -73.96703464,
           40.76800889305947,
           -73.96845281124115
          ],
          [
           "Greenpoint Ave & Manhattan Ave",
           "Carlton Ave & Dean St",
           37930,
           40.73026,
           -73.95394,
           40.6809741,
           -73.9710097
          ],
          [
           "E 14 St & 1 Ave",
           "Allen St & Stanton St",
           37930,
           40.73139303364151,
           -73.98286700248718,
           40.722055,
           -73.989111
          ],
          [
           "Pike St & E Broadway",
           "Allen St & Stanton St",
           37930,
           40.71406667,
           -73.99293911,
           40.722055,
           -73.989111
          ],
          [
           "6 Ave & Canal St",
           "6 Ave & Broome St",
           37930,
           40.72243797,
           -74.00566443,
           40.72431,
           -74.00473
          ],
          [
           "Park Ave & Marcus Garvey Blvd",
           "Broadway & Madison St",
           37930,
           40.698617,
           -73.941342,
           40.68822,
           -73.91966
          ],
          [
           "Broadway & Battery Pl",
           "6 Ave & Broome St",
           37930,
           40.70463334,
           -74.01361706,
           40.72431,
           -74.00473
          ],
          [
           "Metropolitan Ave & Meeker Ave",
           "Driggs Ave & N 9 St",
           37930,
           40.71413311,
           -73.95234386,
           40.71816969454208,
           -73.95520135760307
          ],
          [
           "Halsey St & Broadway",
           "Broadway & Madison St",
           37930,
           40.68565,
           -73.91564,
           40.68822,
           -73.91966
          ],
          [
           "Metropolitan Ave & Meeker Ave",
           "Driggs Ave & N 9 St",
           37930,
           40.71413311,
           -73.95234386,
           40.71816969454208,
           -73.95520135760307
          ],
          [
           "Clinton St & Grand St",
           "W Broadway & W Houston St",
           37930,
           40.71559509,
           -73.9870295,
           40.726378,
           -74.000472
          ],
          [
           "Broadway & W 25 St",
           "10 Ave & W 28 St",
           37930,
           40.74286877312112,
           -73.98918628692627,
           40.75066386,
           -74.00176802
          ],
          [
           "S 3 St & Bedford Ave",
           "William St & Pine St",
           37930,
           40.71260486,
           -73.96264403,
           40.70717936,
           -74.00887308
          ],
          [
           "Jay St & York St",
           "Lawrence St & Willoughby St",
           37930,
           40.70140317257725,
           -73.98672670125961,
           40.69236178,
           -73.98631746
          ],
          [
           "E 16 St & 5 Ave",
           "William St & Pine St",
           37930,
           40.73726186,
           -73.99238967,
           40.70717936,
           -74.00887308
          ],
          [
           "E 50 St & Park Ave",
           "Broadway & W 51 St",
           37930,
           40.757334,
           -73.974235,
           40.76228826,
           -73.98336183
          ],
          [
           "Bay St & Court St",
           "Smith St & 9 St",
           37930,
           40.671409,
           -74.001328,
           40.6746957,
           -73.99785768
          ],
          [
           "Madison Ave & E 26 St",
           "E 31 St & 3 Ave",
           37930,
           40.742684734875695,
           -73.98671329021454,
           40.74394314,
           -73.97966069
          ],
          [
           "W 47 St & 10 Ave",
           "West St & Chambers St",
           37930,
           40.76269882,
           -73.99301222,
           40.71754834,
           -74.01322069
          ],
          [
           "Broadway & W 37 St",
           "Broadway & W 51 St",
           37930,
           40.75172632,
           -73.98753523,
           40.76228826,
           -73.98336183
          ],
          [
           "W 47 St & 10 Ave",
           "E 31 St & 3 Ave",
           37930,
           40.76269882,
           -73.99301222,
           40.74394314,
           -73.97966069
          ],
          [
           "Madison Ave & E 26 St",
           "W 35 St & Dyer Ave",
           37930,
           40.742684734875695,
           -73.98671329021454,
           40.754691750226016,
           -73.99740189313889
          ],
          [
           "Broadway & W 37 St",
           "E 31 St & 3 Ave",
           37930,
           40.75172632,
           -73.98753523,
           40.74394314,
           -73.97966069
          ],
          [
           "8 Ave & W 16 St",
           "10 Ave & W 28 St",
           37930,
           40.740983,
           -74.001702,
           40.75066386,
           -74.00176802
          ],
          [
           "8 Ave & W 16 St",
           "W 35 St & Dyer Ave",
           37930,
           40.740983,
           -74.001702,
           40.754691750226016,
           -73.99740189313889
          ],
          [
           "1 Ave & E 16 St",
           "West St & Chambers St",
           37930,
           40.73221853,
           -73.98165557,
           40.71754834,
           -74.01322069
          ],
          [
           "W 44 St & 11 Ave",
           "Broadway & W 51 St",
           37930,
           40.762009,
           -73.996975,
           40.76228826,
           -73.98336183
          ],
          [
           "Broadway & W 58 St",
           "Broadway & W 51 St",
           37930,
           40.76695317,
           -73.98169333,
           40.76228826,
           -73.98336183
          ],
          [
           "Broadway & W 58 St",
           "Broadway & W 51 St",
           37930,
           40.76695317,
           -73.98169333,
           40.76228826,
           -73.98336183
          ],
          [
           "W 52 St & 11 Ave",
           "W 35 St & Dyer Ave",
           37930,
           40.76727216,
           -73.99392888,
           40.754691750226016,
           -73.99740189313889
          ],
          [
           "Clinton Ave & Myrtle Ave",
           "Lawrence St & Willoughby St",
           37930,
           40.693261,
           -73.968896,
           40.69236178,
           -73.98631746
          ],
          [
           "8 Ave & W 33 St",
           "10 Ave & W 28 St",
           37930,
           40.751551,
           -73.993934,
           40.75066386,
           -74.00176802
          ],
          [
           "Centre St & Chambers St",
           "Reade St & Broadway",
           37930,
           40.71273266,
           -74.0046073,
           40.71450451,
           -74.00562789
          ],
          [
           "Sands St & Jay St",
           "Flushing Ave & Vanderbilt Ave",
           37930,
           40.700119,
           -73.9862,
           40.69795031569544,
           -73.97077560424805
          ],
          [
           "Bleecker St & Crosby St",
           "West St & Chambers St",
           37930,
           40.72615604980408,
           -73.99510189890862,
           40.71754834,
           -74.01322069
          ],
          [
           "W 110 St & Amsterdam Ave",
           "Frederick Douglass Blvd & W 115 St",
           37930,
           40.802692,
           -73.96295,
           40.8038654,
           -73.9559308
          ],
          [
           "Central Ave & Starr Street",
           "Irving Ave & Harman St",
           37930,
           40.700003,
           -73.92834,
           40.70108,
           -73.9179
          ],
          [
           "1 Ave & E 18 St",
           "E 40 St & Park Ave",
           37930,
           40.73381219196632,
           -73.98054420948029,
           40.750756,
           -73.978326
          ],
          [
           "1 Ave & E 18 St",
           "E 40 St & Park Ave",
           37930,
           40.73381219196632,
           -73.98054420948029,
           40.750756,
           -73.978326
          ],
          [
           "Broadway & E 21 St",
           "Greenwich Ave & Charles St",
           37930,
           40.73988840858996,
           -73.98958593606949,
           40.735238,
           -74.000271
          ],
          [
           "Bradhurst Ave & W 148 St",
           "Frederick Douglass Blvd & W 115 St",
           37930,
           40.825125,
           -73.941616,
           40.8038654,
           -73.9559308
          ],
          [
           "Barrow St & Hudson St",
           "Mercer St & Spring St",
           37930,
           40.73172428,
           -74.00674436,
           40.72362738,
           -73.99949601
          ],
          [
           "W Mosholu Pkwy S & Sedgwick Ave",
           "Jerome Ave & E Mosholu Parkway S",
           37930,
           40.88226,
           -73.88702,
           40.87935,
           -73.88534
          ],
          [
           "62 St & 4 Ave",
           "46 St & 7 Ave",
           37930,
           40.639859,
           -74.019776,
           40.644743,
           -74.003754
          ],
          [
           "Lexington Ave & E 36 St",
           "E 40 St & Park Ave",
           37930,
           40.7475739589548,
           -73.9788007736206,
           40.750756,
           -73.978326
          ],
          [
           "W 13 St & 5 Ave",
           "Mercer St & Spring St",
           37930,
           40.735445,
           -73.99431,
           40.72362738,
           -73.99949601
          ],
          [
           "Central Park North & Adam Clayton Powell Blvd",
           "Frederick Douglass Blvd & W 117 St",
           37930,
           40.799484,
           -73.955613,
           40.805159,
           -73.954692
          ],
          [
           "Central Park North & Adam Clayton Powell Blvd",
           "Frederick Douglass Blvd & W 117 St",
           37930,
           40.799484,
           -73.955613,
           40.805159,
           -73.954692
          ],
          [
           "Warren St & W Broadway",
           "Mercer St & Spring St",
           37930,
           40.71473993,
           -74.00910627,
           40.72362738,
           -73.99949601
          ],
          [
           "Albany St & Greenwich St",
           "Madison St & Clinton St",
           37930,
           40.709267,
           -74.013247,
           40.71269042,
           -73.98776323
          ],
          [
           "E 1 St & 1 Ave",
           "Greenwich Ave & Charles St",
           37930,
           40.72335597960796,
           -73.98864984512329,
           40.735238,
           -74.000271
          ],
          [
           "E 27 St & 1 Ave",
           "E 40 St & Park Ave",
           37930,
           40.739445,
           -73.976806,
           40.750756,
           -73.978326
          ],
          [
           "W 107 St & Columbus Ave",
           "Frederick Douglass Blvd & W 117 St",
           37930,
           40.7997568,
           -73.9621128676,
           40.805159,
           -73.954692
          ],
          [
           "Columbus Ave & W 95 St",
           "Frederick Douglass Blvd & W 115 St",
           37930,
           40.7919557,
           -73.968087,
           40.8038654,
           -73.9559308
          ],
          [
           "MacDougal St & Prince St",
           "E 40 St & Park Ave",
           37930,
           40.72710258,
           -74.00297088,
           40.750756,
           -73.978326
          ],
          [
           "W Broadway & W Houston St",
           "Pitt St & Stanton St",
           37930,
           40.726378,
           -74.000472,
           40.71926081,
           -73.98178024
          ],
          [
           "West St & Chambers St",
           "E 40 St & Park Ave",
           37930,
           40.71754834,
           -74.01322069,
           40.750756,
           -73.978326
          ],
          [
           "Morningside Ave & W 123 St",
           "Frederick Douglass Blvd & W 115 St",
           37930,
           40.81,
           -73.9551508,
           40.8038654,
           -73.9559308
          ],
          [
           "44 St & 3 Ave",
           "3 Ave & Wakeman Pl",
           37930,
           40.651173,
           -74.011405,
           40.638246,
           -74.024714
          ],
          [
           "9 Ave & W 22 St",
           "Riverside Dr & W 72 St",
           37930,
           40.7454973,
           -74.00197139,
           40.78057799010334,
           -73.98562431335449
          ],
          [
           "Morningside Ave & W 123 St",
           "Frederick Douglass Blvd & W 115 St",
           37930,
           40.81,
           -73.9551508,
           40.8038654,
           -73.9559308
          ],
          [
           "E 26 St & 3 Ave",
           "Greenwich Ave & Charles St",
           37930,
           40.74069317733043,
           -73.98160636425018,
           40.735238,
           -74.000271
          ],
          [
           "Market St & Henry St",
           "Greenwich Ave & Charles St",
           37930,
           40.71310702305908,
           -73.99446353316307,
           40.735238,
           -74.000271
          ],
          [
           "E 50 St & Park Ave",
           "E 40 St & Park Ave",
           37930,
           40.757334,
           -73.974235,
           40.750756,
           -73.978326
          ],
          [
           "Washington Square E",
           "Greenwich Ave & Charles St",
           37930,
           40.73049393,
           -73.9957214,
           40.735238,
           -74.000271
          ],
          [
           "Lafayette St & Jersey St",
           "E 40 St & Park Ave",
           37930,
           40.72456089,
           -73.99565293,
           40.750756,
           -73.978326
          ],
          [
           "Central Park W & W 103 St",
           "Frederick Douglass Blvd & W 115 St",
           37930,
           40.79558954105342,
           -73.96188408136368,
           40.8038654,
           -73.9559308
          ],
          [
           "Broadway & W 56 St",
           "E 40 St & Park Ave",
           37930,
           40.7652654,
           -73.98192338,
           40.750756,
           -73.978326
          ],
          [
           "Hudson Blvd E & W 36 St",
           "E 40 St & Park Ave",
           37930,
           40.75630628938069,
           -73.99951145061095,
           40.750756,
           -73.978326
          ],
          [
           "Suydam St & Broadway",
           "McKibbin St & Manhattan Ave",
           37930,
           40.69544,
           -73.93223,
           40.70510918,
           -73.94407279
          ],
          [
           "Washington Square E",
           "E 16 St & Irving Pl",
           37930,
           40.73049393,
           -73.9957214,
           40.735367055605394,
           -73.98797392845154
          ],
          [
           "S 3 St & Bedford Ave",
           "McKibbin St & Manhattan Ave",
           37930,
           40.71260486,
           -73.96264403,
           40.70510918,
           -73.94407279
          ],
          [
           "E 16 St & 5 Ave",
           "1 Ave & E 18 St",
           37930,
           40.73726186,
           -73.99238967,
           40.73381219196632,
           -73.98054420948029
          ],
          [
           "E 40 St & Park Ave",
           "1 Ave & E 18 St",
           37930,
           40.750756,
           -73.978326,
           40.73381219196632,
           -73.98054420948029
          ],
          [
           "Riverside Blvd & W 67 St",
           "12 Ave & W 40 St",
           37930,
           40.777507027547976,
           -73.98888587951659,
           40.76087502,
           -74.00277668
          ],
          [
           "Broadway & W 58 St",
           "Central Park West & W 72 St",
           37930,
           40.76695317,
           -73.98169333,
           40.77579376683666,
           -73.9762057363987
          ],
          [
           "Broadway & W 58 St",
           "E 84 St & Park Ave",
           37930,
           40.76695317,
           -73.98169333,
           40.77862688,
           -73.95772073
          ],
          [
           "Lexington Ave & Classon Ave",
           "Dean St & Franklin Ave",
           37930,
           40.68676793,
           -73.95928168,
           40.67759206937376,
           -73.955637216568
          ],
          [
           "Broadway & W 58 St",
           "12 Ave & W 40 St",
           37930,
           40.76695317,
           -73.98169333,
           40.76087502,
           -74.00277668
          ],
          [
           "Graham Ave & Grand St",
           "Metropolitan Ave & Bedford Ave",
           37930,
           40.711863,
           -73.944024,
           40.71534825,
           -73.96024116
          ],
          [
           "Broadway & E 21 St",
           "1 Ave & E 18 St",
           37930,
           40.73988840858996,
           -73.98958593606949,
           40.73381219196632,
           -73.98054420948029
          ],
          [
           "S 5 Pl & S 5 St",
           "Metropolitan Ave & Bedford Ave",
           37930,
           40.710451,
           -73.960876,
           40.71534825,
           -73.96024116
          ],
          [
           "West St & Chambers St",
           "12 Ave & W 40 St",
           37930,
           40.71754834,
           -74.01322069,
           40.76087502,
           -74.00277668
          ],
          [
           "Broadway & W 51 St",
           "E 84 St & Park Ave",
           37930,
           40.76228826,
           -73.98336183,
           40.77862688,
           -73.95772073
          ],
          [
           "E 17 St & Broadway",
           "1 Ave & E 18 St",
           37930,
           40.73704984,
           -73.99009296,
           40.73381219196632,
           -73.98054420948029
          ],
          [
           "Douglass St & 4 Ave",
           "Sterling Pl & 5 Ave",
           37930,
           40.6792788,
           -73.98154004,
           40.678970070475735,
           -73.97855266928671
          ],
          [
           "Grand Concourse & E 167 St",
           "E 167 St & Clay Ave",
           37930,
           40.834263,
           -73.917641,
           40.83094,
           -73.91125
          ],
          [
           "Macon St & Nostrand Ave",
           "Putnam Ave & Throop Ave",
           37930,
           40.6809833854,
           -73.9500479759,
           40.6851532,
           -73.94111
          ],
          [
           "Macon St & Nostrand Ave",
           "Putnam Ave & Throop Ave",
           37930,
           40.6809833854,
           -73.9500479759,
           40.6851532,
           -73.94111
          ],
          [
           "Macon St & Nostrand Ave",
           "Putnam Ave & Throop Ave",
           37930,
           40.6809833854,
           -73.9500479759,
           40.6851532,
           -73.94111
          ],
          [
           "Macon St & Nostrand Ave",
           "Putnam Ave & Throop Ave",
           37930,
           40.6809833854,
           -73.9500479759,
           40.6851532,
           -73.94111
          ],
          [
           "Prospect Park SW & 10 Ave",
           "Sterling Pl & 5 Ave",
           37930,
           40.659945,
           -73.977504,
           40.678970070475735,
           -73.97855266928671
          ],
          [
           "Broadway & W 58 St",
           "5 Ave & E 103 St",
           37930,
           40.76695317,
           -73.98169333,
           40.7922553,
           -73.95249933
          ],
          [
           "Queens Plaza North & Crescent St",
           "Vernon Blvd & 50 Ave",
           37930,
           40.75110165,
           -73.94073717,
           40.74232744,
           -73.95411749
          ],
          [
           "West St & Chambers St",
           "11 Ave & W 27 St",
           37930,
           40.71754834,
           -74.01322069,
           40.751396,
           -74.005226
          ],
          [
           "West St & Chambers St",
           "11 Ave & W 27 St",
           37930,
           40.71754834,
           -74.01322069,
           40.751396,
           -74.005226
          ],
          [
           "Center Blvd & 48 Ave",
           "Vernon Blvd & 50 Ave",
           37930,
           40.745038,
           -73.957539,
           40.74232744,
           -73.95411749
          ],
          [
           "Flushing Ave & Vanderbilt Ave",
           "Moffat St & Bushwick",
           37930,
           40.69795031569544,
           -73.97077560424805,
           40.68458,
           -73.90925
          ],
          [
           "Great Jones St",
           "11 Ave & W 27 St",
           37930,
           40.72743423,
           -73.99379025,
           40.751396,
           -74.005226
          ],
          [
           "Center Blvd & 48 Ave",
           "Vernon Blvd & 50 Ave",
           37930,
           40.745038,
           -73.957539,
           40.74232744,
           -73.95411749
          ],
          [
           "Andrew Ave N & Hall of Fame Tce",
           "E 167 St & Clay Ave",
           37930,
           40.85834,
           -73.91008,
           40.83094,
           -73.91125
          ],
          [
           "10 Ave & W 28 St",
           "11 Ave & W 27 St",
           37930,
           40.75066386,
           -74.00176802,
           40.751396,
           -74.005226
          ],
          [
           "W 110 St & Amsterdam Ave",
           "5 Ave & E 103 St",
           37930,
           40.802692,
           -73.96295,
           40.7922553,
           -73.95249933
          ],
          [
           "1 Ave & E 68 St",
           "E 55 St & 2 Ave",
           37930,
           40.76500525,
           -73.95818491,
           40.75797322,
           -73.96603308
          ],
          [
           "1 Ave & E 68 St",
           "E 55 St & 2 Ave",
           37930,
           40.76500525,
           -73.95818491,
           40.75797322,
           -73.96603308
          ],
          [
           "Milton St & Franklin St",
           "Vernon Blvd & 50 Ave",
           37930,
           40.72906,
           -73.95779,
           40.74232744,
           -73.95411749
          ],
          [
           "Central Park West & W 72 St",
           "5 Ave & E 103 St",
           37930,
           40.77579376683666,
           -73.9762057363987,
           40.7922553,
           -73.95249933
          ],
          [
           "Court St & State St",
           "Clark St & Henry St",
           37930,
           40.6902375,
           -73.99203074,
           40.69760127,
           -73.99344559
          ],
          [
           "Norfolk St & Broome St",
           "Rivington St & Ridge St",
           37930,
           40.7172274,
           -73.98802084,
           40.71850211,
           -73.98329859
          ],
          [
           "Centre St & Worth St",
           "Rivington St & Ridge St",
           37930,
           40.71494807,
           -74.00234482,
           40.71850211,
           -73.98329859
          ],
          [
           "S 3 St & Bedford Ave",
           "N 6 St & Bedford Ave",
           37930,
           40.71260486,
           -73.96264403,
           40.71745169,
           -73.95850939
          ],
          [
           "Congress St & Clinton St",
           "Clark St & Henry St",
           37930,
           40.68825516598005,
           -73.99545192718506,
           40.69760127,
           -73.99344559
          ],
          [
           "53 St & 4 Ave",
           "14 St & 5 Ave",
           37930,
           40.644862,
           -74.014531,
           40.666287,
           -73.98895053
          ],
          [
           "Madison St & Clinton St",
           "Rivington St & Ridge St",
           37930,
           40.71269042,
           -73.98776323,
           40.71850211,
           -73.98329859
          ],
          [
           "Riverside Blvd & W 67 St",
           "W 46 St & 11 Ave",
           37930,
           40.777507027547976,
           -73.98888587951659,
           40.76341379,
           -73.99667444
          ],
          [
           "1 Ave & E 68 St",
           "Calyer St & Jewel St",
           37930,
           40.76500525,
           -73.95818491,
           40.72984,
           -73.94839
          ],
          [
           "Kingston Ave & Herkimer St",
           "Central Ave & Woodbine St",
           37930,
           40.67890679,
           -73.94142771,
           40.69296,
           -73.91605
          ],
          [
           "W 47 St & 10 Ave",
           "W 46 St & 11 Ave",
           37930,
           40.76269882,
           -73.99301222,
           40.76341379,
           -73.99667444
          ],
          [
           "10 St & 5 Ave",
           "Clinton St & Tillary St",
           37930,
           40.6686273,
           -73.98700053,
           40.69623297129316,
           -73.99142056703568
          ],
          [
           "E 77 St & 3 Ave",
           "5 Ave & E 93 St",
           37930,
           40.77314236,
           -73.95856158,
           40.7857851,
           -73.957481
          ],
          [
           "W 44 St & 11 Ave",
           "Huron St & Franklin St",
           37930,
           40.762009,
           -73.996975,
           40.73266,
           -73.95826
          ],
          [
           "10 St & 5 Ave",
           "Kent Ave & S 11 St",
           37930,
           40.6686273,
           -73.98700053,
           40.707644944175705,
           -73.96841526031494
          ],
          [
           "W 44 St & 11 Ave",
           "W 46 St & 11 Ave",
           37930,
           40.762009,
           -73.996975,
           40.76341379,
           -73.99667444
          ],
          [
           "11 Ave & W 59 St",
           "W 46 St & 11 Ave",
           37930,
           40.77149671054441,
           -73.99046033620834,
           40.76341379,
           -73.99667444
          ],
          [
           "8 Ave & W 16 St",
           "W 25 St & 6 Ave",
           37930,
           40.740983,
           -74.001702,
           40.74395411,
           -73.99144871
          ],
          [
           "Soissons Landing",
           "Yankee Ferry Terminal",
           37930,
           40.69231660719192,
           -74.01486575603485,
           40.68706579875912,
           -74.01675585121666
          ],
          [
           "Soissons Landing",
           "Yankee Ferry Terminal",
           37930,
           40.69231660719192,
           -74.01486575603485,
           40.68706579875912,
           -74.01675585121666
          ],
          [
           "Broadway\\t& W 48 St",
           "W 46 St & 11 Ave",
           37930,
           40.76017739537783,
           -73.98486793041229,
           40.76341379,
           -73.99667444
          ],
          [
           "DeKalb Ave & Hudson Ave",
           "Kent Ave & S 11 St",
           37930,
           40.689888,
           -73.981013,
           40.707644944175705,
           -73.96841526031494
          ],
          [
           "Centre St & Worth St",
           "Warren St & W Broadway",
           37930,
           40.71494807,
           -74.00234482,
           40.71473993,
           -74.00910627
          ],
          [
           "Centre St & Worth St",
           "Warren St & W Broadway",
           37930,
           40.71494807,
           -74.00234482,
           40.71473993,
           -74.00910627
          ],
          [
           "Warren St & Smith St",
           "Warren St & Court St",
           37930,
           40.68542400997018,
           -73.99127773940563,
           40.686371,
           -73.99383324
          ],
          [
           "Water St & Gouverneur Ln",
           "Pike St & E Broadway",
           37930,
           40.70469667894968,
           -74.00803416967392,
           40.71406667,
           -73.99293911
          ],
          [
           "Broadway & W 41 St",
           "Lexington Ave & E 36 St",
           37930,
           40.75513557,
           -73.98658032,
           40.7475739589548,
           -73.9788007736206
          ],
          [
           "E 40 St & Park Ave",
           "Lexington Ave & E 36 St",
           37930,
           40.750756,
           -73.978326,
           40.7475739589548,
           -73.9788007736206
          ],
          [
           "Vesey Pl & River Terrace",
           "6 Ave & Canal St",
           37930,
           40.7153379,
           -74.01658354,
           40.72243797,
           -74.00566443
          ],
          [
           "Vesey Pl & River Terrace",
           "Warren St & W Broadway",
           37930,
           40.7153379,
           -74.01658354,
           40.71473993,
           -74.00910627
          ],
          [
           "Bond St & Bergen St",
           "4 Ave & 9 St",
           37930,
           40.6849668,
           -73.98620772,
           40.6705135,
           -73.98876585
          ],
          [
           "Bond St & Bergen St",
           "Warren St & Court St",
           37930,
           40.6849668,
           -73.98620772,
           40.686371,
           -73.99383324
          ],
          [
           "Broadway & W 56 St",
           "Lexington Ave & E 36 St",
           37930,
           40.7652654,
           -73.98192338,
           40.7475739589548,
           -73.9788007736206
          ],
          [
           "E 13 St & Avenue A",
           "W 13 St & 5 Ave",
           37930,
           40.72966729392978,
           -73.98067966103554,
           40.735445,
           -73.99431
          ],
          [
           "E 13 St & Avenue A",
           "W 13 St & 5 Ave",
           37930,
           40.72966729392978,
           -73.98067966103554,
           40.735445,
           -73.99431
          ],
          [
           "E 13 St & Avenue A",
           "W 13 St & 5 Ave",
           37930,
           40.72966729392978,
           -73.98067966103554,
           40.735445,
           -73.99431
          ],
          [
           "Degraw St & Hoyt St",
           "Henry St & Atlantic Ave",
           37930,
           40.68199044270703,
           -73.99079024791718,
           40.69089272,
           -73.99612349
          ],
          [
           "Central Park S & 6 Ave",
           "Central Park North & Adam Clayton Powell Blvd",
           37930,
           40.76590936,
           -73.97634151,
           40.799484,
           -73.955613
          ],
          [
           "Central Park S & 6 Ave",
           "Central Park North & Adam Clayton Powell Blvd",
           37930,
           40.76590936,
           -73.97634151,
           40.799484,
           -73.955613
          ],
          [
           "Leonard St & Church St",
           "Warren St & W Broadway",
           37930,
           40.717571,
           -74.005549,
           40.71473993,
           -74.00910627
          ],
          [
           "1 Ave & E 16 St",
           "6 Ave & Canal St",
           37930,
           40.73221853,
           -73.98165557,
           40.72243797,
           -74.00566443
          ],
          [
           "University Pl & E 14 St",
           "W 13 St & 5 Ave",
           37930,
           40.734814,
           -73.992085,
           40.735445,
           -73.99431
          ],
          [
           "Howard St & Lafayette St",
           "E 2 St & 2 Ave",
           37930,
           40.71910537,
           -73.99973337,
           40.72502876,
           -73.99069656
          ],
          [
           "E 2 St & Avenue B",
           "6 Ave & Canal St",
           37930,
           40.72217444,
           -73.98368779,
           40.72243797,
           -74.00566443
          ],
          [
           "Great Jones St",
           "6 Ave & Canal St",
           37930,
           40.72743423,
           -73.99379025,
           40.72243797,
           -74.00566443
          ],
          [
           "Willoughby Ave & Walworth St",
           "Willoughby Ave & Hall St",
           37930,
           40.69331716,
           -73.95381995,
           40.69196035,
           -73.96536851
          ],
          [
           "Smith St & 9 St",
           "Warren St & Court St",
           37930,
           40.6746957,
           -73.99785768,
           40.686371,
           -73.99383324
          ],
          [
           "William St & Pine St",
           "Willoughby Ave & Hall St",
           37930,
           40.70717936,
           -74.00887308,
           40.69196035,
           -73.96536851
          ],
          [
           "Amsterdam Ave & W 183 St",
           "Audubon Ave & Fort George Ave",
           37930,
           40.84925,
           -73.93022,
           40.85715781391904,
           -73.92717361450195
          ],
          [
           "Fulton St & Adams St",
           "Front St & Jay St",
           37930,
           40.69241829257847,
           -73.98949474096298,
           40.702461,
           -73.986842
          ],
          [
           "E 58 St & 1 Ave (NE Corner)",
           "E 88 St & 1 Ave",
           37930,
           40.75892386377695,
           -73.96226227283478,
           40.778301,
           -73.9488134
          ],
          [
           "Wythe Ave & Metropolitan Ave",
           "Broadway & Berry St",
           37930,
           40.716887,
           -73.963198,
           40.71044554,
           -73.96525063
          ],
          [
           "Centre St & Chambers St",
           "Front St & Jay St",
           37930,
           40.71273266,
           -74.0046073,
           40.702461,
           -73.986842
          ],
          [
           "Cadman Plaza E & Tillary St",
           "Front St & Jay St",
           37930,
           40.69597683,
           -73.99014892,
           40.702461,
           -73.986842
          ],
          [
           "Cadman Plaza E & Tillary St",
           "Front St & Jay St",
           37930,
           40.695977,
           -73.990149,
           40.702461,
           -73.986842
          ],
          [
           "Morgan Ave & Lombardy St",
           "Hart St & Wyckoff Ave",
           37930,
           40.72226,
           -73.93889,
           40.704876,
           -73.919911
          ],
          [
           "Irving Ave & Palmetto St",
           "Hart St & Wyckoff Ave",
           37930,
           40.698,
           -73.9127,
           40.704876,
           -73.919911
          ],
          [
           "Cadman Plaza E & Tillary St",
           "Dean St & Hoyt St",
           37930,
           40.69597683,
           -73.99014892,
           40.6864442,
           -73.98759104
          ],
          [
           "Sands St & Jay St",
           "Mercer St & Bleecker St",
           37930,
           40.700119,
           -73.9862,
           40.72706363348306,
           -73.99662137031554
          ],
          [
           "Lafayette St & E 8 St",
           "Mercer St & Bleecker St",
           37930,
           40.73020660529954,
           -73.99102628231049,
           40.72706363348306,
           -73.99662137031554
          ],
          [
           "Lafayette St & E 8 St",
           "Greenwich St & Hubert St",
           37930,
           40.73020660529954,
           -73.99102628231049,
           40.721319,
           -74.010065
          ],
          [
           "5 Ave & 3 St",
           "Fulton St & Clermont Ave",
           37930,
           40.6728155,
           -73.98352355,
           40.68415748,
           -73.96922273
          ],
          [
           "Broadway & E 21 St",
           "Mercer St & Bleecker St",
           37930,
           40.73988840858996,
           -73.98958593606949,
           40.72706363348306,
           -73.99662137031554
          ],
          [
           "Morgan Ave & Lombardy St",
           "Stewart Ave & Johnson Ave",
           37930,
           40.72226,
           -73.93889,
           40.70869,
           -73.92587
          ],
          [
           "Grand Ave & Bergen St",
           "Dean St & Hoyt St",
           37930,
           40.678045,
           -73.962408,
           40.6864442,
           -73.98759104
          ],
          [
           "Berry St & N 8 St",
           "Grand St & Havemeyer St",
           37930,
           40.7190095,
           -73.95852515,
           40.71286844,
           -73.95698119
          ],
          [
           "Court St & State St",
           "Dean St & Hoyt St",
           37930,
           40.6902375,
           -73.99203074,
           40.6864442,
           -73.98759104
          ],
          [
           "DeKalb Ave & Vanderbilt Ave",
           "Grand St & Havemeyer St",
           37930,
           40.68940747,
           -73.96885458,
           40.71286844,
           -73.95698119
          ],
          [
           "Lexington Ave & E 26 St",
           "Mercer St & Bleecker St",
           37930,
           40.741459,
           -73.983293,
           40.72706363348306,
           -73.99662137031554
          ],
          [
           "Albany St & Greenwich St",
           "Greenwich St & Hubert St",
           37930,
           40.709267,
           -74.013247,
           40.721319,
           -74.010065
          ],
          [
           "Metropolitan Ave & Meeker Ave",
           "Grand St & Havemeyer St",
           37930,
           40.71413311,
           -73.95234386,
           40.71286844,
           -73.95698119
          ],
          [
           "MacDougal St & Prince St",
           "Grand St & Havemeyer St",
           37930,
           40.72710258,
           -74.00297088,
           40.71286844,
           -73.95698119
          ],
          [
           "Classon Ave & St Marks Ave",
           "Union St & 4 Ave",
           37930,
           40.6765198,
           -73.9596082,
           40.6772744,
           -73.98282002
          ],
          [
           "3 St & 3 Ave",
           "Union St & 4 Ave",
           37930,
           40.6750705,
           -73.98775226,
           40.6772744,
           -73.98282002
          ],
          [
           "West St & Chambers St",
           "Mercer St & Bleecker St",
           37930,
           40.71754834,
           -74.01322069,
           40.72706363348306,
           -73.99662137031554
          ],
          [
           "Westchester Ave & E 156 St",
           "Southern Blvd & Avenue St. John",
           37930,
           40.817802,
           -73.905203,
           40.812769,
           -73.901583
          ],
          [
           "E 33 St & 5 Ave",
           "Greenwich St & Hubert St",
           37930,
           40.74765947,
           -73.98490707,
           40.721319,
           -74.010065
          ],
          [
           "9 Ave & W 22 St",
           "Greenwich St & Hubert St",
           37930,
           40.7454973,
           -74.00197139,
           40.721319,
           -74.010065
          ],
          [
           "Stanton St & Norfolk St",
           "Division St & Bowery",
           37930,
           40.720747,
           -73.986274,
           40.714193,
           -73.996732
          ],
          [
           "S 3 St & Bedford Ave",
           "Grand St & Havemeyer St",
           37930,
           40.71260486,
           -73.96264403,
           40.71286844,
           -73.95698119
          ],
          [
           "S 3 St & Bedford Ave",
           "Grand St & Havemeyer St",
           37930,
           40.71260486,
           -73.96264403,
           40.71286844,
           -73.95698119
          ],
          [
           "E 9 St & Avenue C",
           "Mercer St & Bleecker St",
           37930,
           40.72521311,
           -73.97768752,
           40.72706363348306,
           -73.99662137031554
          ],
          [
           "Broadway & W 29 St",
           "Mercer St & Bleecker St",
           37930,
           40.7462009,
           -73.98855723,
           40.72706363348306,
           -73.99662137031554
          ],
          [
           "Lafayette Ave & Ft Greene Pl",
           "Fulton St & Clermont Ave",
           37930,
           40.68700231292619,
           -73.97664964199066,
           40.68415748,
           -73.96922273
          ],
          [
           "1 Ave & E 68 St",
           "2 Ave & E 29 St",
           37930,
           40.76500525,
           -73.95818491,
           40.74172351097472,
           -73.97809267044067
          ],
          [
           "12 Ave & W 40 St",
           "Broadway & W 25 St",
           37930,
           40.76087502,
           -74.00277668,
           40.74286877312112,
           -73.98918628692627
          ],
          [
           "St Ann's Ave & Westchester Ave",
           "St. Ann's Ave & E 144 St",
           37930,
           40.815887,
           -73.911918,
           40.811112,
           -73.914932
          ],
          [
           "1 Ave & E 18 St",
           "LaGuardia Pl & W 3 St",
           37930,
           40.73381219196632,
           -73.98054420948029,
           40.72917025,
           -73.99810231
          ],
          [
           "31 St & Newtown Ave",
           "40 Ave & Crescent St",
           37930,
           40.7675487799971,
           -73.9209334552288,
           40.7535992020056,
           -73.93795609474182
          ],
          [
           "1 Ave & E 18 St",
           "W 27 St & 7 Ave",
           37930,
           40.73381219196632,
           -73.98054420948029,
           40.746647,
           -73.993915
          ],
          [
           "McKibbin St & Manhattan Ave",
           "67 St & Ridge Blvd",
           37930,
           40.70510918,
           -73.94407279,
           40.638799,
           -74.027472
          ],
          [
           "Riverside Blvd & W 67 St",
           "10 Ave & W 14 St",
           37930,
           40.777507027547976,
           -73.98888587951659,
           40.74198159994023,
           -74.00831580162048
          ],
          [
           "W 47 St & 10 Ave",
           "Broadway & W 38 St",
           37930,
           40.76269882,
           -73.99301222,
           40.7529728216068,
           -73.98734897375107
          ],
          [
           "Riverside Blvd & W 67 St",
           "W 27 St & 7 Ave",
           37930,
           40.777507027547976,
           -73.98888587951659,
           40.746647,
           -73.993915
          ],
          [
           "W 47 St & 10 Ave",
           "Broadway & W 38 St",
           37930,
           40.76269882,
           -73.99301222,
           40.7529728216068,
           -73.98734897375107
          ],
          [
           "E 26 St & 3 Ave",
           "Broadway & W 38 St",
           37930,
           40.74069317733043,
           -73.98160636425018,
           40.7529728216068,
           -73.98734897375107
          ],
          [
           "E 20 St & FDR Dr",
           "Broadway & W 38 St",
           37930,
           40.733208626522426,
           -73.9756813647,
           40.7529728216068,
           -73.98734897375107
          ],
          [
           "E 39 St & Lexington Ave",
           "Bus Slip & State St",
           37930,
           40.7494985460252,
           -73.97729203113158,
           40.701907,
           -74.013942
          ],
          [
           "E 20 St & FDR Dr",
           "W 27 St & 7 Ave",
           37930,
           40.733208626522426,
           -73.9756813647,
           40.746647,
           -73.993915
          ],
          [
           "W 39 St & 9 Ave",
           "Broadway & W 25 St",
           37930,
           40.75645824,
           -73.99372222,
           40.74286877312112,
           -73.98918628692627
          ],
          [
           "Market St & Henry St",
           "Clinton St & Grand St",
           37930,
           40.71310702305908,
           -73.99446353316307,
           40.71559509,
           -73.9870295
          ],
          [
           "6 Ave & W 45 St",
           "Broadway & W 38 St",
           37930,
           40.756951,
           -73.982631,
           40.7529728216068,
           -73.98734897375107
          ],
          [
           "Riverside Dr & W 82 St",
           "10 Ave & W 14 St",
           37930,
           40.78720869,
           -73.98128127,
           40.74198159994023,
           -74.00831580162048
          ],
          [
           "Central Park West & W 76 St",
           "Broadway & W 38 St",
           37930,
           40.77896784,
           -73.97374737,
           40.7529728216068,
           -73.98734897375107
          ],
          [
           "Murray St & Greenwich St",
           "10 Ave & W 14 St",
           37930,
           40.71485150526252,
           -74.01122331619263,
           40.74198159994023,
           -74.00831580162048
          ],
          [
           "34 St & 38 Ave",
           "42 Pl & Northern Blvd",
           37930,
           40.752443,
           -73.929737,
           40.753091,
           -73.920603
          ],
          [
           "E 44 St & 2 Ave",
           "Broadway & W 38 St",
           37930,
           40.75118387463277,
           -73.97138714790344,
           40.7529728216068,
           -73.98734897375107
          ],
          [
           "W 43 St & 10 Ave",
           "W 16 St & The High Line",
           37930,
           40.76009437,
           -73.99461843,
           40.74334935,
           -74.00681753
          ],
          [
           "W 26 St & 10 Ave",
           "W 27 St & 7 Ave",
           37930,
           40.749717753,
           -74.002950346,
           40.746647,
           -73.993915
          ],
          [
           "Murray St & Greenwich St",
           "Clinton St & Grand St",
           37930,
           40.71485150526252,
           -74.01122331619263,
           40.71559509,
           -73.9870295
          ],
          [
           "Atlantic Ave & Fort Greene Pl",
           "Douglass St & 4 Ave",
           37930,
           40.68382604,
           -73.97632328,
           40.6792788,
           -73.98154004
          ],
          [
           "8 Ave & W 31 St",
           "W 16 St & The High Line",
           37930,
           40.7505853470215,
           -73.9946848154068,
           40.74334935,
           -74.00681753
          ],
          [
           "8 Ave & W 31 St",
           "W 16 St & The High Line",
           37930,
           40.7505853470215,
           -73.9946848154068,
           40.74334935,
           -74.00681753
          ],
          [
           "8 Ave & W 31 St",
           "Broadway & W 25 St",
           37930,
           40.7505853470215,
           -73.9946848154068,
           40.74286877312112,
           -73.98918628692627
          ],
          [
           "Hunts Point Ave & Bryant Ave",
           "3 Ave & E 169 St",
           37930,
           40.813991,
           -73.8855,
           40.832678,
           -73.905158
          ],
          [
           "E 41 St & Madison Ave (SW corner)",
           "Broadway & W 25 St",
           37930,
           40.752165280621966,
           -73.97992193698882,
           40.74286877312112,
           -73.98918628692627
          ],
          [
           "Broadway & W 41 St",
           "Broadway & W 38 St",
           37930,
           40.75513557,
           -73.98658032,
           40.7529728216068,
           -73.98734897375107
          ],
          [
           "Rivington St & Chrystie St",
           "LaGuardia Pl & W 3 St",
           37930,
           40.72110063,
           -73.9919254,
           40.72917025,
           -73.99810231
          ],
          [
           "8 Ave & W 16 St",
           "W 16 St & The High Line",
           37930,
           40.740983,
           -74.001702,
           40.74334935,
           -74.00681753
          ],
          [
           "8 Ave & W 16 St",
           "W 27 St & 7 Ave",
           37930,
           40.740983,
           -74.001702,
           40.746647,
           -73.993915
          ],
          [
           "Warren St & W Broadway",
           "10 Ave & W 14 St",
           37930,
           40.71473993,
           -74.00910627,
           40.74198159994023,
           -74.00831580162048
          ],
          [
           "E Houston St & Columbia St",
           "W 27 St & 7 Ave",
           37930,
           40.71978635452822,
           -73.97871628403664,
           40.746647,
           -73.993915
          ],
          [
           "Central Park North & Adam Clayton Powell Blvd",
           "W 129 St & Convent Ave",
           37930,
           40.799484,
           -73.955613,
           40.814394437915816,
           -73.95324736833572
          ],
          [
           "Pike St & E Broadway",
           "Clinton St & Grand St",
           37930,
           40.71406667,
           -73.99293911,
           40.71559509,
           -73.9870295
          ],
          [
           "Lexington Ave & E 36 St",
           "Broadway & W 38 St",
           37930,
           40.7475739589548,
           -73.9788007736206,
           40.7529728216068,
           -73.98734897375107
          ],
          [
           "Warren St & W Broadway",
           "LaGuardia Pl & W 3 St",
           37930,
           40.71473993,
           -74.00910627,
           40.72917025,
           -73.99810231
          ],
          [
           "6 Ave & Canal St",
           "W 27 St & 7 Ave",
           37930,
           40.72243797,
           -74.00566443,
           40.746647,
           -73.993915
          ],
          [
           "Warren St & W Broadway",
           "LaGuardia Pl & W 3 St",
           37930,
           40.71473993,
           -74.00910627,
           40.72917025,
           -73.99810231
          ],
          [
           "Albany St & Greenwich St",
           "Bus Slip & State St",
           37930,
           40.709267,
           -74.013247,
           40.701907,
           -74.013942
          ],
          [
           "Washington St & Gansevoort St",
           "W 16 St & The High Line",
           37930,
           40.739323,
           -74.008119,
           40.74334935,
           -74.00681753
          ],
          [
           "W 59 St & 10 Ave",
           "8 Ave & W 33 St",
           37930,
           40.770513,
           -73.988038,
           40.751551,
           -73.993934
          ],
          [
           "44 Dr & Jackson Ave",
           "9 St & 44 Rd",
           37930,
           40.74718234,
           -73.9432635,
           40.74966,
           -73.9521
          ],
          [
           "E 7 St & Avenue A",
           "Thompson St & Bleecker St",
           37930,
           40.72621788,
           -73.98379855,
           40.72840059450829,
           -73.99968780577183
          ],
          [
           "E 7 St & Avenue A",
           "8 Ave & W 33 St",
           37930,
           40.72621788,
           -73.98379855,
           40.751551,
           -73.993934
          ],
          [
           "8 Ave & W 31 St",
           "Thompson St & Bleecker St",
           37930,
           40.7505853470215,
           -73.9946848154068,
           40.72840059450829,
           -73.99968780577183
          ],
          [
           "E 39 St & Lexington Ave",
           "8 Ave & W 33 St",
           37930,
           40.7494985460252,
           -73.97729203113158,
           40.751551,
           -73.993934
          ],
          [
           "W 39 St & 9 Ave",
           "8 Ave & W 33 St",
           37930,
           40.75645824,
           -73.99372222,
           40.751551,
           -73.993934
          ],
          [
           "Riverside Dr & W 82 St",
           "W 82 St & Central Park West",
           37930,
           40.78720869,
           -73.98128127,
           40.78275,
           -73.97137
          ],
          [
           "E Houston St & Columbia St",
           "8 Ave & W 33 St",
           37930,
           40.71978635452822,
           -73.97871628403664,
           40.751551,
           -73.993934
          ],
          [
           "Amsterdam Ave & W 180 St",
           "Broadway & W 165 St",
           37930,
           40.847396,
           -73.931205,
           40.839137,
           -73.941409
          ],
          [
           "Broadway & E 21 St",
           "8 Ave & W 33 St",
           37930,
           40.73988840858996,
           -73.98958593606949,
           40.751551,
           -73.993934
          ],
          [
           "11 Ave & W 59 St",
           "Thompson St & Bleecker St",
           37930,
           40.77149671054441,
           -73.99046033620834,
           40.72840059450829,
           -73.99968780577183
          ],
          [
           "W 147 St & Adam Clayton Powell Blvd",
           "Amsterdam Ave & W 167 St",
           37930,
           40.82281,
           -73.937413,
           40.839443,
           -73.937044
          ],
          [
           "31 St & Thomson Ave",
           "Queens Plaza North & Crescent St",
           37930,
           40.74469738,
           -73.93540375,
           40.75110165,
           -73.94073717
          ],
          [
           "W 35 St & Dyer Ave",
           "8 Ave & W 33 St",
           37930,
           40.754691750226016,
           -73.99740189313889,
           40.751551,
           -73.993934
          ],
          [
           "Crescent St & 35 Ave",
           "Queens Plaza North & Crescent St",
           37930,
           40.7596276,
           -73.9321455,
           40.75110165,
           -73.94073717
          ],
          [
           "10 Ave & W 28 St",
           "8 Ave & W 33 St",
           37930,
           40.75066386,
           -74.00176802,
           40.751551,
           -73.993934
          ],
          [
           "10 Ave & W 28 St",
           "8 Ave & W 33 St",
           37930,
           40.75066386,
           -74.00176802,
           40.751551,
           -73.993934
          ],
          [
           "Broadway & W 51 St",
           "8 Ave & W 33 St",
           37930,
           40.76228826,
           -73.98336183,
           40.751551,
           -73.993934
          ],
          [
           "Devoe St & Morgan Ave",
           "Queens Plaza North & Crescent St",
           37930,
           40.713811,
           -73.93515,
           40.75110165,
           -73.94073717
          ],
          [
           "E 22 St & 2 Ave",
           "8 Ave & W 33 St",
           37930,
           40.73716919369882,
           -73.98122549057007,
           40.751551,
           -73.993934
          ],
          [
           "2 Ave & E 122 St",
           "E 128 St & Madison Ave",
           37930,
           40.8006721,
           -73.9349,
           40.80756,
           -73.939182
          ],
          [
           "1 Ave & E 68 St",
           "Queens Plaza North & Crescent St",
           37930,
           40.76500525,
           -73.95818491,
           40.75110165,
           -73.94073717
          ],
          [
           "Central Park West & W 68 St",
           "W 82 St & Central Park West",
           37930,
           40.7734066,
           -73.97782542,
           40.78275,
           -73.97137
          ],
          [
           "Lenox Ave & W 130 St",
           "St Mary's St & Jackson Ave",
           37930,
           40.8107922,
           -73.9430681,
           40.808891,
           -73.91081
          ],
          [
           "W 36 St & 9 Ave",
           "8 Ave & W 33 St",
           37930,
           40.75462324029105,
           -73.99516761302948,
           40.751551,
           -73.993934
          ],
          [
           "8 Ave & W 33 St",
           "W 34 St &\\tHudson Blvd E",
           37930,
           40.751551,
           -73.993934,
           40.75516719072139,
           -74.00059908628464
          ],
          [
           "Queens Plaza North & Crescent St",
           "24 Ave & 29 St",
           37930,
           40.75110165,
           -73.94073717,
           40.7729,
           -73.916142
          ],
          [
           "Reade St & Broadway",
           "Allen St & Hester St",
           37930,
           40.71450451,
           -74.00562789,
           40.71605866,
           -73.99190759
          ],
          [
           "Great Jones St",
           "Allen St & Hester St",
           37930,
           40.72743423,
           -73.99379025,
           40.71605866,
           -73.99190759
          ],
          [
           "W 35 St & Dyer Ave",
           "W 30 St & 8 Ave",
           37930,
           40.754691750226016,
           -73.99740189313889,
           40.74965268472847,
           -73.9952078461647
          ],
          [
           "E 31 St & 3 Ave",
           "E 23 St & 1 Ave",
           37930,
           40.74394314,
           -73.97966069,
           40.736502,
           -73.97809472
          ],
          [
           "8 Ave & W 16 St",
           "E 23 St & 1 Ave",
           37930,
           40.740983,
           -74.001702,
           40.736502,
           -73.97809472
          ],
          [
           "1 Ave & E 16 St",
           "E 23 St & 1 Ave",
           37930,
           40.73221853,
           -73.98165557,
           40.736502,
           -73.97809472
          ],
          [
           "31 St & Thomson Ave",
           "Washington Ave & Park Ave",
           37930,
           40.74469738,
           -73.93540375,
           40.69610226,
           -73.96751037
          ],
          [
           "Broadway & E 21 St",
           "E 23 St & 1 Ave",
           37930,
           40.73988840858996,
           -73.98958593606949,
           40.736502,
           -73.97809472
          ],
          [
           "Leonard St & Church St",
           "Allen St & Hester St",
           37930,
           40.717571,
           -74.005549,
           40.71605866,
           -73.99190759
          ],
          [
           "Metropolitan Ave & Bedford Ave",
           "Washington Ave & Park Ave",
           37930,
           40.71534825,
           -73.96024116,
           40.69610226,
           -73.96751037
          ],
          [
           "31 St & Newtown Ave",
           "30 Ave & 21 St",
           37930,
           40.7675487799971,
           -73.9209334552288,
           40.7703743,
           -73.9286078
          ],
          [
           "Dean St & Franklin Ave",
           "Carlton Ave & Park Ave",
           37930,
           40.67759206937376,
           -73.955637216568,
           40.69580705,
           -73.97355569
          ],
          [
           "Madison Ave & E 26 St",
           "W 30 St & 8 Ave",
           37930,
           40.742684734875695,
           -73.98671329021454,
           40.74965268472847,
           -73.9952078461647
          ],
          [
           "W 47 St & 10 Ave",
           "W 87 St & Amsterdam Ave",
           37930,
           40.76269882,
           -73.99301222,
           40.78839,
           -73.9747
          ],
          [
           "Berry St & N 8 St",
           "Allen St & Hester St",
           37930,
           40.7190095,
           -73.95852515,
           40.71605866,
           -73.99190759
          ],
          [
           "1 Ave & E 6 St",
           "Allen St & Hester St",
           37930,
           40.72633085971696,
           -73.98616880178452,
           40.71605866,
           -73.99190759
          ],
          [
           "E 81 St & 2 Ave",
           "Park Ave & E 124 St",
           37930,
           40.77477944895728,
           -73.95427465438843,
           40.8045555,
           -73.9396861
          ],
          [
           "Lafayette St & E 8 St",
           "Allen St & Hester St",
           37930,
           40.73020660529954,
           -73.99102628231049,
           40.71605866,
           -73.99190759
          ],
          [
           "6 Ave & W 45 St",
           "E 23 St & 1 Ave",
           37930,
           40.756951,
           -73.982631,
           40.736502,
           -73.97809472
          ],
          [
           "E 22 St & 2 Ave",
           "E 23 St & 1 Ave",
           37930,
           40.73716919369882,
           -73.98122549057007,
           40.736502,
           -73.97809472
          ],
          [
           "W 39 St & 9 Ave",
           "W 34 St &\\tHudson Blvd E",
           37930,
           40.75645824,
           -73.99372222,
           40.75516719072139,
           -74.00059908628464
          ],
          [
           "W 39 St & 9 Ave",
           "W 34 St &\\tHudson Blvd E",
           37930,
           40.75645824,
           -73.99372222,
           40.75516719072139,
           -74.00059908628464
          ],
          [
           "Christopher St & Greenwich St",
           "E 9 St & 5 Ave",
           37930,
           40.73291553,
           -74.00711384,
           40.73275887045087,
           -73.99581670761108
          ],
          [
           "Madison Ave & E 120 St",
           "Amsterdam Ave & W 152 St",
           37930,
           40.80295,
           -73.942954,
           40.829523,
           -73.944279
          ],
          [
           "Adam Clayton Powell Blvd & W 151 St",
           "E 97 St & 3 Ave",
           37930,
           40.825289,
           -73.936232,
           40.7859201,
           -73.94860294
          ],
          [
           "2 Ave & E 31 St",
           "E 23 St & 1 Ave",
           37930,
           40.74290902,
           -73.97706058,
           40.736502,
           -73.97809472
          ],
          [
           "Central Park North & Adam Clayton Powell Blvd",
           "E 118 St & Madison Ave",
           37930,
           40.799484,
           -73.955613,
           40.8014866,
           -73.9442507
          ],
          [
           "Central Park North & Adam Clayton Powell Blvd",
           "Broadway & W 131 St",
           37930,
           40.799484,
           -73.955613,
           40.817555,
           -73.957163
          ],
          [
           "4 Ave & 9 St",
           "Columbia St & Lorraine St",
           37930,
           40.6705135,
           -73.98876585,
           40.6747055,
           -74.0075572
          ],
          [
           "St Marks Pl & 1 Ave",
           "E 9 St & 5 Ave",
           37930,
           40.72779126,
           -73.98564945,
           40.73275887045087,
           -73.99581670761108
          ],
          [
           "St Marks Pl & 1 Ave",
           "E 9 St & 5 Ave",
           37930,
           40.72779126,
           -73.98564945,
           40.73275887045087,
           -73.99581670761108
          ],
          [
           "Vernon Blvd & 10 St",
           "36 Ave & 10 St",
           37930,
           40.7671863,
           -73.9373554,
           40.7614376,
           -73.9411265
          ],
          [
           "1 Ave & E 68 St",
           "E 84 St & 1 Ave",
           37930,
           40.76500525,
           -73.95818491,
           40.77565541,
           -73.95068615
          ],
          [
           "1 Ave & E 68 St",
           "E 84 St & 1 Ave",
           37930,
           40.76500525,
           -73.95818491,
           40.77565541,
           -73.95068615
          ],
          [
           "1 Ave & E 68 St",
           "45 Ave & 21 St",
           37930,
           40.76500525,
           -73.95818491,
           40.74737075646803,
           -73.94777297973631
          ],
          [
           "E 16 St & 5 Ave",
           "Suffolk St & Stanton St",
           37930,
           40.73726186,
           -73.99238967,
           40.72066442,
           -73.98517977
          ],
          [
           "Jay St & York St",
           "Atlantic Ave & Fort Greene Pl",
           37930,
           40.70140317257725,
           -73.98672670125961,
           40.68382604,
           -73.97632328
          ],
          [
           "Hudson St & Reade St",
           "W 43 St & 10 Ave",
           37930,
           40.71625008,
           -74.0091059,
           40.76009437,
           -73.99461843
          ],
          [
           "5 Ave & E 87 St",
           "Central Park West & W 76 St",
           37930,
           40.78232260730881,
           -73.95987510681152,
           40.77896784,
           -73.97374737
          ],
          [
           "Madison St & Clinton St",
           "Suffolk St & Stanton St",
           37930,
           40.71269042,
           -73.98776323,
           40.72066442,
           -73.98517977
          ],
          [
           "Riverside Dr & W 72 St",
           "W 43 St & 10 Ave",
           37930,
           40.78057799010334,
           -73.98562431335449,
           40.76009437,
           -73.99461843
          ],
          [
           "8 Ave & W 52 St",
           "E 44 St & 2 Ave",
           37930,
           40.76370739,
           -73.9851615,
           40.75118387463277,
           -73.97138714790344
          ],
          [
           "W 42 St & 6 Ave",
           "E 44 St & 2 Ave",
           37930,
           40.75492,
           -73.98455,
           40.75118387463277,
           -73.97138714790344
          ],
          [
           "E 72 St & Park Ave",
           "E 58 St & 1 Ave (NW Corner)",
           37930,
           40.77118287540658,
           -73.96409422159195,
           40.759125,
           -73.962658
          ],
          [
           "Broadway & W 41 St",
           "E 44 St & 2 Ave",
           37930,
           40.75513557,
           -73.98658032,
           40.75118387463277,
           -73.97138714790344
          ],
          [
           "Prospect Park SW & 10 Ave",
           "Atlantic Ave & Fort Greene Pl",
           37930,
           40.659945,
           -73.977504,
           40.68382604,
           -73.97632328
          ],
          [
           "Graham Ave & Grand St",
           "Greene Ave & Throop Ave",
           37930,
           40.711863,
           -73.944024,
           40.6894932,
           -73.942061
          ],
          [
           "Carroll St & 6 Ave",
           "Atlantic Ave & Fort Greene Pl",
           37930,
           40.6740886,
           -73.9787282,
           40.68382604,
           -73.97632328
          ],
          [
           "E 81 St & York Ave",
           "W 95 St & Broadway",
           37930,
           40.7728384,
           -73.94989233,
           40.7937704,
           -73.971888
          ],
          [
           "E 2 St & Avenue B",
           "Suffolk St & Stanton St",
           37930,
           40.72217444,
           -73.98368779,
           40.72066442,
           -73.98517977
          ],
          [
           "Clinton Ave & Myrtle Ave",
           "Berry St & N 8 St",
           37930,
           40.693261,
           -73.968896,
           40.7190095,
           -73.95852515
          ],
          [
           "Nagle Ave & Ellwood St",
           "Sherman Ave & Thayer St",
           37930,
           40.86012,
           -73.928489,
           40.863124,
           -73.926994
          ],
          [
           "Wythe Ave & Metropolitan Ave",
           "Berry St & N 8 St",
           37930,
           40.716887,
           -73.963198,
           40.7190095,
           -73.95852515
          ],
          [
           "8 Ave & W 33 St",
           "W 43 St & 10 Ave",
           37930,
           40.751551,
           -73.993934,
           40.76009437,
           -73.99461843
          ],
          [
           "8 Ave & W 33 St",
           "W 43 St & 10 Ave",
           37930,
           40.751551,
           -73.993934,
           40.76009437,
           -73.99461843
          ],
          [
           "Centre St & Chambers St",
           "Murray St & Greenwich St",
           37930,
           40.71273266,
           -74.0046073,
           40.71485150526252,
           -74.01122331619263
          ],
          [
           "Amsterdam Ave & W 82 St",
           "W 95 St & Broadway",
           37930,
           40.78524672,
           -73.97667321,
           40.7937704,
           -73.971888
          ],
          [
           "Broadway & W 51 St",
           "W 43 St & 10 Ave",
           37930,
           40.76228826,
           -73.98336183,
           40.76009437,
           -73.99461843
          ],
          [
           "Driggs Ave & Lorimer St",
           "Berry St & N 8 St",
           37930,
           40.72179134,
           -73.9504154,
           40.7190095,
           -73.95852515
          ],
          [
           "10 Ave & W 28 St",
           "W 43 St & 10 Ave",
           37930,
           40.75066386,
           -74.00176802,
           40.76009437,
           -73.99461843
          ],
          [
           "Bushwick Ave & Powers St",
           "Berry St & N 8 St",
           37930,
           40.71247661,
           -73.94100005,
           40.7190095,
           -73.95852515
          ],
          [
           "1 Ave & E 68 St",
           "W 26 St & 10 Ave",
           37930,
           40.76500525,
           -73.95818491,
           40.749717753,
           -74.002950346
          ],
          [
           "E 56 St & Madison Ave",
           "3 Ave & E 71 St",
           37930,
           40.761573,
           -73.972628,
           40.76873687,
           -73.96119945
          ],
          [
           "W 44 St & 11 Ave",
           "W 36 St & 9 Ave",
           37930,
           40.762009,
           -73.996975,
           40.75462324029105,
           -73.99516761302948
          ],
          [
           "9 Ave & W 45 St",
           "W 44 St & 5 Ave",
           37930,
           40.76019252,
           -73.9912551,
           40.75500254,
           -73.98014437
          ],
          [
           "21 St & 43 Ave",
           "W 36 St & 9 Ave",
           37930,
           40.75052534,
           -73.94594845,
           40.75462324029105,
           -73.99516761302948
          ],
          [
           "E 81 St & York Ave",
           "E 47 St & 1 Ave",
           37930,
           40.7728384,
           -73.94989233,
           40.75206862,
           -73.96784384
          ],
          [
           "Broadway & W 58 St",
           "W 44 St & 5 Ave",
           37930,
           40.76695317,
           -73.98169333,
           40.75500254,
           -73.98014437
          ],
          [
           "10 Ave & W 14 St",
           "Washington Pl & 6 Ave",
           37930,
           40.74198159994023,
           -74.00831580162048,
           40.73224119,
           -74.00026394
          ],
          [
           "W 36 St & 7 Ave",
           "3 Ave & E 62 St",
           37930,
           40.752149,
           -73.989539,
           40.76312584,
           -73.96526895
          ],
          [
           "E 19 St & 3 Ave",
           "E 25 St & 2 Ave",
           37930,
           40.73624527,
           -73.98473765,
           40.73912601,
           -73.97973776
          ],
          [
           "Stanton St & Norfolk St",
           "E 3 St & 1 Ave",
           37930,
           40.720747,
           -73.986274,
           40.72467721,
           -73.98783413
          ],
          [
           "Warren St & Smith St",
           "7 St & 3 Ave",
           37930,
           40.68542400997018,
           -73.99127773940563,
           40.67260298150126,
           -73.98983001708984
          ],
          [
           "Hudson St & Reade St",
           "W 52 St & 6 Ave",
           37930,
           40.71625008,
           -74.0091059,
           40.76132983124814,
           -73.97982001304626
          ],
          [
           "Washington Square E",
           "E 3 St & 1 Ave",
           37930,
           40.73049393,
           -73.9957214,
           40.72467721,
           -73.98783413
          ],
          [
           "Centre St & Worth St",
           "St James Pl & Pearl St",
           37930,
           40.71494807,
           -74.00234482,
           40.71117416,
           -74.00016545
          ],
          [
           "E 72 St & Park Ave",
           "3 Ave & E 62 St",
           37930,
           40.77118287540658,
           -73.96409422159195,
           40.76312584,
           -73.96526895
          ],
          [
           "Underhill Ave & Pacific St",
           "Henry St & Middagh St",
           37930,
           40.6804836,
           -73.9646795,
           40.7003,
           -73.991581
          ],
          [
           "Nevins St & Schermerhorn St",
           "Hoyt St & Warren St",
           37930,
           40.68737247650719,
           -73.98176059126854,
           40.6843549,
           -73.98901629
          ],
          [
           "University Pl & E 14 St",
           "E 25 St & 2 Ave",
           37930,
           40.734814,
           -73.992085,
           40.73912601,
           -73.97973776
          ],
          [
           "8 Ave & W 27 St",
           "E 25 St & 2 Ave",
           37930,
           40.747968,
           -73.996637,
           40.73912601,
           -73.97973776
          ],
          [
           "E 92 St & Park Ave",
           "3 Ave & E 62 St",
           37930,
           40.78385,
           -73.95416,
           40.76312584,
           -73.96526895
          ],
          [
           "E 72 St & York Ave",
           "3 Ave & E 62 St",
           37930,
           40.76663814,
           -73.95348296,
           40.76312584,
           -73.96526895
          ],
          [
           "Lenox Ave & W 126 St",
           "St James Pl & Pearl St",
           37930,
           40.808442,
           -73.9452087,
           40.71117416,
           -74.00016545
          ],
          [
           "Broadway\\t& W 48 St",
           "Washington Pl & 6 Ave",
           37930,
           40.76017739537783,
           -73.98486793041229,
           40.73224119,
           -74.00026394
          ],
          [
           "Broadway & E 21 St",
           "Washington Pl & 6 Ave",
           37930,
           40.73988840858996,
           -73.98958593606949,
           40.73224119,
           -74.00026394
          ],
          [
           "Broadway & E 21 St",
           "Washington Pl & 6 Ave",
           37930,
           40.73988840858996,
           -73.98958593606949,
           40.73224119,
           -74.00026394
          ],
          [
           "E 2 St & Avenue B",
           "Washington Pl & 6 Ave",
           37930,
           40.72217444,
           -73.98368779,
           40.73224119,
           -74.00026394
          ],
          [
           "Flushing Ave & Vanderbilt Ave",
           "Park Pl & Franklin Ave",
           37930,
           40.69795031569544,
           -73.97077560424805,
           40.6741806,
           -73.9564947
          ],
          [
           "E 53 St & Madison Ave",
           "W 11 St & 6 Ave",
           37930,
           40.7597108,
           -73.97402311,
           40.73532427,
           -73.99800419
          ],
          [
           "E 16 St & 5 Ave",
           "8 Ave & W 31 St",
           37930,
           40.73726186,
           -73.99238967,
           40.7505853470215,
           -73.9946848154068
          ],
          [
           "Norfolk St & Broome St",
           "W 11 St & 6 Ave",
           37930,
           40.7172274,
           -73.98802084,
           40.73532427,
           -73.99800419
          ],
          [
           "S 3 St & Bedford Ave",
           "S 4 St & Rodney St",
           37930,
           40.71260486,
           -73.96264403,
           40.70934,
           -73.95608
          ],
          [
           "E 16 St & 5 Ave",
           "W 11 St & 6 Ave",
           37930,
           40.73726186,
           -73.99238967,
           40.73532427,
           -73.99800419
          ],
          [
           "Norfolk St & Broome St",
           "W 11 St & 6 Ave",
           37930,
           40.7172274,
           -73.98802084,
           40.73532427,
           -73.99800419
          ],
          [
           "Court St & State St",
           "Wolcott St & Dwight St",
           37930,
           40.6902375,
           -73.99203074,
           40.6753274,
           -74.0100698
          ],
          [
           "Court St & State St",
           "Bergen St & Vanderbilt Ave",
           37930,
           40.6902375,
           -73.99203074,
           40.6794388,
           -73.9680438
          ],
          [
           "W 18 St & 6 Ave",
           "W 11 St & 6 Ave",
           37930,
           40.73971301,
           -73.99456405,
           40.73532427,
           -73.99800419
          ],
          [
           "Putnam Ave & Wyckoff Ave",
           "Harrison Pl & Porter Ave",
           37930,
           40.69811,
           -73.90904,
           40.70686,
           -73.92851
          ],
          [
           "Frederick Douglass Blvd & W 115 St",
           "Adam Clayton Powell Blvd & W 123 St",
           37930,
           40.8038654,
           -73.9559308,
           40.8078316,
           -73.949373
          ],
          [
           "Graham Ave & Grand St",
           "S 4 St & Rodney St",
           37930,
           40.711863,
           -73.944024,
           40.70934,
           -73.95608
          ],
          [
           "31 St & Thomson Ave",
           "34 Ave & 31 St",
           37930,
           40.74469738,
           -73.93540375,
           40.759604471387945,
           -73.92714411020279
          ],
          [
           "W 47 St & 10 Ave",
           "8 Ave & W 31 St",
           37930,
           40.76269882,
           -73.99301222,
           40.7505853470215,
           -73.9946848154068
          ],
          [
           "E 17 St & Broadway",
           "W 17 St & 8 Ave",
           37930,
           40.73704984,
           -73.99009296,
           40.74177603,
           -74.00149746
          ],
          [
           "University Pl & E 14 St",
           "W 11 St & 6 Ave",
           37930,
           40.734814,
           -73.992085,
           40.73532427,
           -73.99800419
          ],
          [
           "Howard St & Lafayette St",
           "E 7 St & Avenue A",
           37930,
           40.71910537,
           -73.99973337,
           40.72621788,
           -73.98379855
          ],
          [
           "Clinton Ave & Myrtle Ave",
           "DeKalb Ave & Vanderbilt Ave",
           37930,
           40.693261,
           -73.968896,
           40.68940747,
           -73.96885458
          ],
          [
           "8 Ave & W 33 St",
           "E 41 St & Madison Ave (SW corner)",
           37930,
           40.751551,
           -73.993934,
           40.752165280621966,
           -73.97992193698882
          ],
          [
           "8 Ave & W 33 St",
           "E 41 St & Madison Ave (SW corner)",
           37930,
           40.751551,
           -73.993934,
           40.752165280621966,
           -73.97992193698882
          ],
          [
           "Bushwick Ave & Powers St",
           "S 4 St & Rodney St",
           37930,
           40.71247661,
           -73.94100005,
           40.70934,
           -73.95608
          ],
          [
           "Lawrence St & Willoughby St",
           "Bergen St & Vanderbilt Ave",
           37930,
           40.69236178,
           -73.98631746,
           40.6794388,
           -73.9680438
          ],
          [
           "10 Ave & W 28 St",
           "W 17 St & 8 Ave",
           37930,
           40.75066386,
           -74.00176802,
           40.74177603,
           -74.00149746
          ],
          [
           "Park Ave & E 162 St",
           "Adam Clayton Powell Blvd & W 151 St",
           37930,
           40.825716,
           -73.915585,
           40.825289,
           -73.936232
          ],
          [
           "10 Ave & W 28 St",
           "W 17 St & 8 Ave",
           37930,
           40.75066386,
           -74.00176802,
           40.74177603,
           -74.00149746
          ],
          [
           "Bleecker St & Crosby St",
           "W 17 St & 8 Ave",
           37930,
           40.72615604980408,
           -73.99510189890862,
           40.74177603,
           -74.00149746
          ],
          [
           "Lenox Ave & W 140 St",
           "Madison Ave & E 120 St",
           37930,
           40.817245,
           -73.938787,
           40.80295,
           -73.942954
          ],
          [
           "W 20 St & 8 Ave",
           "W 17 St & 8 Ave",
           37930,
           40.74345335,
           -74.00004031,
           40.74177603,
           -74.00149746
          ],
          [
           "Clinton St & Centre St",
           "Wolcott St & Dwight St",
           37930,
           40.67434,
           -74.00194698,
           40.6753274,
           -74.0100698
          ],
          [
           "1 Ave & E 68 St",
           "Greenpoint Ave & Manhattan Ave",
           37930,
           40.76500525,
           -73.95818491,
           40.73026,
           -73.95394
          ],
          [
           "Madison Ave & E 26 St",
           "8 Ave & W 31 St",
           37930,
           40.742684734875695,
           -73.98671329021454,
           40.7505853470215,
           -73.9946848154068
          ],
          [
           "W 47 St & 10 Ave",
           "W 11 St & 6 Ave",
           37930,
           40.76269882,
           -73.99301222,
           40.73532427,
           -73.99800419
          ],
          [
           "Madison Ave & E 26 St",
           "8 Ave & W 31 St",
           37930,
           40.742684734875695,
           -73.98671329021454,
           40.7505853470215,
           -73.9946848154068
          ],
          [
           "Broadway & E 21 St",
           "8 Ave & W 31 St",
           37930,
           40.73988840858996,
           -73.98958593606949,
           40.7505853470215,
           -73.9946848154068
          ],
          [
           "Broadway & E 21 St",
           "8 Ave & W 31 St",
           37930,
           40.73988840858996,
           -73.98958593606949,
           40.7505853470215,
           -73.9946848154068
          ],
          [
           "1 Ave & E 16 St",
           "8 Ave & W 31 St",
           37930,
           40.73221853,
           -73.98165557,
           40.7505853470215,
           -73.9946848154068
          ],
          [
           "Morgan Ave & Lombardy St",
           "Harrison Pl & Porter Ave",
           37930,
           40.72226,
           -73.93889,
           40.70686,
           -73.92851
          ],
          [
           "Grand Ave & Bergen St",
           "S 4 St & Rodney St",
           37930,
           40.678045,
           -73.962408,
           40.70934,
           -73.95608
          ],
          [
           "Schermerhorn St & Court St",
           "Pacific St & Nevins St",
           37930,
           40.69102925677968,
           -73.99183362722397,
           40.6853761,
           -73.98302136
          ],
          [
           "53 St & 4 Ave",
           "53 St & 2 Ave",
           37930,
           40.644862,
           -74.014531,
           40.64744,
           -74.018846
          ],
          [
           "Congress St & Clinton St",
           "Pacific St & Nevins St",
           37930,
           40.68825516598005,
           -73.99545192718506,
           40.6853761,
           -73.98302136
          ],
          [
           "E 40 St & Park Ave",
           "2 Ave & E 31 St",
           37930,
           40.750756,
           -73.978326,
           40.74290902,
           -73.97706058
          ],
          [
           "Broadway & W 58 St",
           "E 47 St & Park Ave",
           37930,
           40.76695317,
           -73.98169333,
           40.75510267,
           -73.97498696
          ],
          [
           "Lexington Ave & Classon Ave",
           "St Johns Pl & Washington Ave",
           37930,
           40.68676793,
           -73.95928168,
           40.6737236,
           -73.9631611
          ],
          [
           "Milton St & Franklin St",
           "Kent Ave & N 7 St",
           37930,
           40.72906,
           -73.95779,
           40.72036775298455,
           -73.96165072917938
          ],
          [
           "Milton St & Franklin St",
           "Kent Ave & N 7 St",
           37930,
           40.72906,
           -73.95779,
           40.72036775298455,
           -73.96165072917938
          ],
          [
           "Milton St & Franklin St",
           "Kent Ave & N 7 St",
           37930,
           40.72906,
           -73.95779,
           40.72036775298455,
           -73.96165072917938
          ],
          [
           "Madison Ave & E 26 St",
           "E 27 St & 1 Ave",
           37930,
           40.742684734875695,
           -73.98671329021454,
           40.739445,
           -73.976806
          ],
          [
           "1 Ave & E 68 St",
           "2 Ave & E 31 St",
           37930,
           40.76500525,
           -73.95818491,
           40.74290902,
           -73.97706058
          ],
          [
           "1 Ave & E 68 St",
           "E 47 St & Park Ave",
           37930,
           40.76500525,
           -73.95818491,
           40.75510267,
           -73.97498696
          ],
          [
           "Madison Ave & E 26 St",
           "E 27 St & 1 Ave",
           37930,
           40.742684734875695,
           -73.98671329021454,
           40.739445,
           -73.976806
          ],
          [
           "Broadway\\t& W 48 St",
           "E 47 St & Park Ave",
           37930,
           40.76017739537783,
           -73.98486793041229,
           40.75510267,
           -73.97498696
          ],
          [
           "E 51 St & 1 Ave",
           "E 47 St & Park Ave",
           37930,
           40.75455731,
           -73.96592976,
           40.75510267,
           -73.97498696
          ],
          [
           "Broadway\\t& W 48 St",
           "E 47 St & Park Ave",
           37930,
           40.76017739537783,
           -73.98486793041229,
           40.75510267,
           -73.97498696
          ],
          [
           "Wythe Ave & Metropolitan Ave",
           "Kent Ave & N 7 St",
           37930,
           40.716887,
           -73.963198,
           40.72036775298455,
           -73.96165072917938
          ],
          [
           "Clinton Ave & Myrtle Ave",
           "St Johns Pl & Washington Ave",
           37930,
           40.693261,
           -73.968896,
           40.6737236,
           -73.9631611
          ],
          [
           "Sands St & Jay St",
           "Kent Ave & N 7 St",
           37930,
           40.700119,
           -73.9862,
           40.72036775298455,
           -73.96165072917938
          ],
          [
           "E 31 St & 3 Ave",
           "E 47 St & Park Ave",
           37930,
           40.74394314,
           -73.97966069,
           40.75510267,
           -73.97498696
          ],
          [
           "E 31 St & 3 Ave",
           "Lexington Ave & E 26 St",
           37930,
           40.74394314,
           -73.97966069,
           40.741459,
           -73.983293
          ],
          [
           "Broadway & W 51 St",
           "2 Ave & E 31 St",
           37930,
           40.76228826,
           -73.98336183,
           40.74290902,
           -73.97706058
          ],
          [
           "E 31 St & 3 Ave",
           "E 47 St & Park Ave",
           37930,
           40.74394314,
           -73.97966069,
           40.75510267,
           -73.97498696
          ],
          [
           "Great Jones St",
           "Lexington Ave & E 26 St",
           37930,
           40.72743423,
           -73.99379025,
           40.741459,
           -73.983293
          ],
          [
           "Lawrence St & Willoughby St",
           "Pacific St & Nevins St",
           37930,
           40.69236178,
           -73.98631746,
           40.6853761,
           -73.98302136
          ],
          [
           "Lafayette St & E 8 St",
           "2 Ave & E 31 St",
           37930,
           40.73020660529954,
           -73.99102628231049,
           40.74290902,
           -73.97706058
          ],
          [
           "E 81 St & 2 Ave",
           "E 47 St & Park Ave",
           37930,
           40.77477944895728,
           -73.95427465438843,
           40.75510267,
           -73.97498696
          ],
          [
           "E 20 St & FDR Dr",
           "E 27 St & 1 Ave",
           37930,
           40.733208626522426,
           -73.9756813647,
           40.739445,
           -73.976806
          ],
          [
           "E 48 St & 3 Ave",
           "2 Ave & E 31 St",
           37930,
           40.7546011026,
           -73.971878855,
           40.74290902,
           -73.97706058
          ],
          [
           "Morgan Ave & Lombardy St",
           "Kent Ave & N 7 St",
           37930,
           40.72226,
           -73.93889,
           40.72036775298455,
           -73.96165072917938
          ],
          [
           "Rivington St & Chrystie St",
           "Cliff St & Fulton St",
           37930,
           40.72110063,
           -73.9919254,
           40.70838,
           -74.00495
          ],
          [
           "Riverside Dr & Broadway",
           "Dyckman St & Henshaw St",
           37930,
           40.865364,
           -73.92791,
           40.867357,
           -73.92936
          ],
          [
           "2 Ave & E 31 St",
           "E 27 St & 1 Ave",
           37930,
           40.74290902,
           -73.97706058,
           40.739445,
           -73.976806
          ],
          [
           "Lexington Ave & E 26 St",
           "E 27 St & 1 Ave",
           37930,
           40.741459,
           -73.983293,
           40.739445,
           -73.976806
          ],
          [
           "Berry St & N 8 St",
           "Kent Ave & N 7 St",
           37930,
           40.7190095,
           -73.95852515,
           40.72036775298455,
           -73.96165072917938
          ],
          [
           "Berry St & N 8 St",
           "Kent Ave & N 7 St",
           37930,
           40.7190095,
           -73.95852515,
           40.72036775298455,
           -73.96165072917938
          ],
          [
           "Berry St & N 8 St",
           "Kent Ave & N 7 St",
           37930,
           40.7190095,
           -73.95852515,
           40.72036775298455,
           -73.96165072917938
          ],
          [
           "W 43 St & 10 Ave",
           "E 47 St & Park Ave",
           37930,
           40.76009437,
           -73.99461843,
           40.75510267,
           -73.97498696
          ],
          [
           "Berry St & N 8 St",
           "Greene Ave & Nostrand Ave",
           37930,
           40.7190095,
           -73.95852515,
           40.6883337,
           -73.950916
          ],
          [
           "1 Ave & E 68 St",
           "E 47 St & Park Ave",
           37930,
           40.76500525,
           -73.95818491,
           40.75510267,
           -73.97498696
          ],
          [
           "1 Ave & E 68 St",
           "E 47 St & Park Ave",
           37930,
           40.76500525,
           -73.95818491,
           40.75510267,
           -73.97498696
          ],
          [
           "Broadway & W 37 St",
           "E 47 St & Park Ave",
           37930,
           40.75172632,
           -73.98753523,
           40.75510267,
           -73.97498696
          ],
          [
           "Greenpoint Ave & Manhattan Ave",
           "Kent Ave & N 7 St",
           37930,
           40.73026,
           -73.95394,
           40.72036775298455,
           -73.96165072917938
          ],
          [
           "8 Ave & W 31 St",
           "Lexington Ave & E 26 St",
           37930,
           40.7505853470215,
           -73.9946848154068,
           40.741459,
           -73.983293
          ],
          [
           "8 Ave & W 31 St",
           "E 27 St & 1 Ave",
           37930,
           40.7505853470215,
           -73.9946848154068,
           40.739445,
           -73.976806
          ],
          [
           "8 Ave & W 31 St",
           "2 Ave & E 31 St",
           37930,
           40.7505853470215,
           -73.9946848154068,
           40.74290902,
           -73.97706058
          ],
          [
           "W 17 St & 8 Ave",
           "E 27 St & 1 Ave",
           37930,
           40.74177603,
           -74.00149746,
           40.739445,
           -73.976806
          ],
          [
           "S 4 St & Rodney St",
           "Kent Ave & N 7 St",
           37930,
           40.70934,
           -73.95608,
           40.72036775298455,
           -73.96165072917938
          ],
          [
           "Greenpoint Ave & Manhattan Ave",
           "Kent Ave & N 7 St",
           37930,
           40.73026,
           -73.95394,
           40.72036775298455,
           -73.96165072917938
          ],
          [
           "Central Park North & Adam Clayton Powell Blvd",
           "W 113 St & Broadway",
           37930,
           40.799484,
           -73.955613,
           40.805973,
           -73.964928
          ],
          [
           "Lexington Ave & E 36 St",
           "2 Ave & E 31 St",
           37930,
           40.7475739589548,
           -73.9788007736206,
           40.74290902,
           -73.97706058
          ],
          [
           "Lexington Ave & E 36 St",
           "Lexington Ave & E 26 St",
           37930,
           40.7475739589548,
           -73.9788007736206,
           40.741459,
           -73.983293
          ],
          [
           "Cliff St & Fulton St",
           "Cliff St & Fulton St",
           37930,
           40.70838,
           -74.00495,
           40.70838,
           -74.00495
          ],
          [
           "Kent Ave & N 7 St",
           "Kent Ave & N 7 St",
           37930,
           40.72036775298455,
           -73.96165072917938,
           40.72036775298455,
           -73.96165072917938
          ],
          [
           "Lexington Ave & E 26 St",
           "Lexington Ave & E 26 St",
           37930,
           40.741459,
           -73.983293,
           40.741459,
           -73.983293
          ],
          [
           "27 Ave & 9 St",
           "27 Ave & 9 St",
           37930,
           40.7739825,
           -73.9309134,
           40.7739825,
           -73.9309134
          ],
          [
           "53 St & 2 Ave",
           "53 St & 2 Ave",
           37930,
           40.64744,
           -74.018846,
           40.64744,
           -74.018846
          ],
          [
           "E 47 St & Park Ave",
           "E 47 St & Park Ave",
           37930,
           40.755103,
           -73.974987,
           40.755103,
           -73.974987
          ],
          [
           "E 47 St & Park Ave",
           "E 27 St & 1 Ave",
           37930,
           40.75510267,
           -73.97498696,
           40.739445,
           -73.976806
          ],
          [
           "E 27 St & 1 Ave",
           "Lexington Ave & E 26 St",
           37930,
           40.739445,
           -73.976806,
           40.741459,
           -73.983293
          ],
          [
           "Vernon Blvd & 10 St",
           "27 Ave & 9 St",
           37930,
           40.7671863,
           -73.9373554,
           40.7739825,
           -73.9309134
          ],
          [
           "W 35 St & Dyer Ave",
           "Lexington Ave & E 26 St",
           37930,
           40.754691750226016,
           -73.99740189313889,
           40.741459,
           -73.983293
          ],
          [
           "Center Blvd & 48 Ave",
           "Kent Ave & N 7 St",
           37930,
           40.745038,
           -73.957539,
           40.72036775298455,
           -73.96165072917938
          ],
          [
           "S 3 St & Bedford Ave",
           "Kent Ave & N 7 St",
           37930,
           40.71260486,
           -73.96264403,
           40.72036775298455,
           -73.96165072917938
          ],
          [
           "Stanton St & Norfolk St",
           "2 Ave & E 31 St",
           37930,
           40.720747,
           -73.986274,
           40.74290902,
           -73.97706058
          ],
          [
           "Lafayette St & E 8 St",
           "Lexington Ave & E 26 St",
           37930,
           40.73020660529954,
           -73.99102628231049,
           40.741459,
           -73.983293
          ],
          [
           "E 26 St & 3 Ave",
           "E 27 St & 1 Ave",
           37930,
           40.74069317733043,
           -73.98160636425018,
           40.739445,
           -73.976806
          ],
          [
           "Lafayette St & E 8 St",
           "E 27 St & 1 Ave",
           37930,
           40.73020660529954,
           -73.99102628231049,
           40.739445,
           -73.976806
          ],
          [
           "E 48 St & 3 Ave",
           "E 47 St & Park Ave",
           37930,
           40.7546011026,
           -73.971878855,
           40.75510267,
           -73.97498696
          ],
          [
           "E 33 St & 5 Ave",
           "E 27 St & 1 Ave",
           37930,
           40.74765947,
           -73.98490707,
           40.739445,
           -73.976806
          ],
          [
           "E 67 St & Park Ave",
           "E 47 St & Park Ave",
           37930,
           40.76780080148132,
           -73.96592080593109,
           40.75510267,
           -73.97498696
          ],
          [
           "W 116 St & Broadway",
           "West End Ave & W 78 St",
           37930,
           40.8082,
           -73.9641,
           40.783786,
           -73.981687
          ],
          [
           "W 15 St & 7 Ave",
           "E 27 St & 1 Ave",
           37930,
           40.73935542,
           -73.99931783,
           40.739445,
           -73.976806
          ],
          [
           "W 116 St & Broadway",
           "W 113 St & Broadway",
           37930,
           40.8082,
           -73.9641,
           40.805973,
           -73.964928
          ],
          [
           "Broadway & W 29 St",
           "E 27 St & 1 Ave",
           37930,
           40.7462009,
           -73.98855723,
           40.739445,
           -73.976806
          ],
          [
           "E 9 St & Avenue C",
           "Kent Ave & N 7 St",
           37930,
           40.72521311,
           -73.97768752,
           40.72036775298455,
           -73.96165072917938
          ],
          [
           "W 44 St & 5 Ave",
           "E 47 St & Park Ave",
           37930,
           40.75500254,
           -73.98014437,
           40.75510267,
           -73.97498696
          ],
          [
           "W 44 St & 5 Ave",
           "E 47 St & Park Ave",
           37930,
           40.75500254,
           -73.98014437,
           40.75510267,
           -73.97498696
          ],
          [
           "E 9 St & Avenue C",
           "E 27 St & 1 Ave",
           37930,
           40.72521311,
           -73.97768752,
           40.739445,
           -73.976806
          ],
          [
           "6 Ave & 60 St",
           "6 Ave & 55 St",
           37930,
           40.638196,
           -74.013821,
           40.640831,
           -74.010996
          ],
          [
           "W 36 St & 7 Ave",
           "E 40 St & Park Ave",
           37930,
           40.752149,
           -73.989539,
           40.750756,
           -73.978326
          ],
          [
           "Willis Ave & E 143 St",
           "Riverside Dr & W 72 St",
           37930,
           40.812299,
           -73.92037,
           40.78057799010334,
           -73.98562431335449
          ],
          [
           "Barclay St & Church St",
           "Mercer St & Spring St",
           37930,
           40.71291224,
           -74.01020234,
           40.72362738,
           -73.99949601
          ],
          [
           "2 Ave & E 104 St",
           "Frederick Douglass Blvd & W 115 St",
           37930,
           40.7892105,
           -73.94370784,
           40.8038654,
           -73.9559308
          ],
          [
           "Broadway & W 53 St",
           "Riverside Dr & W 72 St",
           37930,
           40.76344058,
           -73.98268129,
           40.78057799010334,
           -73.98562431335449
          ],
          [
           "E 27 St & 1 Ave",
           "E 40 St & Park Ave",
           37930,
           40.739445,
           -73.976806,
           40.750756,
           -73.978326
          ],
          [
           "Barrow St & Hudson St",
           "Mercer St & Spring St",
           37930,
           40.73172428,
           -74.00674436,
           40.72362738,
           -73.99949601
          ],
          [
           "Barrow St & Hudson St",
           "E 40 St & Park Ave",
           37930,
           40.73172428,
           -74.00674436,
           40.750756,
           -73.978326
          ],
          [
           "Broadway & Battery Pl",
           "Madison St & Clinton St",
           37930,
           40.70463334,
           -74.01361706,
           40.71269042,
           -73.98776323
          ],
          [
           "Broadway & W 58 St",
           "E 40 St & Park Ave",
           37930,
           40.76695317,
           -73.98169333,
           40.750756,
           -73.978326
          ],
          [
           "Bond St & Bergen St",
           "Nevins St & Schermerhorn St",
           37930,
           40.6849668,
           -73.98620772,
           40.68737247650719,
           -73.98176059126854
          ],
          [
           "Norfolk St & Broome St",
           "Madison St & Clinton St",
           37930,
           40.7172274,
           -73.98802084,
           40.71269042,
           -73.98776323
          ],
          [
           "Stanton St & Norfolk St",
           "Onderdonk Ave & Gates Ave",
           37930,
           40.720747,
           -73.986274,
           40.70413,
           -73.90737
          ],
          [
           "Avenue C & E 18 St",
           "E 40 St & Park Ave",
           37930,
           40.730563,
           -73.973984,
           40.750756,
           -73.978326
          ],
          [
           "Broadway & W 61 St",
           "Frederick Douglass Blvd & W 117 St",
           37930,
           40.77003010255044,
           -73.9819684624672,
           40.805159,
           -73.954692
          ],
          [
           "Avenue C & E 18 St",
           "Mercer St & Spring St",
           37930,
           40.730563,
           -73.973984,
           40.72362738,
           -73.99949601
          ],
          [
           "E 27 St & Park Ave S",
           "E 40 St & Park Ave",
           37930,
           40.74275179648995,
           -73.9847157150507,
           40.750756,
           -73.978326
          ],
          [
           "Greene Ave & Grandview Ave",
           "Putnam Ave & Wyckoff Ave",
           37930,
           40.709697,
           -73.907856,
           40.69811,
           -73.90904
          ],
          [
           "E 27 St & Park Ave S",
           "Greenwich Ave & Charles St",
           37930,
           40.74275179648995,
           -73.9847157150507,
           40.735238,
           -74.000271
          ],
          [
           "Forsyth St & Canal St",
           "Madison St & Clinton St",
           37930,
           40.7158155,
           -73.99422366,
           40.71269042,
           -73.98776323
          ],
          [
           "1 Ave & E 16 St",
           "E 7 St & Ave B",
           37930,
           40.73221853,
           -73.98165557,
           40.7251285241158,
           -73.98131668567657
          ],
          [
           "Broadway & E 21 St",
           "Broadway & W 53 St",
           37930,
           40.73988840858996,
           -73.98958593606949,
           40.76344058,
           -73.98268129
          ],
          [
           "8 Ave & W 16 St",
           "E 7 St & Ave B",
           37930,
           40.740983,
           -74.001702,
           40.7251285241158,
           -73.98131668567657
          ],
          [
           "Central Park S & 6 Ave",
           "Broadway & W 53 St",
           37930,
           40.76590936,
           -73.97634151,
           40.76344058,
           -73.98268129
          ],
          [
           "Leonard St & Church St",
           "Spring St & Hudson St",
           37930,
           40.717571,
           -74.005549,
           40.72583996792375,
           -74.0076532959938
          ],
          [
           "McKibbin St & Bogart St",
           "Putnam Ave & Throop Ave",
           37930,
           40.706237,
           -73.933871,
           40.6851532,
           -73.94111
          ],
          [
           "Central Park West & W 76 St",
           "5 Ave & E 103 St",
           37930,
           40.77896784,
           -73.97374737,
           40.7922553,
           -73.95249933
          ],
          [
           "Murray St & Greenwich St",
           "11 Ave & W 27 St",
           37930,
           40.71485150526252,
           -74.01122331619263,
           40.751396,
           -74.005226
          ],
          [
           "8 Ave & W 31 St",
           "5 Ave & E 103 St",
           37930,
           40.7505853470215,
           -73.9946848154068,
           40.7922553,
           -73.95249933
          ],
          [
           "DeKalb Ave & Vanderbilt Ave",
           "Putnam Ave & Throop Ave",
           37930,
           40.68940747,
           -73.96885458,
           40.6851532,
           -73.94111
          ],
          [
           "W 26 St & 8 Ave",
           "11 Ave & W 27 St",
           37930,
           40.74734825,
           -73.99723551,
           40.751396,
           -74.005226
          ],
          [
           "Central Park North & Adam Clayton Powell Blvd",
           "5 Ave & E 103 St",
           37930,
           40.799484,
           -73.955613,
           40.7922553,
           -73.95249933
          ],
          [
           "Lawrence St & Willoughby St",
           "Putnam Ave & Throop Ave",
           37930,
           40.69236178,
           -73.98631746,
           40.6851532,
           -73.94111
          ],
          [
           "2 Ave & E 29 St",
           "11 Ave & W 27 St",
           37930,
           40.74172351097472,
           -73.97809267044067,
           40.751396,
           -74.005226
          ],
          [
           "E 97 St & Madison Ave",
           "E 106 St & Lexington Ave",
           37930,
           40.787801,
           -73.953559,
           40.791976,
           -73.945993
          ],
          [
           "E Fordham Rd & Webster Ave",
           "E 167 St & Clay Ave",
           37930,
           40.861748,
           -73.89105,
           40.83094,
           -73.91125
          ],
          [
           "Kent Ave & N 7 St",
           "Vernon Blvd & 50 Ave",
           37930,
           40.72036775298455,
           -73.96165072917938,
           40.74232744,
           -73.95411749
          ],
          [
           "Lenox Ave & W 130 St",
           "5 Ave & E 135 St",
           37930,
           40.8107922,
           -73.9430681,
           40.812191,
           -73.937838
          ],
          [
           "E 114 St & 1 Ave",
           "Lexington Ave & E 111 St",
           37930,
           40.7945663,
           -73.9362541,
           40.7954121,
           -73.9441232
          ],
          [
           "W 36 St & 9 Ave",
           "11 Ave & W 27 St",
           37930,
           40.75462324029105,
           -73.99516761302948,
           40.751396,
           -74.005226
          ],
          [
           "Broadway & W 29 St",
           "E 55 St & 2 Ave",
           37930,
           40.7462009,
           -73.98855723,
           40.75797322,
           -73.96603308
          ],
          [
           "W 20 St & 8 Ave",
           "11 Ave & W 27 St",
           37930,
           40.74345335,
           -74.00004031,
           40.751396,
           -74.005226
          ],
          [
           "10 Ave & W 28 St",
           "Great Jones St",
           37930,
           40.75066386,
           -74.00176802,
           40.72743423,
           -73.99379025
          ],
          [
           "Great Jones St",
           "10 Ave & W 28 St",
           37930,
           40.72743423,
           -73.99379025,
           40.75066386,
           -74.00176802
          ],
          [
           "Broadway & W 51 St",
           "Broadway & W 51 St",
           37930,
           40.76228826,
           -73.98336183,
           40.76228826,
           -73.98336183
          ],
          [
           "West St & Chambers St",
           "West St & Chambers St",
           37930,
           40.71754834,
           -74.01322069,
           40.71754834,
           -74.01322069
          ],
          [
           "Reade St & Broadway",
           "Reade St & Broadway",
           37930,
           40.71450451,
           -74.00562789,
           40.71450451,
           -74.00562789
          ],
          [
           "Lawrence St & Willoughby St",
           "Lawrence St & Willoughby St",
           37930,
           40.69236178,
           -73.98631746,
           40.69236178,
           -73.98631746
          ],
          [
           "10 Ave & W 28 St",
           "10 Ave & W 28 St",
           37930,
           40.75066386,
           -74.00176802,
           40.75066386,
           -74.00176802
          ],
          [
           "Bushwick Ave & Powers St",
           "W Broadway & W Houston St",
           37930,
           40.71247661,
           -73.94100005,
           40.726378,
           -74.000472
          ],
          [
           "W Broadway & W Houston St",
           "Bushwick Ave & Powers St",
           37930,
           40.726378,
           -74.000472,
           40.71247661,
           -73.94100005
          ],
          [
           "12 Ave & W 40 St",
           "West St & Chambers St",
           37930,
           40.76087502,
           -74.00277668,
           40.71754834,
           -74.01322069
          ],
          [
           "Court St & Nelson St",
           "Smith St & 9 St",
           37930,
           40.6763947,
           -73.99869893,
           40.6746957,
           -73.99785768
          ],
          [
           "Broadway & E 21 St",
           "W 35 St & Dyer Ave",
           37930,
           40.73988840858996,
           -73.98958593606949,
           40.754691750226016,
           -73.99740189313889
          ],
          [
           "11 Ave & W 59 St",
           "W 35 St & Dyer Ave",
           37930,
           40.77149671054441,
           -73.99046033620834,
           40.754691750226016,
           -73.99740189313889
          ],
          [
           "1 Ave & E 68 St",
           "Center Blvd & 48 Ave",
           37930,
           40.76500525,
           -73.95818491,
           40.745038,
           -73.957539
          ],
          [
           "W 47 St & 10 Ave",
           "West St & Chambers St",
           37930,
           40.76269882,
           -73.99301222,
           40.71754834,
           -74.01322069
          ],
          [
           "E 27 St & 1 Ave",
           "E 31 St & 3 Ave",
           37930,
           40.739445,
           -73.976806,
           40.74394314,
           -73.97966069
          ],
          [
           "2 Ave & E 31 St",
           "E 31 St & 3 Ave",
           37930,
           40.74290902,
           -73.97706058,
           40.74394314,
           -73.97966069
          ],
          [
           "Berry St & N 8 St",
           "William St & Pine St",
           37930,
           40.7190095,
           -73.95852515,
           40.70717936,
           -74.00887308
          ],
          [
           "Greene Ave & Throop Ave",
           "Willoughby Ave & Walworth St",
           37930,
           40.6894932,
           -73.942061,
           40.69331716,
           -73.95381995
          ],
          [
           "W 26 St & 10 Ave",
           "E 31 St & 3 Ave",
           37930,
           40.749717753,
           -74.002950346,
           40.74394314,
           -73.97966069
          ],
          [
           "W 11 St & 6 Ave",
           "E 31 St & 3 Ave",
           37930,
           40.73532427,
           -73.99800419,
           40.74394314,
           -73.97966069
          ],
          [
           "8 Ave & W 31 St",
           "Great Jones St",
           37930,
           40.7505853470215,
           -73.9946848154068,
           40.72743423,
           -73.99379025
          ],
          [
           "8 Ave & W 31 St",
           "10 Ave & W 28 St",
           37930,
           40.7505853470215,
           -73.9946848154068,
           40.75066386,
           -74.00176802
          ],
          [
           "Henry St & W 9 St",
           "Lawrence St & Willoughby St",
           37930,
           40.6763744,
           -74.00324957,
           40.69236178,
           -73.98631746
          ],
          [
           "E 48 St & 3 Ave",
           "E 31 St & 3 Ave",
           37930,
           40.7546011026,
           -73.971878855,
           40.74394314,
           -73.97966069
          ],
          [
           "W 13 St & 5 Ave",
           "West St & Chambers St",
           37930,
           40.735445,
           -73.99431,
           40.71754834,
           -74.01322069
          ],
          [
           "E 2 St & 2 Ave",
           "E 31 St & 3 Ave",
           37930,
           40.72502876,
           -73.99069656,
           40.74394314,
           -73.97966069
          ],
          [
           "Henry St & Atlantic Ave",
           "Lawrence St & Willoughby St",
           37930,
           40.69089272,
           -73.99612349,
           40.69236178,
           -73.98631746
          ],
          [
           "Pike St & E Broadway",
           "Reade St & Broadway",
           37930,
           40.71406667,
           -73.99293911,
           40.71450451,
           -74.00562789
          ],
          [
           "Lexington Ave & E 26 St",
           "E 31 St & 3 Ave",
           37930,
           40.741459,
           -73.983293,
           40.74394314,
           -73.97966069
          ],
          [
           "E 27 St & 1 Ave",
           "William St & Pine St",
           37930,
           40.739445,
           -73.976806,
           40.70717936,
           -74.00887308
          ],
          [
           "Broadway & Battery Pl",
           "West St & Chambers St",
           37930,
           40.70463334,
           -74.01361706,
           40.71754834,
           -74.01322069
          ],
          [
           "E 1 St & 1 Ave",
           "Great Jones St",
           37930,
           40.72335597960796,
           -73.98864984512329,
           40.72743423,
           -73.99379025
          ],
          [
           "Great Jones St",
           "Great Jones St",
           37930,
           40.72743423,
           -73.99379025,
           40.72743423,
           -73.99379025
          ],
          [
           "Broadway & W 51 St",
           "Broadway & W 51 St",
           37930,
           40.76228826,
           -73.98336183,
           40.76228826,
           -73.98336183
          ],
          [
           "Great Jones St",
           "Reade St & Broadway",
           37930,
           40.72743423,
           -73.99379025,
           40.71450451,
           -74.00562789
          ],
          [
           "Broadway & W 51 St",
           "Broadway & W 51 St",
           37930,
           40.76228826,
           -73.98336183,
           40.76228826,
           -73.98336183
          ],
          [
           "E 31 St & 3 Ave",
           "E 31 St & 3 Ave",
           37930,
           40.74394314,
           -73.97966069,
           40.74394314,
           -73.97966069
          ],
          [
           "Driggs Ave & Lorimer St",
           "10 Ave & W 28 St",
           37930,
           40.72179134,
           -73.9504154,
           40.75066386,
           -74.00176802
          ],
          [
           "Flushing Ave & Vanderbilt Ave",
           "Flushing Ave & Vanderbilt Ave",
           37930,
           40.69795031569544,
           -73.97077560424805,
           40.69795031569544,
           -73.97077560424805
          ],
          [
           "Jay St & York St",
           "Flushing Ave & Vanderbilt Ave",
           37930,
           40.70140317257725,
           -73.98672670125961,
           40.69795031569544,
           -73.97077560424805
          ],
          [
           "E 16 St & 5 Ave",
           "Great Jones St",
           37930,
           40.73726186,
           -73.99238967,
           40.72743423,
           -73.99379025
          ],
          [
           "9 Ave & W 22 St",
           "West St & Chambers St",
           37930,
           40.7454973,
           -74.00197139,
           40.71754834,
           -74.01322069
          ],
          [
           "2 Ave & E 29 St",
           "William St & Pine St",
           37930,
           40.74172351097472,
           -73.97809267044067,
           40.70717936,
           -74.00887308
          ],
          [
           "Hanson Pl & Ashland Pl",
           "Lawrence St & Willoughby St",
           37930,
           40.68506807308177,
           -73.97790759801863,
           40.69236178,
           -73.98631746
          ],
          [
           "Rutgers St & Henry St",
           "Reade St & Broadway",
           37930,
           40.71332151208186,
           -73.99009689688683,
           40.71450451,
           -74.00562789
          ],
          [
           "W 15 St & 7 Ave",
           "10 Ave & W 28 St",
           37930,
           40.73935542,
           -73.99931783,
           40.75066386,
           -74.00176802
          ],
          [
           "Adam Clayton Powell Blvd & W 138 St",
           "Courtlandt Ave & E 149 St",
           37930,
           40.81695971032464,
           -73.9422959089279,
           40.816402,
           -73.919549
          ],
          [
           "Broadway & E 21 St",
           "E 31 St & 3 Ave",
           37930,
           40.73988840858996,
           -73.98958593606949,
           40.74394314,
           -73.97966069
          ],
          [
           "Kingston Ave & Herkimer St",
           "Central Ave & Starr Street",
           37930,
           40.67890679,
           -73.94142771,
           40.700003,
           -73.92834
          ],
          [
           "E 81 St & 2 Ave",
           "W Broadway & W Houston St",
           37930,
           40.77477944895728,
           -73.95427465438843,
           40.726378,
           -74.000472
          ],
          [
           "W 20 St & 10 Ave",
           "10 Ave & W 28 St",
           37930,
           40.745686,
           -74.005141,
           40.75066386,
           -74.00176802
          ],
          [
           "West St & Liberty St",
           "West St & Chambers St",
           37930,
           40.711444,
           -74.014847,
           40.71754834,
           -74.01322069
          ],
          [
           "E 32 St & Park Ave",
           "E 31 St & 3 Ave",
           37930,
           40.7457121,
           -73.98194829,
           40.74394314,
           -73.97966069
          ],
          [
           "E 32 St & Park Ave",
           "E 31 St & 3 Ave",
           37930,
           40.7457121,
           -73.98194829,
           40.74394314,
           -73.97966069
          ],
          [
           "Columbus Ave & W 95 St",
           "W 110 St & Amsterdam Ave",
           37930,
           40.7919557,
           -73.968087,
           40.802692,
           -73.96295
          ],
          [
           "E 32 St & Park Ave",
           "E 31 St & 3 Ave",
           37930,
           40.7457121,
           -73.98194829,
           40.74394314,
           -73.97966069
          ],
          [
           "Columbus Ave & W 95 St",
           "West St & Chambers St",
           37930,
           40.7919557,
           -73.968087,
           40.71754834,
           -74.01322069
          ],
          [
           "North Moore St & Greenwich St",
           "Columbia St & Rivington St",
           37930,
           40.72019521437465,
           -74.0103006362915,
           40.71739973,
           -73.98016555
          ],
          [
           "W 16 St & The High Line",
           "W 20 St & 7 Ave",
           37930,
           40.74334935,
           -74.00681753,
           40.74238787,
           -73.99726235
          ],
          [
           "Centre St & Worth St",
           "Columbia St & Rivington St",
           37930,
           40.71494807,
           -74.00234482,
           40.71739973,
           -73.98016555
          ],
          [
           "Decatur Ave & Oliver Pl",
           "Decatur Ave & Bedford Park Blvd",
           37930,
           40.867,
           -73.8857764,
           40.86813,
           -73.88412
          ],
          [
           "Stagg St & Union Ave",
           "Cedar St & Evergreen Ave",
           37930,
           40.70877084,
           -73.95095259,
           40.69671,
           -73.92807
          ],
          [
           "Cherry St",
           "St James Pl & Oliver St",
           37930,
           40.71219906,
           -73.97948148,
           40.71307916,
           -73.99851193
          ],
          [
           "Irving Ave & Palmetto St",
           "Knickerbocker Ave & George St",
           37930,
           40.698,
           -73.9127,
           40.704425,
           -73.92836
          ],
          [
           "Broadway & W 61 St",
           "E 59 St & Madison Ave",
           37930,
           40.77003010255044,
           -73.9819684624672,
           40.76350532,
           -73.97109243
          ],
          [
           "1 Ave & E 68 St",
           "E 95 St & 3 Ave",
           37930,
           40.76500525,
           -73.95818491,
           40.7849032,
           -73.950503
          ],
          [
           "1 Ave & E 68 St",
           "E 33 St & 1 Ave",
           37930,
           40.76500525,
           -73.95818491,
           40.74322681432173,
           -73.97449783980846
          ],
          [
           "Graham Ave & Grand St",
           "Irving Ave & DeKalb Ave",
           37930,
           40.711863,
           -73.944024,
           40.7027,
           -73.92095
          ],
          [
           "Rivington St & Chrystie St",
           "E 33 St & 1 Ave",
           37930,
           40.72110063,
           -73.9919254,
           40.74322681432173,
           -73.97449783980846
          ],
          [
           "Broadway & W 58 St",
           "E 59 St & Madison Ave",
           37930,
           40.76695317,
           -73.98169333,
           40.76350532,
           -73.97109243
          ],
          [
           "E 2 St & Avenue B",
           "Columbia St & Rivington St",
           37930,
           40.72217444,
           -73.98368779,
           40.71739973,
           -73.98016555
          ],
          [
           "DeKalb Ave & Hudson Ave",
           "Johnson St & Gold St",
           37930,
           40.689888,
           -73.981013,
           40.69474881,
           -73.98362464
          ],
          [
           "8 Ave & W 33 St",
           "E 33 St & 1 Ave",
           37930,
           40.751551,
           -73.993934,
           40.74322681432173,
           -73.97449783980846
          ],
          [
           "Centre St & Chambers St",
           "St James Pl & Oliver St",
           37930,
           40.71273266,
           -74.0046073,
           40.71307916,
           -73.99851193
          ],
          [
           "Stanton St & Chrystie St",
           "St James Pl & Oliver St",
           37930,
           40.72229346,
           -73.99147535,
           40.71307916,
           -73.99851193
          ],
          [
           "Beaver St & Fayette St",
           "Carlton Ave & Flushing Ave",
           37930,
           40.70099,
           -73.93921,
           40.697787,
           -73.973736
          ],
          [
           "Centre St & Chambers St",
           "Johnson St & Gold St",
           37930,
           40.71273266,
           -74.0046073,
           40.69474881,
           -73.98362464
          ],
          [
           "Broadway & Furman Ave",
           "Fulton St & Utica Ave",
           37930,
           40.68139,
           -73.90756,
           40.6794268,
           -73.9298911
          ],
          [
           "W 186 St & St. Nicholas Ave",
           "Amsterdam Ave & W 186 St",
           37930,
           40.852253,
           -73.931308,
           40.851113,
           -73.928808
          ],
          [
           "W 47 St & 10 Ave",
           "E 59 St & Madison Ave",
           37930,
           40.76269882,
           -73.99301222,
           40.76350532,
           -73.97109243
          ],
          [
           "1 Ave & E 68 St",
           "E 95 St & 3 Ave",
           37930,
           40.76500525,
           -73.95818491,
           40.7849032,
           -73.950503
          ],
          [
           "10 Ave & W 14 St",
           "Vesey St & Church St",
           37930,
           40.74198159994023,
           -74.00831580162048,
           40.71221958009051,
           -74.01047229766846
          ],
          [
           "10 Ave & W 14 St",
           "Vesey St & Church St",
           37930,
           40.74198159994023,
           -74.00831580162048,
           40.71221958009051,
           -74.01047229766846
          ],
          [
           "10 Ave & W 14 St",
           "Vesey St & Church St",
           37930,
           40.74198159994023,
           -74.00831580162048,
           40.71221958009051,
           -74.01047229766846
          ],
          [
           "LaGuardia Pl & W 3 St",
           "Broadway & E 14 St",
           37930,
           40.72917025,
           -73.99810231,
           40.73454567,
           -73.99074142
          ],
          [
           "Broadway & W 38 St",
           "Broadway & E 14 St",
           37930,
           40.7529728216068,
           -73.98734897375107,
           40.73454567,
           -73.99074142
          ],
          [
           "W 27 St & 7 Ave",
           "E 20 St & Park Ave",
           37930,
           40.746647,
           -73.993915,
           40.73827428,
           -73.98751968
          ],
          [
           "E 50 St & Park Ave",
           "W 70 St & Amsterdam Ave",
           37930,
           40.757334,
           -73.974235,
           40.77748046,
           -73.98288594
          ],
          [
           "53 St & 4 Ave",
           "Broadway & E 14 St",
           37930,
           40.644862,
           -74.014531,
           40.73454567,
           -73.99074142
          ],
          [
           "Washington Square E",
           "Vesey St & Church St",
           37930,
           40.73049393,
           -73.9957214,
           40.71221958009051,
           -74.01047229766846
          ],
          [
           "W 89 St & Columbus Ave",
           "7 Ave & Central Park South",
           37930,
           40.7882213,
           -73.97041561,
           40.7667405590595,
           -73.9790689945221
          ],
          [
           "Washington Square E",
           "6 Ave & W 33 St",
           37930,
           40.73049393,
           -73.9957214,
           40.74901271,
           -73.98848395
          ],
          [
           "Hudson St & Reade St",
           "Vesey St & Church St",
           37930,
           40.71625008,
           -74.0091059,
           40.71221958009051,
           -74.01047229766846
          ],
          [
           "Riverside Dr & W 72 St",
           "7 Ave & Central Park South",
           37930,
           40.78057799010334,
           -73.98562431335449,
           40.7667405590595,
           -73.9790689945221
          ],
          [
           "5 Ave & E 87 St",
           "St Nicholas Ave & Manhattan Ave",
           37930,
           40.78232260730881,
           -73.95987510681152,
           40.809725,
           -73.953149
          ],
          [
           "W 36 St & 7 Ave",
           "6 Ave & W 33 St",
           37930,
           40.752149,
           -73.989539,
           40.74901271,
           -73.98848395
          ],
          [
           "Broadway & W 61 St",
           "7 Ave & Central Park South",
           37930,
           40.77003,
           -73.981968,
           40.766741,
           -73.979069
          ],
          [
           "Broadway & W 41 St",
           "W 70 St & Amsterdam Ave",
           37930,
           40.75513557,
           -73.98658032,
           40.77748046,
           -73.98288594
          ],
          [
           "Madison Ave & E 26 St",
           "6 Ave & W 33 St",
           37930,
           40.742684734875695,
           -73.98671329021454,
           40.74901271,
           -73.98848395
          ],
          [
           "Madison Ave & E 26 St",
           "6 Ave & W 33 St",
           37930,
           40.742684734875695,
           -73.98671329021454,
           40.74901271,
           -73.98848395
          ],
          [
           "44 Dr & Jackson Ave",
           "W 70 St & Amsterdam Ave",
           37930,
           40.74718234,
           -73.9432635,
           40.77748046,
           -73.98288594
          ],
          [
           "Leonard St & Church St",
           "Vesey St & Church St",
           37930,
           40.717571,
           -74.005549,
           40.71221958009051,
           -74.01047229766846
          ],
          [
           "Central Park S & 6 Ave",
           "7 Ave & Central Park South",
           37930,
           40.76590936,
           -73.97634151,
           40.7667405590595,
           -73.9790689945221
          ],
          [
           "Central Park S & 6 Ave",
           "7 Ave & Central Park South",
           37930,
           40.76590936,
           -73.97634151,
           40.7667405590595,
           -73.9790689945221
          ],
          [
           "Central Park S & 6 Ave",
           "7 Ave & Central Park South",
           37930,
           40.76590936,
           -73.97634151,
           40.7667405590595,
           -73.9790689945221
          ],
          [
           "E 81 St & York Ave",
           "E 20 St & Park Ave",
           37930,
           40.7728384,
           -73.94989233,
           40.73827428,
           -73.98751968
          ],
          [
           "Putnam Ave & Wyckoff Ave",
           "Willoughby Ave & Onderdonk Ave",
           37930,
           40.69811,
           -73.90904,
           40.7098,
           -73.91727
          ],
          [
           "9 Ave & W 45 St",
           "Madison Av & E 51 St",
           37930,
           40.76019252,
           -73.9912551,
           40.75863,
           -73.97513
          ],
          [
           "Lexington Ave & Classon Ave",
           "Verona Pl & Fulton St",
           37930,
           40.68676793,
           -73.95928168,
           40.6803560840434,
           -73.9476791024208
          ],
          [
           "Convent Ave & W 135 St",
           "Amsterdam Ave & W 119 St",
           37930,
           40.818215,
           -73.950988,
           40.80863217506367,
           -73.95958609887202
          ],
          [
           "24 St & 41 Ave",
           "35 Ave & 37 St",
           37930,
           40.752474,
           -73.939991,
           40.7557327,
           -73.9236611
          ],
          [
           "1 Ave & E 68 St",
           "E 75 St & 3 Ave",
           37930,
           40.76500525,
           -73.95818491,
           40.77112927,
           -73.95772297
          ],
          [
           "Kingston Ave & Herkimer St",
           "Verona Pl & Fulton St",
           37930,
           40.67890679,
           -73.94142771,
           40.6803560840434,
           -73.9476791024208
          ],
          [
           "W 74 St & Columbus Ave",
           "1 Ave & E 94 St",
           37930,
           40.7785669,
           -73.97754961,
           40.7817212,
           -73.94594
          ],
          [
           "Riverside Blvd & W 67 St",
           "E 58 St & Madison Ave",
           37930,
           40.777507027547976,
           -73.98888587951659,
           40.76302594280519,
           -73.97209525108337
          ],
          [
           "Morgan Ave & Lombardy St",
           "Graham Ave & Conselyea St",
           37930,
           40.72226,
           -73.93889,
           40.715143,
           -73.944507
          ],
          [
           "Lexington Ave & E 127 St",
           "1 Ave & E 94 St",
           37930,
           40.805726,
           -73.936322,
           40.7817212,
           -73.94594
          ],
          [
           "Kingsland Ave & Nassau Ave",
           "Graham Ave & Conselyea St",
           37930,
           40.72577,
           -73.94173,
           40.715143,
           -73.944507
          ],
          [
           "Flushing Ave & Vanderbilt Ave",
           "Bushwick Ave & Stagg St",
           37930,
           40.69795031569544,
           -73.97077560424805,
           40.709897,
           -73.94008
          ],
          [
           "West St & Chambers St",
           "E 58 St & Madison Ave",
           37930,
           40.71754834,
           -74.01322069,
           40.76302594280519,
           -73.97209525108337
          ],
          [
           "2 Ave & E 122 St",
           "Frederick Douglass Blvd & W 139 St",
           37930,
           40.8006721,
           -73.9349,
           40.81900581806558,
           -73.94476890563965
          ],
          [
           "2 Ave & E 122 St",
           "1 Ave & E 94 St",
           37930,
           40.8006721,
           -73.9349,
           40.7817212,
           -73.94594
          ],
          [
           "Madison Ave & E 26 St",
           "West End Ave & W 94 St",
           37930,
           40.742684734875695,
           -73.98671329021454,
           40.7941654,
           -73.974124
          ],
          [
           "W 186 St & St. Nicholas Ave",
           "University Ave & Macombs Rd",
           37930,
           40.852253,
           -73.931308,
           40.8496401,
           -73.9161206
          ],
          [
           "W 47 St & 10 Ave",
           "E 58 St & Madison Ave",
           37930,
           40.76269882,
           -73.99301222,
           40.76302594280519,
           -73.97209525108337
          ],
          [
           "Broadway & W 37 St",
           "E 58 St & Madison Ave",
           37930,
           40.75172632,
           -73.98753523,
           40.76302594280519,
           -73.97209525108337
          ],
          [
           "1 Ave & E 68 St",
           "35 St & Broadway",
           37930,
           40.76500525,
           -73.95818491,
           40.760339,
           -73.9222427
          ],
          [
           "Newton Rd & 44 St",
           "35 Ave & 37 St",
           37930,
           40.7595701,
           -73.9142678,
           40.7557327,
           -73.9236611
          ],
          [
           "E 84 St & Park Ave",
           "E 75 St & 3 Ave",
           37930,
           40.77862688,
           -73.95772073,
           40.77112927,
           -73.95772297
          ],
          [
           "McKibbin St & Manhattan Ave",
           "Bushwick Ave & Stagg St",
           37930,
           40.70510918,
           -73.94407279,
           40.709897,
           -73.94008
          ],
          [
           "31 St & Newtown Ave",
           "Steinway St & Broadway",
           37930,
           40.7675487799971,
           -73.9209334552288,
           40.75905795418586,
           -73.91897544264793
          ],
          [
           "Dean St & Franklin Ave",
           "Verona Pl & Fulton St",
           37930,
           40.67759206937376,
           -73.955637216568,
           40.6803560840434,
           -73.9476791024208
          ],
          [
           "Wyckoff Ave & Gates Ave",
           "Harman St & Seneca Ave",
           37930,
           40.699871408829885,
           -73.91171872615814,
           40.70577,
           -73.91292
          ],
          [
           "Sands St & Jay St",
           "Division St & Bowery",
           37930,
           40.700119,
           -73.9862,
           40.714193,
           -73.996732
          ],
          [
           "Clermont Ave & Lafayette Ave",
           "Fulton St & Clermont Ave",
           37930,
           40.68764484,
           -73.96968902,
           40.68415748,
           -73.96922273
          ],
          [
           "1 Ave & E 68 St",
           "Central Park West & W 72 St",
           37930,
           40.76500525,
           -73.95818491,
           40.77579376683666,
           -73.9762057363987
          ],
          [
           "Madison Ave & E 26 St",
           "E 16 St & Irving Pl",
           37930,
           40.742684734875695,
           -73.98671329021454,
           40.735367055605394,
           -73.98797392845154
          ],
          [
           "W 74 St & Columbus Ave",
           "Central Park West & W 72 St",
           37930,
           40.7785669,
           -73.97754961,
           40.77579376683666,
           -73.9762057363987
          ],
          [
           "Milton St & Franklin St",
           "Metropolitan Ave & Bedford Ave",
           37930,
           40.72906,
           -73.95779,
           40.71534825,
           -73.96024116
          ],
          [
           "Central Park West & W 72 St",
           "Central Park West & W 72 St",
           37930,
           40.77579376683666,
           -73.9762057363987,
           40.77579376683666,
           -73.9762057363987
          ],
          [
           "35 St & 34 Ave",
           "43 St & 37 Ave",
           37930,
           40.7580583,
           -73.9242751,
           40.750181,
           -73.919998
          ],
          [
           "Metropolitan Ave & Bedford Ave",
           "Metropolitan Ave & Bedford Ave",
           37930,
           40.71534825,
           -73.96024116,
           40.71534825,
           -73.96024116
          ],
          [
           "Central Park West & W 72 St",
           "Central Park West & W 72 St",
           37930,
           40.77579376683666,
           -73.9762057363987,
           40.77579376683666,
           -73.9762057363987
          ],
          [
           "Metropolitan Ave & Bedford Ave",
           "Metropolitan Ave & Bedford Ave",
           37930,
           40.71534825,
           -73.96024116,
           40.71534825,
           -73.96024116
          ],
          [
           "12 Ave & W 40 St",
           "12 Ave & W 40 St",
           37930,
           40.76087502,
           -74.00277668,
           40.76087502,
           -74.00277668
          ],
          [
           "Ft. Hamilton Pkwy & E 2 St",
           "Ft. Hamilton Pkwy & E 2 St",
           37930,
           40.648005,
           -73.979342,
           40.648005,
           -73.979342
          ],
          [
           "Riverside Dr & W 145 St",
           "Riverside Dr & W 145 St",
           37930,
           40.827305,
           -73.951989,
           40.827305,
           -73.951989
          ],
          [
           "Riverside Dr & W 145 St",
           "Riverside Dr & W 145 St",
           37930,
           40.827305,
           -73.951989,
           40.827305,
           -73.951989
          ],
          [
           "Morris Ave & E 163 St",
           "Morris Ave & E 163 St",
           37930,
           40.827230499624726,
           -73.91765579597632,
           40.827230499624726,
           -73.91765579597632
          ],
          [
           "Ft. Hamilton Pkwy & E 2 St",
           "Ft. Hamilton Pkwy & E 2 St",
           37930,
           40.648005,
           -73.979342,
           40.648005,
           -73.979342
          ],
          [
           "E 84 St & Park Ave",
           "1 Ave & E 18 St",
           37930,
           40.77862688,
           -73.95772073,
           40.73381219196632,
           -73.98054420948029
          ],
          [
           "31 St & Newtown Ave",
           "31 St & Newtown Ave",
           37930,
           40.7675487799971,
           -73.9209334552288,
           40.7675487799971,
           -73.9209334552288
          ],
          [
           "McKibbin St & Manhattan Ave",
           "McKibbin St & Manhattan Ave",
           37930,
           40.70510918,
           -73.94407279,
           40.70510918,
           -73.94407279
          ]
         ],
         "index": [
          0,
          1,
          2,
          3,
          4,
          5,
          6,
          7,
          8,
          9,
          10,
          11,
          12,
          13,
          14,
          15,
          16,
          17,
          18,
          19,
          20,
          21,
          22,
          23,
          24,
          25,
          26,
          27,
          28,
          29,
          30,
          31,
          32,
          33,
          34,
          35,
          36,
          37,
          38,
          39,
          40,
          41,
          42,
          43,
          44,
          45,
          46,
          47,
          48,
          49,
          50,
          51,
          52,
          53,
          54,
          55,
          56,
          57,
          58,
          59,
          60,
          61,
          62,
          63,
          64,
          65,
          66,
          67,
          68,
          69,
          70,
          71,
          72,
          73,
          74,
          75,
          76,
          77,
          78,
          79,
          80,
          81,
          82,
          83,
          84,
          85,
          86,
          87,
          88,
          89,
          90,
          91,
          92,
          93,
          94,
          95,
          96,
          97,
          98,
          99,
          100,
          101,
          102,
          103,
          104,
          105,
          106,
          107,
          108,
          109,
          110,
          111,
          112,
          113,
          114,
          115,
          116,
          117,
          118,
          119,
          120,
          121,
          122,
          123,
          124,
          125,
          126,
          127,
          128,
          129,
          130,
          131,
          132,
          133,
          134,
          135,
          136,
          137,
          138,
          139,
          140,
          141,
          142,
          143,
          144,
          145,
          146,
          147,
          148,
          149,
          150,
          151,
          152,
          153,
          154,
          155,
          156,
          157,
          158,
          159,
          160,
          161,
          162,
          163,
          164,
          165,
          166,
          167,
          168,
          169,
          170,
          171,
          172,
          173,
          174,
          175,
          176,
          177,
          178,
          179,
          180,
          181,
          182,
          183,
          184,
          185,
          186,
          187,
          188,
          189,
          190,
          191,
          192,
          193,
          194,
          195,
          196,
          197,
          198,
          199,
          200,
          201,
          202,
          203,
          204,
          205,
          206,
          207,
          208,
          209,
          210,
          211,
          212,
          213,
          214,
          215,
          216,
          217,
          218,
          219,
          220,
          221,
          222,
          223,
          224,
          225,
          226,
          227,
          228,
          229,
          230,
          231,
          232,
          233,
          234,
          235,
          236,
          237,
          238,
          239,
          240,
          241,
          242,
          243,
          244,
          245,
          246,
          247,
          248,
          249,
          250,
          251,
          252,
          253,
          254,
          255,
          256,
          257,
          258,
          259,
          260,
          261,
          262,
          263,
          264,
          265,
          266,
          267,
          268,
          269,
          270,
          271,
          272,
          273,
          274,
          275,
          276,
          277,
          278,
          279,
          280,
          281,
          282,
          283,
          284,
          285,
          286,
          287,
          288,
          289,
          290,
          291,
          292,
          293,
          294,
          295,
          296,
          297,
          298,
          299,
          300,
          301,
          302,
          303,
          304,
          305,
          306,
          307,
          308,
          309,
          310,
          311,
          312,
          313,
          314,
          315,
          316,
          317,
          318,
          319,
          320,
          321,
          322,
          323,
          324,
          325,
          326,
          327,
          328,
          329,
          330,
          331,
          332,
          333,
          334,
          335,
          336,
          337,
          338,
          339,
          340,
          341,
          342,
          343,
          344,
          345,
          346,
          347,
          348,
          349,
          350,
          351,
          352,
          353,
          354,
          355,
          356,
          357,
          358,
          359,
          360,
          361,
          362,
          363,
          364,
          365,
          366,
          367,
          368,
          369,
          370,
          371,
          372,
          373,
          374,
          375,
          376,
          377,
          378,
          379,
          380,
          381,
          382,
          383,
          384,
          385,
          386,
          387,
          388,
          389,
          390,
          391,
          392,
          393,
          394,
          395,
          396,
          397,
          398,
          399,
          400,
          401,
          402,
          403,
          404,
          405,
          406,
          407,
          408,
          409,
          410,
          411,
          412,
          413,
          414,
          415,
          416,
          417,
          418,
          419,
          420,
          421,
          422,
          423,
          424,
          425,
          426,
          427,
          428,
          429,
          430,
          431,
          432,
          433,
          434,
          435,
          436,
          437,
          438,
          439,
          440,
          441,
          442,
          443,
          444,
          445,
          446,
          447,
          448,
          449,
          450,
          451,
          452,
          453,
          454,
          455,
          456,
          457,
          458,
          459,
          460,
          461,
          462,
          463,
          464,
          465,
          466,
          467,
          468,
          469,
          470,
          471,
          472,
          473,
          474,
          475,
          476,
          477,
          478,
          479,
          480,
          481,
          482,
          483,
          484,
          485,
          486,
          487,
          488,
          489,
          490,
          491,
          492,
          493,
          494,
          495,
          496,
          497,
          498,
          499,
          500,
          501,
          502,
          503,
          504,
          505,
          506,
          507,
          508,
          509,
          510,
          511,
          512,
          513,
          514,
          515,
          516,
          517,
          518,
          519,
          520,
          521,
          522,
          523,
          524,
          525,
          526,
          527,
          528,
          529,
          530,
          531,
          532,
          533,
          534,
          535,
          536,
          537,
          538,
          539,
          540,
          541,
          542,
          543,
          544,
          545,
          546,
          547,
          548,
          549,
          550,
          551,
          552,
          553,
          554,
          555,
          556,
          557,
          558,
          559,
          560,
          561,
          562,
          563,
          564,
          565,
          566,
          567,
          568,
          569,
          570,
          571,
          572,
          573,
          574,
          575,
          576,
          577,
          578,
          579,
          580,
          581,
          582,
          583,
          584,
          585,
          586,
          587,
          588,
          589,
          590,
          591,
          592,
          593,
          594,
          595,
          596,
          597,
          598,
          599,
          600,
          601,
          602,
          603,
          604,
          605,
          606,
          607,
          608,
          609,
          610,
          611,
          612,
          613,
          614,
          615,
          616,
          617,
          618,
          619,
          620,
          621,
          622,
          623,
          624,
          625,
          626,
          627,
          628,
          629,
          630,
          631,
          632,
          633,
          634,
          635,
          636,
          637,
          638,
          639,
          640,
          641,
          642,
          643,
          644,
          645,
          646,
          647,
          648,
          649,
          650,
          651,
          652,
          653,
          654,
          655,
          656,
          657,
          658,
          659,
          660,
          661,
          662,
          663,
          664,
          665,
          666,
          667,
          668,
          669,
          670,
          671,
          672,
          673,
          674,
          675,
          676,
          677,
          678,
          679,
          680,
          681,
          682,
          683,
          684,
          685,
          686,
          687,
          688,
          689,
          690,
          691,
          692,
          693,
          694,
          695,
          696,
          697,
          698,
          699,
          700,
          701,
          702,
          703,
          704,
          705,
          706,
          707,
          708,
          709,
          710,
          711,
          712,
          713,
          714,
          715,
          716,
          717,
          718,
          719,
          720,
          721,
          722,
          723,
          724,
          725,
          726,
          727,
          728,
          729,
          730,
          731,
          732,
          733,
          734,
          735,
          736,
          737,
          738,
          739,
          740,
          741,
          742,
          743,
          744,
          745,
          746,
          747,
          748,
          749,
          750,
          751,
          752,
          753,
          754,
          755,
          756,
          757,
          758,
          759,
          760,
          761,
          762,
          763,
          764,
          765,
          766,
          767,
          768,
          769,
          770,
          771,
          772,
          773,
          774,
          775,
          776,
          777,
          778,
          779,
          780,
          781,
          782,
          783,
          784,
          785,
          786,
          787,
          788,
          789,
          790,
          791,
          792,
          793,
          794,
          795,
          796,
          797,
          798,
          799,
          800,
          801,
          802,
          803,
          804,
          805,
          806,
          807,
          808,
          809,
          810,
          811,
          812,
          813,
          814,
          815,
          816,
          817,
          818,
          819,
          820,
          821,
          822,
          823,
          824,
          825,
          826,
          827,
          828,
          829,
          830,
          831,
          832,
          833,
          834,
          835,
          836,
          837,
          838,
          839,
          840,
          841,
          842,
          843,
          844,
          845,
          846,
          847,
          848,
          849,
          850,
          851,
          852,
          853,
          854,
          855,
          856,
          857,
          858,
          859,
          860,
          861,
          862,
          863,
          864,
          865,
          866,
          867,
          868,
          869,
          870,
          871,
          872,
          873,
          874,
          875,
          876,
          877,
          878,
          879,
          880,
          881,
          882,
          883,
          884,
          885,
          886,
          887,
          888,
          889,
          890,
          891,
          892,
          893,
          894,
          895,
          896,
          897,
          898,
          899,
          900,
          901,
          902,
          903,
          904,
          905,
          906,
          907,
          908,
          909,
          910,
          911,
          912,
          913,
          914,
          915,
          916,
          917,
          918,
          919,
          920,
          921,
          922,
          923,
          924,
          925,
          926,
          927,
          928,
          929,
          930,
          931,
          932,
          933,
          934,
          935,
          936,
          937,
          938,
          939,
          940,
          941,
          942,
          943,
          944,
          945,
          946,
          947,
          948,
          949,
          950,
          951,
          952,
          953,
          954,
          955,
          956,
          957,
          958,
          959,
          960,
          961,
          962,
          963,
          964,
          965,
          966,
          967,
          968,
          969,
          970,
          971,
          972,
          973,
          974,
          975,
          976,
          977,
          978,
          979,
          980,
          981,
          982,
          983,
          984,
          985,
          986,
          987,
          988,
          989,
          990,
          991,
          992,
          993,
          994,
          995,
          996,
          997,
          998,
          999
         ]
        }
       },
       "height": 700,
       "layout": "IPY_MODEL_814204d1a1144b49a62f2106111d4724",
       "value": "Hello World!"
      }
     },
     "814204d1a1144b49a62f2106111d4724": {
      "model_module": "@jupyter-widgets/base",
      "model_module_version": "2.0.0",
      "model_name": "LayoutModel",
      "state": {
       "_model_name": "LayoutModel",
       "_view_name": "ErrorWidgetView",
       "align_content": null,
       "align_items": null,
       "align_self": null,
       "border": null,
       "bottom": null,
       "display": null,
       "error": {},
       "flex": null,
       "flex_flow": null,
       "grid_area": null,
       "grid_auto_columns": null,
       "grid_auto_flow": null,
       "grid_auto_rows": null,
       "grid_column": null,
       "grid_gap": null,
       "grid_row": null,
       "grid_template_areas": null,
       "grid_template_columns": null,
       "grid_template_rows": null,
       "height": null,
       "justify_content": null,
       "justify_items": null,
       "left": null,
       "margin": null,
       "max_height": null,
       "max_width": null,
       "min_height": null,
       "min_width": null,
       "msg": "Failed to load model class 'LayoutModel' from module '@jupyter-widgets/base'",
       "object_fit": null,
       "object_position": null,
       "order": null,
       "overflow": null,
       "overflow_x": null,
       "overflow_y": null,
       "padding": null,
       "right": null,
       "top": null,
       "visibility": null,
       "width": null
      }
     }
    },
    "version_major": 2,
    "version_minor": 0
   }
  }
 },
 "nbformat": 4,
 "nbformat_minor": 5
}
