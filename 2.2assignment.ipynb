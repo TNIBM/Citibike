{
 "cells": [
  {
   "cell_type": "markdown",
   "id": "7091c545-9aa6-4a71-93e7-d59c5a46586b",
   "metadata": {},
   "source": [
    "## Assignment 2.2 Sourcing data with an API"
   ]
  },
  {
   "cell_type": "code",
   "execution_count": null,
   "id": "8524043c-ba39-4cdb-af16-b21be95c7d23",
   "metadata": {},
   "outputs": [],
   "source": [
    "## Import and concatenate"
   ]
  },
  {
   "cell_type": "code",
   "execution_count": null,
   "id": "7e1eeb75-2b64-486c-9279-336efbb488b8",
   "metadata": {},
   "outputs": [],
   "source": [
    "import pandas as pd \n",
    "import numpy as np\n",
    "import os \n",
    "import requests\n",
    "import json\n",
    "from datetime import datetime"
   ]
  },
  {
   "cell_type": "code",
   "execution_count": null,
   "id": "fc0784c3-93ee-4ea1-9bf3-ae823b5f1629",
   "metadata": {},
   "outputs": [],
   "source": [
    "%%capture\n",
    "import warnings\n",
    "warnings.filterwarnings(\"ignore\")"
   ]
  },
  {
   "cell_type": "code",
   "execution_count": null,
   "id": "5c000504-cf83-4ee2-b8f0-a5e1e8199d0e",
   "metadata": {
    "scrolled": true
   },
   "outputs": [],
   "source": [
    "# Create a list with all files in the folder using a list compehension\n",
    "import glob\n",
    "\n",
    "filepaths = glob.glob(\"Data/*.csv\")  # Only select CSV files\n",
    "filepaths"
   ]
  },
  {
   "cell_type": "markdown",
   "id": "99d6860c-9684-456d-88f8-f5f242207020",
   "metadata": {},
   "source": [
    "### We used a generator to list comprehensions, since we need to iterate through the files just once, and generators are capable of handling one file at a time"
   ]
  },
  {
   "cell_type": "code",
   "execution_count": null,
   "id": "7442e6d4-079f-4d64-9fc6-a73640f6190d",
   "metadata": {},
   "outputs": [],
   "source": [
    "df = pd.concat((pd.read_csv(f) for f in filepaths), ignore_index=True)\n",
    "df.head()"
   ]
  },
  {
   "cell_type": "markdown",
   "id": "5a4c3d54-2c9c-4383-976d-612f17713005",
   "metadata": {},
   "source": [
    "### We identify the available csv files with the data path. Then we went over the loop to read for each csv file row by row and concatenated it."
   ]
  },
  {
   "cell_type": "code",
   "execution_count": null,
   "id": "ebd54d73-2820-4b1f-a3e9-f2a2fff6723b",
   "metadata": {},
   "outputs": [],
   "source": [
    "df.shape"
   ]
  },
  {
   "cell_type": "code",
   "execution_count": null,
   "id": "1730a875-ad20-455a-8fec-cf1146db60ec",
   "metadata": {},
   "outputs": [],
   "source": [
    "df.head()"
   ]
  },
  {
   "cell_type": "code",
   "execution_count": null,
   "id": "c9156c64-092d-4950-ba5a-7c43bf78224a",
   "metadata": {},
   "outputs": [],
   "source": [
    "df.tail()"
   ]
  },
  {
   "cell_type": "markdown",
   "id": "54073d94-7d59-470d-90ec-2f2408b069cd",
   "metadata": {},
   "source": [
    "### Heads and Tails match, so they merged perfectly"
   ]
  },
  {
   "cell_type": "code",
   "execution_count": null,
   "id": "bc65836a-5a98-4bcd-87ea-504489db5be2",
   "metadata": {},
   "outputs": [],
   "source": [
    "df = pd.concat(\n",
    "    (pd.read_csv(f, dtype={\"start_station_name\": str, \"end_station_name\": str}, low_memory=False) for f in filepaths),\n",
    "    ignore_index=True\n",
    ")\n"
   ]
  },
  {
   "cell_type": "code",
   "execution_count": null,
   "id": "ccaffb85-3954-444d-9703-20581c2951c1",
   "metadata": {},
   "outputs": [],
   "source": [
    "print(df.dtypes)  # Should show 'object' for start_station_name and end_station_name\n",
    "print(df[['start_station_name', 'end_station_name']].head())  # Preview data\n"
   ]
  },
  {
   "cell_type": "code",
   "execution_count": null,
   "id": "55910130-f1a4-41bb-a5cd-c6a50dd996a4",
   "metadata": {},
   "outputs": [],
   "source": [
    "df.head()"
   ]
  },
  {
   "cell_type": "code",
   "execution_count": null,
   "id": "8eedef3c-e81b-4cff-a23a-e92df8057dd5",
   "metadata": {},
   "outputs": [],
   "source": [
    "df.tail()"
   ]
  },
  {
   "cell_type": "markdown",
   "id": "4a278cc9-c959-4989-a5a9-db388480a890",
   "metadata": {},
   "source": [
    "## ## Get weather data using NOAA's API"
   ]
  },
  {
   "cell_type": "code",
   "execution_count": null,
   "id": "c7613c9a-9379-4382-8029-abf13f28d314",
   "metadata": {},
   "outputs": [],
   "source": [
    "# Define your NOAA token - type yours in here! \n",
    "\n",
    "Token = 'GCWhOUMGHMLILXunaHDbUZACXUbnFrOa' \n",
    "stationid=\"GHCND:USW00014732\""
   ]
  },
  {
   "cell_type": "code",
   "execution_count": null,
   "id": "9c01ca86-dc26-4595-8332-a55b3c465bcd",
   "metadata": {},
   "outputs": [],
   "source": [
    "# Get the API \n",
    "\n",
    "r = requests.get('https://www.ncdc.noaa.gov/cdo-web/api/v2/data?datasetid=GHCND&datatypeid=TAVG&limit=1000&stationid=GHCND:USW00014732&startdate=2022-01-01&enddate=2022-12-31', headers={'token':Token})"
   ]
  },
  {
   "cell_type": "code",
   "execution_count": null,
   "id": "e3cb8379-fe08-4c2e-abb5-46afd7f78194",
   "metadata": {},
   "outputs": [],
   "source": [
    "# Load the api response as a json\n",
    "\n",
    "d = json.loads(r.text)"
   ]
  },
  {
   "cell_type": "code",
   "execution_count": null,
   "id": "5166a516-e59a-4912-b5bd-c76e73133411",
   "metadata": {},
   "outputs": [],
   "source": [
    "# Secure all items in the response that correspond to TAVG\n",
    "\n",
    "avg_temps = [item for item in d['results'] if item['datatype']=='TAVG']"
   ]
  },
  {
   "cell_type": "code",
   "execution_count": null,
   "id": "9ed356b2-5558-4f43-8cb2-c18299ab9316",
   "metadata": {},
   "outputs": [],
   "source": [
    "# Get only the date field from all average temperature readings\n",
    "\n",
    "dates_temp = [item['date'] for item in avg_temps]"
   ]
  },
  {
   "cell_type": "code",
   "execution_count": null,
   "id": "c47a6ac5-f1e6-4077-9182-a30253d4a820",
   "metadata": {},
   "outputs": [],
   "source": [
    "# Get the temperature from all average temperature readings\n",
    "\n",
    "temps = [item['value'] for item in avg_temps]"
   ]
  },
  {
   "cell_type": "code",
   "execution_count": null,
   "id": "9661bcf5-8b29-4911-9145-8d9ef727e91c",
   "metadata": {
    "scrolled": true
   },
   "outputs": [],
   "source": [
    "temps[10:20]"
   ]
  },
  {
   "cell_type": "code",
   "execution_count": null,
   "id": "602951ea-b2da-4000-bbe1-481bab4d58ae",
   "metadata": {},
   "outputs": [],
   "source": [
    "# Put the results in a dataframe\n",
    "\n",
    "df_temp = pd.DataFrame()"
   ]
  },
  {
   "cell_type": "code",
   "execution_count": null,
   "id": "2c5345ce-1c41-4a5c-a866-61767eba4eec",
   "metadata": {},
   "outputs": [],
   "source": [
    "# Get only date and cast it to date time; convert temperature from tenths of Celsius to normal Celsius\n",
    "\n",
    "df_temp['date'] = [datetime.strptime(d, \"%Y-%m-%dT%H:%M:%S\") for d in dates_temp]\n",
    "df_temp['avgTemp'] = [float(v)/10.0 for v in temps]"
   ]
  },
  {
   "cell_type": "code",
   "execution_count": null,
   "id": "f232278a-f3c4-463e-98a9-440dad71be11",
   "metadata": {},
   "outputs": [],
   "source": [
    "df_temp.tail()"
   ]
  },
  {
   "cell_type": "code",
   "execution_count": null,
   "id": "0d67bfca-2b87-49ce-839b-1bc45c68952a",
   "metadata": {},
   "outputs": [],
   "source": [
    "df_temp.head()"
   ]
  },
  {
   "cell_type": "code",
   "execution_count": null,
   "id": "351cf3f7-df4a-416f-88bf-ab0cc21063d1",
   "metadata": {},
   "outputs": [],
   "source": [
    "df.dtypes"
   ]
  },
  {
   "cell_type": "code",
   "execution_count": null,
   "id": "2ed84a8d-97f9-49f3-8eb3-0240bd5c21cd",
   "metadata": {},
   "outputs": [],
   "source": [
    "df['start_time'] = pd.to_datetime(df['started_at'], dayfirst = True)"
   ]
  },
  {
   "cell_type": "code",
   "execution_count": null,
   "id": "65aa9bac-3a6e-43ec-88e9-f5db2144efe0",
   "metadata": {},
   "outputs": [],
   "source": [
    "df['date'] = pd.to_datetime(df['started_at'], format='%Y-%m-%d').dt.date"
   ]
  },
  {
   "cell_type": "code",
   "execution_count": null,
   "id": "21034484-7f86-48c8-8e6c-effd61a2a935",
   "metadata": {},
   "outputs": [],
   "source": [
    "df['date'] = pd.to_datetime(df['date'])"
   ]
  },
  {
   "cell_type": "code",
   "execution_count": null,
   "id": "80975149-f54c-4bb8-99fc-d2f05c974e7e",
   "metadata": {},
   "outputs": [],
   "source": [
    "df_temp.head()"
   ]
  },
  {
   "cell_type": "code",
   "execution_count": null,
   "id": "f42b66fa-e538-46fa-945d-11dfe99dd671",
   "metadata": {},
   "outputs": [],
   "source": [
    "%%time\n",
    "df_merged = df.merge(df_temp, how = 'left', on = 'date', indicator = True)"
   ]
  },
  {
   "cell_type": "code",
   "execution_count": null,
   "id": "971c3f3c-6b66-4a9a-b578-fc0ce44e34c5",
   "metadata": {},
   "outputs": [],
   "source": [
    "df_merged.head()"
   ]
  },
  {
   "cell_type": "markdown",
   "id": "0042dfbf-6e94-4821-a64c-fb2675108e78",
   "metadata": {},
   "source": [
    "### Average temperature and start time and date are merged."
   ]
  },
  {
   "cell_type": "code",
   "execution_count": null,
   "id": "7740e367-141e-44be-8800-8a542bd817e7",
   "metadata": {},
   "outputs": [],
   "source": [
    "df_merged['_merge'].value_counts(dropna = False)"
   ]
  },
  {
   "cell_type": "code",
   "execution_count": null,
   "id": "d44bff36-ef97-45cb-8e09-e63991c8b3c5",
   "metadata": {},
   "outputs": [],
   "source": [
    "df_merged.to_csv('Data/output/newyork_data.csv', index = False)"
   ]
  },
  {
   "cell_type": "code",
   "execution_count": null,
   "id": "16759664-7902-4d68-bb96-de97816c278d",
   "metadata": {},
   "outputs": [],
   "source": [
    "df.shape"
   ]
  },
  {
   "cell_type": "code",
   "execution_count": null,
   "id": "1b258b82-18d2-48bd-9f93-95efbb726c39",
   "metadata": {},
   "outputs": [],
   "source": [
    "df_temp.to_csv('Data/output/nytemperature.csv', index = False)"
   ]
  },
  {
   "cell_type": "code",
   "execution_count": null,
   "id": "1e4b3d5d-829f-470d-a83e-28369133bc27",
   "metadata": {},
   "outputs": [],
   "source": []
  }
 ],
 "metadata": {
  "kernelspec": {
   "display_name": "Python [conda env:venv_citibike]",
   "language": "python",
   "name": "conda-env-venv_citibike-py"
  },
  "language_info": {
   "codemirror_mode": {
    "name": "ipython",
    "version": 3
   },
   "file_extension": ".py",
   "mimetype": "text/x-python",
   "name": "python",
   "nbconvert_exporter": "python",
   "pygments_lexer": "ipython3",
   "version": "3.9.21"
  }
 },
 "nbformat": 4,
 "nbformat_minor": 5
}
